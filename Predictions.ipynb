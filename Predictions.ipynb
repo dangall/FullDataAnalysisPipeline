{
 "cells": [
  {
   "cell_type": "markdown",
   "metadata": {},
   "source": [
    "## Load relevant packages"
   ]
  },
  {
   "cell_type": "code",
   "execution_count": 242,
   "metadata": {
    "collapsed": false
   },
   "outputs": [],
   "source": [
    "# Import all the required packages\n",
    "import pandas as pd\n",
    "import numpy as np\n",
    "from sklearn import linear_model\n",
    "from sklearn.cross_validation import KFold\n",
    "from sklearn.ensemble import RandomForestClassifier\n",
    "from sklearn.preprocessing import StandardScaler\n",
    "from sklearn.preprocessing import PolynomialFeatures\n",
    "from sklearn.discriminant_analysis import LinearDiscriminantAnalysis\n",
    "from sklearn.discriminant_analysis import QuadraticDiscriminantAnalysis\n",
    "from sklearn.kernel_ridge import KernelRidge\n",
    "from sklearn.svm import SVC\n",
    "from sklearn.neighbors import NearestNeighbors\n",
    "from sklearn.neighbors import KNeighborsClassifier\n",
    "from sklearn.neighbors import RadiusNeighborsClassifier\n",
    "from sklearn.neighbors.nearest_centroid import NearestCentroid\n",
    "from sklearn.gaussian_process import GaussianProcessRegressor\n",
    "from sklearn.gaussian_process import GaussianProcessClassifier\n",
    "from sklearn.naive_bayes import GaussianNB\n",
    "from sklearn.naive_bayes import BernoulliNB\n",
    "from sklearn.tree import DecisionTreeClassifier\n",
    "from sklearn.ensemble import BaggingClassifier\n",
    "from sklearn.ensemble import BaggingRegressor\n",
    "import matplotlib.pyplot as plt\n",
    "import matplotlib.patches as patches\n",
    "import time\n",
    "import itertools\n",
    "from copy import deepcopy\n",
    "import re\n",
    "%matplotlib inline"
   ]
  },
  {
   "cell_type": "markdown",
   "metadata": {},
   "source": [
    "## Load relevant data files"
   ]
  },
  {
   "cell_type": "code",
   "execution_count": 2,
   "metadata": {
    "collapsed": true
   },
   "outputs": [],
   "source": [
    "#================================================================================================\n",
    "# USER INPUT!\n",
    "# Here I specify which data files need reading in\n",
    "datafilenames = [\"natinalitycleantrain.csv\"]\n",
    "# For each data file, we write which column contains the information we want to predict\n",
    "topredictcolumn= [\"Survived\"]\n",
    "#================================================================================================\n",
    "\n",
    "# FROM HERE ON IT'S AUTOMATIC\n",
    "\n",
    "# Sometiems the index column gets saved automatically as a new column when writingto csv. \n",
    "# We'll remove these as they serve no purpose.\n",
    "alldataframes = [pd.read_csv(filename) for filename in datafilenames]\n",
    "\n",
    "for (pos,frame) in enumerate(alldataframes):\n",
    "    toadd = frame\n",
    "    if \"Unnamed: 0\" in frame:\n",
    "        toadd = toadd.drop(\"Unnamed: 0\",axis=1)\n",
    "    if \"Unnamed: 0.1\" in frame:\n",
    "        toadd = toadd.drop(\"Unnamed: 0.1\",axis=1)\n",
    "    alldataframes[pos] = toadd"
   ]
  },
  {
   "cell_type": "code",
   "execution_count": null,
   "metadata": {
    "collapsed": true
   },
   "outputs": [],
   "source": []
  },
  {
   "cell_type": "code",
   "execution_count": null,
   "metadata": {
    "collapsed": true
   },
   "outputs": [],
   "source": []
  },
  {
   "cell_type": "markdown",
   "metadata": {},
   "source": [
    "# Temporary work"
   ]
  },
  {
   "cell_type": "markdown",
   "metadata": {},
   "source": [
    "This particular problem is a classification problem; we are not trying to obtain the value of some parameter, e.g. how much a customer will spend in the future.\n",
    "\n",
    "However, it might still be useful to try and predict such parameters, e.g. the age of passengers. This might improve survival predictions, but regarless it is a good exercise to do."
   ]
  },
  {
   "cell_type": "code",
   "execution_count": 3,
   "metadata": {
    "collapsed": true
   },
   "outputs": [],
   "source": [
    "thedataframe = deepcopy(alldataframes[0])\n",
    "datacateg = {'Survived': \"QA\", 'Pclass': \"O\", 'Name': \"C\", 'Sex': \"C\",\n",
    "             'Age': \"QA\", 'SibSp': \"QA\", 'Parch': \"QA\", 'Ticket': \"C\", \n",
    "             'Fare': \"QA\", 'Cabin': \"C\", 'Embarked': \"C\", 'Nationality': \"C\"}\n",
    "uselesscols = [\"Name\", \"Ticket\"]\n",
    "dictofunknown = {\"Survived\": -1, \"Pclass\": -1,\"Name\": \"Unknown name\", \"Sex\": \"Unspecified\", \n",
    "                 \"Ticket\": \"XXXXXX\", \"Cabin\": \"X\", \"Embarked\": \"X\", \n",
    "                 \"Age\": alldataframes[0][\"Age\"][abs(alldataframes[0][\"Age\"] - alldataframes[0][\"Age\"].mean()) < 0.2].unique()[0], \n",
    "                 \"Nationality\": \"Unknown\"}\n",
    "orderings = [\n",
    "    {\"Pclass\": [1,2,3]} #NB only need to include columns that are not numeric!\n",
    "]\n",
    "dictofordinals = {\"Pclass\": [1,2,3]}"
   ]
  },
  {
   "cell_type": "markdown",
   "metadata": {},
   "source": [
    "## Regression\n",
    "### Functions for making predictions based on given model"
   ]
  },
  {
   "cell_type": "code",
   "execution_count": 4,
   "metadata": {
    "collapsed": false
   },
   "outputs": [],
   "source": [
    "# Returns the intercept, parameters, Rscore (where 1.0 is perfect prediction, and percentage of cases\n",
    "# correctly predicted. The final two are given as tuple (score, errorbarsonscore). X is the data we use \n",
    "# to predict y; predictionmethod is the name of our model, e.g. linear_model.LinearRegression; rounddecimals\n",
    "# equals the number of decimals allowed for our prediction, e.g. when predicting integers rounddecimals=0; \n",
    "# num_iterations is the number of times we run the function to obtain the parameters, and kwargs are any \n",
    "# additional optional parameters we want to pass on to predictionmethod.\n",
    "def getParametersAndPredictionScore(inputX, inputy, predictionmethod, rounddecimals=\"none\", num_iterations=1, \n",
    "                                    classifier=False, transform=\"none\",**kwargs):\n",
    "    (X, y) = (inputX, inputy)\n",
    "    if transform!=\"none\":\n",
    "        (X, y) = (transformData(inputX, transform=transform), transformData(inputy, transform=transform))\n",
    "    if classifier==True:\n",
    "        predictedpercent = []\n",
    "    parameters = []\n",
    "    intercept = []\n",
    "    score = []\n",
    "    for iter in range(num_iterations):\n",
    "        kfoldindices = KFold(len(y),n_folds=5,shuffle=True)\n",
    "        for trainindex, testindex in kfoldindices:\n",
    "            Xtrain, Xtest = X[trainindex], X[testindex]\n",
    "            if transform==\"scale\":\n",
    "                (Xtrain, Xtest) = scaleData(Xtrain, Xtest)\n",
    "            ytrain, ytest = y[trainindex], y[testindex]\n",
    "            predictor = predictionmethod(**kwargs)\n",
    "            predictor.fit(Xtrain,ytrain)\n",
    "            predictedy = predictor.predict(Xtest)\n",
    "            if rounddecimals!=\"none\":\n",
    "                predictedy = np.round(predictedy, decimals=rounddecimals)\n",
    "            if classifier==True:\n",
    "                predictedpercent.append((predictedy==ytest).mean())\n",
    "            parameters.append(predictor.coef_)\n",
    "            intercept.append(predictor.intercept_)\n",
    "            score.append(predictor.score(Xtest,ytest))\n",
    "    score = (np.mean(score),np.std(score))\n",
    "    parameters = np.mean(parameters, axis=0)\n",
    "    intercept = np.mean(intercept)\n",
    "    if classifier==True:\n",
    "        predictedpercent = (np.mean(predictedpercent), np.std(predictedpercent))\n",
    "        toreturn = (intercept, parameters, score, predictedpercent)\n",
    "    else:\n",
    "        toreturn = (intercept, parameters, score)\n",
    "    return toreturn\n",
    "\n",
    "def getPredictionPercentage(inputX, inputy, predictionmethod, rounddecimals=\"none\", num_iterations=1, \n",
    "                                    classifier=False, transform=\"none\",**kwargs):\n",
    "    (X, y) = (inputX, inputy)\n",
    "    if transform!=\"none\":\n",
    "        (X, y) = (transformData(inputX, transform=transform), transformData(inputy, transform=transform))\n",
    "    if classifier==True:\n",
    "        predictedpercent = []\n",
    "    score = []\n",
    "    for iter in range(num_iterations):\n",
    "        kfoldindices = KFold(len(y),n_folds=5,shuffle=True)\n",
    "        for trainindex, testindex in kfoldindices:\n",
    "            Xtrain, Xtest = X[trainindex], X[testindex]\n",
    "            if transform==\"scale\":\n",
    "                (Xtrain, Xtest) = scaleData(Xtrain, Xtest)\n",
    "            ytrain, ytest = y[trainindex], y[testindex]\n",
    "            predictor = predictionmethod(**kwargs)\n",
    "            predictor.fit(Xtrain,ytrain)\n",
    "            predictedy = predictor.predict(Xtest)\n",
    "            if rounddecimals!=\"none\":\n",
    "                predictedy = np.round(predictedy, decimals=rounddecimals)\n",
    "            if classifier==True:\n",
    "                predictedpercent.append((predictedy==ytest).mean())\n",
    "            score.append(predictor.score(Xtest,ytest))\n",
    "    score = (np.mean(score),np.std(score))\n",
    "    if classifier==True:\n",
    "        predictedpercent = (np.mean(predictedpercent), np.std(predictedpercent))\n",
    "        toreturn = (score, predictedpercent)\n",
    "    else:\n",
    "        toreturn = (score)\n",
    "    return toreturn\n",
    "\n",
    "# Returns the prediction accuracy (+/- errorbars on the accuracy) when classifying \"at random\", i.e. \n",
    "# by always predicting the same thing for all the elements. We try by predicting the mean, or the \n",
    "# median, or the most frequently occurring element\n",
    "def randomPrediction(y, rounddecimals=\"none\", num_iterations=1):\n",
    "    meanscore = []\n",
    "    medianscore = []\n",
    "    mostfrequentscore = []\n",
    "    for iter in range(num_iterations):\n",
    "        kfoldindices = KFold(len(y),n_folds=5,shuffle=True)\n",
    "        for trainindex, testindex in kfoldindices:\n",
    "            ytrain, ytest = y[trainindex], y[testindex]\n",
    "            mean = np.mean(ytrain)\n",
    "            median = np.median(ytrain)\n",
    "            mostfrequent = max(set(list(y)), key=list(ytrain).count)\n",
    "            if rounddecimals!=\"none\":\n",
    "                mean = np.round(mean, decimals=rounddecimals)\n",
    "            meanscore.append((ytest==mean).mean())\n",
    "            medianscore.append((ytest==median).mean())\n",
    "            mostfrequentscore.append((ytest==mostfrequent).mean())\n",
    "    meanscore = (np.mean(meanscore), np.std(meanscore))\n",
    "    medianscore = (np.mean(medianscore), np.std(medianscore))\n",
    "    mostfrequentscore = (np.mean(mostfrequentscore), np.std(mostfrequentscore))\n",
    "    allscores = [meanscore[0], medianscore[0], mostfrequentscore[0]]\n",
    "    return [meanscore, medianscore, mostfrequentscore][allscores.index(max(allscores))]"
   ]
  },
  {
   "cell_type": "markdown",
   "metadata": {},
   "source": [
    "#### Helper functions"
   ]
  },
  {
   "cell_type": "code",
   "execution_count": 5,
   "metadata": {
    "collapsed": false
   },
   "outputs": [],
   "source": [
    "def transformData(inputdata, transform=\"log\"):\n",
    "    outputdata = deepcopy(inputdata)\n",
    "    if transform==\"sqrt\":\n",
    "        outputdata[outputdata>0] = np.sqrt(outputdata[outputdata>0])\n",
    "        outputdata[outputdata<0] = -np.sqrt(-outputdata[outputdata<0])\n",
    "    if transform==\"log\":\n",
    "        outputdata[outputdata>1] = np.log(outputdata[outputdata>1])+1\n",
    "        outputdata[outputdata<-1] = -np.log(-outputdata[outputdata<-1])-1\n",
    "    return outputdata\n",
    "\n",
    "def inverseTransformData(inputdata, transform=\"log\"):\n",
    "    outputdata = deepcopy(inputdata)\n",
    "    if transform==\"sqrt\":\n",
    "        outputdata[outputdata>0] = outputdata[outputdata>0]**2\n",
    "        outputdata[outputdata<0] = -((-outputdata[outputdata<0])**2)\n",
    "    if transform==\"log\":\n",
    "        outputdata[outputdata>1] = np.e**(outputdata[outputdata>1]-1)\n",
    "        outputdata[outputdata<-1] = -(np.e**(-outputdata[outputdata<-1] -1))\n",
    "    return outputdata\n",
    "\n",
    "def scaleData(X_train, X_test):\n",
    "    scaler = StandardScaler()\n",
    "    scaler.fit(X_train)  # Need to fit only on training data, not evaluation data!\n",
    "    scaledX_train = scaler.transform(X_train)\n",
    "    scaledX_test = scaler.transform(X_test)  # we apply same transformation to test data\n",
    "    return (scaledX_train, scaledX_test)\n",
    "\n",
    "#This function removes those rows in \"inputdataframe\" where data was generated automatially \n",
    "# in the column \"columnofinterest\". \"dictofunknown\" contains the information on what data was\n",
    "# generated automatically.\n",
    "def removeAutogeneratedData(inputdataframe, columnsofinterest, dictofunknown):\n",
    "    if type(columnsofinterest)==str:\n",
    "        allcolumnsofinterest = [columnsofinterest]\n",
    "    else:\n",
    "        allcolumnsofinterest = columnsofinterest\n",
    "    outputdataframe = deepcopy(inputdataframe)\n",
    "    for col in allcolumnsofinterest:\n",
    "        if col in dictofunknown:\n",
    "            outputdataframe = outputdataframe[outputdataframe[col]!= dictofunknown[col]]\n",
    "    return outputdataframe\n",
    "\n",
    "# Helper function that takes a model, e.g. linear_model.LinearRegression,\n",
    "# and returns the name of that model, e.g. \"LinearRegression\"\n",
    "def getModelName(currentmodel):\n",
    "    modelname = str(currentmodel)\n",
    "    modelname = modelname[modelname.rfind(\".\")+1:]\n",
    "    extracharacters = re.search(\"[^a-zA-z]\",modelname)\n",
    "    if type(extracharacters)!=type(None):\n",
    "        modelname = modelname[:extracharacters.start()]\n",
    "    return modelname\n",
    "\n",
    "# Returns the same dataframe but where the ordinal data has been replaced with numbers, and hence can\n",
    "# be ordered correctly. When plotting it will be necessary to replace the numbers back to their\n",
    "# original categorical labels.\n",
    "def orderOrdinalData(thedataframe, dictofordinals):\n",
    "    orderedordinalsframe = deepcopy(thedataframe)\n",
    "    # We need to turn the dictionary dictofordinals into a form good for using pandas .replace(dict)\n",
    "    neworderings = deepcopy(dictofordinals)\n",
    "    for key in neworderings:\n",
    "        # Pandas complains if we have intersections between the keys and the values\n",
    "        intersectionlength = len(set(neworderings[key]).intersection(set(range(1,len(neworderings[key])+1))))\n",
    "        if intersectionlength==0:\n",
    "            # We can just replace the entries with 0,1,2,...,num_categories-1\n",
    "            neworderings[key] = dict([(el,ii+1) for ii,el in enumerate(neworderings[key])])\n",
    "        else:\n",
    "            # We replace with '0',1','2',.... instead. We will later turn the strings into ints.\n",
    "            neworderings[key] = dict([(el,str(ii+1)) for ii,el in enumerate(neworderings[key])])\n",
    "    # Now we'll replace the ordinal columns in the dataframes with numeric labels\n",
    "    if dictofordinals!={}:\n",
    "        orderedordinalsframe.replace(neworderings, inplace=True)\n",
    "        for key in neworderings.keys():\n",
    "            orderedordinalsframe.loc[:,key] = pd.to_numeric(orderedordinalsframe[key])\n",
    "    return (orderedordinalsframe, neworderings)\n",
    "\n",
    "def makeAllColumnsNumeric(thedataframe, dictofordinals, datacateg):\n",
    "    ordereddataframe = orderOrdinalData(thedataframe, dictofordinals)[0]\n",
    "    replacementdict = {}\n",
    "    for col in ordereddataframe:\n",
    "        if datacateg[col]==\"C\":\n",
    "            allcategories = sorted(ordereddataframe[col].unique())\n",
    "            replacementdict[col] = dict([(cat,ii) for ii, cat in enumerate(allcategories)])\n",
    "    ordereddataframe.replace(replacementdict, inplace=True)\n",
    "    return (ordereddataframe, replacementdict)"
   ]
  },
  {
   "cell_type": "markdown",
   "metadata": {},
   "source": [
    "### Implement all linear regressions"
   ]
  },
  {
   "cell_type": "code",
   "execution_count": 6,
   "metadata": {
    "collapsed": false
   },
   "outputs": [],
   "source": [
    "def tryAllLinearRegressions(thedataframe, topredict, frompredict, dictofunknown={}, num_iterations=100, \n",
    "                            rounddecimals=\"none\", printout=False, classifier=False, transform=\"none\"):\n",
    "    # We begin by making the input data from thedataframe\n",
    "    (X,y) = makeDataFromModels(thedataframe, topredict, frompredict, dictofunknown)\n",
    "    \n",
    "    modelstotryout = [linear_model.LinearRegression, linear_model.RidgeCV, linear_model.LassoCV, \n",
    "                      linear_model.BayesianRidge, linear_model.SGDRegressor]\n",
    "    \n",
    "    if classifier==True:\n",
    "        randomprediction = randomPrediction(y, rounddecimals=rounddecimals, num_iterations=num_iterations)\n",
    "    modelandresults = {}\n",
    "    for model in modelstotryout:\n",
    "        modelname = getModelName(model)\n",
    "        if printout==True:\n",
    "            print modelname\n",
    "        transformtouse = transform\n",
    "        if model==linear_model.SGDRegressor:\n",
    "            transformtouse = \"scale\"\n",
    "        if \"n_alphas\" in model().get_params():\n",
    "            modeldata = getParametersAndPredictionScore(X, y, model, rounddecimals=rounddecimals, \n",
    "                                                        num_iterations=num_iterations, n_alphas=3,\n",
    "                                                        classifier=classifier, transform=transformtouse)\n",
    "        else:\n",
    "            modeldata = getParametersAndPredictionScore(X, y, model, rounddecimals=rounddecimals, \n",
    "                                                        num_iterations=num_iterations, classifier=classifier,\n",
    "                                                        transform=transformtouse)\n",
    "        modelandresults[modelname] = modeldata\n",
    "        if printout==True:\n",
    "            print u\"\\tThe score on the fit is %f \\u00B1 %f (1.0 is perfect)\" %modeldata[2]\n",
    "            if classifier==True:\n",
    "                print u\"\\tThe percentage of correct identifications is: %f \\u00B1 %f\" %modeldata[-1]\n",
    "                print u\"\\t         Benchmark from random prediction is: %f \\u00B1 %f\" %randomprediction\n",
    "    return modelandresults\n",
    "\n",
    "# Makes a scatterplot of the error in prediction, versus the predicted value, to see if there\n",
    "# is any heteroscedasticity, i.e. to see if the error bars of our prediction depend on the value\n",
    "# of the prediction. Returns the R^2 value of the prediction.\n",
    "def plotErrors(thedataframe, topredict, frompredict, chosenmodel, dictofregressions, \n",
    "               rounddecimals=\"none\", minvalue=\"none\", maxvalue=\"none\", ax=\"none\", dictofunknown={}, \n",
    "               alpha=0.3, transform=\"none\"):\n",
    "    (X,y) = makeDataFromModels(thedataframe, topredict, frompredict, dictofunknown)\n",
    "    if transform!=\"none\":\n",
    "        X = transformData(X, transform=transform)\n",
    "    coefficients = dictofregressions[chosenmodel][1]\n",
    "    intercept = dictofregressions[chosenmodel][0]\n",
    "    prediction = np.dot(X,coefficients) + intercept\n",
    "    if transform!=\"none\":\n",
    "        prediction = inverseTransformData(prediction, transform=transform)\n",
    "    if rounddecimals!=\"none\":\n",
    "        prediction = np.round(prediction, decimals=rounddecimals)\n",
    "    if minvalue!=\"none\":\n",
    "        prediction[prediction < minvalue] = minvalue\n",
    "    if maxvalue!=\"none\":\n",
    "        prediction[prediction > maxvalue] = maxvalue\n",
    "    if ax==\"none\":\n",
    "        plt.scatter(prediction, prediction - y, alpha=alpha)\n",
    "        plt.xlabel(\"Predicted \" + topredict)\n",
    "        plt.ylabel(\"Error in prediction\")\n",
    "        plt.show()\n",
    "    else:\n",
    "        ax.scatter(prediction, prediction - y, alpha=alpha)\n",
    "        ax.set_xlabel(\"Predicted \" + topredict)\n",
    "        ax.set_ylabel(\"Error in prediction\")\n",
    "    print \"Mean: %f\" %np.mean(prediction - y)\n",
    "    print \"Std: %f\" %np.std(prediction - y)\n",
    "    print \"R^2: %f\" %(np.var(prediction) / np.var(y))"
   ]
  },
  {
   "cell_type": "markdown",
   "metadata": {},
   "source": [
    "#### Helper functions"
   ]
  },
  {
   "cell_type": "code",
   "execution_count": 7,
   "metadata": {
    "collapsed": true
   },
   "outputs": [],
   "source": [
    "def makeDataFromModels(thedataframe, topredict, frompredict, dictofunknown):\n",
    "    tousedataframe = removeAutogeneratedData(thedataframe, frompredict + [topredict], dictofunknown)\n",
    "    X = tousedataframe[frompredict].as_matrix()\n",
    "    y = tousedataframe[topredict].as_matrix()\n",
    "    return (X,y)"
   ]
  },
  {
   "cell_type": "markdown",
   "metadata": {},
   "source": [
    "### Functions for using regressions to fill in unknown data"
   ]
  },
  {
   "cell_type": "code",
   "execution_count": 8,
   "metadata": {
    "collapsed": false
   },
   "outputs": [],
   "source": [
    "# Makes a dataframe where the values of topredict have been predicted using frompredict, with the regression \n",
    "# model called chosenmodel (a string). For this we need to have found all regressions, placed in the variable\n",
    "# dictofregressions.\n",
    "def incorporateRegressionPrediction(inputdataframe, topredict, frompredict, chosenmodel, dictofregressions,\n",
    "                                    rounddecimals=\"none\", minvalue=\"none\", maxvalue=\"none\", transform=\"none\"):\n",
    "    thedataframe = deepcopy(inputdataframe)\n",
    "    if topredict in dictofunknown:\n",
    "        topredictframe = thedataframe[thedataframe[topredict]==dictofunknown[topredict]]\n",
    "    else:\n",
    "        topredictframe = thedataframe[thedataframe[topredict].isnull()]\n",
    "    ind = topredictframe.index\n",
    "    dataX = topredictframe[frompredict].as_matrix()\n",
    "    if transform!=\"none\":\n",
    "        dataX = transformData(dataX, transform=transform)\n",
    "    if len(dataX) > 0:\n",
    "        coefficients = dictofregressions[chosenmodel][1]\n",
    "        intercept = dictofregressions[chosenmodel][0]\n",
    "        prediction = np.dot(dataX,coefficients) + intercept\n",
    "        if transform!=\"none\":\n",
    "            prediction = inverseTransformData(prediction, transform=transform)\n",
    "        if rounddecimals!=\"none\":\n",
    "            prediction = np.round(prediction, decimals=rounddecimals)\n",
    "        if minvalue!=\"none\":\n",
    "            prediction[prediction < minvalue] = minvalue\n",
    "        if maxvalue!=\"none\":\n",
    "            prediction[prediction > maxvalue] = maxvalue\n",
    "        thedataframe.loc[ind, topredict] = prediction\n",
    "    return thedataframe"
   ]
  },
  {
   "cell_type": "markdown",
   "metadata": {},
   "source": [
    "### Use linear regression for missing data\n",
    "\n",
    "After having tried various options, it seems like using transform=\"log\" we're able to avoid most of the heteroscedasticity we otherwise get with a straightforward linear regression."
   ]
  },
  {
   "cell_type": "code",
   "execution_count": 9,
   "metadata": {
    "collapsed": false
   },
   "outputs": [
    {
     "name": "stdout",
     "output_type": "stream",
     "text": [
      "LinearRegression\n",
      "\tThe score on the fit is 0.227193 ± 0.082077 (1.0 is perfect)\n",
      "RidgeCV\n",
      "\tThe score on the fit is 0.231368 ± 0.069382 (1.0 is perfect)\n",
      "LassoCV\n",
      "\tThe score on the fit is 0.231513 ± 0.075897 (1.0 is perfect)\n",
      "BayesianRidge\n",
      "\tThe score on the fit is 0.229169 ± 0.071126 (1.0 is perfect)\n",
      "SGDRegressor\n",
      "\tThe score on the fit is 0.210007 ± 0.060242 (1.0 is perfect)\n"
     ]
    }
   ],
   "source": [
    "numericdataframe = makeAllColumnsNumeric(thedataframe, dictofordinals, datacateg)[0]\n",
    "topredict = \"Age\"\n",
    "frompredict = ['Pclass', 'Sex', 'SibSp', 'Parch', \"Fare\", \"Cabin\", 'Embarked']\n",
    "tousedataframe = deepcopy(numericdataframe)\n",
    "transform = \"log\"\n",
    "\n",
    "linearregressions = tryAllLinearRegressions(tousedataframe, topredict, frompredict,\n",
    "                                            dictofunknown={'Age': 29.6991176471}, printout=True, num_iterations=100, \n",
    "                                            rounddecimals=\"none\", classifier=False, transform=transform)"
   ]
  },
  {
   "cell_type": "markdown",
   "metadata": {},
   "source": [
    "### Check heteroscedasticity of fit"
   ]
  },
  {
   "cell_type": "code",
   "execution_count": 10,
   "metadata": {
    "collapsed": false
   },
   "outputs": [
    {
     "data": {
      "image/png": "[encoded data removed]",
      "text/plain": [
       "<matplotlib.figure.Figure at 0xbcffcc0>"
      ]
     },
     "metadata": {},
     "output_type": "display_data"
    },
    {
     "name": "stdout",
     "output_type": "stream",
     "text": [
      "Mean: -3.662467\n",
      "Std: 12.412592\n",
      "R^2: 0.493275\n"
     ]
    }
   ],
   "source": [
    "chosenmodel = \"LinearRegression\"\n",
    "dictofregressions = linearregressions\n",
    "rounddecimals=0\n",
    "minvalue=0\n",
    "maxvalue=100\n",
    "\n",
    "plotErrors(tousedataframe, topredict, frompredict, chosenmodel, dictofregressions,\n",
    "           rounddecimals=rounddecimals, minvalue=minvalue, maxvalue=maxvalue, ax=\"none\", transform=transform)"
   ]
  },
  {
   "cell_type": "markdown",
   "metadata": {},
   "source": [
    "### Make new datafram with predicted values"
   ]
  },
  {
   "cell_type": "code",
   "execution_count": 11,
   "metadata": {
    "collapsed": false
   },
   "outputs": [],
   "source": [
    "newdataframe = incorporateRegressionPrediction(tousedataframe, topredict, frompredict, chosenmodel, dictofregressions,\n",
    "                                               rounddecimals=rounddecimals, minvalue=minvalue, maxvalue=maxvalue, \n",
    "                                               transform=transform)"
   ]
  },
  {
   "cell_type": "markdown",
   "metadata": {},
   "source": [
    "## Classification\n",
    "### Generic functions for making predictions and checking their accuracy"
   ]
  },
  {
   "cell_type": "code",
   "execution_count": 12,
   "metadata": {
    "collapsed": true
   },
   "outputs": [],
   "source": [
    "def getPrediction(trainX, trainy, dataX, predictionmethod, transform=\"none\",**kwargs):\n",
    "    (Xtraining, ytraining) = (trainX, trainy)\n",
    "    X = dataX\n",
    "    if transform!=\"none\":\n",
    "        Xtraining = transformData(trainX, transform=transform)\n",
    "        X = transformData(dataX, transform=transform)\n",
    "    if transform==\"scale\":\n",
    "        (Xtraining, X) = scaleData(Xtraining, X)\n",
    "    predictor = predictionmethod(**kwargs)\n",
    "    predictor.fit(Xtraining,ytraining)\n",
    "    predictedy = predictor.predict(X)\n",
    "    return predictedy\n",
    "\n",
    "def getPredictionProba(trainX, trainy, dataX, predictionmethod, transform=\"none\",**kwargs):\n",
    "    (Xtraining, ytraining) = (trainX, trainy)\n",
    "    X = dataX\n",
    "    if transform!=\"none\":\n",
    "        Xtraining = transformData(trainX, transform=transform)\n",
    "        X = transformData(dataX, transform=transform)\n",
    "    if transform==\"scale\":\n",
    "        (Xtraining, X) = scaleData(Xtraining, X)\n",
    "    predictor = predictionmethod(**kwargs)\n",
    "    predictor.fit(Xtraining,ytraining)\n",
    "    predictedy = predictor.predict_proba(X)\n",
    "    return predictedy\n",
    "\n",
    "def getPredictionScore(inputX, inputy, predictionmethod, num_iterations=1, transform=\"none\",**kwargs):\n",
    "    (X, y) = (inputX, inputy)\n",
    "    if transform!=\"none\":\n",
    "        X = transformData(inputX, transform=transform)\n",
    "    score = []\n",
    "    for iter in range(num_iterations):\n",
    "        kfoldindices = KFold(len(y),n_folds=5,shuffle=True)\n",
    "        for trainindex, testindex in kfoldindices:\n",
    "            Xtrain, Xtest = X[trainindex], X[testindex]\n",
    "            if transform==\"scale\":\n",
    "                (Xtrain, Xtest) = scaleData(Xtrain, Xtest)\n",
    "            ytrain, ytest = y[trainindex], y[testindex]\n",
    "            predictor = predictionmethod(**kwargs)\n",
    "            predictor.fit(Xtrain,ytrain)\n",
    "            score.append(predictor.score(Xtest,ytest))\n",
    "    score = (np.mean(score),np.std(score))\n",
    "    return score"
   ]
  },
  {
   "cell_type": "markdown",
   "metadata": {},
   "source": [
    "### Functions for making classification through regression"
   ]
  },
  {
   "cell_type": "code",
   "execution_count": 13,
   "metadata": {
    "collapsed": false
   },
   "outputs": [],
   "source": [
    "def tryAllLinRegClassifiers(thedataframe, topredict, frompredict, dictofunknown={}, num_iterations=30, \n",
    "                            rounddecimals=0, printout=True, transform=\"scale\", polynomialdegrees=[1]):\n",
    "    linregs = tryPolynomialRegressions(thedataframe, topredict, frompredict, polynomialdegrees,\n",
    "                                       dictofunknown=dictofunknown, num_iterations=num_iterations,\n",
    "                                       rounddecimals=rounddecimals, printout=printout, classifier=True, transform=transform)\n",
    "    otherregs = tryOtherRegressions(thedataframe, topredict, frompredict,\n",
    "                                    dictofunknown=dictofunknown, num_iterations=num_iterations,\n",
    "                                    rounddecimals=rounddecimals, printout=printout, classifier=True, transform=\"none\")\n",
    "    linregs.update(otherregs)\n",
    "    regclassifiers = tryAllRegressionClassifiers(thedataframe, topredict, frompredict, polynomialdegrees, \n",
    "                                                 dictofunknown=dictofunknown, num_iterations=num_iterations, \n",
    "                                                 printout=printout, transform=transform)\n",
    "    linregs.update(regclassifiers)\n",
    "    otherclass = tryOtherClassifiers(thedataframe, topredict, frompredict, dictofunknown=dictofunknown, \n",
    "                                     num_iterations=num_iterations, printout=printout, transform=transform)\n",
    "    linregs.update(otherclass)\n",
    "    return linregs"
   ]
  },
  {
   "cell_type": "markdown",
   "metadata": {},
   "source": [
    "#### Helper functions"
   ]
  },
  {
   "cell_type": "code",
   "execution_count": 196,
   "metadata": {
    "collapsed": true
   },
   "outputs": [],
   "source": [
    "def tryAllRegressionClassifiers(thedataframe, topredict, frompredict, polynomialdegrees, dictofunknown={}, num_iterations=100, \n",
    "                            printout=False, transform=\"none\"):\n",
    "    # We begin by making the input data from thedataframe\n",
    "    (X,y) = makeDataFromModels(thedataframe, topredict, frompredict, dictofunknown)\n",
    "    \n",
    "    modelstotryout = [linear_model.LogisticRegression, linear_model.LogisticRegressionCV, linear_model.SGDClassifier,\n",
    "                      linear_model.Perceptron]\n",
    "    \n",
    "    if type(polynomialdegrees)==int:\n",
    "        alldegrees = [polynomialdegrees]\n",
    "    else:\n",
    "        alldegrees = polynomialdegrees\n",
    "    \n",
    "    randomprediction = randomPrediction(y, num_iterations=num_iterations)\n",
    "    \n",
    "    modelandresults = {}\n",
    "    for model in modelstotryout:\n",
    "        modelname = getModelName(model)\n",
    "        if printout==True:\n",
    "            print modelname\n",
    "        transformtouse = transform\n",
    "        if model==linear_model.SGDClassifier or model==linear_model.Perceptron:\n",
    "            transformtouse = \"scale\"\n",
    "        for polydegree in alldegrees:\n",
    "            poly = PolynomialFeatures(degree=polydegree)\n",
    "            polyX = poly.fit_transform(X)\n",
    "            if printout==True:\n",
    "                print \"\\tPolynomial of degree \" + str(polydegree)\n",
    "            if \"n_alphas\" in model().get_params():\n",
    "                modelscore = getPredictionScore(polyX, y, model, num_iterations=num_iterations, n_alphas=3, \n",
    "                                                transform=transformtouse)\n",
    "            else:\n",
    "                modelscore = getPredictionScore(polyX, y, model, num_iterations=num_iterations, transform=transformtouse)\n",
    "            modelandresults[modelname] = modelscore\n",
    "            if printout==True:\n",
    "                print u\"\\t\\tThe percentage of correct identifications is: %f \\u00B1 %f\" %modelscore\n",
    "                print u\"\\t\\t         Benchmark from random prediction is: %f \\u00B1 %f\" %randomprediction\n",
    "    return modelandresults\n",
    "\n",
    "def tryPolynomialRegressions(thedataframe, topredict, frompredict, polynomialdegrees, dictofunknown={}, num_iterations=100, \n",
    "                             rounddecimals=\"none\", printout=False, classifier=False, transform=\"none\"):\n",
    "    # We begin by making the input data from thedataframe\n",
    "    (X,y) = makeDataFromModels(thedataframe, topredict, frompredict, dictofunknown)\n",
    "    \n",
    "    modelstotryout = [linear_model.LinearRegression, linear_model.RidgeCV, linear_model.LassoCV, \n",
    "                      linear_model.BayesianRidge, linear_model.SGDRegressor]\n",
    "    \n",
    "    if type(polynomialdegrees)==int:\n",
    "        alldegrees = [polynomialdegrees]\n",
    "    else:\n",
    "        alldegrees = polynomialdegrees\n",
    "    \n",
    "    if classifier==True:\n",
    "        randomprediction = randomPrediction(y, rounddecimals=rounddecimals, num_iterations=num_iterations)\n",
    "    modelandresults = {}\n",
    "    for model in modelstotryout:\n",
    "        modelname = getModelName(model)\n",
    "        if printout==True:\n",
    "            print modelname\n",
    "        transformtouse = transform\n",
    "        if model==linear_model.SGDRegressor or model==linear_model.Perceptron:\n",
    "            transformtouse = \"scale\"\n",
    "        for polydegree in alldegrees:\n",
    "            poly = PolynomialFeatures(degree=polydegree)\n",
    "            polyX = poly.fit_transform(X)\n",
    "            if printout==True:\n",
    "                print \"\\tPolynomial of degree \" + str(polydegree)\n",
    "            if \"n_alphas\" in model().get_params():\n",
    "                modeldata = getParametersAndPredictionScore(polyX, y, model, rounddecimals=rounddecimals, \n",
    "                                                            num_iterations=num_iterations, n_alphas=3,\n",
    "                                                            classifier=classifier, transform=transformtouse)\n",
    "            else:\n",
    "                modeldata = getParametersAndPredictionScore(polyX, y, model, rounddecimals=rounddecimals, \n",
    "                                                            num_iterations=num_iterations, classifier=classifier,\n",
    "                                                            transform=transformtouse)\n",
    "            modelandresults[(modelname,polydegree)] = modeldata\n",
    "            if printout==True:\n",
    "                print u\"\\t\\tThe score on the fit is %f \\u00B1 %f (1.0 is perfect)\" %modeldata[2]\n",
    "                if classifier==True:\n",
    "                    print u\"\\t\\tThe percentage of correct identifications is: %f \\u00B1 %f\" %modeldata[-1]\n",
    "                    print u\"\\t\\t         Benchmark from random prediction is: %f \\u00B1 %f\" %randomprediction\n",
    "    return modelandresults\n",
    "\n",
    "def tryOtherRegressions(thedataframe, topredict, frompredict, dictofunknown={}, num_iterations=100, \n",
    "                        rounddecimals=\"none\", printout=False, classifier=False, transform=\"none\"):\n",
    "    # We begin by making the input data from thedataframe\n",
    "    (X,y) = makeDataFromModels(thedataframe, topredict, frompredict, dictofunknown)\n",
    "    \n",
    "    modelstotryout = [KernelRidge, GaussianProcessRegressor]\n",
    "       \n",
    "    if classifier==True:\n",
    "        randomprediction = randomPrediction(y, rounddecimals=rounddecimals, num_iterations=num_iterations)\n",
    "    modelandresults = {}\n",
    "    for model in modelstotryout:\n",
    "        modelname = getModelName(model)\n",
    "        if printout==True:\n",
    "            print modelname\n",
    "        transformtouse = transform\n",
    "        if model==linear_model.SGDRegressor or model==linear_model.Perceptron:\n",
    "            transformtouse = \"scale\"\n",
    "        if \"n_alphas\" in model().get_params():\n",
    "            modeldata = getPredictionPercentage(X, y, model, rounddecimals=rounddecimals, \n",
    "                                                num_iterations=num_iterations, n_alphas=3,\n",
    "                                                classifier=classifier, transform=transformtouse)\n",
    "        else:\n",
    "            modeldata = getPredictionPercentage(X, y, model, rounddecimals=rounddecimals, \n",
    "                                                num_iterations=num_iterations, classifier=classifier,\n",
    "                                                transform=transformtouse)\n",
    "        modelandresults[modelname] = modeldata\n",
    "        if printout==True:\n",
    "            print u\"\\tThe score on the fit is %f \\u00B1 %f (1.0 is perfect)\" %modeldata[0]\n",
    "            if classifier==True:\n",
    "                print u\"\\tThe percentage of correct identifications is: %f \\u00B1 %f\" %modeldata[1]\n",
    "                print u\"\\t         Benchmark from random prediction is: %f \\u00B1 %f\" %randomprediction\n",
    "    return modelandresults\n",
    "\n",
    "def tryOtherClassifiers(thedataframe, topredict, frompredict, dictofunknown={}, num_iterations=100, \n",
    "                            printout=False, transform=\"none\"):\n",
    "    # We begin by making the input data from thedataframe\n",
    "    (X,y) = makeDataFromModels(thedataframe, topredict, frompredict, dictofunknown)\n",
    "    \n",
    "    modelstotryout = [SVC, KNeighborsClassifier, NearestCentroid, GaussianProcessClassifier, GaussianNB, \n",
    "                      DecisionTreeClassifier]\n",
    "      \n",
    "    randomprediction = randomPrediction(y, num_iterations=num_iterations)\n",
    "    \n",
    "    modelandresults = {}\n",
    "    for model in modelstotryout:\n",
    "        modelname = getModelName(model)\n",
    "        if printout==True:\n",
    "            print modelname\n",
    "        transformtouse = transform\n",
    "        if model==linear_model.SGDClassifier or model==linear_model.Perceptron or model==SVC:\n",
    "            transformtouse = \"scale\"\n",
    "        if \"n_alphas\" in model().get_params():\n",
    "            modelscore = getPredictionScore(X, y, model, num_iterations=num_iterations, n_alphas=3, \n",
    "                                            transform=transformtouse)\n",
    "        else:\n",
    "            modelscore = getPredictionScore(X, y, model, num_iterations=num_iterations, transform=transformtouse)\n",
    "        modelandresults[modelname] = modelscore\n",
    "        if printout==True:\n",
    "            print u\"\\tThe percentage of correct identifications is: %f \\u00B1 %f\" %modelscore\n",
    "            print u\"\\t         Benchmark from random prediction is: %f \\u00B1 %f\" %randomprediction\n",
    "    return modelandresults"
   ]
  },
  {
   "cell_type": "code",
   "execution_count": 123,
   "metadata": {
    "collapsed": false,
    "scrolled": false
   },
   "outputs": [
    {
     "name": "stdout",
     "output_type": "stream",
     "text": [
      "LinearRegression\n",
      "\tPolynomial of degree 1\n",
      "\t\tThe score on the fit is 0.385567 ± 0.072040 (1.0 is perfect)\n",
      "\t\tThe percentage of correct identifications is: 0.792337 ± 0.032700\n",
      "\t\t         Benchmark from random prediction is: 0.610721 ± 0.030026\n",
      "\tPolynomial of degree 2\n",
      "\t\tThe score on the fit is 0.394577 ± 0.109934 (1.0 is perfect)\n",
      "\t\tThe percentage of correct identifications is: 0.808112 ± 0.025592\n",
      "\t\t         Benchmark from random prediction is: 0.610721 ± 0.030026\n",
      "\tPolynomial of degree 3\n",
      "\t\tThe score on the fit is -56659974472985780224.000000 ± 396619821310900502528.000000 (1.0 is perfect)\n",
      "\t\tThe percentage of correct identifications is: 0.759917 ± 0.029648\n",
      "\t\t         Benchmark from random prediction is: 0.610721 ± 0.030026\n",
      "RidgeCV\n",
      "\tPolynomial of degree 1\n",
      "\t\tThe score on the fit is 0.384513 ± 0.054452 (1.0 is perfect)\n",
      "\t\tThe percentage of correct identifications is: 0.794180 ± 0.022861\n",
      "\t\t         Benchmark from random prediction is: 0.610721 ± 0.030026\n",
      "\tPolynomial of degree 2\n",
      "\t\tThe score on the fit is 0.411323 ± 0.070659 (1.0 is perfect)\n",
      "\t\tThe percentage of correct identifications is: 0.815398 ± 0.028586\n",
      "\t\t         Benchmark from random prediction is: 0.610721 ± 0.030026\n",
      "\tPolynomial of degree 3\n",
      "\t\tThe score on the fit is 0.403538 ± 0.077586 (1.0 is perfect)\n",
      "\t\tThe percentage of correct identifications is: 0.807875 ± 0.025918\n",
      "\t\t         Benchmark from random prediction is: 0.610721 ± 0.030026\n",
      "LassoCV\n",
      "\tPolynomial of degree 1\n",
      "\t\tThe score on the fit is 0.385026 ± 0.061072 (1.0 is perfect)\n",
      "\t\tThe percentage of correct identifications is: 0.791079 ± 0.029016\n",
      "\t\t         Benchmark from random prediction is: 0.610721 ± 0.030026\n",
      "\tPolynomial of degree 2\n",
      "\t\tThe score on the fit is 0.401326 ± 0.070080 (1.0 is perfect)\n",
      "\t\tThe percentage of correct identifications is: 0.809587 ± 0.027772\n",
      "\t\t         Benchmark from random prediction is: 0.610721 ± 0.030026\n",
      "\tPolynomial of degree 3\n",
      "\t\tThe score on the fit is 0.401831 ± 0.058761 (1.0 is perfect)\n",
      "\t\tThe percentage of correct identifications is: 0.809812 ± 0.025612\n",
      "\t\t         Benchmark from random prediction is: 0.610721 ± 0.030026\n",
      "BayesianRidge\n",
      "\tPolynomial of degree 1\n",
      "\t\tThe score on the fit is 0.383917 ± 0.052366 (1.0 is perfect)\n",
      "\t\tThe percentage of correct identifications is: 0.793844 ± 0.030867\n",
      "\t\t         Benchmark from random prediction is: 0.610721 ± 0.030026\n",
      "\tPolynomial of degree 2\n",
      "\t\tThe score on the fit is 0.406630 ± 0.055858 (1.0 is perfect)\n",
      "\t\tThe percentage of correct identifications is: 0.809823 ± 0.027992\n",
      "\t\t         Benchmark from random prediction is: 0.610721 ± 0.030026\n",
      "\tPolynomial of degree 3\n",
      "\t\tThe score on the fit is 0.418880 ± 0.055662 (1.0 is perfect)\n",
      "\t\tThe percentage of correct identifications is: 0.814608 ± 0.025742\n",
      "\t\t         Benchmark from random prediction is: 0.610721 ± 0.030026\n",
      "SGDRegressor\n",
      "\tPolynomial of degree 1\n",
      "\t\tThe score on the fit is 0.384218 ± 0.058255 (1.0 is perfect)\n",
      "\t\tThe percentage of correct identifications is: 0.792935 ± 0.026739\n",
      "\t\t         Benchmark from random prediction is: 0.610721 ± 0.030026\n",
      "\tPolynomial of degree 2\n",
      "\t\tThe score on the fit is 0.392018 ± 0.066078 (1.0 is perfect)\n",
      "\t\tThe percentage of correct identifications is: 0.809804 ± 0.027831\n",
      "\t\t         Benchmark from random prediction is: 0.610721 ± 0.030026\n",
      "\tPolynomial of degree 3\n",
      "\t\tThe score on the fit is -2131016.248940 ± 10023726.540447 (1.0 is perfect)\n",
      "\t\tThe percentage of correct identifications is: 0.095973 ± 0.166561\n",
      "\t\t         Benchmark from random prediction is: 0.610721 ± 0.030026\n",
      "KernelRidge\n",
      "\tThe score on the fit is 0.144731 ± 0.061779 (1.0 is perfect)\n",
      "\tThe percentage of correct identifications is: 0.743847 ± 0.029393\n",
      "\t         Benchmark from random prediction is: 0.610722 ± 0.037360\n",
      "GaussianProcessRegressor\n",
      "\tThe score on the fit is -81626.597119 ± 150816.666247 (1.0 is perfect)\n",
      "\tThe percentage of correct identifications is: 0.490742 ± 0.038037\n",
      "\t         Benchmark from random prediction is: 0.610722 ± 0.037360\n",
      "LogisticRegression\n",
      "\tPolynomial of degree 1\n",
      "\t\tThe percentage of correct identifications is: 0.790875 ± 0.026419\n",
      "\t\t         Benchmark from random prediction is: 0.610733 ± 0.034960\n",
      "\tPolynomial of degree 2\n",
      "\t\tThe percentage of correct identifications is: 0.810601 ± 0.021169\n",
      "\t\t         Benchmark from random prediction is: 0.610733 ± 0.034960\n",
      "\tPolynomial of degree 3\n",
      "\t\tThe percentage of correct identifications is: 0.804234 ± 0.024074\n",
      "\t\t         Benchmark from random prediction is: 0.610733 ± 0.034960\n",
      "LogisticRegressionCV\n",
      "\tPolynomial of degree 1\n",
      "\t\tThe percentage of correct identifications is: 0.792121 ± 0.029326\n",
      "\t\t         Benchmark from random prediction is: 0.610733 ± 0.034960\n",
      "\tPolynomial of degree 2\n",
      "\t\tThe percentage of correct identifications is: 0.812569 ± 0.025611\n",
      "\t\t         Benchmark from random prediction is: 0.610733 ± 0.034960\n",
      "\tPolynomial of degree 3\n",
      "\t\tThe percentage of correct identifications is: 0.810719 ± 0.027713\n",
      "\t\t         Benchmark from random prediction is: 0.610733 ± 0.034960\n",
      "SGDClassifier\n",
      "\tPolynomial of degree 1\n",
      "\t\tThe percentage of correct identifications is: 0.721895 ± 0.070708\n",
      "\t\t         Benchmark from random prediction is: 0.610733 ± 0.034960\n",
      "\tPolynomial of degree 2\n",
      "\t\tThe percentage of correct identifications is: 0.764390 ± 0.059500\n",
      "\t\t         Benchmark from random prediction is: 0.610733 ± 0.034960\n",
      "\tPolynomial of degree 3\n",
      "\t\tThe percentage of correct identifications is: 0.748974 ± 0.068355\n",
      "\t\t         Benchmark from random prediction is: 0.610733 ± 0.034960\n",
      "Perceptron\n",
      "\tPolynomial of degree 1\n",
      "\t\tThe percentage of correct identifications is: 0.709495 ± 0.088819\n",
      "\t\t         Benchmark from random prediction is: 0.610733 ± 0.034960\n",
      "\tPolynomial of degree 2\n",
      "\t\tThe percentage of correct identifications is: 0.743397 ± 0.067380\n",
      "\t\t         Benchmark from random prediction is: 0.610733 ± 0.034960\n",
      "\tPolynomial of degree 3\n",
      "\t\tThe percentage of correct identifications is: 0.738025 ± 0.073535\n",
      "\t\t         Benchmark from random prediction is: 0.610733 ± 0.034960\n",
      "SVC\n",
      "\tThe percentage of correct identifications is: 0.814854 ± 0.025944\n",
      "\t         Benchmark from random prediction is: 0.610729 ± 0.027705\n",
      "KNeighborsClassifier\n",
      "\tThe percentage of correct identifications is: 0.805027 ± 0.030340\n",
      "\t         Benchmark from random prediction is: 0.610729 ± 0.027705\n",
      "NearestCentroid\n",
      "\tThe percentage of correct identifications is: 0.765642 ± 0.031319\n",
      "\t         Benchmark from random prediction is: 0.610729 ± 0.027705\n",
      "GaussianProcessClassifier\n",
      "\tThe percentage of correct identifications is: 0.813005 ± 0.022280\n",
      "\t         Benchmark from random prediction is: 0.610729 ± 0.027705\n",
      "GaussianNB\n",
      "\tThe percentage of correct identifications is: 0.776725 ± 0.027037\n",
      "\t         Benchmark from random prediction is: 0.610729 ± 0.027705\n"
     ]
    }
   ],
   "source": [
    "topredict = \"Survived\"\n",
    "frompredict = ['Pclass', 'Sex', \"Age\", 'SibSp', 'Parch', \"Fare\", \"Cabin\", 'Embarked']\n",
    "\n",
    "allmodelsandresults = tryAllLinRegClassifiers(numericdataframe, topredict, frompredict, num_iterations=10, \n",
    "                        transform=\"scale\", polynomialdegrees=[1,2,3])"
   ]
  },
  {
   "cell_type": "code",
   "execution_count": 251,
   "metadata": {
    "collapsed": false
   },
   "outputs": [
    {
     "data": {
      "text/plain": [
       "(0.38540962734759276, 0.056074973976286427)"
      ]
     },
     "execution_count": 251,
     "metadata": {},
     "output_type": "execute_result"
    }
   ],
   "source": [
    "numericdataframe = makeAllColumnsNumeric(thedataframe, dictofordinals, datacateg)[0]\n",
    "frompredict = ['Pclass', 'Sex', \"Age\", 'SibSp', 'Parch', \"Fare\", \"Cabin\", 'Embarked']\n",
    "#frompredict = ['Pclass', 'Sex', 'SibSp']\n",
    "\n",
    "(X,y) = makeDataFromModels(numericdataframe, topredict, frompredict, {})\n",
    "getPredictionScore(X, y, BaggingRegressor, num_iterations=100, transform=\"scale\", \n",
    "                   base_estimator=linear_model.LinearRegression(), n_estimators=100, max_samples=1.0, max_features=1.0)"
   ]
  },
  {
   "cell_type": "code",
   "execution_count": 250,
   "metadata": {
    "collapsed": false
   },
   "outputs": [
    {
     "data": {
      "text/plain": [
       "(0.38564262241829589, 0.057886751597330276)"
      ]
     },
     "execution_count": 250,
     "metadata": {},
     "output_type": "execute_result"
    }
   ],
   "source": [
    "getPredictionScore(X, y, linear_model.LinearRegression, num_iterations=100, transform=\"scale\")"
   ]
  },
  {
   "cell_type": "code",
   "execution_count": null,
   "metadata": {
    "collapsed": true
   },
   "outputs": [],
   "source": []
  },
  {
   "cell_type": "markdown",
   "metadata": {},
   "source": [
    "#### Find ideal number of neighbors"
   ]
  },
  {
   "cell_type": "code",
   "execution_count": 19,
   "metadata": {
    "collapsed": false
   },
   "outputs": [],
   "source": [
    "numericdataframe = makeAllColumnsNumeric(thedataframe, dictofordinals, datacateg)[0]\n",
    "frompredict = ['Pclass', 'Sex', \"Age\", 'SibSp', 'Parch', \"Fare\", \"Cabin\", 'Embarked']\n",
    "#frompredict = ['Pclass', 'Sex', 'SibSp']\n",
    "\n",
    "(X,y) = makeDataFromModels(numericdataframe, topredict, frompredict, {})\n",
    "allscores = []\n",
    "for jj in range(1,20):\n",
    "    allscores.append(getPredictionScore(X, y, KNeighborsClassifier, num_iterations=30, transform=\"scale\", n_neighbors=jj)[0])\n",
    "\n",
    "# if we decrease wrt a value twice in a row, we've reached the max\n",
    "bestnumneighbors = list(np.append(\n",
    "    (np.array(allscores[2:]) - np.array(allscores[:-2]) < 0).astype(int), \n",
    "    1) * (np.array(allscores[1:]) - np.array(allscores[:-1]) < 0).astype(int)).index(1) + 1"
   ]
  },
  {
   "cell_type": "code",
   "execution_count": 20,
   "metadata": {
    "collapsed": false
   },
   "outputs": [
    {
     "name": "stdout",
     "output_type": "stream",
     "text": [
      "Ideal number is 14\n"
     ]
    },
    {
     "data": {
      "image/png": "[encoded data removed]",
      "text/plain": [
       "<matplotlib.figure.Figure at 0xc7975f8>"
      ]
     },
     "metadata": {},
     "output_type": "display_data"
    }
   ],
   "source": [
    "poly = PolynomialFeatures(degree=2)\n",
    "polyX = poly.fit_transform((np.arange(len(allscores))+1).reshape(-1, 1))\n",
    "linreg = linear_model.LinearRegression()\n",
    "linreg.fit(polyX,np.array(allscores).reshape(-1, 1))\n",
    "xs = np.linspace(0,18)\n",
    "plt.plot(xs, linreg.intercept_ + linreg.coef_[0][0] + linreg.coef_[0][1]*xs + linreg.coef_[0][2]*(xs**2))\n",
    "plt.plot(allscores)\n",
    "print \"Ideal number is %d\" %np.round(-linreg.coef_[0][1]/(2*linreg.coef_[0][2]))"
   ]
  },
  {
   "cell_type": "markdown",
   "metadata": {},
   "source": [
    "### Ensemble"
   ]
  },
  {
   "cell_type": "code",
   "execution_count": 201,
   "metadata": {
    "collapsed": false
   },
   "outputs": [
    {
     "data": {
      "text/plain": [
       "(0.81248402597402591, 0.024906475889913637)"
      ]
     },
     "execution_count": 201,
     "metadata": {},
     "output_type": "execute_result"
    }
   ],
   "source": [
    "def getPredictAccur(predictionmethod):\n",
    "    try:\n",
    "        predictionaccuracy = allmodelsandresults[(getModelName(predictionmethod),polydegree)][-1][0]\n",
    "    except KeyError:\n",
    "        predictionaccuracy = allmodelsandresults[getModelName(predictionmethod)][0]\n",
    "    return predictionaccuracy\n",
    "\n",
    "# ================================================\n",
    "# THESE FUNCTIONS ARE FOR ESTIMATING THE CORRECT VALUES BASED ON A BAYES-LIKE PROB OF THE RIGHT ANSWER\n",
    "def getprob(result, event, prob):\n",
    "    if result==event:\n",
    "        chance = prob \n",
    "    else:\n",
    "        chance = 1 - prob\n",
    "    return chance\n",
    "\n",
    "def getConsensusResult(resultlist, probs):\n",
    "    prob1 = [getprob(result, 1,prob) for prob,result in zip(probs,resultlist)]\n",
    "    prob0 = [getprob(result, 0,prob) for prob,result in zip(probs,resultlist)]\n",
    "    #ratio = (np.mean(y)/(1-np.mean(y)))* np.prod(prob1)/np.prod(prob0)\n",
    "    ratio = np.prod(prob1)/np.prod(prob0)\n",
    "    probshouldbe1 = ratio / (1+ratio)\n",
    "    consensusresult = np.round(probshouldbe1)\n",
    "    return consensusresult\n",
    "# ================================================\n",
    "\n",
    "\n",
    "num_iterations = 100\n",
    "polydegree = 2\n",
    "modelstotryout = [linear_model.RidgeCV, linear_model.SGDRegressor, linear_model.LogisticRegression, \n",
    "                  SVC, KNeighborsClassifier, NearestCentroid]\n",
    "\n",
    "poly = PolynomialFeatures(degree=polydegree)\n",
    "probs = [getPredictAccur(predictionmethod) for predictionmethod in modelstotryout]\n",
    "totalvotes = np.sum(probs)\n",
    "score = []\n",
    "for iter in range(num_iterations):\n",
    "    kfoldindices = KFold(len(y),n_folds=5,shuffle=True)\n",
    "    for trainindex, testindex in kfoldindices:\n",
    "        Xtrain, Xtest = X[trainindex], X[testindex]\n",
    "        ytrain, ytest = y[trainindex], y[testindex]\n",
    "        ensemblepredictions = []\n",
    "        for predictionmethod in modelstotryout:\n",
    "            if predictionmethod in [linear_model.RidgeCV, linear_model.SGDRegressor, linear_model.LogisticRegressionCV]:\n",
    "                Xtraintouse = poly.fit_transform(Xtrain)\n",
    "                Xtesttouse = poly.fit_transform(Xtest)\n",
    "            else:\n",
    "                Xtraintouse, Xtesttouse = Xtrain, Xtest\n",
    "            (Xtraintouse, Xtesttouse) = scaleData(Xtraintouse, Xtesttouse)\n",
    "            #if predictionmethod==DecisionTreeClassifier:\n",
    "            #    predictor = predictionmethod(max_depth=6, min_samples_leaf=5)\n",
    "            #elif predictionmethod==KNeighborsClassifier:\n",
    "            #    predictor = predictionmethod(n_neighbors=14)\n",
    "            #else:\n",
    "            #    predictor = predictionmethod()\n",
    "            predictor = predictionmethod()\n",
    "            predictor.fit(Xtraintouse,ytrain)\n",
    "            predictionaccuracy = getPredictAccur(predictionmethod)\n",
    "            prediction = np.round(predictor.predict(Xtesttouse), decimals=0)*predictionaccuracy\n",
    "            ensemblepredictions.append(prediction)\n",
    "        masterprediction = np.round(np.dot(np.transpose(np.array(ensemblepredictions)), \n",
    "                                           np.full(len(modelstotryout), 1.0)) / totalvotes)\n",
    "        # ================================================\n",
    "        # ALTERNATIVE METHOD, USING A BAYES-LIKE PROBABILITY ESTIMATE FOR WHICH ANSWER IS RIGHT\n",
    "        #rounded = np.round(np.transpose(np.array(ensemblepredictions)))\n",
    "        #masterprediction = np.array([getConsensusResult(resultlist,probs) for resultlist in rounded])\n",
    "        # ================================================\n",
    "        score.append(np.mean(masterprediction==ytest))\n",
    "        \n",
    "(np.mean(score),np.std(score))"
   ]
  },
  {
   "cell_type": "markdown",
   "metadata": {},
   "source": [
    "### Feature selection functions"
   ]
  },
  {
   "cell_type": "code",
   "execution_count": 121,
   "metadata": {
    "collapsed": true
   },
   "outputs": [],
   "source": [
    "# With a given list frompredict, it will return the subset of the entries in frompredict that yield\n",
    "# the best prediction with the model predictionmethod.\n",
    "def bestFeatureSet(numericdataframe, topredict, frompredict, predictionmethod,\n",
    "                   dictofunknown={}, num_iterations=100, transform=\"none\"):\n",
    "    bestscore = 0\n",
    "    bestsubset = []\n",
    "    for ii in range(1,len(frompredict)):\n",
    "        allsubsets = findsubsets(frompredict,ii)\n",
    "        allsubsets = [list(subset) for subset in allsubsets]\n",
    "        for subset in allsubsets:\n",
    "            (X,y) = makeDataFromModels(numericdataframe, topredict, subset, dictofunknown)\n",
    "            score = getPredictionScore(X, y, predictionmethod, num_iterations=num_iterations, transform=transform)\n",
    "            if score[0]>bestscore:\n",
    "                bestscore = score[0]\n",
    "                bestsubset = subset\n",
    "    return bestsubset"
   ]
  },
  {
   "cell_type": "markdown",
   "metadata": {},
   "source": [
    "#### Helper functions"
   ]
  },
  {
   "cell_type": "code",
   "execution_count": null,
   "metadata": {
    "collapsed": true
   },
   "outputs": [],
   "source": [
    "def findsubsets(set,sizeofsubset):\n",
    "    return set(itertools.combinations(set, sizeofsubset))"
   ]
  },
  {
   "cell_type": "markdown",
   "metadata": {},
   "source": [
    "### Dimensional reduction functions"
   ]
  },
  {
   "cell_type": "code",
   "execution_count": null,
   "metadata": {
    "collapsed": true
   },
   "outputs": [],
   "source": [
    "def brewerColors(listlength=6):\n",
    "    return [\"#1f78b4\",\"#33a02c\", \"#e31a1c\", \"#ff7f00\", \"#6a3d9a\", \"#b15928\"][:min(12,listlength)]\n",
    "\n",
    "# LDA is supervised, PCA is not. LDA tries to separate the classes as much as possible from each other while doing dim red;\n",
    "# PCA tries to separate the data as much as possible from itself (no labels) when doing dim red.\n",
    "def dimensionalReductionLDA(X, y):\n",
    "    clf = LinearDiscriminantAnalysis(n_components=2)\n",
    "    clf.fit(X,y)\n",
    "    trans_X = clf.transform(X)\n",
    "    uniquevalues = list(set(y))\n",
    "    for ii in uniquevalues:\n",
    "        if trans_X.shape[1]==1:\n",
    "            xaxisnumbers = range(len(trans_X[y==ii]))\n",
    "            yaxisnumbers = trans_X[y==ii, 0]\n",
    "        else:\n",
    "            xaxisnumbers = trans_X[y==ii, 0]\n",
    "            yaxisnumbers = trans_X[y==ii, 1]\n",
    "        plt.scatter(xaxisnumbers, yaxisnumbers, alpha=0.3, color=brewerColors()[ii], label=ii)\n",
    "    plt.legend(loc='best', shadow=False, scatterpoints=1)"
   ]
  },
  {
   "cell_type": "code",
   "execution_count": null,
   "metadata": {
    "collapsed": true
   },
   "outputs": [],
   "source": []
  },
  {
   "cell_type": "code",
   "execution_count": null,
   "metadata": {
    "collapsed": true
   },
   "outputs": [],
   "source": []
  },
  {
   "cell_type": "code",
   "execution_count": null,
   "metadata": {
    "collapsed": true
   },
   "outputs": [],
   "source": []
  },
  {
   "cell_type": "markdown",
   "metadata": {},
   "source": [
    "REGRESSION MODELS:\n",
    " - when going from quant to quant\n",
    " - if descrete, just round the numbers\n",
    " - don't treat it like a classification: when evaluating errors I should not count number of cases I hit exactly right\n",
    " - I should try all versions of linear regressions, then nonlinear ones\n",
    " - think about resizing data? Maybe that's more useful for feature selection, where the normalized data forces parameters to all be \"worth\" equal and we can assess which parameters are more important.\n",
    "\n",
    "GETTING QUANT FROM QUANT: regression may be best. I sohuld also try the more advanced methods of SVM and random forests\n",
    "GETTING QUANT FROM CATEG/ORD: the more categories the better. Need to look into the classification algorithms, but it may be that I can guess the quantitiative value from the combination of categorical values. Maybe Random Forests can take in a combination of quant and categ\n",
    "GETTING CATEG FROM QUANT: logistic regression could work OK. Otherwise try the other classification algorithms\n",
    "GETTING CATEG FROM CATEG: again, random forests etc. could be a good tactics.\n"
   ]
  },
  {
   "cell_type": "markdown",
   "metadata": {},
   "source": [
    "##### Still to do:\n",
    " - Make a function that does clustering\n",
    " - Make a function that does feature engineering\n",
    " - Make plots to evaluate how well a certain prediction did (e.g. confusion matrices and ROC curves)\n",
    " - As helper-functions, might need to do bootstrapping functions etc., unless they're already in-built\n",
    " - Race models agains each other\n",
    " - Check what else we did during S2DS"
   ]
  },
  {
   "cell_type": "code",
   "execution_count": null,
   "metadata": {
    "collapsed": true
   },
   "outputs": [],
   "source": []
  }
 ],
 "metadata": {
  "anaconda-cloud": {},
  "kernelspec": {
   "display_name": "Python [Root]",
   "language": "python",
   "name": "Python [Root]"
  },
  "language_info": {
   "codemirror_mode": {
    "name": "ipython",
    "version": 2
   },
   "file_extension": ".py",
   "mimetype": "text/x-python",
   "name": "python",
   "nbconvert_exporter": "python",
   "pygments_lexer": "ipython2",
   "version": "2.7.12"
  }
 },
 "nbformat": 4,
 "nbformat_minor": 1
}
