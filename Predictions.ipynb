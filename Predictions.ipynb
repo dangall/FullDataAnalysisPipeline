{
 "cells": [
  {
   "cell_type": "markdown",
   "metadata": {},
   "source": [
    "## Load relevant packages"
   ]
  },
  {
   "cell_type": "code",
   "execution_count": 314,
   "metadata": {
    "collapsed": false
   },
   "outputs": [],
   "source": [
    "# Import all the required packages\n",
    "import pandas as pd\n",
    "import numpy as np\n",
    "from sklearn import linear_model\n",
    "from sklearn.cross_validation import KFold\n",
    "from sklearn.ensemble import RandomForestClassifier\n",
    "from sklearn.preprocessing import StandardScaler\n",
    "from sklearn.preprocessing import PolynomialFeatures\n",
    "from sklearn.discriminant_analysis import LinearDiscriminantAnalysis\n",
    "from sklearn.discriminant_analysis import QuadraticDiscriminantAnalysis\n",
    "from sklearn.kernel_ridge import KernelRidge\n",
    "from sklearn.svm import SVC\n",
    "from sklearn.neighbors import NearestNeighbors\n",
    "from sklearn.neighbors import KNeighborsClassifier\n",
    "from sklearn.neighbors import RadiusNeighborsClassifier\n",
    "import matplotlib.pyplot as plt\n",
    "import matplotlib.patches as patches\n",
    "import time\n",
    "import itertools\n",
    "from copy import deepcopy\n",
    "import re\n",
    "%matplotlib inline"
   ]
  },
  {
   "cell_type": "markdown",
   "metadata": {},
   "source": [
    "## Load relevant data files"
   ]
  },
  {
   "cell_type": "code",
   "execution_count": 2,
   "metadata": {
    "collapsed": true
   },
   "outputs": [],
   "source": [
    "#================================================================================================\n",
    "# USER INPUT!\n",
    "# Here I specify which data files need reading in\n",
    "datafilenames = [\"natinalitycleantrain.csv\"]\n",
    "# For each data file, we write which column contains the information we want to predict\n",
    "topredictcolumn= [\"Survived\"]\n",
    "#================================================================================================\n",
    "\n",
    "# FROM HERE ON IT'S AUTOMATIC\n",
    "\n",
    "# Sometiems the index column gets saved automatically as a new column when writingto csv. \n",
    "# We'll remove these as they serve no purpose.\n",
    "alldataframes = [pd.read_csv(filename) for filename in datafilenames]\n",
    "\n",
    "for (pos,frame) in enumerate(alldataframes):\n",
    "    toadd = frame\n",
    "    if \"Unnamed: 0\" in frame:\n",
    "        toadd = toadd.drop(\"Unnamed: 0\",axis=1)\n",
    "    if \"Unnamed: 0.1\" in frame:\n",
    "        toadd = toadd.drop(\"Unnamed: 0.1\",axis=1)\n",
    "    alldataframes[pos] = toadd"
   ]
  },
  {
   "cell_type": "code",
   "execution_count": null,
   "metadata": {
    "collapsed": true
   },
   "outputs": [],
   "source": []
  },
  {
   "cell_type": "code",
   "execution_count": null,
   "metadata": {
    "collapsed": true
   },
   "outputs": [],
   "source": []
  },
  {
   "cell_type": "markdown",
   "metadata": {},
   "source": [
    "# Temporary work"
   ]
  },
  {
   "cell_type": "markdown",
   "metadata": {},
   "source": [
    "This particular problem is a classification problem; we are not trying to obtain the value of some parameter, e.g. how much a customer will spend in the future.\n",
    "\n",
    "However, it might still be useful to try and predict such parameters, e.g. the age of passengers. This might improve survival predictions, but regarless it is a good exercise to do."
   ]
  },
  {
   "cell_type": "code",
   "execution_count": 3,
   "metadata": {
    "collapsed": true
   },
   "outputs": [],
   "source": [
    "thedataframe = deepcopy(alldataframes[0])\n",
    "datacateg = {'Survived': \"QA\", 'Pclass': \"O\", 'Name': \"C\", 'Sex': \"C\",\n",
    "             'Age': \"QA\", 'SibSp': \"QA\", 'Parch': \"QA\", 'Ticket': \"C\", \n",
    "             'Fare': \"QA\", 'Cabin': \"C\", 'Embarked': \"C\", 'Nationality': \"C\"}\n",
    "uselesscols = [\"Name\", \"Ticket\"]\n",
    "dictofunknown = {\"Survived\": -1, \"Pclass\": -1,\"Name\": \"Unknown name\", \"Sex\": \"Unspecified\", \n",
    "                 \"Ticket\": \"XXXXXX\", \"Cabin\": \"X\", \"Embarked\": \"X\", \n",
    "                 \"Age\": alldataframes[0][\"Age\"][abs(alldataframes[0][\"Age\"] - alldataframes[0][\"Age\"].mean()) < 0.2].unique()[0], \n",
    "                 \"Nationality\": \"Unknown\"}\n",
    "orderings = [\n",
    "    {\"Pclass\": [1,2,3]} #NB only need to include columns that are not numeric!\n",
    "]\n",
    "dictofordinals = {\"Pclass\": [1,2,3]}"
   ]
  },
  {
   "cell_type": "markdown",
   "metadata": {},
   "source": [
    "## Regression\n",
    "### Functions for making predictions based on given model"
   ]
  },
  {
   "cell_type": "code",
   "execution_count": 242,
   "metadata": {
    "collapsed": false
   },
   "outputs": [],
   "source": [
    "# Returns the intercept, parameters, Rscore (where 1.0 is perfect prediction, and percentage of cases\n",
    "# correctly predicted. The final two are given as tuple (score, errorbarsonscore). X is the data we use \n",
    "# to predict y; predictionmethod is the name of our model, e.g. linear_model.LinearRegression; rounddecimals\n",
    "# equals the number of decimals allowed for our prediction, e.g. when predicting integers rounddecimals=0; \n",
    "# num_iterations is the number of times we run the function to obtain the parameters, and kwargs are any \n",
    "# additional optional parameters we want to pass on to predictionmethod.\n",
    "def getParametersAndPredictionScore(inputX, inputy, predictionmethod, rounddecimals=\"none\", num_iterations=1, \n",
    "                                    classifier=False, transform=\"none\",**kwargs):\n",
    "    (X, y) = (inputX, inputy)\n",
    "    if transform!=\"none\":\n",
    "        (X, y) = (transformData(inputX, transform=transform), transformData(inputy, transform=transform))\n",
    "    if classifier==True:\n",
    "        predictedpercent = []\n",
    "    parameters = []\n",
    "    intercept = []\n",
    "    score = []\n",
    "    for iter in range(num_iterations):\n",
    "        kfoldindices = KFold(len(y),n_folds=5,shuffle=True)\n",
    "        for trainindex, testindex in kfoldindices:\n",
    "            Xtrain, Xtest = X[trainindex], X[testindex]\n",
    "            if transform==\"scale\":\n",
    "                (Xtrain, Xtest) = scaleData(Xtrain, Xtest)\n",
    "            ytrain, ytest = y[trainindex], y[testindex]\n",
    "            predictor = predictionmethod(**kwargs)\n",
    "            predictor.fit(Xtrain,ytrain)\n",
    "            predictedy = predictor.predict(Xtest)\n",
    "            if rounddecimals!=\"none\":\n",
    "                predictedy = np.round(predictedy, decimals=rounddecimals)\n",
    "            if classifier==True:\n",
    "                predictedpercent.append((predictedy==ytest).mean())\n",
    "            parameters.append(predictor.coef_)\n",
    "            intercept.append(predictor.intercept_)\n",
    "            score.append(predictor.score(Xtest,ytest))\n",
    "    score = (np.mean(score),np.std(score))\n",
    "    parameters = np.mean(parameters, axis=0)\n",
    "    intercept = np.mean(intercept)\n",
    "    if classifier==True:\n",
    "        predictedpercent = (np.mean(predictedpercent), np.std(predictedpercent))\n",
    "        toreturn = (intercept, parameters, score, predictedpercent)\n",
    "    else:\n",
    "        toreturn = (intercept, parameters, score)\n",
    "    return toreturn\n",
    "\n",
    "def getPredictionPercentage(inputX, inputy, predictionmethod, rounddecimals=\"none\", num_iterations=1, \n",
    "                                    classifier=False, transform=\"none\",**kwargs):\n",
    "    (X, y) = (inputX, inputy)\n",
    "    if transform!=\"none\":\n",
    "        (X, y) = (transformData(inputX, transform=transform), transformData(inputy, transform=transform))\n",
    "    if classifier==True:\n",
    "        predictedpercent = []\n",
    "    score = []\n",
    "    for iter in range(num_iterations):\n",
    "        kfoldindices = KFold(len(y),n_folds=5,shuffle=True)\n",
    "        for trainindex, testindex in kfoldindices:\n",
    "            Xtrain, Xtest = X[trainindex], X[testindex]\n",
    "            if transform==\"scale\":\n",
    "                (Xtrain, Xtest) = scaleData(Xtrain, Xtest)\n",
    "            ytrain, ytest = y[trainindex], y[testindex]\n",
    "            predictor = predictionmethod(**kwargs)\n",
    "            predictor.fit(Xtrain,ytrain)\n",
    "            predictedy = predictor.predict(Xtest)\n",
    "            if rounddecimals!=\"none\":\n",
    "                predictedy = np.round(predictedy, decimals=rounddecimals)\n",
    "            if classifier==True:\n",
    "                predictedpercent.append((predictedy==ytest).mean())\n",
    "            score.append(predictor.score(Xtest,ytest))\n",
    "    score = (np.mean(score),np.std(score))\n",
    "    if classifier==True:\n",
    "        predictedpercent = (np.mean(predictedpercent), np.std(predictedpercent))\n",
    "        toreturn = (score, predictedpercent)\n",
    "    else:\n",
    "        toreturn = (score)\n",
    "    return toreturn\n",
    "\n",
    "# Returns the prediction accuracy (+/- errorbars on the accuracy) when classifying \"at random\", i.e. \n",
    "# by always predicting the same thing for all the elements. We try by predicting the mean, or the \n",
    "# median, or the most frequently occurring element\n",
    "def randomPrediction(y, rounddecimals=\"none\", num_iterations=1):\n",
    "    meanscore = []\n",
    "    medianscore = []\n",
    "    mostfrequentscore = []\n",
    "    for iter in range(num_iterations):\n",
    "        kfoldindices = KFold(len(y),n_folds=5,shuffle=True)\n",
    "        for trainindex, testindex in kfoldindices:\n",
    "            ytrain, ytest = y[trainindex], y[testindex]\n",
    "            mean = np.mean(ytrain)\n",
    "            median = np.median(ytrain)\n",
    "            mostfrequent = max(set(list(y)), key=list(ytrain).count)\n",
    "            if rounddecimals!=\"none\":\n",
    "                mean = np.round(mean, decimals=rounddecimals)\n",
    "            meanscore.append((ytest==mean).mean())\n",
    "            medianscore.append((ytest==median).mean())\n",
    "            mostfrequentscore.append((ytest==mostfrequent).mean())\n",
    "    meanscore = (np.mean(meanscore), np.std(meanscore))\n",
    "    medianscore = (np.mean(medianscore), np.std(medianscore))\n",
    "    mostfrequentscore = (np.mean(mostfrequentscore), np.std(mostfrequentscore))\n",
    "    allscores = [meanscore[0], medianscore[0], mostfrequentscore[0]]\n",
    "    return [meanscore, medianscore, mostfrequentscore][allscores.index(max(allscores))]"
   ]
  },
  {
   "cell_type": "markdown",
   "metadata": {},
   "source": [
    "#### Helper functions"
   ]
  },
  {
   "cell_type": "code",
   "execution_count": 5,
   "metadata": {
    "collapsed": false
   },
   "outputs": [],
   "source": [
    "def transformData(inputdata, transform=\"log\"):\n",
    "    outputdata = deepcopy(inputdata)\n",
    "    if transform==\"sqrt\":\n",
    "        outputdata[outputdata>0] = np.sqrt(outputdata[outputdata>0])\n",
    "        outputdata[outputdata<0] = -np.sqrt(-outputdata[outputdata<0])\n",
    "    if transform==\"log\":\n",
    "        outputdata[outputdata>1] = np.log(outputdata[outputdata>1])+1\n",
    "        outputdata[outputdata<-1] = -np.log(-outputdata[outputdata<-1])-1\n",
    "    return outputdata\n",
    "\n",
    "def inverseTransformData(inputdata, transform=\"log\"):\n",
    "    outputdata = deepcopy(inputdata)\n",
    "    if transform==\"sqrt\":\n",
    "        outputdata[outputdata>0] = outputdata[outputdata>0]**2\n",
    "        outputdata[outputdata<0] = -((-outputdata[outputdata<0])**2)\n",
    "    if transform==\"log\":\n",
    "        outputdata[outputdata>1] = np.e**(outputdata[outputdata>1]-1)\n",
    "        outputdata[outputdata<-1] = -(np.e**(-outputdata[outputdata<-1] -1))\n",
    "    return outputdata\n",
    "\n",
    "def scaleData(X_train, X_test):\n",
    "    scaler = StandardScaler()\n",
    "    scaler.fit(X_train)  # Need to fit only on training data, not evaluation data!\n",
    "    scaledX_train = scaler.transform(X_train)\n",
    "    scaledX_test = scaler.transform(X_test)  # we apply same transformation to test data\n",
    "    return (scaledX_train, scaledX_test)\n",
    "\n",
    "#This function removes those rows in \"inputdataframe\" where data was generated automatially \n",
    "# in the column \"columnofinterest\". \"dictofunknown\" contains the information on what data was\n",
    "# generated automatically.\n",
    "def removeAutogeneratedData(inputdataframe, columnsofinterest, dictofunknown):\n",
    "    if type(columnsofinterest)==str:\n",
    "        allcolumnsofinterest = [columnsofinterest]\n",
    "    else:\n",
    "        allcolumnsofinterest = columnsofinterest\n",
    "    outputdataframe = deepcopy(inputdataframe)\n",
    "    for col in allcolumnsofinterest:\n",
    "        if col in dictofunknown:\n",
    "            outputdataframe = outputdataframe[outputdataframe[col]!= dictofunknown[col]]\n",
    "    return outputdataframe\n",
    "\n",
    "# Helper function that takes a model, e.g. linear_model.LinearRegression,\n",
    "# and returns the name of that model, e.g. \"LinearRegression\"\n",
    "def getModelName(currentmodel):\n",
    "    modelname = str(currentmodel)\n",
    "    modelname = modelname[modelname.rfind(\".\")+1:]\n",
    "    extracharacters = re.search(\"[^a-zA-z]\",modelname)\n",
    "    if type(extracharacters)!=type(None):\n",
    "        modelname = modelname[:extracharacters.start()]\n",
    "    return modelname\n",
    "\n",
    "# Returns the same dataframe but where the ordinal data has been replaced with numbers, and hence can\n",
    "# be ordered correctly. When plotting it will be necessary to replace the numbers back to their\n",
    "# original categorical labels.\n",
    "def orderOrdinalData(thedataframe, dictofordinals):\n",
    "    orderedordinalsframe = deepcopy(thedataframe)\n",
    "    # We need to turn the dictionary dictofordinals into a form good for using pandas .replace(dict)\n",
    "    neworderings = deepcopy(dictofordinals)\n",
    "    for key in neworderings:\n",
    "        # Pandas complains if we have intersections between the keys and the values\n",
    "        intersectionlength = len(set(neworderings[key]).intersection(set(range(1,len(neworderings[key])+1))))\n",
    "        if intersectionlength==0:\n",
    "            # We can just replace the entries with 0,1,2,...,num_categories-1\n",
    "            neworderings[key] = dict([(el,ii+1) for ii,el in enumerate(neworderings[key])])\n",
    "        else:\n",
    "            # We replace with '0',1','2',.... instead. We will later turn the strings into ints.\n",
    "            neworderings[key] = dict([(el,str(ii+1)) for ii,el in enumerate(neworderings[key])])\n",
    "    # Now we'll replace the ordinal columns in the dataframes with numeric labels\n",
    "    if dictofordinals!={}:\n",
    "        orderedordinalsframe.replace(neworderings, inplace=True)\n",
    "        for key in neworderings.keys():\n",
    "            orderedordinalsframe.loc[:,key] = pd.to_numeric(orderedordinalsframe[key])\n",
    "    return (orderedordinalsframe, neworderings)\n",
    "\n",
    "def makeAllColumnsNumeric(thedataframe, dictofordinals, datacateg):\n",
    "    ordereddataframe = orderOrdinalData(thedataframe, dictofordinals)[0]\n",
    "    replacementdict = {}\n",
    "    for col in ordereddataframe:\n",
    "        if datacateg[col]==\"C\":\n",
    "            allcategories = sorted(ordereddataframe[col].unique())\n",
    "            replacementdict[col] = dict([(cat,ii) for ii, cat in enumerate(allcategories)])\n",
    "    ordereddataframe.replace(replacementdict, inplace=True)\n",
    "    return (ordereddataframe, replacementdict)"
   ]
  },
  {
   "cell_type": "markdown",
   "metadata": {},
   "source": [
    "### Implement all linear regressions"
   ]
  },
  {
   "cell_type": "code",
   "execution_count": 6,
   "metadata": {
    "collapsed": false
   },
   "outputs": [],
   "source": [
    "def tryAllLinearRegressions(thedataframe, topredict, frompredict, dictofunknown={}, num_iterations=100, \n",
    "                            rounddecimals=\"none\", printout=False, classifier=False, transform=\"none\"):\n",
    "    # We begin by making the input data from thedataframe\n",
    "    (X,y) = makeDataFromModels(thedataframe, topredict, frompredict, dictofunknown)\n",
    "    \n",
    "    modelstotryout = [linear_model.LinearRegression, linear_model.RidgeCV, linear_model.LassoCV, \n",
    "                      linear_model.BayesianRidge, linear_model.SGDRegressor]\n",
    "    \n",
    "    if classifier==True:\n",
    "        randomprediction = randomPrediction(y, rounddecimals=rounddecimals, num_iterations=num_iterations)\n",
    "    modelandresults = {}\n",
    "    for model in modelstotryout:\n",
    "        modelname = getModelName(model)\n",
    "        if printout==True:\n",
    "            print modelname\n",
    "        transformtouse = transform\n",
    "        if model==linear_model.SGDRegressor:\n",
    "            transformtouse = \"scale\"\n",
    "        if \"n_alphas\" in model().get_params():\n",
    "            modeldata = getParametersAndPredictionScore(X, y, model, rounddecimals=rounddecimals, \n",
    "                                                        num_iterations=num_iterations, n_alphas=3,\n",
    "                                                        classifier=classifier, transform=transformtouse)\n",
    "        else:\n",
    "            modeldata = getParametersAndPredictionScore(X, y, model, rounddecimals=rounddecimals, \n",
    "                                                        num_iterations=num_iterations, classifier=classifier,\n",
    "                                                        transform=transformtouse)\n",
    "        modelandresults[modelname] = modeldata\n",
    "        if printout==True:\n",
    "            print u\"\\tThe score on the fit is %f \\u00B1 %f (1.0 is perfect)\" %modeldata[2]\n",
    "            if classifier==True:\n",
    "                print u\"\\tThe percentage of correct identifications is: %f \\u00B1 %f\" %modeldata[-1]\n",
    "                print u\"\\t         Benchmark from random prediction is: %f \\u00B1 %f\" %randomprediction\n",
    "    return modelandresults\n",
    "\n",
    "# Makes a scatterplot of the error in prediction, versus the predicted value, to see if there\n",
    "# is any heteroscedasticity, i.e. to see if the error bars of our prediction depend on the value\n",
    "# of the prediction. Returns the R^2 value of the prediction.\n",
    "def plotErrors(thedataframe, topredict, frompredict, chosenmodel, dictofregressions, \n",
    "               rounddecimals=\"none\", minvalue=\"none\", maxvalue=\"none\", ax=\"none\", dictofunknown={}, \n",
    "               alpha=0.3, transform=\"none\"):\n",
    "    (X,y) = makeDataFromModels(thedataframe, topredict, frompredict, dictofunknown)\n",
    "    if transform!=\"none\":\n",
    "        X = transformData(X, transform=transform)\n",
    "    coefficients = dictofregressions[chosenmodel][1]\n",
    "    intercept = dictofregressions[chosenmodel][0]\n",
    "    prediction = np.dot(X,coefficients) + intercept\n",
    "    if transform!=\"none\":\n",
    "        prediction = inverseTransformData(prediction, transform=transform)\n",
    "    if rounddecimals!=\"none\":\n",
    "        prediction = np.round(prediction, decimals=rounddecimals)\n",
    "    if minvalue!=\"none\":\n",
    "        prediction[prediction < minvalue] = minvalue\n",
    "    if maxvalue!=\"none\":\n",
    "        prediction[prediction > maxvalue] = maxvalue\n",
    "    if ax==\"none\":\n",
    "        plt.scatter(prediction, prediction - y, alpha=alpha)\n",
    "        plt.xlabel(\"Predicted \" + topredict)\n",
    "        plt.ylabel(\"Error in prediction\")\n",
    "        plt.show()\n",
    "    else:\n",
    "        ax.scatter(prediction, prediction - y, alpha=alpha)\n",
    "        ax.set_xlabel(\"Predicted \" + topredict)\n",
    "        ax.set_ylabel(\"Error in prediction\")\n",
    "    print \"Mean: %f\" %np.mean(prediction - y)\n",
    "    print \"Std: %f\" %np.std(prediction - y)\n",
    "    print \"R^2: %f\" %(np.var(prediction) / np.var(y))"
   ]
  },
  {
   "cell_type": "markdown",
   "metadata": {},
   "source": [
    "#### Helper functions"
   ]
  },
  {
   "cell_type": "code",
   "execution_count": 7,
   "metadata": {
    "collapsed": true
   },
   "outputs": [],
   "source": [
    "def makeDataFromModels(thedataframe, topredict, frompredict, dictofunknown):\n",
    "    tousedataframe = removeAutogeneratedData(thedataframe, frompredict + [topredict], dictofunknown)\n",
    "    X = tousedataframe[frompredict].as_matrix()\n",
    "    y = tousedataframe[topredict].as_matrix()\n",
    "    return (X,y)"
   ]
  },
  {
   "cell_type": "markdown",
   "metadata": {},
   "source": [
    "### Functions for using regressions to fill in unknown data"
   ]
  },
  {
   "cell_type": "code",
   "execution_count": 8,
   "metadata": {
    "collapsed": false
   },
   "outputs": [],
   "source": [
    "# Makes a dataframe where the values of topredict have been predicted using frompredict, with the regression \n",
    "# model called chosenmodel (a string). For this we need to have found all regressions, placed in the variable\n",
    "# dictofregressions.\n",
    "def incorporateRegressionPrediction(inputdataframe, topredict, frompredict, chosenmodel, dictofregressions,\n",
    "                                    rounddecimals=\"none\", minvalue=\"none\", maxvalue=\"none\", transform=\"none\"):\n",
    "    thedataframe = deepcopy(inputdataframe)\n",
    "    if topredict in dictofunknown:\n",
    "        topredictframe = thedataframe[thedataframe[topredict]==dictofunknown[topredict]]\n",
    "    else:\n",
    "        topredictframe = thedataframe[thedataframe[topredict].isnull()]\n",
    "    ind = topredictframe.index\n",
    "    dataX = topredictframe[frompredict].as_matrix()\n",
    "    if transform!=\"none\":\n",
    "        dataX = transformData(dataX, transform=transform)\n",
    "    if len(dataX) > 0:\n",
    "        coefficients = dictofregressions[chosenmodel][1]\n",
    "        intercept = dictofregressions[chosenmodel][0]\n",
    "        prediction = np.dot(dataX,coefficients) + intercept\n",
    "        if transform!=\"none\":\n",
    "            prediction = inverseTransformData(prediction, transform=transform)\n",
    "        if rounddecimals!=\"none\":\n",
    "            prediction = np.round(prediction, decimals=rounddecimals)\n",
    "        if minvalue!=\"none\":\n",
    "            prediction[prediction < minvalue] = minvalue\n",
    "        if maxvalue!=\"none\":\n",
    "            prediction[prediction > maxvalue] = maxvalue\n",
    "        thedataframe.loc[ind, topredict] = prediction\n",
    "    return thedataframe"
   ]
  },
  {
   "cell_type": "markdown",
   "metadata": {},
   "source": [
    "### Use linear regression for missing data\n",
    "\n",
    "After having tried various options, it seems like using transform=\"log\" we're able to avoid most of the heteroscedasticity we otherwise get with a straightforward linear regression."
   ]
  },
  {
   "cell_type": "code",
   "execution_count": 9,
   "metadata": {
    "collapsed": false
   },
   "outputs": [
    {
     "name": "stdout",
     "output_type": "stream",
     "text": [
      "LinearRegression\n",
      "\tThe score on the fit is 0.226326 ± 0.083423 (1.0 is perfect)\n",
      "RidgeCV\n",
      "\tThe score on the fit is 0.230231 ± 0.070082 (1.0 is perfect)\n",
      "LassoCV\n",
      "\tThe score on the fit is 0.234206 ± 0.073027 (1.0 is perfect)\n",
      "BayesianRidge\n",
      "\tThe score on the fit is 0.228508 ± 0.068926 (1.0 is perfect)\n",
      "SGDRegressor\n",
      "\tThe score on the fit is 0.210570 ± 0.063977 (1.0 is perfect)\n"
     ]
    }
   ],
   "source": [
    "numericdataframe = makeAllColumnsNumeric(thedataframe, dictofordinals, datacateg)[0]\n",
    "topredict = \"Age\"\n",
    "frompredict = ['Pclass', 'Sex', 'SibSp', 'Parch', \"Fare\", \"Cabin\", 'Embarked']\n",
    "tousedataframe = deepcopy(numericdataframe)\n",
    "transform = \"log\"\n",
    "\n",
    "linearregressions = tryAllLinearRegressions(tousedataframe, topredict, frompredict,\n",
    "                                            dictofunknown={'Age': 29.6991176471}, printout=True, num_iterations=100, \n",
    "                                            rounddecimals=\"none\", classifier=False, transform=transform)"
   ]
  },
  {
   "cell_type": "markdown",
   "metadata": {},
   "source": [
    "### Check heteroscedasticity of fit"
   ]
  },
  {
   "cell_type": "code",
   "execution_count": 10,
   "metadata": {
    "collapsed": false
   },
   "outputs": [
    {
     "data": {
      "image/png": "[encoded data removed]",
      "text/plain": [
       "<matplotlib.figure.Figure at 0xb7b4e80>"
      ]
     },
     "metadata": {},
     "output_type": "display_data"
    },
    {
     "name": "stdout",
     "output_type": "stream",
     "text": [
      "Mean: -3.664750\n",
      "Std: 12.411412\n",
      "R^2: 0.493034\n"
     ]
    }
   ],
   "source": [
    "chosenmodel = \"LinearRegression\"\n",
    "dictofregressions = linearregressions\n",
    "rounddecimals=0\n",
    "minvalue=0\n",
    "maxvalue=100\n",
    "\n",
    "plotErrors(tousedataframe, topredict, frompredict, chosenmodel, dictofregressions,\n",
    "           rounddecimals=rounddecimals, minvalue=minvalue, maxvalue=maxvalue, ax=\"none\", transform=transform)"
   ]
  },
  {
   "cell_type": "markdown",
   "metadata": {},
   "source": [
    "### Make new datafram with predicted values"
   ]
  },
  {
   "cell_type": "code",
   "execution_count": 11,
   "metadata": {
    "collapsed": false
   },
   "outputs": [],
   "source": [
    "newdataframe = incorporateRegressionPrediction(tousedataframe, topredict, frompredict, chosenmodel, dictofregressions,\n",
    "                                               rounddecimals=rounddecimals, minvalue=minvalue, maxvalue=maxvalue, \n",
    "                                               transform=transform)"
   ]
  },
  {
   "cell_type": "markdown",
   "metadata": {},
   "source": [
    "## Classification\n",
    "### Generic functions for making predictions and checking their accuracy"
   ]
  },
  {
   "cell_type": "code",
   "execution_count": 12,
   "metadata": {
    "collapsed": true
   },
   "outputs": [],
   "source": [
    "def getPrediction(trainX, trainy, dataX, predictionmethod, transform=\"none\",**kwargs):\n",
    "    (Xtraining, ytraining) = (trainX, trainy)\n",
    "    X = dataX\n",
    "    if transform!=\"none\":\n",
    "        Xtraining = transformData(trainX, transform=transform)\n",
    "        X = transformData(dataX, transform=transform)\n",
    "    if transform==\"scale\":\n",
    "        (Xtraining, X) = scaleData(Xtraining, X)\n",
    "    predictor = predictionmethod(**kwargs)\n",
    "    predictor.fit(Xtraining,ytraining)\n",
    "    predictedy = predictor.predict(X)\n",
    "    return predictedy\n",
    "\n",
    "def getPredictionProba(trainX, trainy, dataX, predictionmethod, transform=\"none\",**kwargs):\n",
    "    (Xtraining, ytraining) = (trainX, trainy)\n",
    "    X = dataX\n",
    "    if transform!=\"none\":\n",
    "        Xtraining = transformData(trainX, transform=transform)\n",
    "        X = transformData(dataX, transform=transform)\n",
    "    if transform==\"scale\":\n",
    "        (Xtraining, X) = scaleData(Xtraining, X)\n",
    "    predictor = predictionmethod(**kwargs)\n",
    "    predictor.fit(Xtraining,ytraining)\n",
    "    predictedy = predictor.predict_proba(X)\n",
    "    return predictedy\n",
    "\n",
    "def getPredictionScore(inputX, inputy, predictionmethod, num_iterations=1, transform=\"none\",**kwargs):\n",
    "    (X, y) = (inputX, inputy)\n",
    "    if transform!=\"none\":\n",
    "        X = transformData(inputX, transform=transform)\n",
    "    score = []\n",
    "    for iter in range(num_iterations):\n",
    "        kfoldindices = KFold(len(y),n_folds=5,shuffle=True)\n",
    "        for trainindex, testindex in kfoldindices:\n",
    "            Xtrain, Xtest = X[trainindex], X[testindex]\n",
    "            if transform==\"scale\":\n",
    "                (Xtrain, Xtest) = scaleData(Xtrain, Xtest)\n",
    "            ytrain, ytest = y[trainindex], y[testindex]\n",
    "            predictor = predictionmethod(**kwargs)\n",
    "            predictor.fit(Xtrain,ytrain)\n",
    "            score.append(predictor.score(Xtest,ytest))\n",
    "    score = (np.mean(score),np.std(score))\n",
    "    return score"
   ]
  },
  {
   "cell_type": "markdown",
   "metadata": {},
   "source": [
    "### Functions for making classification through regression"
   ]
  },
  {
   "cell_type": "code",
   "execution_count": 298,
   "metadata": {
    "collapsed": false
   },
   "outputs": [],
   "source": [
    "def tryAllLinRegClassifiers(thedataframe, topredict, frompredict, dictofunknown={}, num_iterations=30, \n",
    "                            rounddecimals=0, printout=True, transform=\"scale\", polynomialdegrees=[1]):\n",
    "    linregs = tryPolynomialRegressions(thedataframe, topredict, frompredict, polynomialdegrees,\n",
    "                                       dictofunknown=dictofunknown, num_iterations=num_iterations,\n",
    "                                       rounddecimals=rounddecimals, printout=printout, classifier=True, transform=transform)\n",
    "    otherregs = tryOtherRegressions(thedataframe, topredict, frompredict,\n",
    "                                    dictofunknown=dictofunknown, num_iterations=num_iterations,\n",
    "                                    rounddecimals=rounddecimals, printout=printout, classifier=True, transform=\"none\")\n",
    "    linregs.update(otherregs)\n",
    "    regclassifiers = tryAllRegressionClassifiers(thedataframe, topredict, frompredict, polynomialdegrees, \n",
    "                                                 dictofunknown=dictofunknown, num_iterations=num_iterations, \n",
    "                                                 printout=printout, transform=transform)\n",
    "    linregs.update(regclassifiers)\n",
    "    otherclass = tryOtherClassifiers(thedataframe, topredict, frompredict, dictofunknown=dictofunknown, \n",
    "                                     num_iterations=num_iterations, printout=printout, transform=transform)\n",
    "    linregs.update(otherclass)\n",
    "    return linregs"
   ]
  },
  {
   "cell_type": "markdown",
   "metadata": {},
   "source": [
    "#### Helper functions"
   ]
  },
  {
   "cell_type": "code",
   "execution_count": 304,
   "metadata": {
    "collapsed": true
   },
   "outputs": [],
   "source": [
    "def tryAllRegressionClassifiers(thedataframe, topredict, frompredict, polynomialdegrees, dictofunknown={}, num_iterations=100, \n",
    "                            printout=False, transform=\"none\"):\n",
    "    # We begin by making the input data from thedataframe\n",
    "    (X,y) = makeDataFromModels(thedataframe, topredict, frompredict, dictofunknown)\n",
    "    \n",
    "    modelstotryout = [linear_model.LogisticRegression, linear_model.LogisticRegressionCV, linear_model.SGDClassifier,\n",
    "                      linear_model.Perceptron]\n",
    "    \n",
    "    if type(polynomialdegrees)==int:\n",
    "        alldegrees = [polynomialdegrees]\n",
    "    else:\n",
    "        alldegrees = polynomialdegrees\n",
    "    \n",
    "    randomprediction = randomPrediction(y, num_iterations=num_iterations)\n",
    "    \n",
    "    modelandresults = {}\n",
    "    for model in modelstotryout:\n",
    "        modelname = getModelName(model)\n",
    "        if printout==True:\n",
    "            print modelname\n",
    "        transformtouse = transform\n",
    "        if model==linear_model.SGDClassifier or model==linear_model.Perceptron:\n",
    "            transformtouse = \"scale\"\n",
    "        for polydegree in alldegrees:\n",
    "            poly = PolynomialFeatures(degree=polydegree)\n",
    "            polyX = poly.fit_transform(X)\n",
    "            if printout==True:\n",
    "                print \"\\tPolynomial of degree \" + str(polydegree)\n",
    "            if \"n_alphas\" in model().get_params():\n",
    "                modelscore = getPredictionScore(polyX, y, model, num_iterations=num_iterations, n_alphas=3, \n",
    "                                                transform=transformtouse)\n",
    "            else:\n",
    "                modelscore = getPredictionScore(polyX, y, model, num_iterations=num_iterations, transform=transformtouse)\n",
    "            modelandresults[modelname] = modelscore\n",
    "            if printout==True:\n",
    "                print u\"\\t\\tThe percentage of correct identifications is: %f \\u00B1 %f\" %modelscore\n",
    "                print u\"\\t\\t         Benchmark from random prediction is: %f \\u00B1 %f\" %randomprediction\n",
    "    return modelandresults\n",
    "\n",
    "def tryPolynomialRegressions(thedataframe, topredict, frompredict, polynomialdegrees, dictofunknown={}, num_iterations=100, \n",
    "                             rounddecimals=\"none\", printout=False, classifier=False, transform=\"none\"):\n",
    "    # We begin by making the input data from thedataframe\n",
    "    (X,y) = makeDataFromModels(thedataframe, topredict, frompredict, dictofunknown)\n",
    "    \n",
    "    modelstotryout = [linear_model.LinearRegression, linear_model.RidgeCV, linear_model.LassoCV, \n",
    "                      linear_model.BayesianRidge, linear_model.SGDRegressor]\n",
    "    \n",
    "    if type(polynomialdegrees)==int:\n",
    "        alldegrees = [polynomialdegrees]\n",
    "    else:\n",
    "        alldegrees = polynomialdegrees\n",
    "    \n",
    "    if classifier==True:\n",
    "        randomprediction = randomPrediction(y, rounddecimals=rounddecimals, num_iterations=num_iterations)\n",
    "    modelandresults = {}\n",
    "    for model in modelstotryout:\n",
    "        modelname = getModelName(model)\n",
    "        if printout==True:\n",
    "            print modelname\n",
    "        transformtouse = transform\n",
    "        if model==linear_model.SGDRegressor or model==linear_model.Perceptron:\n",
    "            transformtouse = \"scale\"\n",
    "        for polydegree in alldegrees:\n",
    "            poly = PolynomialFeatures(degree=polydegree)\n",
    "            polyX = poly.fit_transform(X)\n",
    "            if printout==True:\n",
    "                print \"\\tPolynomial of degree \" + str(polydegree)\n",
    "            if \"n_alphas\" in model().get_params():\n",
    "                modeldata = getParametersAndPredictionScore(polyX, y, model, rounddecimals=rounddecimals, \n",
    "                                                            num_iterations=num_iterations, n_alphas=3,\n",
    "                                                            classifier=classifier, transform=transformtouse)\n",
    "            else:\n",
    "                modeldata = getParametersAndPredictionScore(polyX, y, model, rounddecimals=rounddecimals, \n",
    "                                                            num_iterations=num_iterations, classifier=classifier,\n",
    "                                                            transform=transformtouse)\n",
    "            modelandresults[(modelname,polydegree)] = modeldata\n",
    "            if printout==True:\n",
    "                print u\"\\t\\tThe score on the fit is %f \\u00B1 %f (1.0 is perfect)\" %modeldata[2]\n",
    "                if classifier==True:\n",
    "                    print u\"\\t\\tThe percentage of correct identifications is: %f \\u00B1 %f\" %modeldata[-1]\n",
    "                    print u\"\\t\\t         Benchmark from random prediction is: %f \\u00B1 %f\" %randomprediction\n",
    "    return modelandresults\n",
    "\n",
    "def tryOtherRegressions(thedataframe, topredict, frompredict, dictofunknown={}, num_iterations=100, \n",
    "                        rounddecimals=\"none\", printout=False, classifier=False, transform=\"none\"):\n",
    "    # We begin by making the input data from thedataframe\n",
    "    (X,y) = makeDataFromModels(thedataframe, topredict, frompredict, dictofunknown)\n",
    "    \n",
    "    modelstotryout = [KernelRidge]\n",
    "       \n",
    "    if classifier==True:\n",
    "        randomprediction = randomPrediction(y, rounddecimals=rounddecimals, num_iterations=num_iterations)\n",
    "    modelandresults = {}\n",
    "    for model in modelstotryout:\n",
    "        modelname = getModelName(model)\n",
    "        if printout==True:\n",
    "            print modelname\n",
    "        transformtouse = transform\n",
    "        if model==linear_model.SGDRegressor or model==linear_model.Perceptron:\n",
    "            transformtouse = \"scale\"\n",
    "        if \"n_alphas\" in model().get_params():\n",
    "            modeldata = getPredictionPercentage(X, y, model, rounddecimals=rounddecimals, \n",
    "                                                num_iterations=num_iterations, n_alphas=3,\n",
    "                                                classifier=classifier, transform=transformtouse)\n",
    "        else:\n",
    "            modeldata = getPredictionPercentage(X, y, model, rounddecimals=rounddecimals, \n",
    "                                                num_iterations=num_iterations, classifier=classifier,\n",
    "                                                transform=transformtouse)\n",
    "        modelandresults[modelname] = modeldata\n",
    "        if printout==True:\n",
    "            print u\"\\tThe score on the fit is %f \\u00B1 %f (1.0 is perfect)\" %modeldata[0]\n",
    "            if classifier==True:\n",
    "                print u\"\\tThe percentage of correct identifications is: %f \\u00B1 %f\" %modeldata[1]\n",
    "                print u\"\\t         Benchmark from random prediction is: %f \\u00B1 %f\" %randomprediction\n",
    "    return modelandresults\n",
    "\n",
    "def tryOtherClassifiers(thedataframe, topredict, frompredict, dictofunknown={}, num_iterations=100, \n",
    "                            printout=False, transform=\"none\"):\n",
    "    # We begin by making the input data from thedataframe\n",
    "    (X,y) = makeDataFromModels(thedataframe, topredict, frompredict, dictofunknown)\n",
    "    \n",
    "    modelstotryout = [SVC]\n",
    "      \n",
    "    randomprediction = randomPrediction(y, num_iterations=num_iterations)\n",
    "    \n",
    "    modelandresults = {}\n",
    "    for model in modelstotryout:\n",
    "        modelname = getModelName(model)\n",
    "        if printout==True:\n",
    "            print modelname\n",
    "        transformtouse = transform\n",
    "        if model==linear_model.SGDClassifier or model==linear_model.Perceptron or model==SVC:\n",
    "            transformtouse = \"scale\"\n",
    "        if \"n_alphas\" in model().get_params():\n",
    "            modelscore = getPredictionScore(X, y, model, num_iterations=num_iterations, n_alphas=3, \n",
    "                                            transform=transformtouse)\n",
    "        else:\n",
    "            modelscore = getPredictionScore(X, y, model, num_iterations=num_iterations, transform=transformtouse)\n",
    "        modelandresults[modelname] = modelscore\n",
    "        if printout==True:\n",
    "            print u\"\\tThe percentage of correct identifications is: %f \\u00B1 %f\" %modelscore\n",
    "            print u\"\\t         Benchmark from random prediction is: %f \\u00B1 %f\" %randomprediction\n",
    "    return modelandresults"
   ]
  },
  {
   "cell_type": "code",
   "execution_count": 305,
   "metadata": {
    "collapsed": false,
    "scrolled": false
   },
   "outputs": [
    {
     "name": "stdout",
     "output_type": "stream",
     "text": [
      "LinearRegression\n",
      "\tPolynomial of degree 1\n",
      "\t\tThe score on the fit is 0.386207 ± 0.059518 (1.0 is perfect)\n",
      "\t\tThe percentage of correct identifications is: 0.793715 ± 0.022966\n",
      "\t\t         Benchmark from random prediction is: 0.610750 ± 0.035027\n",
      "\tPolynomial of degree 2\n",
      "\t\tThe score on the fit is 0.409817 ± 0.063277 (1.0 is perfect)\n",
      "\t\tThe percentage of correct identifications is: 0.809357 ± 0.024299\n",
      "\t\t         Benchmark from random prediction is: 0.610750 ± 0.035027\n",
      "\tPolynomial of degree 3\n",
      "\t\tThe score on the fit is -20014412139223306240.000000 ± 131578909709882179584.000000 (1.0 is perfect)\n",
      "\t\tThe percentage of correct identifications is: 0.763371 ± 0.030532\n",
      "\t\t         Benchmark from random prediction is: 0.610750 ± 0.035027\n",
      "RidgeCV\n",
      "\tPolynomial of degree 1\n",
      "\t\tThe score on the fit is 0.385164 ± 0.057960 (1.0 is perfect)\n",
      "\t\tThe percentage of correct identifications is: 0.791575 ± 0.025752\n",
      "\t\t         Benchmark from random prediction is: 0.610750 ± 0.035027\n",
      "\tPolynomial of degree 2\n",
      "\t\tThe score on the fit is 0.405862 ± 0.072992 (1.0 is perfect)\n",
      "\t\tThe percentage of correct identifications is: 0.812793 ± 0.030616\n",
      "\t\t         Benchmark from random prediction is: 0.610750 ± 0.035027\n",
      "\tPolynomial of degree 3\n",
      "\t\tThe score on the fit is 0.395522 ± 0.080011 (1.0 is perfect)\n",
      "\t\tThe percentage of correct identifications is: 0.809922 ± 0.024776\n",
      "\t\t         Benchmark from random prediction is: 0.610750 ± 0.035027\n",
      "LassoCV\n",
      "\tPolynomial of degree 1\n",
      "\t\tThe score on the fit is 0.386497 ± 0.039481 (1.0 is perfect)\n",
      "\t\tThe percentage of correct identifications is: 0.793388 ± 0.022318\n",
      "\t\t         Benchmark from random prediction is: 0.610750 ± 0.035027\n",
      "\tPolynomial of degree 2\n",
      "\t\tThe score on the fit is 0.405572 ± 0.062656 (1.0 is perfect)\n",
      "\t\tThe percentage of correct identifications is: 0.810486 ± 0.027065\n",
      "\t\t         Benchmark from random prediction is: 0.610750 ± 0.035027\n",
      "\tPolynomial of degree 3\n",
      "\t\tThe score on the fit is 0.411453 ± 0.048819 (1.0 is perfect)\n",
      "\t\tThe percentage of correct identifications is: 0.810506 ± 0.021086\n",
      "\t\t         Benchmark from random prediction is: 0.610750 ± 0.035027\n",
      "BayesianRidge\n",
      "\tPolynomial of degree 1\n",
      "\t\tThe score on the fit is 0.386757 ± 0.060940 (1.0 is perfect)\n",
      "\t\tThe percentage of correct identifications is: 0.794646 ± 0.030295\n",
      "\t\t         Benchmark from random prediction is: 0.610750 ± 0.035027\n",
      "\tPolynomial of degree 2\n",
      "\t\tThe score on the fit is 0.408253 ± 0.063533 (1.0 is perfect)\n",
      "\t\tThe percentage of correct identifications is: 0.810618 ± 0.027958\n",
      "\t\t         Benchmark from random prediction is: 0.610750 ± 0.035027\n",
      "\tPolynomial of degree 3\n",
      "\t\tThe score on the fit is 0.415257 ± 0.057478 (1.0 is perfect)\n",
      "\t\tThe percentage of correct identifications is: 0.816766 ± 0.025224\n",
      "\t\t         Benchmark from random prediction is: 0.610750 ± 0.035027\n",
      "SGDRegressor\n",
      "\tPolynomial of degree 1\n",
      "\t\tThe score on the fit is 0.384271 ± 0.058679 (1.0 is perfect)\n",
      "\t\tThe percentage of correct identifications is: 0.792923 ± 0.029434\n",
      "\t\t         Benchmark from random prediction is: 0.610750 ± 0.035027\n",
      "\tPolynomial of degree 2\n",
      "\t\tThe score on the fit is 0.382334 ± 0.073302 (1.0 is perfect)\n",
      "\t\tThe percentage of correct identifications is: 0.807075 ± 0.025921\n",
      "\t\t         Benchmark from random prediction is: 0.610750 ± 0.035027\n",
      "\tPolynomial of degree 3\n",
      "\t\tThe score on the fit is -2621041.737556 ± 12069883.658956 (1.0 is perfect)\n",
      "\t\tThe percentage of correct identifications is: 0.050782 ± 0.075371\n",
      "\t\t         Benchmark from random prediction is: 0.610750 ± 0.035027\n",
      "KernelRidge\n",
      "\tThe score on the fit is 0.143219 ± 0.074087 (1.0 is perfect)\n",
      "\tThe percentage of correct identifications is: 0.744853 ± 0.031894\n",
      "\t         Benchmark from random prediction is: 0.610727 ± 0.032338\n",
      "LogisticRegression\n",
      "\tPolynomial of degree 1\n",
      "\t\tThe percentage of correct identifications is: 0.790083 ± 0.029441\n",
      "\t\t         Benchmark from random prediction is: 0.610723 ± 0.040803\n",
      "\tPolynomial of degree 2\n",
      "\t\tThe percentage of correct identifications is: 0.812220 ± 0.025712\n",
      "\t\t         Benchmark from random prediction is: 0.610723 ± 0.040803\n",
      "\tPolynomial of degree 3\n",
      "\t\tThe percentage of correct identifications is: 0.809123 ± 0.026743\n",
      "\t\t         Benchmark from random prediction is: 0.610723 ± 0.040803\n",
      "LogisticRegressionCV\n",
      "\tPolynomial of degree 1\n",
      "\t\tThe percentage of correct identifications is: 0.791211 ± 0.023773\n",
      "\t\t         Benchmark from random prediction is: 0.610723 ± 0.040803\n",
      "\tPolynomial of degree 2\n",
      "\t\tThe percentage of correct identifications is: 0.812542 ± 0.024709\n",
      "\t\t         Benchmark from random prediction is: 0.610723 ± 0.040803\n",
      "\tPolynomial of degree 3\n",
      "\t\tThe percentage of correct identifications is: 0.810387 ± 0.025143\n",
      "\t\t         Benchmark from random prediction is: 0.610723 ± 0.040803\n",
      "SGDClassifier\n",
      "\tPolynomial of degree 1\n",
      "\t\tThe percentage of correct identifications is: 0.719204 ± 0.054324\n",
      "\t\t         Benchmark from random prediction is: 0.610723 ± 0.040803\n",
      "\tPolynomial of degree 2\n",
      "\t\tThe percentage of correct identifications is: 0.744607 ± 0.071505\n",
      "\t\t         Benchmark from random prediction is: 0.610723 ± 0.040803\n",
      "\tPolynomial of degree 3\n",
      "\t\tThe percentage of correct identifications is: 0.738885 ± 0.081014\n",
      "\t\t         Benchmark from random prediction is: 0.610723 ± 0.040803\n",
      "Perceptron\n",
      "\tPolynomial of degree 1\n",
      "\t\tThe percentage of correct identifications is: 0.731425 ± 0.066141\n",
      "\t\t         Benchmark from random prediction is: 0.610723 ± 0.040803\n",
      "\tPolynomial of degree 2\n",
      "\t\tThe percentage of correct identifications is: 0.727373 ± 0.077745\n",
      "\t\t         Benchmark from random prediction is: 0.610723 ± 0.040803\n",
      "\tPolynomial of degree 3\n",
      "\t\tThe percentage of correct identifications is: 0.729579 ± 0.084960\n",
      "\t\t         Benchmark from random prediction is: 0.610723 ± 0.040803\n",
      "SVC\n",
      "\tThe percentage of correct identifications is: 0.815525 ± 0.024587\n",
      "\t         Benchmark from random prediction is: 0.610740 ± 0.038606\n"
     ]
    }
   ],
   "source": [
    "getPredictionPercentage\n",
    "topredict = \"Survived\"\n",
    "frompredict = ['Pclass', 'Sex', \"Age\", 'SibSp', 'Parch', \"Fare\", \"Cabin\", 'Embarked']\n",
    "\n",
    "tryAllLinRegClassifiers(numericdataframe, topredict, frompredict, num_iterations=10, transform=\"scale\", polynomialdegrees=[1,2,3]);"
   ]
  },
  {
   "cell_type": "code",
   "execution_count": null,
   "metadata": {
    "collapsed": false
   },
   "outputs": [],
   "source": [
    "numericdataframe = makeAllColumnsNumeric(thedataframe, dictofordinals, datacateg)[0]\n",
    "frompredict = ['Pclass', 'Sex', \"Age\", 'SibSp', 'Parch', \"Fare\", \"Cabin\", 'Embarked']\n",
    "#frompredict = ['Pclass', 'Sex', 'SibSp']\n",
    "\n",
    "(X,y) = makeDataFromModels(numericdataframe, topredict, frompredict, {})\n",
    "allscores = []\n",
    "for jj in range(1,20):\n",
    "    allscores.append(getPredictionScore(X, y, KNeighborsClassifier, num_iterations=30, transform=\"scale\", n_neighbors=jj)[0])\n",
    "\n",
    "# if we decrease wrt a value twice in a row, we've reached the max\n",
    "bestnumneighbors = list(np.append(\n",
    "    (np.array(allscores[2:]) - np.array(allscores[:-2]) < 0).astype(int), \n",
    "    1) * (np.array(allscores[1:]) - np.array(allscores[:-1]) < 0).astype(int)).index(1) + 1"
   ]
  },
  {
   "cell_type": "code",
   "execution_count": null,
   "metadata": {
    "collapsed": true
   },
   "outputs": [],
   "source": []
  },
  {
   "cell_type": "code",
   "execution_count": null,
   "metadata": {
    "collapsed": true
   },
   "outputs": [],
   "source": []
  },
  {
   "cell_type": "markdown",
   "metadata": {},
   "source": [
    "### Feature selection functions"
   ]
  },
  {
   "cell_type": "code",
   "execution_count": 121,
   "metadata": {
    "collapsed": true
   },
   "outputs": [],
   "source": [
    "# With a given list frompredict, it will return the subset of the entries in frompredict that yield\n",
    "# the best prediction with the model predictionmethod.\n",
    "def bestFeatureSet(numericdataframe, topredict, frompredict, predictionmethod,\n",
    "                   dictofunknown={}, num_iterations=100, transform=\"none\"):\n",
    "    bestscore = 0\n",
    "    bestsubset = []\n",
    "    for ii in range(1,len(frompredict)):\n",
    "        allsubsets = findsubsets(frompredict,ii)\n",
    "        allsubsets = [list(subset) for subset in allsubsets]\n",
    "        for subset in allsubsets:\n",
    "            (X,y) = makeDataFromModels(numericdataframe, topredict, subset, dictofunknown)\n",
    "            score = getPredictionScore(X, y, predictionmethod, num_iterations=num_iterations, transform=transform)\n",
    "            if score[0]>bestscore:\n",
    "                bestscore = score[0]\n",
    "                bestsubset = subset\n",
    "    return bestsubset"
   ]
  },
  {
   "cell_type": "markdown",
   "metadata": {},
   "source": [
    "#### Helper functions"
   ]
  },
  {
   "cell_type": "code",
   "execution_count": null,
   "metadata": {
    "collapsed": true
   },
   "outputs": [],
   "source": [
    "def findsubsets(set,sizeofsubset):\n",
    "    return set(itertools.combinations(set, sizeofsubset))"
   ]
  },
  {
   "cell_type": "markdown",
   "metadata": {},
   "source": [
    "### Dimensional reduction functions"
   ]
  },
  {
   "cell_type": "code",
   "execution_count": null,
   "metadata": {
    "collapsed": true
   },
   "outputs": [],
   "source": [
    "def brewerColors(listlength=6):\n",
    "    return [\"#1f78b4\",\"#33a02c\", \"#e31a1c\", \"#ff7f00\", \"#6a3d9a\", \"#b15928\"][:min(12,listlength)]\n",
    "\n",
    "# LDA is supervised, PCA is not. LDA tries to separate the classes as much as possible from each other while doing dim red;\n",
    "# PCA tries to separate the data as much as possible from itself (no labels) when doing dim red.\n",
    "def dimensionalReductionLDA(X, y):\n",
    "    clf = LinearDiscriminantAnalysis(n_components=2)\n",
    "    clf.fit(X,y)\n",
    "    trans_X = clf.transform(X)\n",
    "    uniquevalues = list(set(y))\n",
    "    for ii in uniquevalues:\n",
    "        if trans_X.shape[1]==1:\n",
    "            xaxisnumbers = range(len(trans_X[y==ii]))\n",
    "            yaxisnumbers = trans_X[y==ii, 0]\n",
    "        else:\n",
    "            xaxisnumbers = trans_X[y==ii, 0]\n",
    "            yaxisnumbers = trans_X[y==ii, 1]\n",
    "        plt.scatter(xaxisnumbers, yaxisnumbers, alpha=0.3, color=brewerColors()[ii], label=ii)\n",
    "    plt.legend(loc='best', shadow=False, scatterpoints=1)"
   ]
  },
  {
   "cell_type": "code",
   "execution_count": null,
   "metadata": {
    "collapsed": true
   },
   "outputs": [],
   "source": []
  },
  {
   "cell_type": "code",
   "execution_count": null,
   "metadata": {
    "collapsed": true
   },
   "outputs": [],
   "source": []
  },
  {
   "cell_type": "code",
   "execution_count": null,
   "metadata": {
    "collapsed": true
   },
   "outputs": [],
   "source": []
  },
  {
   "cell_type": "markdown",
   "metadata": {},
   "source": [
    "REGRESSION MODELS:\n",
    " - when going from quant to quant\n",
    " - if descrete, just round the numbers\n",
    " - don't treat it like a classification: when evaluating errors I should not count number of cases I hit exactly right\n",
    " - I should try all versions of linear regressions, then nonlinear ones\n",
    " - think about resizing data? Maybe that's more useful for feature selection, where the normalized data forces parameters to all be \"worth\" equal and we can assess which parameters are more important.\n",
    "\n",
    "GETTING QUANT FROM QUANT: regression may be best. I sohuld also try the more advanced methods of SVM and random forests\n",
    "GETTING QUANT FROM CATEG/ORD: the more categories the better. Need to look into the classification algorithms, but it may be that I can guess the quantitiative value from the combination of categorical values. Maybe Random Forests can take in a combination of quant and categ\n",
    "GETTING CATEG FROM QUANT: logistic regression could work OK. Otherwise try the other classification algorithms\n",
    "GETTING CATEG FROM CATEG: again, random forests etc. could be a good tactics.\n"
   ]
  },
  {
   "cell_type": "markdown",
   "metadata": {},
   "source": [
    "##### Still to do:\n",
    " - Make a function that takes the data, a model name, what to predict and outputs predictions for the data and how well it did\n",
    " - Make a function that does clustering\n",
    " - Make a function that does feature engineering\n",
    " - Make plots to evaluate how well a certain prediction did (e.g. confusion matrices and ROC curves)\n",
    " - As helper-functions, might need to do bootstrapping functions etc., unless they're already in-built\n",
    " - Race models agains each other\n",
    " - Check what else we did during S2DS"
   ]
  },
  {
   "cell_type": "code",
   "execution_count": null,
   "metadata": {
    "collapsed": true
   },
   "outputs": [],
   "source": []
  }
 ],
 "metadata": {
  "anaconda-cloud": {},
  "kernelspec": {
   "display_name": "Python [Root]",
   "language": "python",
   "name": "Python [Root]"
  },
  "language_info": {
   "codemirror_mode": {
    "name": "ipython",
    "version": 2
   },
   "file_extension": ".py",
   "mimetype": "text/x-python",
   "name": "python",
   "nbconvert_exporter": "python",
   "pygments_lexer": "ipython2",
   "version": "2.7.12"
  }
 },
 "nbformat": 4,
 "nbformat_minor": 1
}
