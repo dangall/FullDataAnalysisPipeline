{
 "cells": [
  {
   "cell_type": "markdown",
   "metadata": {},
   "source": [
    "## Load relevant packages"
   ]
  },
  {
   "cell_type": "code",
   "execution_count": 64,
   "metadata": {
    "collapsed": false
   },
   "outputs": [],
   "source": [
    "#================================================================================================\n",
    "# FROM HERE ON IT'S AUTOMATIC\n",
    "\n",
    "# Import packages of generic utility\n",
    "import pandas as pd\n",
    "import numpy as np\n",
    "import matplotlib.pyplot as plt\n",
    "import matplotlib.patches as patches\n",
    "import time\n",
    "import itertools\n",
    "from copy import deepcopy\n",
    "import re\n",
    "%matplotlib inline\n",
    "from sklearn.pipeline import Pipeline, make_pipeline, FeatureUnion\n",
    "import pickle\n",
    "import joblib\n",
    "from joblib import Memory, Parallel, delayed\n",
    "import os\n",
    "from sklearn.utils import resample\n",
    "\n",
    "# Import packages for outlier and novelty detection\n",
    "from sklearn.svm import OneClassSVM\n",
    "from sklearn.ensemble import IsolationForest\n",
    "\n",
    "# Import packages for dimensional reduction / feature manipulation\n",
    "from sklearn.feature_extraction import DictVectorizer\n",
    "from sklearn.discriminant_analysis import LinearDiscriminantAnalysis, QuadraticDiscriminantAnalysis\n",
    "from sklearn.preprocessing import StandardScaler, MinMaxScaler, PolynomialFeatures, FunctionTransformer\n",
    "from sklearn.feature_selection import SelectKBest, SelectFromModel, chi2, mutual_info_classif, mutual_info_regression\n",
    "from sklearn.feature_selection import f_classif, RFE, RFECV\n",
    "from sklearn import metrics\n",
    "from sklearn.metrics import pairwise_distances, make_scorer\n",
    "from sklearn.manifold import Isomap, LocallyLinearEmbedding, SpectralEmbedding, MDS, TSNE\n",
    "from sklearn.decomposition import PCA, KernelPCA, SparsePCA, TruncatedSVD, DictionaryLearning, FactorAnalysis\n",
    "\n",
    "# Import classification models\n",
    "import sklearn.linear_model\n",
    "from sklearn.linear_model import LogisticRegression, LogisticRegressionCV, SGDClassifier, Perceptron\n",
    "from sklearn.svm import SVC\n",
    "from sklearn.neighbors import KNeighborsClassifier, RadiusNeighborsClassifier\n",
    "from sklearn.neighbors.nearest_centroid import NearestCentroid\n",
    "from sklearn.gaussian_process import GaussianProcessClassifier\n",
    "from sklearn.naive_bayes import GaussianNB\n",
    "from sklearn.tree import DecisionTreeClassifier\n",
    "from sklearn.ensemble import BaggingClassifier, RandomForestClassifier, ExtraTreesClassifier\n",
    "from sklearn.ensemble import AdaBoostClassifier, GradientBoostingClassifier, VotingClassifier\n",
    "from sklearn.neural_network import MLPClassifier\n",
    "from sklearn.dummy import DummyClassifier\n",
    "\n",
    "# Import calibration and improvement for predict_proba\n",
    "from sklearn.calibration import CalibratedClassifierCV, calibration_curve\n",
    "\n",
    "# Import regression models\n",
    "from sklearn.linear_model import LinearRegression, Ridge, RidgeCV, Lasso, LassoCV, BayesianRidge, SGDRegressor\n",
    "from sklearn.kernel_ridge import KernelRidge\n",
    "from sklearn.svm import SVR\n",
    "from sklearn.gaussian_process import GaussianProcessRegressor\n",
    "from sklearn.ensemble import BaggingRegressor, RandomForestRegressor\n",
    "from sklearn.dummy import DummyRegressor\n",
    "\n",
    "# Import semi-supervised models\n",
    "from sklearn.semi_supervised import LabelPropagation, LabelSpreading\n",
    "\n",
    "# Import unsupervised models\n",
    "from sklearn.cluster import KMeans, AffinityPropagation, MeanShift, SpectralClustering, AgglomerativeClustering, DBSCAN, Birch\n",
    "\n",
    "# Import packages for model evaluation and validation\n",
    "from sklearn.model_selection import train_test_split, StratifiedKFold, KFold, cross_val_score, cross_val_predict, GridSearchCV\n",
    "from sklearn.metrics import brier_score_loss, precision_score, recall_score, f1_score"
   ]
  },
  {
   "cell_type": "markdown",
   "metadata": {},
   "source": [
    "## Load relevant data files"
   ]
  },
  {
   "cell_type": "code",
   "execution_count": 2,
   "metadata": {
    "collapsed": false
   },
   "outputs": [],
   "source": [
    "#================================================================================================\n",
    "# USER INPUT!\n",
    "# Here I specify which data files need reading in\n",
    "datafilenames = [\"natinalitycleantrain.csv\"]\n",
    "#================================================================================================\n",
    "\n",
    "# FROM HERE ON IT'S AUTOMATIC\n",
    "\n",
    "# Sometiems the index column gets saved automatically as a new column when writingto csv. \n",
    "# We'll remove these as they serve no purpose.\n",
    "alldataframes = [pd.read_csv(filename) for filename in datafilenames]\n",
    "\n",
    "for (pos,frame) in enumerate(alldataframes):\n",
    "    toadd = frame\n",
    "    if \"Unnamed: 0\" in frame:\n",
    "        toadd = toadd.drop(\"Unnamed: 0\",axis=1)\n",
    "    if \"Unnamed: 0.1\" in frame:\n",
    "        toadd = toadd.drop(\"Unnamed: 0.1\",axis=1)\n",
    "    alldataframes[pos] = toadd"
   ]
  },
  {
   "cell_type": "markdown",
   "metadata": {},
   "source": [
    "# Turn dataframe into numerical frame (in all possible ways)\n",
    "\n",
    " - Numerical data stays as such.\n",
    " - Ordinal data gets turned into a sequence of integers, e.g. \"small\", \"medium\", \"large\" --> 1,2,3.\n",
    " - Categorical data has no ordering. Binary categories, e.g. \"male\", \"female\", become 0, 1. Other categories split into several different features, each one taking the value 1 or 0 depending on whether that value if \"turned on\". E.g. if Nationality can take values \"Spain\", \"Portugal\", \"France\", and a datapoint has the value \"Portugal\", it will be represented by a vector [0,1,0]. However, this can vastly increase the dimensionality of the data; hence, it is sometimes better to turn \"Spain\", \"Portugal\", \"France\" into 1,2,3. For each (non-binary) categorical column, we will try both ways, thus generating a large number of (X,y) pairs of the data, each with different choices on how to represent categorical data. At the end we will choose the representation of the data that gives the best prediction.\n"
   ]
  },
  {
   "cell_type": "markdown",
   "metadata": {},
   "source": [
    "## Select  a dataframe and input information on its columns\n",
    "We work on one dataframe at a time. We begin by selecting a dataframe and specifying useful information about the frame."
   ]
  },
  {
   "cell_type": "code",
   "execution_count": 3,
   "metadata": {
    "collapsed": false
   },
   "outputs": [],
   "source": [
    "#================================================================================================\n",
    "# USER INPUT!\n",
    "# Here I list additional information on out dataframe that will help us predicty quantities\n",
    "thedataframe = deepcopy(alldataframes[0])\n",
    "datacateg = {'Survived': \"QA\", 'Pclass': \"O\", 'Name': \"C\", 'Sex': \"C\",\n",
    "             'Age': \"QA\", 'SibSp': \"QA\", 'Parch': \"QA\", 'Ticket': \"C\", \n",
    "             'Fare': \"QA\", 'Cabin': \"C\", 'Embarked': \"C\", 'Nationality': \"C\"}\n",
    "uselesscols = [\"Name\", \"Ticket\"]\n",
    "\n",
    "#--------------------------------------------------------------------------------------------------------\n",
    "# Replace the unknown value of the Age with -1\n",
    "averageage = alldataframes[0][\"Age\"][abs(alldataframes[0][\"Age\"] - alldataframes[0][\"Age\"].mean()) < 0.2].unique()[0]\n",
    "thedataframe[\"Age\"].replace(averageage, -1, inplace=True)\n",
    "#--------------------------------------------------------------------------------------------------------\n",
    "\n",
    "#--------------------------------------------------------------------------------------------------------\n",
    "# Turn nations with few people into \"Other\"\n",
    "numpeoplefromnations = thedataframe.groupby(\"Nationality\").size()\n",
    "smallnations = list(numpeoplefromnations[numpeoplefromnations < 30].index)\n",
    "for nation in smallnations:\n",
    "    thedataframe[\"Nationality\"].replace(nation, \"Other\", inplace=True)\n",
    "#--------------------------------------------------------------------------------------------------------\n",
    "\n",
    "dictofunknown = {\"Survived\": -1, \"Pclass\": -1,\"Name\": \"Unknown name\", \"Sex\": \"Unspecified\", \n",
    "                 \"Ticket\": \"XXXXXX\", \"Cabin\": \"X\", \"Embarked\": \"X\", \"Age\": -1, \"Nationality\": \"Unknown\"}\n",
    "orderings = [\n",
    "    {\"Pclass\": [1,2,3]} #NB only need to include columns that are not numeric!\n",
    "]\n",
    "dictofordinals = {\"Pclass\": [1,2,3]}\n",
    "#================================================================================================\n",
    "\n",
    "# FROM HERE ON IT'S AUTOMATIC\n",
    "\n",
    "# We'll remove the useless columns\n",
    "thedataframe = thedataframe[[colname for colname in thedataframe if colname not in uselesscols]]"
   ]
  },
  {
   "cell_type": "markdown",
   "metadata": {},
   "source": [
    "## Make all (X,y) pairs of numerical data from the dataframe\n",
    "\n",
    "### Function that makes all possible (X,y) pairs"
   ]
  },
  {
   "cell_type": "code",
   "execution_count": 4,
   "metadata": {
    "collapsed": true
   },
   "outputs": [],
   "source": [
    "#================================================================================================\n",
    "# FROM HERE ON IT'S AUTOMATIC\n",
    "\n",
    "# We begin by specyfing the cache from which we retrieve precomputed results, and into which we save new results\n",
    "cwd = os.getcwd() + \"\\\\cachedresults\\\\joblib\"\n",
    "memory = Memory(cachedir=cwd)\n",
    "\n",
    "# Returns a list of the form [(X,y), (X,y), ...}] where each element is a different pair of (X,y) data on\n",
    "# which to test predictive models.\n",
    "@memory.cache\n",
    "def makeAllTestingXyPairs(thedataframe, topredict, frompredict, dictofordinals, datacateg, whichcombinations=\"all\"):\n",
    "    predictionframe = deepcopy(thedataframe)\n",
    "    if topredict in dictofunknown:\n",
    "        predictionframe = predictionframe[predictionframe[topredict]!=dictofunknown[topredict]]\n",
    "    allframestotry = makeAllTestingDataframes(predictionframe, dictofordinals, datacateg, whichcombinations=whichcombinations)\n",
    "    Xypairs = [(turnFrameIntoMatrix(df[frompredict]), turnFrameIntoMatrix(df[[topredict]])) for df in allframestotry]\n",
    "    return Xypairs"
   ]
  },
  {
   "cell_type": "markdown",
   "metadata": {},
   "source": [
    "#### Helper functions"
   ]
  },
  {
   "cell_type": "code",
   "execution_count": 5,
   "metadata": {
    "collapsed": true
   },
   "outputs": [],
   "source": [
    "#================================================================================================\n",
    "# FROM HERE ON IT'S AUTOMATIC\n",
    "\n",
    "# Takes a dataframe and turns it into a numpy array. Categorical values are automatically binarized \n",
    "# into 0, 1 depending on which categorical value is turned on.\n",
    "def turnFrameIntoMatrix(inputdataframe):\n",
    "    thedict = inputdataframe.to_dict(orient=\"records\")\n",
    "    vec = DictVectorizer(sparse=False)\n",
    "    matrix = vec.fit_transform(thedict)\n",
    "    return matrix\n",
    "\n",
    "# Can have whichcombinations=\"all\", whichcombinations=\"smallest\", or whichcombinations=\"largest\"\n",
    "# Returns a list of pandas dataframes, where all possible combinations of categorical columns have been turned\n",
    "# into numerical sequences 1,2,3,...\n",
    "def makeAllTestingDataframes(thedataframe, dictofordinals, datacateg, whichcombinations=\"all\"):\n",
    "    ordereddataframe = orderOrdinalData(thedataframe, dictofordinals)[0]\n",
    "    bigreplacementdict = dictCategoricalOrder(ordereddataframe, datacateg)\n",
    "    binaryreplacements = {key: bigreplacementdict[key] for key in bigreplacementdict if len(bigreplacementdict[key])<=2}\n",
    "    otherreplacements = {key: bigreplacementdict[key] for key in bigreplacementdict if len(bigreplacementdict[key])>2}\n",
    "    ordereddataframe.replace(binaryreplacements, inplace=True)\n",
    "    # Now we've ordered ordinal data, e.g. [\"small\", \"medium\", \"large\"] -> [1, 2, 3] and replaced two-class\n",
    "    # categorical columns with 0 and 1, e.g. [\"male\", \"female\"] -> [0, 1]\n",
    "    # We shall now, for each categorical column, try ordering it as for ordinal data and try ordering \n",
    "    # it as done with DictVectorizer. This will produce several frames on which to test our models\n",
    "    if whichcombinations==\"all\":\n",
    "        allframestotry = [ordereddataframe]\n",
    "        for ii in range(1,len(otherreplacements)+1):\n",
    "            allframestotry = allframestotry + [ordereddataframe.replace({key: bigreplacementdict[key] for key in setofkeys})\n",
    "                                               for setofkeys in findsubsets(otherreplacements, ii)]\n",
    "    elif whichcombinations==\"smallest\":\n",
    "        allframestotry = [ordereddataframe.replace(otherreplacements)]\n",
    "    elif whichcombinations==\"largest\":\n",
    "        allframestotry = [ordereddataframe]\n",
    "    return allframestotry\n",
    "\n",
    "# Returns the same dataframe but where the ordinal data has been replaced with numbers, and hence can\n",
    "# be ordered correctly. When plotting it will be necessary to replace the numbers back to their\n",
    "# original categorical labels.\n",
    "def orderOrdinalData(thedataframe, dictofordinals):\n",
    "    orderedordinalsframe = deepcopy(thedataframe)\n",
    "    # We need to turn the dictionary dictofordinals into a form good for using pandas .replace(dict)\n",
    "    neworderings = deepcopy(dictofordinals)\n",
    "    for key in neworderings:\n",
    "        # Pandas complains if we have intersections between the keys and the values\n",
    "        intersectionlength = len(set(neworderings[key]).intersection(set(range(1,len(neworderings[key])+1))))\n",
    "        if intersectionlength==0:\n",
    "            # We can just replace the entries with 0,1,2,...,num_categories-1\n",
    "            neworderings[key] = dict([(el,ii+1) for ii,el in enumerate(neworderings[key])])\n",
    "        else:\n",
    "            # We replace with '0',1','2',.... instead. We will later turn the strings into ints.\n",
    "            neworderings[key] = dict([(el,str(ii+1)) for ii,el in enumerate(neworderings[key])])\n",
    "    # Now we'll replace the ordinal columns in the dataframes with numeric labels\n",
    "    if dictofordinals!={}:\n",
    "        orderedordinalsframe.replace(neworderings, inplace=True)\n",
    "        for key in neworderings.keys():\n",
    "            orderedordinalsframe.loc[:,key] = pd.to_numeric(orderedordinalsframe[key])\n",
    "    return (orderedordinalsframe, neworderings)\n",
    "\n",
    "# Returns a dictionary where the values of categorical columns are ordered into integers\n",
    "def dictCategoricalOrder(inputdataframe, datacateg):\n",
    "    replacementdict = {}\n",
    "    for col in inputdataframe:\n",
    "        if datacateg[col]==\"C\":\n",
    "            allcategories = sorted(inputdataframe[col].unique())\n",
    "            replacementdict[col] = dict([(cat,ii) for ii, cat in enumerate(allcategories)])\n",
    "    return replacementdict\n",
    "\n",
    "def findsubsets(inputlist, sizeofsubset):\n",
    "    subsets = set(itertools.combinations(inputlist, sizeofsubset))\n",
    "    subsets = [set(sub) for sub in set(subsets)]\n",
    "    return subsets"
   ]
  },
  {
   "cell_type": "markdown",
   "metadata": {},
   "source": [
    "### Make all (X,y) pairs\n",
    "\n",
    "We now make all possible arrays (X,y) which can be used to make predictions!"
   ]
  },
  {
   "cell_type": "code",
   "execution_count": 6,
   "metadata": {
    "collapsed": false
   },
   "outputs": [],
   "source": [
    "#================================================================================================\n",
    "# USER INPUT!\n",
    "topredict = \"Survived\"\n",
    "frompredict = ['Age', 'Pclass', 'Sex', 'SibSp', 'Parch', 'Fare', 'Cabin', 'Embarked', 'Nationality']\n",
    "predictiontype = \"classification\"\n",
    "# Choose cross-validation method. For regression it's best to use KFold(n_splits=5, shuffle=True), \n",
    "# otherwise StratifiedKFold(n_splits=5, shuffle=True) is a good choice.\n",
    "if predictiontype==\"regression\":\n",
    "    crossvalidator = KFold(n_splits=5, shuffle=True)\n",
    "else:\n",
    "    crossvalidator = StratifiedKFold(n_splits=5, shuffle=True)\n",
    "#================================================================================================\n",
    "# FROM HERE ON IT'S AUTOMATIC\n",
    "\n",
    "# The first element is the maximally binarized version (i.e. with highest dimensionality) and the last \n",
    "# element is the least binarized version (i.e. with lowest dimensionality). We can select \n",
    "# whichcombinations=\"largest\" to only make the first element and  whichcombinations=\"smallest\" to only\n",
    "# make the last element.\n",
    "allXypairs = makeAllTestingXyPairs(thedataframe, topredict, frompredict, dictofordinals, datacateg)"
   ]
  },
  {
   "cell_type": "markdown",
   "metadata": {},
   "source": [
    "## Include versions of the data without outliers\n",
    "\n",
    "Some models are highly sensitive to outliers, which can in turn worsen our predictions. \n",
    "\n",
    "*N.B. Removing outliers can potentially worsen predictions of outliers, which may be a problem if such mistakes are very costly.*"
   ]
  },
  {
   "cell_type": "code",
   "execution_count": 7,
   "metadata": {
    "collapsed": false
   },
   "outputs": [],
   "source": [
    "#================================================================================================\n",
    "# FROM HERE ON IT'S AUTOMATIC\n",
    "\n",
    "@memory.cache\n",
    "def removeOutliers(inputX, inputy):\n",
    "    # We first find outliers using the method IsolationForest\n",
    "    forest = IsolationForest()\n",
    "    forest.fit(inputX)\n",
    "    predictedforest = forest.predict(inputX)\n",
    "    # We now find outliers using OneClassSVM\n",
    "    svm = OneClassSVM()\n",
    "    svm.fit(inputX)\n",
    "    predictedsvm = svm.predict(inputX)\n",
    "    # When the two methods agree on an outlier, it is an outlier and we remove it\n",
    "    predicted = predictedforest + predictedsvm\n",
    "    posnonoutlier = np.where(predicted>-2)[0]\n",
    "    if list(posnonoutlier)==range(len(X)):\n",
    "        outputX, outputy = True,True\n",
    "    else:\n",
    "        outputX, outputy = inputX[posnonoutlier], inputy[posnonoutlier]\n",
    "    return outputX, outputy\n",
    "\n",
    "nooutliers = [removeOutliers(X,y) for (X,y) in allXypairs]\n",
    "nooutliers = [(X,y) for (X,y) in nooutliers if (X,y) is not (True,True)]\n",
    "\n",
    "#allXypairs = allXypairs + nooutliers"
   ]
  },
  {
   "cell_type": "markdown",
   "metadata": {},
   "source": [
    "# Find best pipeline-version of each model"
   ]
  },
  {
   "cell_type": "markdown",
   "metadata": {},
   "source": [
    "## Transformations on data\n",
    "\n",
    "Sometimes models perform much better for transformed versions of the data. For examples, the heteroscedasticity of linear models ca be improved when fitting on the log of the data. Also, some algorithms (such as SVM) perform much better if the data has been scaled first.\n",
    "\n",
    "Here we will make functions which can be fed to the prediction pipelines for transforming the data. The pipelines will require transformers; we will have access to:\n",
    " - FunctionTransformer(sqrttransform)\n",
    " - FunctionTransformer(logtransform)\n",
    " - StandardScaler()"
   ]
  },
  {
   "cell_type": "code",
   "execution_count": 8,
   "metadata": {
    "collapsed": false
   },
   "outputs": [],
   "source": [
    "#================================================================================================\n",
    "# FROM HERE ON IT'S AUTOMATIC\n",
    "\n",
    "def logtransform(inputdata):\n",
    "    outputdata = deepcopy(inputdata)\n",
    "    outputdata[outputdata>0] = np.log1p(outputdata[outputdata>0])\n",
    "    outputdata[outputdata<0] = -np.log1p(-outputdata[outputdata<0])\n",
    "    return outputdata\n",
    "\n",
    "def sqrttransform(inputdata):\n",
    "    outputdata = deepcopy(inputdata)\n",
    "    outputdata[outputdata>0] = np.sqrt(outputdata[outputdata>0])\n",
    "    outputdata[outputdata<0] = -np.sqrt(-outputdata[outputdata<0])\n",
    "    return outputdata\n",
    "\n",
    "@memory.cache\n",
    "def listTransformationsAndParams():\n",
    "    transformations = [(\"sqrt\", FunctionTransformer(sqrttransform)), \n",
    "                       (\"log\", FunctionTransformer(logtransform)), \n",
    "                       (\"scale\", StandardScaler())]\n",
    "    transformationparameters = [[{}],[{}],[{}]]\n",
    "    return transformations, transformationparameters"
   ]
  },
  {
   "cell_type": "markdown",
   "metadata": {},
   "source": [
    "## Dimensional reductions of the data\n",
    "\n",
    "Some models perform very poorly for high-dimensional data. We will try all versions of the data with dimensional reductions, to remove useless features to the largest possible extent.\n",
    "\n",
    "N.B. *It may be possible that there are certain highly-predictive columns that should not be removed, but the other columns are only useful to our model when dimensionally-reduced (using e.g. PCA). In this case the best thing to do is to construct the features using FeatureUnion (see documentation).*"
   ]
  },
  {
   "cell_type": "markdown",
   "metadata": {},
   "source": [
    "#### Helper function that creates a list of reductions to try out\n",
    "\n",
    "We need to know the numnber of columns in X, to work out the list of all possible dimensional reductions (as the reduced space dimension can't be greater than len(X[0])). We also need to to know which estimator we're using, in order to use RFECV efectively."
   ]
  },
  {
   "cell_type": "code",
   "execution_count": 9,
   "metadata": {
    "collapsed": true
   },
   "outputs": [],
   "source": [
    "#================================================================================================\n",
    "# FROM HERE ON IT'S AUTOMATIC\n",
    "\n",
    "def listReductionsAndParams(estimator, rfefeatures, pcafeatures, predictiontype=\"classification\"):\n",
    "    if predictiontype==\"regression\":\n",
    "        dimreductions = [(\"fromforest\", SelectFromModel(RandomForestRegressor(n_estimators=150)))]\n",
    "    else:\n",
    "        dimreductions = [(\"fromforest\", SelectFromModel(RandomForestClassifier(n_estimators=150)))]\n",
    "    \n",
    "    dimreductions = dimreductions + [(\"pca\", PCA())]\n",
    "    dimredparameters = [\n",
    "        [{}], #SelectFromModel(forest)\n",
    "        [{\"pca__n_components\": pcafeatures}] #PCA\n",
    "    ]\n",
    "    \n",
    "    if hasrightattributes(estimator)==True:\n",
    "        dimreductions = dimreductions + [(\"rfe\", RFE(estimator))]\n",
    "        dimredparameters = dimredparameters + [[{\"rfe__n_features_to_select\": rfefeatures}]] #RFE\n",
    "    \n",
    "    if predictiontype==\"classification\":\n",
    "        dimreductions = dimreductions + [(\"lda\", LinearDiscriminantAnalysis())]\n",
    "        dimredparameters = dimredparameters + [[{\"lda__n_components\": list(np.unique(rfefeatures + pcafeatures)), \n",
    "                                                 \"lda__solver\": [\"svd\", \"lsqr\", \"eigen\"]}]]\n",
    "    return dimreductions, dimredparameters"
   ]
  },
  {
   "cell_type": "markdown",
   "metadata": {},
   "source": [
    "#### Helper function: find out whether we can use RFE"
   ]
  },
  {
   "cell_type": "code",
   "execution_count": 10,
   "metadata": {
    "collapsed": true
   },
   "outputs": [],
   "source": [
    "def hasrightattributes(estimator):\n",
    "    # Now we assess if estimator has a coef_ attribute or a feature_importances_ attribute, needed for RFE\n",
    "    tempestimator = deepcopy(estimator)\n",
    "    tempestimator.fit(np.array([[0,0],[1,1]]),np.array([0,1]))\n",
    "    oktodoRFE = (hasattr(tempestimator, \"coef_\") or hasattr(tempestimator, \"feature_importances_\"))\n",
    "    return oktodoRFE"
   ]
  },
  {
   "cell_type": "markdown",
   "metadata": {},
   "source": [
    "## Polynomial regressions\n",
    "\n",
    "Linear regressors are good at fitting polynomials. We will consider polynomials up to degree 3."
   ]
  },
  {
   "cell_type": "code",
   "execution_count": 11,
   "metadata": {
    "collapsed": false
   },
   "outputs": [],
   "source": [
    "@memory.cache\n",
    "def listPolynomialtransAndParams():\n",
    "    polytransformations = [(\"polytran\", PolynomialFeatures())]\n",
    "    polytransformationparameters = [[{\"polytran__degree\": [2,3]}]]\n",
    "    return polytransformations, polytransformationparameters"
   ]
  },
  {
   "cell_type": "markdown",
   "metadata": {},
   "source": [
    "## Best pipeline version of each model\n",
    "\n",
    "Each prediction-model's score can be improved by tuning its hyperparameters and placing it in a pipeline with various transformations and dimensional reductions, each with tuned hyperparameters for optimal performance.\n",
    "\n",
    "We will go through all models and create a list containig the best possible version of these models. That will allow us to properly compare and evaluate them later."
   ]
  },
  {
   "cell_type": "markdown",
   "metadata": {},
   "source": [
    "### Functions for creating the best version of a single model"
   ]
  },
  {
   "cell_type": "code",
   "execution_count": 12,
   "metadata": {
    "collapsed": false,
    "scrolled": true
   },
   "outputs": [],
   "source": [
    "#================================================================================================\n",
    "# FROM HERE ON IT'S AUTOMATIC\n",
    "\n",
    "# Tries predictionmethod in a pipeline with a wide variety of transformations and dimensional reductions, \n",
    "# including full hyperparameter searches, and returns the best version of predictionmethod, along with\n",
    "# it's cross-validated score. predictionmethod should be given as a list of tuples to be used in the pipeline,\n",
    "# e.g. [(\"linreg\", LinearRegression())]. predictiontype should be either \"regression\" or \"classification\".\n",
    "# If you don't want any print-outs, set quiet=True. \n",
    "# N.B. for cross-validation we use the globally defined variable crossvalidator!\n",
    "@memory.cache(ignore=['quiet'])\n",
    "def bestEstimatorGridSearch(X, y, predictionmethod, paramstotest, predictiontype, quiet=False):\n",
    "    modelparameters = deepcopy(paramstotest)\n",
    "    if type(modelparameters)!=list:\n",
    "        modelparameters = [modelparameters]\n",
    "    \n",
    "    # We need to break up our dataset into a validation set and a set we use to find the best predictionmethod\n",
    "    X_touse, X_finaltest , y_touse, y_finaltest = train_test_split(X, y, test_size=0.2)\n",
    "    # We will try various dimensional reductions. numfeatures contains a list of the number of dimensions\n",
    "    # we'll try reducing to\n",
    "    rfefeatures = RFEFeaturesToTry(X_touse, y_touse, predictionmethod[-1][1])\n",
    "    if getModelName(predictionmethod[-1][1]) in dir(sklearn.semi_supervised):\n",
    "        typeoflearning=\"semisupervised\"\n",
    "    else:\n",
    "        typeoflearning=\"supervised\"\n",
    "    pcafeatures = PCAFeaturesToTry(X_touse, y_touse, predictionmethod[-1][1], typeoflearning=typeoflearning)\n",
    "    \n",
    "    # Now we list the possible transformations\n",
    "    transformations, transformationparameters = listTransformationsAndParams()\n",
    "    # Now we list the possible dimensional reductions and their hyperparameters\n",
    "    dimreductions, dimredparameters = listReductionsAndParams(predictionmethod[-1][1], rfefeatures, pcafeatures,\n",
    "                                                              predictiontype=predictiontype)\n",
    "    if getModelName(predictionmethod[-1][1]) in dir(sklearn.linear_model):\n",
    "        polytransformations, polytransformationparameters = listPolynomialtransAndParams()\n",
    "    else:\n",
    "        polytransformations, polytransformationparameters = [], []\n",
    "    # We list all transformations, including the empty one (i.e. no transformation) in a way\n",
    "    # that makes it easy to concatenate in a pipeline\n",
    "    alltrans = [transformations[ii-1:ii] for ii in range(len(transformations)+1)]\n",
    "    alldimreds = [dimreductions[ii-1:ii] for ii in range(len(dimreductions)+1)]\n",
    "    allpolytrans = [polytransformations[ii-1:ii] for ii in range(len(polytransformations)+1)]\n",
    "    #We need to add [[{}]] to transformationparameters because alltrans also contains the empty set\n",
    "    transformationparameters = ([[{}]] + transformationparameters)\n",
    "    dimredparameters = ([[{}]] + dimredparameters)\n",
    "    polytransformationparameters = ([[{}]] + polytransformationparameters)\n",
    "    # allgrids will contain the results of the fitted results from GridSearchCV of each pipeline\n",
    "    allgrids = []\n",
    "    for ti, trans in enumerate(alltrans):\n",
    "        for di, dimred in enumerate(alldimreds):\n",
    "            for pi, poly in enumerate(allpolytrans):\n",
    "                #We need to add [[{}]] to transformationparameters because alltrans also contains the empty set\n",
    "                paramstrans = transformationparameters[ti] \n",
    "                paramsdimred = dimredparameters[di]\n",
    "                paramspoly = polytransformationparameters[pi]\n",
    "                paramstouse = [dict(dict1.items() + dict2.items() + dict3.items() + dict4.items()) \n",
    "                               for dict1 in paramstrans \n",
    "                               for dict2 in paramsdimred \n",
    "                               for dict3 in paramspoly \n",
    "                               for dict4 in modelparameters]\n",
    "                estimatorchain = trans + dimred + poly + predictionmethod\n",
    "                if quiet==False:\n",
    "                    print [el[0] for el in estimatorchain]\n",
    "                pipe = Pipeline(estimatorchain)\n",
    "                gridobject = GridSearchCV(pipe, param_grid=paramstouse, cv=crossvalidator, error_score=np.nan)\n",
    "                gridobject.fit(X_touse,y_touse.ravel())\n",
    "                allgrids.append(gridobject)\n",
    "    # We are now done fitting all the individual pipelines\n",
    "    #maxscore = np.max([grid.best_score_ for grid in allgrids])\n",
    "    #bestmethod = [grid.best_estimator_ for grid in allgrids if grid.best_score_==maxscore][0]\n",
    "    # We now have the best pipeline version of the model! Let's get a more accurate score on it\n",
    "    #bestscore = np.concatenate((cross_val_score(bestmethod, X_touse, y_touse.ravel(), cv=crossvalidator),\n",
    "    #                            cross_val_score(bestmethod, X_touse, y_touse.ravel(), cv=crossvalidator)))\n",
    "    #bestscore = np.mean(bestscore), np.std(bestscore)\n",
    "    positionofthebest = np.argsort([grid.best_score_ for grid in allgrids])[::-1]\n",
    "    positionofthebest = positionofthebest[:min(len(positionofthebest),10)]\n",
    "    accuratescores = [accurateScore(X_touse, y_touse, allgrids[pos].best_estimator_, \n",
    "                                    witherror=True, typeoflearning=typeoflearning) \n",
    "                      for pos in positionofthebest]\n",
    "    thebestpos = np.argmax([scr[0] for scr in accuratescores])\n",
    "    bestscore = accuratescores[thebestpos]\n",
    "    bestmethod = allgrids[positionofthebest[thebestpos]].best_estimator_\n",
    "    # We will now test our GridSearch estimator on our validation test to check that it isn't much worse\n",
    "    validationscore = accurateScore(X_finaltest, y_finaltest, bestmethod, typeoflearning=typeoflearning)\n",
    "    isvalidationscoreworse = (validationscore < (bestscore[0] - 2.0*bestscore[1]))\n",
    "    if isvalidationscoreworse==True and quiet==False:\n",
    "        print \"Final validation score is considerably worse than that claimed by GridSearchCV \\\n",
    "(problem of multiple comparisons).\"\n",
    "    # We can now finally get an accurate score of this method on the whole dataset\n",
    "    finalscore = accurateScore(X, y, bestmethod, typeoflearning=typeoflearning)\n",
    "    return (bestmethod, finalscore)\n",
    "    \n",
    "# This function goes through all possible X,y pairs and decides which one gives the best result\n",
    "def bestEstimatorAndPosition(allXypairs, predictionmethod, paramstotest, predictiontype, quiet=False):\n",
    "    estimatorsandscores = [bestEstimatorGridSearch(X, y, predictionmethod, paramstotest, predictiontype, quiet=quiet)\n",
    "                           for (X,y) in allXypairs]\n",
    "    positionbest = np.argmax([score for (est,score) in estimatorsandscores])\n",
    "    bestestimator = estimatorsandscores[positionbest][0]\n",
    "    bestscore = estimatorsandscores[positionbest][1]\n",
    "    return bestestimator, bestscore, positionbest"
   ]
  },
  {
   "cell_type": "markdown",
   "metadata": {},
   "source": [
    "#### Helper functions: find optimal values of dimensional reductions, get accurate scoring, get model name"
   ]
  },
  {
   "cell_type": "code",
   "execution_count": 13,
   "metadata": {
    "collapsed": false
   },
   "outputs": [],
   "source": [
    "#================================================================================================\n",
    "# FROM HERE ON IT'S AUTOMATIC\n",
    "\n",
    "# Returns a list of the number of features we should try dimensionally-reducing to\n",
    "def RFEFeaturesToTry(X_touse, y_touse, estimator):\n",
    "    if hasrightattributes(estimator)==True:\n",
    "        featurestokeep = []\n",
    "        for ij in range(10):\n",
    "            therfecv = RFECV(estimator, cv=crossvalidator)\n",
    "            therfecv.fit(X_touse,y_touse.ravel())\n",
    "            featurestokeep.append(np.sum(therfecv.get_support()))\n",
    "        idealnumfeatures = int(np.round(np.mean(featurestokeep)))\n",
    "        rangeweshouldexplore = range(max(1,idealnumfeatures-2),min(len(X_touse[0]),idealnumfeatures+2))\n",
    "    else:\n",
    "        rangeweshouldexplore = [len(X_touse[0])]\n",
    "    return rangeweshouldexplore\n",
    "\n",
    "# Returns a list of the number of features we should try dimensionally-reducing to\n",
    "def PCAFeaturesToTry(X_touse, y_touse, estimator, typeoflearning=\"supervised\"):\n",
    "    alldascores = []\n",
    "    for ii in range(1,len(X_touse[0])):\n",
    "        thepcapipe = make_pipeline(PCA(n_components=ii),estimator)\n",
    "        alldascores.append(accurateScore(X_touse, y_touse, thepcapipe, typeoflearning=typeoflearning))\n",
    "    idealnumfeatures =  range(1,len(X_touse[0]))[np.argmax(alldascores)]\n",
    "    rangeweshouldexplore = range(max(1,idealnumfeatures-2),min(len(X_touse[0]),idealnumfeatures+3))\n",
    "    return rangeweshouldexplore\n",
    "\n",
    "def accurateScore(X, y, predmethod, numiterations=5, witherror=False, typeoflearning=\"supervised\"):\n",
    "    if typeoflearning==\"semisupervised\":\n",
    "        mask = (y.ravel()!=-1)\n",
    "        allthescores = [np.mean(cross_val_predict(predmethod, X, y.ravel(), cv=crossvalidator)[mask]==y.ravel()[mask])]\n",
    "    else:\n",
    "        allthescores = cross_val_score(predmethod, X, y.ravel(), cv=crossvalidator)\n",
    "    for ii in range(numiterations-1):\n",
    "        if typeoflearning==\"semisupervised\":\n",
    "            allthescores = np.append(allthescores, np.mean(cross_val_predict(predmethod, X, y.ravel(), \n",
    "                                                                             cv=crossvalidator)[mask]==y.ravel()[mask]))\n",
    "        else:\n",
    "            allthescores = np.append(allthescores, cross_val_score(predmethod, X, y.ravel(), cv=crossvalidator))\n",
    "    if witherror==True:\n",
    "        accuratescore = (np.mean(allthescores), np.std(allthescores))\n",
    "    else:\n",
    "        accuratescore = np.mean(allthescores)\n",
    "    return accuratescore\n",
    "\n",
    "def getModelName(currentmodel):\n",
    "    modelname = str(currentmodel)\n",
    "    modelname = modelname[:modelname.rfind(\"(\")]\n",
    "    modelname = modelname[modelname.rfind(\".\")+1:]\n",
    "    extracharacters = re.search(\"[^a-zA-z]\",modelname)\n",
    "    if type(extracharacters)!=type(None):\n",
    "        modelname = modelname[:extracharacters.start()]\n",
    "    return modelname"
   ]
  },
  {
   "cell_type": "markdown",
   "metadata": {},
   "source": [
    "## Create list of best pipelines - supervised learning\n",
    "\n",
    "We are now ready to go through the list of models, and in each case create the best version of that model.\n",
    "\n",
    "#### Helper function: implements all regressions / classifications"
   ]
  },
  {
   "cell_type": "code",
   "execution_count": 14,
   "metadata": {
    "collapsed": false
   },
   "outputs": [],
   "source": [
    "#================================================================================================\n",
    "# FROM HERE ON IT'S AUTOMATIC\n",
    "\n",
    "def makeListOfBestRegressors(allXypairs, regressorandparamlist=\"default\"):\n",
    "    # First we make the benchmark \"random\" prediction, i.e. making the same guess of output regarless of input\n",
    "    randomgrid = GridSearchCV(Pipeline([(\"random\", DummyRegressor())]), \n",
    "                              param_grid=[{\"random__strategy\": [\"mean\", \"median\", \"quantile\"]}], \n",
    "                              cv=crossvalidator, error_score=np.nan)\n",
    "    randomgrid.fit(allXypairs[0][0],allXypairs[0][1])\n",
    "    bestregressors = [(randomgrid.best_estimator_, randomgrid.best_score_, 0)]\n",
    "    # Now we list the regression models and the hyperparameter-space to explore\n",
    "    if regressorandparamlist==\"default\":\n",
    "        regressorsandparameters = [\n",
    "            ([(\"linreg\", LinearRegression())], \n",
    "             [{'linreg__normalize': [True, False]}]),\n",
    "            \n",
    "            ([(\"ridgereg\", Ridge())], \n",
    "             [{'ridgereg__normalize': [True, False], 'ridgereg__alpha': [0.1, 1.0, 10.0]}]),\n",
    "            \n",
    "            ([(\"lassoreg\", Lasso())], \n",
    "             [{'lassoreg__alpha': [0.1, 1.0, 10.0], 'lassoreg__normalize': [True, False]}]),\n",
    "            \n",
    "            ([(\"bayesreg\", BayesianRidge())], \n",
    "             [{'bayesreg__normalize': [True, False]}]),\n",
    "            \n",
    "            ([(\"sgdreg\", SGDRegressor())], \n",
    "             [{}]),\n",
    "            \n",
    "            ([(\"kernelridge\", KernelRidge())], \n",
    "             [{'kernelridge__kernel': [\"linear\", \"poly\", \"rbf\", \"sigmoid\"]}]),\n",
    "            \n",
    "            ([(\"gaussianreg\", GaussianProcessRegressor())], \n",
    "             [{'gaussianreg__normalize_y': [True, False]}])\n",
    "        ]\n",
    "    else:\n",
    "        regressorsandparameters = regressorandparamlist\n",
    "    # Finally, we go through the list of regression models and find the best version of each regressor\n",
    "    bestregressors = bestregressors + [(bestEstimatorAndPosition(allXypairs, regressor, paramspace, \"regression\"))\n",
    "                      for (regressor, paramspace) in regressorsandparameters]\n",
    "    \n",
    "    return bestregressors\n",
    "\n",
    "def makeListOfBestClassifiers(allXypairs, classifierandparamlist=\"default\"):\n",
    "    # First we make the benchmark \"random\" prediction, i.e. making the same guess of output regarless of input\n",
    "    randomgrid = GridSearchCV(Pipeline([(\"randomclf\", DummyClassifier())]), \n",
    "                              param_grid=[{\"randomclf__strategy\": [\"stratified\", \"most_frequent\", \"prior\", \"uniform\"]}], \n",
    "                              cv=crossvalidator, error_score=np.nan)\n",
    "    randomgrid.fit(allXypairs[0][0],allXypairs[0][1])\n",
    "    bestclassifiers = [(randomgrid.best_estimator_, randomgrid.best_score_, 0)]\n",
    "    # Now we list the classifier models and the hyperparameter-space to explore\n",
    "    if classifierandparamlist==\"default\":\n",
    "        classifiersandparameters = [\n",
    "            ([(\"logit\", LogisticRegression())], \n",
    "             [{'logit__C': [0.1, 1.0, 10.0]}]),\n",
    "            \n",
    "            ([(\"logit\", SGDClassifier())], \n",
    "             [{}]),\n",
    "            \n",
    "            ([(\"percep\", Perceptron())], \n",
    "             [{'logit__C': [0.1, 1.0, 10.0]}]),\n",
    "            \n",
    "            ([(\"svc\", SVC())], \n",
    "             [{'svc__C': [0.1, 1.0, 10.0], 'svc__kernel ': [\"linear\", \"poly\", \"rbf\", \"sigmoid\"]}]),\n",
    "            \n",
    "            ([(\"knn\", KNeighborsClassifier())], \n",
    "             [{'knn__n_neighbors': range(1,11), 'knn__weights': [\"uniform\", \"distance\"]}]),\n",
    "            \n",
    "            ([(\"centroid\", NearestCentroid())], \n",
    "             [{}]),\n",
    "            \n",
    "            ([(\"gaussianclf\", GaussianProcessClassifier())], \n",
    "             [{}]),\n",
    "            \n",
    "            ([(\"gaussiannb\", GaussianNB())], \n",
    "             [{}]),\n",
    "            \n",
    "            ([(\"randforest\", RandomForestClassifier())], \n",
    "             [{'randforest__n_estimators': [100]}]),\n",
    "            \n",
    "            ([(\"adaboost\", AdaBoostClassifier())], \n",
    "             [{}]),\n",
    "            \n",
    "            ([(\"gradientboost\", GradientBoostingClassifier())], \n",
    "             [{'gradientboost__loss': [\"deviance\", \"exponential\"]}]),\n",
    "            \n",
    "            ([(\"neurnet\", MLPClassifier())], \n",
    "             [{\"neurnet__solver\": [\"lbfgs\", \"sgd\", \"adam\"], \n",
    "               \"neurnet__hidden_layer_sizes\": [(100,10), (100,100), (100,10,100)],\n",
    "               \"neurnet__activation\": [\"logistic\", \"tanh\", \"relu\"],\n",
    "               \"neurnet__early_stopping\": [True, False]}])\n",
    "        ]\n",
    "    else:\n",
    "        classifiersandparameters = classifierandparamlist\n",
    "    # Finally, we go through the list of classification models and find the best version of each classifier\n",
    "    bestclassifiers = bestclassifiers + [(bestEstimatorAndPosition(allXypairs, classifier, paramspace, \"classification\"))\n",
    "                      for (classifier, paramspace) in classifiersandparameters]\n",
    "    \n",
    "    return bestclassifiers"
   ]
  },
  {
   "cell_type": "markdown",
   "metadata": {},
   "source": [
    "#### Find best regressors / classifiers"
   ]
  },
  {
   "cell_type": "code",
   "execution_count": 15,
   "metadata": {
    "collapsed": false
   },
   "outputs": [],
   "source": [
    "#================================================================================================\n",
    "# USER INPUT!\n",
    "\n",
    "# Need to decide whether to compute the regressor from scratch or loading it from a pre-made file.\n",
    "#-----------------COMPUTING FROM SCRATCH---------------------\n",
    "#bestregressors = makeListOfBestRegressors(allXypairs)\n",
    "#joblib.dump(bestregressors, 'bestregressors.pkl') # FOR SAVING\n",
    "#-----------------LOADING FROM PRE-MADE FILE-----------------\n",
    "bestregressors = joblib.load('bestregressors.pkl')  #FOR LOADING"
   ]
  },
  {
   "cell_type": "markdown",
   "metadata": {},
   "source": [
    "Now we have a list of the best version of each regressor! We can pick the best-performing one, or use some Ensemble-like voting method."
   ]
  },
  {
   "cell_type": "markdown",
   "metadata": {},
   "source": [
    "##  Alternative: Create list of best pipelines - semi-supervised classification"
   ]
  },
  {
   "cell_type": "code",
   "execution_count": 16,
   "metadata": {
    "collapsed": true
   },
   "outputs": [],
   "source": [
    "def makeListOfBestSemSupervClassifiers(allXypairs, classifierandparamlist=\"default\"):\n",
    "    # First we make the benchmark \"random\" prediction, i.e. making the same guess of output regarless of input\n",
    "    mask = allXypairs[0][1].ravel()!=-1\n",
    "    randomgrid = GridSearchCV(Pipeline([(\"randomclf\", DummyClassifier())]), \n",
    "                              param_grid=[{\"randomclf__strategy\": [\"constant\"],\n",
    "                                           \"randomclf__constant\": np.unique(allXypairs[0][1][mask].ravel())}], \n",
    "                              cv=crossvalidator, error_score=np.nan)\n",
    "    randomgrid.fit(allXypairs[0][0][mask],allXypairs[0][1][mask].ravel())\n",
    "    thescore = accurateScore(allXypairs[0][0], allXypairs[0][1], \n",
    "                             randomgrid.best_estimator_, typeoflearning=\"semisupervised\", numiterations=1)\n",
    "    bestclassifiers = [(randomgrid.best_estimator_, thescore, 0)]\n",
    "    # Now we list the classifier models and the hyperparameter-space to explore \n",
    "    if classifierandparamlist==\"default\":\n",
    "        classifiersandparameters = [\n",
    "            ([(\"labelprop\", LabelPropagation())], \n",
    "             [{'labelprop__kernel': [\"rbf\"], 'labelprop__gamma': [5, 20, 50]},\n",
    "              {'labelprop__kernel': [\"knn\"], 'labelprop__n_neighbors': range(1,11)}]),\n",
    "            \n",
    "            ([(\"labelprop\", LabelSpreading())], \n",
    "             [{'labelprop__kernel': [\"rbf\"], 'labelprop__gamma': [5, 20, 50]},\n",
    "              {'labelprop__kernel': [\"knn\"], 'labelprop__n_neighbors': range(1,11)}])\n",
    "        ]\n",
    "    else:\n",
    "        classifiersandparameters = classifierandparamlist\n",
    "    # Finally, we go through the list of classification models and find the best version of each classifier\n",
    "    bestclassifiers = bestclassifiers + [(bestEstimatorAndPosition(allXypairs, classifier, paramspace, \"classification\"))\n",
    "                      for (classifier, paramspace) in classifiersandparameters]\n",
    "    return bestclassifiers"
   ]
  },
  {
   "cell_type": "code",
   "execution_count": 17,
   "metadata": {
    "collapsed": false
   },
   "outputs": [],
   "source": [
    "#================================================================================================\n",
    "# THIS CELL ARTICIFICALLY CREATES THE VARIABLE semisupervisedXypairs IN WHICH MANY LABELS IN y\n",
    "# HAVE BEEN ERASED OUT\n",
    "@memory.cache\n",
    "def whoToRemove(sizeoffullset):\n",
    "    return np.sort(np.random.choice(range(sizeoffullset), size=int(0.8*sizeoffullset), replace=False))\n",
    "indextoremovelabel = whoToRemove(len(allXypairs[0][0]))\n",
    "\n",
    "semisupervisedXypairs = deepcopy(allXypairs)\n",
    "for jj in range(len(semisupervisedXypairs)):\n",
    "    semisupervisedXypairs[jj][1][indextoremovelabel] = -1\n",
    "#================================================================================================"
   ]
  },
  {
   "cell_type": "code",
   "execution_count": 18,
   "metadata": {
    "collapsed": false
   },
   "outputs": [],
   "source": [
    "#================================================================================================\n",
    "# USER INPUT!\n",
    "\n",
    "# Need to decide whether to compute the regressor from scratch or loading it from a pre-made file.\n",
    "#-----------------COMPUTING FROM SCRATCH---------------------\n",
    "#bestsemisupervclassifs = makeListOfBestSemSupervClassifiers(semisupervisedXypairs)\n",
    "#joblib.dump(bestsemisupervclassifs, 'bestsemisupervclassifs.pkl') # FOR SAVING\n",
    "#-----------------LOADING FROM PRE-MADE FILE-----------------\n",
    "bestsemisupervclassifs = joblib.load('bestsemisupervclassifs.pkl')  #FOR LOADING"
   ]
  },
  {
   "cell_type": "markdown",
   "metadata": {},
   "source": [
    "## Alternative: Create list of best pipelines - clustering"
   ]
  },
  {
   "cell_type": "markdown",
   "metadata": {},
   "source": [
    "### Supervised clustering\n",
    "\n",
    "Here we cluster according to the influence various features have on the outcome $y$, i.e. accoridng to their relation to $y$"
   ]
  },
  {
   "cell_type": "code",
   "execution_count": 23,
   "metadata": {
    "collapsed": true
   },
   "outputs": [],
   "source": [
    "# DELETE THIS CELL\n",
    "X, y = allXypairs[0]\n",
    "predictionmethod  =  [(\"kmeans\", KMeans())]\n",
    "paramstotest = [{'kmeans__n_clusters': range(2,15)}]\n",
    "clusteringtype = \"supervised\""
   ]
  },
  {
   "cell_type": "code",
   "execution_count": 82,
   "metadata": {
    "collapsed": false,
    "scrolled": true
   },
   "outputs": [],
   "source": [
    "def gaussian(dataX, mean, standarddeviation):\n",
    "    standarddeviation = standarddeviation + 0.001\n",
    "    return np.exp(-((dataX-mean)**2)/(2*(standarddeviation**2))) / np.sqrt(2*np.pi*(standarddeviation**2))\n",
    "\n",
    "def areaAbove(valuevector):\n",
    "    return [max(valuevector[kk] - np.max([valuevector[ij] for ij in range(len(valuevector)) if ij!=kk]) , 0) \n",
    "            for kk in range(len(valuevector))]\n",
    "\n",
    "def separationmetric(y, xlabels):\n",
    "    # For each distinct value in xlabels, we obtain all the values of the y that fall into that cluster\n",
    "    groups = [np.array([y[ii] for ii,label in enumerate(xlabels) if label==kk]).ravel()\n",
    "                 for kk in list(set(xlabels))]\n",
    "    # In each group, we resample and copmute the mean (we do this many times), to get a gaussian distribution\n",
    "    # representing the average values of y in each cluster\n",
    "    groups = [[np.mean(resample(grp, replace=True)) for ii in range(500)] for grp in groups]\n",
    "    # Now each element in \"groups\" contains a list of 500 different means (one per resampling)\n",
    "    # The means of each cluster is a gaussian with average mu and standard deviation sigma\n",
    "    mus = [np.mean(groups[ii]) for ii in range(len(groups))]\n",
    "    sigmas = [np.std(groups[ii]) for ii in range(len(groups))]\n",
    "    # For each cluster we plot the values of the corresponding gaussian\n",
    "    xs = np.linspace(0,1,num=100)\n",
    "    probs = np.array([np.vectorize(lambda xx: gaussian(xx, mus[ii], sigmas[ii]))(xs) for ii in range(len(groups))])\n",
    "    # probs contains the probability distributions of the different clusters\n",
    "    # We want to know how much of the area in each distribution does NOT overlap with other\n",
    "    # distributions, i.e. the area of distribution[i] above the other distributions. For each datapoint\n",
    "    # in xs, we compute the amount of the gaussian[i] that is above the other gaussians. areasaboveothercurves\n",
    "    # contains, for each point in xs, the amount that each gaussian is above the other gaussians.\n",
    "    areasaboveothercurves = np.transpose([areaAbove(valuevector) for valuevector in np.transpose(probs)])\n",
    "    # For each gaussian, we integrate over all values xs to get the total area. We then divide by the total area\n",
    "    # of all the gaussianss to get the proportion that does not overlap with other gaussians.\n",
    "    nonoverlappercentage = np.sum([np.trapz(areasaboveothercurves[ii], x=xs) \n",
    "                                   for ii in range(len(probs))]) / np.sum([np.trapz(probs[ii], x=xs)\n",
    "                                                                           for ii in range(len(probs))])\n",
    "    return nonoverlappercentage"
   ]
  },
  {
   "cell_type": "code",
   "execution_count": 87,
   "metadata": {
    "collapsed": false
   },
   "outputs": [],
   "source": [
    "def randomclusters(numclusters, sizeofarray):\n",
    "    return np.random.randint(0, high=numclusters, size=(sizeofarray))\n",
    "def benchmarkrandom(metricused, y, numclusters):\n",
    "    return np.mean([metricused(y, randomclusters(numclusters, len(y))) for ii in range(10)])\n",
    "\n",
    "def unsupervisedClusteringScores(X, Xlabels):\n",
    "    silhouette = metrics.silhouette_score(X, Xlabels)\n",
    "    silhouetteBench = benchmarkrandom(metrics.silhouette_score, X, len(set(Xlabels)))\n",
    "    calinski = metrics.calinski_harabaz_score(X, Xlabels)\n",
    "    calinskiBench = benchmarkrandom(metrics.calinski_harabaz_score, X, len(set(Xlabels)))\n",
    "    calinskiBench = calinskiBench / calinski\n",
    "    calinski = 1.0\n",
    "    return np.array([[silhouette, calinski], [silhouetteBench, calinskiBench]])\n",
    "\n",
    "def separationValuesScores(y, Xlabels):\n",
    "    return np.array([[separationmetric(y, Xlabels)], [benchmarkrandom(separationmetric, y, len(set(Xlabels)))]])\n",
    "\n",
    "def supervisedClassifiationClusteringScores(y, Xlabels):\n",
    "    numclusters = len(set(Xlabels))\n",
    "    adjrand = metrics.adjusted_rand_score(y.ravel(), Xlabels)\n",
    "    adjrandBench = benchmarkrandom(metrics.adjusted_rand_score, y.ravel(), numclusters)\n",
    "    homogen = metrics.homogeneity_score(y.ravel(), Xlabels)\n",
    "    homogenBench = benchmarkrandom(metrics.homogeneity_score, y.ravel(), numclusters)\n",
    "    completn = metrics.completeness_score(y.ravel(), Xlabels)\n",
    "    completnBench = benchmarkrandom(metrics.completeness_score, y.ravel(), numclusters)\n",
    "    fowlkes = metrics.fowlkes_mallows_score(y.ravel(), Xlabels)\n",
    "    fowlkesBench = benchmarkrandom(metrics.fowlkes_mallows_score, y.ravel(), numclusters)\n",
    "    return np.array([[adjrand, homogen, completn, fowlkes], [adjrandBench, homogenBench, completnBench, fowlkesBench]])\n",
    "\n",
    "def aggregateClusterScore(X, Xlabels, clusteringtype=\"unsupervised\", predictiontype=\"regression\", y=\"none\"):\n",
    "    allscores = unsupervisedClusteringScores(X, Xlabels)\n",
    "    if clusteringtype==\"supervised\":\n",
    "        allscores = np.concatenate((allscores, separationValuesScores(y, Xlabels)), axis=1)\n",
    "        if predictiontype==\"classification\":\n",
    "            allscores = np.concatenate((allscores, supervisedClassifiationClusteringScores(y, Xlabels)), axis=1)\n",
    "    actualscore, minscore = [np.sum(row) for row in allscores]\n",
    "    maxscore = len(allscores[0])\n",
    "    # We want to know where we are on the slider between the minimumscore and the maxium score\n",
    "    finalaggregatescore= max((actualscore - minscore) / (maxscore - minscore) , 0.0)\n",
    "    return finalaggregatescore"
   ]
  },
  {
   "cell_type": "code",
   "execution_count": 84,
   "metadata": {
    "collapsed": false
   },
   "outputs": [],
   "source": [
    "scl = StandardScaler()\n",
    "danewX = scl.fit_transform(X)\n",
    "xlabels = SpectralClustering().fit_predict(danewX)"
   ]
  },
  {
   "cell_type": "code",
   "execution_count": 88,
   "metadata": {
    "collapsed": false
   },
   "outputs": [
    {
     "data": {
      "text/plain": [
       "0.23597173552237322"
      ]
     },
     "execution_count": 88,
     "metadata": {},
     "output_type": "execute_result"
    }
   ],
   "source": [
    "aggregateClusterScore(danewX, xlabels, clusteringtype=clusteringtype, predictiontype=predictiontype, y=y)"
   ]
  },
  {
   "cell_type": "code",
   "execution_count": null,
   "metadata": {
    "collapsed": true
   },
   "outputs": [],
   "source": [
    "# NEED TO GO THROUGH EACH MODEL IN A PIPELINE AND TRY ALL POSSIBLE PARAMETERS (GRIDCV WON'T WORK HERE UNFORTUNATELY)\n",
    "# THEN FOR EACH MODEL TAKE THE BEST VERION OF THAT MODEL, ETC., AS FOR THE SUPERVISED METHODS ABOVE.\n",
    "# POSSIBLY CONSIDER A LARGER SET OF DIMENSIONAL REDUCTIONS? SOME ARE REALLY MADE ON PURPOSE TO HELP OUT WITH CLUSTERING."
   ]
  },
  {
   "cell_type": "code",
   "execution_count": null,
   "metadata": {
    "collapsed": true
   },
   "outputs": [],
   "source": []
  },
  {
   "cell_type": "code",
   "execution_count": null,
   "metadata": {
    "collapsed": true
   },
   "outputs": [],
   "source": [
    "[(\"kmeans\", KMeans())]\n",
    "paramstotest = [{'kmeans__n_clusters': range(2,15)}]"
   ]
  },
  {
   "cell_type": "code",
   "execution_count": null,
   "metadata": {
    "collapsed": true
   },
   "outputs": [],
   "source": [
    "if True:\n",
    "    if True:\n",
    "        clusteringsandparameters = [\n",
    "            ([(\"kmeans\", KMeans())], \n",
    "             [{'kmeans__n_clusters': range(2,15)}]),\n",
    "            \n",
    "            ([(\"kmeans\", AffinityPropagation())], \n",
    "             [{'kmeans__n_clusters': range(2,15)}]),\n",
    "            \n",
    "            ([(\"kmeans\", MeanShift())], \n",
    "             [{'kmeans__n_clusters': range(2,15)}]),\n",
    "            \n",
    "            ([(\"kmeans\", SpectralClustering())], \n",
    "             [{'kmeans__n_clusters': range(2,15)}]),\n",
    "            \n",
    "            ([(\"kmeans\", AgglomerativeClustering())], \n",
    "             [{'kmeans__n_clusters': range(2,15)}]),\n",
    "            \n",
    "            ([(\"kmeans\", DBSCAN())], \n",
    "             [{'kmeans__n_clusters': range(2,15)}]),\n",
    "            \n",
    "            ([(\"kmeans\", Birch())], \n",
    "             [{'kmeans__n_clusters': range(2,15)}])\n",
    "        ]"
   ]
  },
  {
   "cell_type": "code",
   "execution_count": null,
   "metadata": {
    "collapsed": true
   },
   "outputs": [],
   "source": []
  },
  {
   "cell_type": "code",
   "execution_count": null,
   "metadata": {
    "collapsed": true
   },
   "outputs": [],
   "source": []
  },
  {
   "cell_type": "code",
   "execution_count": null,
   "metadata": {
    "collapsed": true
   },
   "outputs": [],
   "source": []
  },
  {
   "cell_type": "code",
   "execution_count": null,
   "metadata": {
    "collapsed": true
   },
   "outputs": [],
   "source": []
  },
  {
   "cell_type": "code",
   "execution_count": null,
   "metadata": {
    "collapsed": true
   },
   "outputs": [],
   "source": []
  },
  {
   "cell_type": "code",
   "execution_count": 20,
   "metadata": {
    "collapsed": true
   },
   "outputs": [],
   "source": [
    "# then unsupervised. Then do voting methods. Then calibrate predict_proba.\n",
    "# Check if all my classifiers work on predicting survival\n",
    "# Include all possible 2d visualizations of the data\n",
    "# xxxxxxxxxxxxxxxxx"
   ]
  },
  {
   "cell_type": "code",
   "execution_count": null,
   "metadata": {
    "collapsed": true
   },
   "outputs": [],
   "source": [
    "# Model evaluation"
   ]
  },
  {
   "cell_type": "code",
   "execution_count": null,
   "metadata": {
    "collapsed": true
   },
   "outputs": [],
   "source": []
  },
  {
   "cell_type": "code",
   "execution_count": null,
   "metadata": {
    "collapsed": true
   },
   "outputs": [],
   "source": []
  },
  {
   "cell_type": "code",
   "execution_count": null,
   "metadata": {
    "collapsed": true
   },
   "outputs": [],
   "source": []
  },
  {
   "cell_type": "code",
   "execution_count": null,
   "metadata": {
    "collapsed": true
   },
   "outputs": [],
   "source": []
  },
  {
   "cell_type": "code",
   "execution_count": null,
   "metadata": {
    "collapsed": true
   },
   "outputs": [],
   "source": []
  },
  {
   "cell_type": "code",
   "execution_count": null,
   "metadata": {
    "collapsed": true
   },
   "outputs": [],
   "source": []
  },
  {
   "cell_type": "code",
   "execution_count": null,
   "metadata": {
    "collapsed": true
   },
   "outputs": [],
   "source": []
  },
  {
   "cell_type": "code",
   "execution_count": null,
   "metadata": {
    "collapsed": true
   },
   "outputs": [],
   "source": []
  },
  {
   "cell_type": "code",
   "execution_count": null,
   "metadata": {
    "collapsed": true
   },
   "outputs": [],
   "source": []
  },
  {
   "cell_type": "markdown",
   "metadata": {},
   "source": [
    "#### Plotting the model evaluations"
   ]
  },
  {
   "cell_type": "code",
   "execution_count": null,
   "metadata": {
    "collapsed": true
   },
   "outputs": [],
   "source": [
    "def brewerColors(listlength=6):\n",
    "    return [\"#1f78b4\",\"#33a02c\", \"#e31a1c\", \"#ff7f00\", \"#6a3d9a\", \"#b15928\"][:min(12,listlength)]"
   ]
  },
  {
   "cell_type": "markdown",
   "metadata": {},
   "source": [
    "# Temporary work"
   ]
  },
  {
   "cell_type": "markdown",
   "metadata": {},
   "source": [
    "zzzzzzzz Useful as a list of all dimensional reductions - may need it later zzzzzzzz"
   ]
  },
  {
   "cell_type": "code",
   "execution_count": 9,
   "metadata": {
    "collapsed": false
   },
   "outputs": [],
   "source": [
    "#================================================================================================\n",
    "# FULL LIST OF REDUCTIONS AND THEIR PARAMETERS\n",
    "\n",
    "#@memory.cache\n",
    "#def listReductionsAndParams(estimator, totnumfeatures, predictiontype=\"classification\"):\n",
    "#    if predictiontype==\"regression\":\n",
    "#        dimreductions = [(\"kbest\", SelectKBest(mutual_info_regression)),\n",
    "#                         (\"fromforest\", SelectFromModel(RandomForestRegressor(n_estimators=150)))]\n",
    "#    else:\n",
    "#        dimreductions = [(\"kbest\", SelectKBest(mutual_info_classif)), \n",
    "#                         (\"fromforest\", SelectFromModel(RandomForestClassifier(n_estimators=150)))]\n",
    "#    \n",
    "#    dimreductions = dimreductions + [(\"rfecv\", RFECV(estimator, cv=crossvalidator)), \n",
    "#                                     (\"frommodel\", SelectFromModel(estimator)), \n",
    "#                                     (\"isomap\", Isomap()), #Maintains geodesic distances between nearby points, \n",
    "#                                                           #\"unravelling\" the whole manifold\n",
    "#                                     (\"lle\", LocallyLinearEmbedding(eigen_solver =\"dense\")), #Quite similar to Isomap, though uses a\n",
    "#                                                                        #different algorithm\n",
    "#                                     # FOR CLUSTERING\n",
    "#                                     #(\"spectral\", SpectralEmbedding()), #Takes the dominant eigenvectors of the Laplacian matrix\n",
    "#                                     #(\"mds\", MDS()), #Is good at preserving the distances (or their hierarchy) \n",
    "#                                     #                #of the high-dim space\n",
    "#                                     #(\"tsne\", TSNE()), #Is good at preserving local structure - it focuses on the \n",
    "#                                     #                  #details of the high-dim space. It can deal with multiple, \n",
    "#                                     #                  #disjoint manifolds\n",
    "#                                     (\"pca\", PCA()), \n",
    "#                                     (\"kernelpca\", KernelPCA()), \n",
    "#                                     (\"truncsvd\", TruncatedSVD()), \n",
    "#                                     #(\"dictlearn\", DictionaryLearning()),  #TOO SLOW\n",
    "#                                     (\"factoranalys\", FactorAnalysis())\n",
    "#                                    ]\n",
    "#    \n",
    "#    numfeaturestotry = range(1,totnumfeatures)\n",
    "#    neighbornumberstotry = range(1,11)\n",
    "#    dimredparameters = [\n",
    "#        [{'kbest__k': numfeaturestotry}], #SelectKBest\n",
    "#        [{}], #SelectFromModel(forest)\n",
    "#        [{}], #RFECV\n",
    "#        [{}], #SelectFromModel\n",
    "#        [{\"isomap__n_neighbors\": neighbornumberstotry, \"isomap__n_components\": numfeaturestotry}], #Isomap\n",
    "#        [{\"lle__n_neighbors\": neighbornumberstotry, \"lle__n_components\": numfeaturestotry}], #LocallyLinearEmbedding\n",
    "#        #[{\"spectral__n_neighbors\": neighbornumberstotry, \"spectral__affinity\": [\"nearest_neighbors\"], \n",
    "#        #  \"spectral__n_components\": numfeaturestotry}, \n",
    "#        # {\"spectral__affinity\": [\"rbf\"], \"spectral__n_components\": numfeaturestotry}], #SpectralEmbedding\n",
    "#        #{\"mds__n_components\": numfeaturestotry, \"mds__metric\": [True, False]}, #MDS\n",
    "#        #{\"tsne__n_components\": numfeaturestotry}, #TSNE\n",
    "#        [{\"pca__n_components\": numfeaturestotry}], #PCA\n",
    "#        [{\"kernelpca__n_components\": numfeaturestotry, \"kernelpca__kernel\": \n",
    "#         [\"linear\", \"poly\", \"rbf\", \"sigmoid\", \"cosine\"]}], #KernelPCA\n",
    "#        [{\"truncsvd__n_components\": numfeaturestotry[:-1]}], #TruncatedSVD\n",
    "#        #{\"dictlearn__n_components\": numfeaturestotry}, #DictionaryLearning\n",
    "#        [{\"factoranalys__n_components\": numfeaturestotry}] #FactorAnalysis\n",
    "#    ]\n",
    "#    \n",
    "#    if predictiontype==\"classification\":\n",
    "#        dimreductions = dimreductions + [(\"lda\", LinearDiscriminantAnalysis())]\n",
    "#        dimredparameters = dimredparameters + [[{\"lda__n_components\":numfeaturestotry, \n",
    "#                                                 \"lda__solver \": [\"svd\", \"lsqr\", \"eigen\"]}]]\n",
    "#    return dimreductions, dimredparameters"
   ]
  },
  {
   "cell_type": "markdown",
   "metadata": {},
   "source": [
    "## Regression\n",
    "### Functions for making predictions based on given model"
   ]
  },
  {
   "cell_type": "code",
   "execution_count": 4,
   "metadata": {
    "collapsed": false
   },
   "outputs": [],
   "source": [
    "#======================================================================\n",
    "#======================================================================\n",
    "#========================PROBABLY OBSOLETE CELL========================\n",
    "#======================================================================\n",
    "#======================================================================\n",
    "\n",
    "# Returns the intercept, parameters, Rscore (where 1.0 is perfect prediction, and percentage of cases\n",
    "# correctly predicted. The final two are given as tuple (score, errorbarsonscore). X is the data we use \n",
    "# to predict y; predictionmethod is the name of our model, e.g. LinearRegression; rounddecimals\n",
    "# equals the number of decimals allowed for our prediction, e.g. when predicting integers rounddecimals=0; \n",
    "# num_iterations is the number of times we run the function to obtain the parameters, and kwargs are any \n",
    "# additional optional parameters we want to pass on to predictionmethod.\n",
    "def getParametersAndPredictionScore(inputX, inputy, predictionmethod, rounddecimals=\"none\", num_iterations=1, \n",
    "                                    classifier=False, transform=\"none\",**kwargs):\n",
    "    (X, y) = (inputX, inputy)\n",
    "    if transform!=\"none\":\n",
    "        (X, y) = (transformData(inputX, transform=transform), transformData(inputy, transform=transform))\n",
    "    if classifier==True:\n",
    "        predictedpercent = []\n",
    "    parameters = []\n",
    "    intercept = []\n",
    "    score = []\n",
    "    for iter in range(num_iterations):\n",
    "        kfoldindices = KFold(len(y),n_folds=5,shuffle=True)\n",
    "        for trainindex, testindex in kfoldindices:\n",
    "            Xtrain, Xtest = X[trainindex], X[testindex]\n",
    "            if transform==\"scale\":\n",
    "                (Xtrain, Xtest) = scaleData(Xtrain, Xtest)\n",
    "            ytrain, ytest = y[trainindex], y[testindex]\n",
    "            predictor = predictionmethod(**kwargs)\n",
    "            predictor.fit(Xtrain,ytrain)\n",
    "            predictedy = predictor.predict(Xtest)\n",
    "            if rounddecimals!=\"none\":\n",
    "                predictedy = np.round(predictedy, decimals=rounddecimals)\n",
    "            if classifier==True:\n",
    "                predictedpercent.append((predictedy==ytest).mean())\n",
    "            parameters.append(predictor.coef_)\n",
    "            intercept.append(predictor.intercept_)\n",
    "            score.append(predictor.score(Xtest,ytest))\n",
    "    score = (np.mean(score),np.std(score))\n",
    "    parameters = np.mean(parameters, axis=0)\n",
    "    intercept = np.mean(intercept)\n",
    "    if classifier==True:\n",
    "        predictedpercent = (np.mean(predictedpercent), np.std(predictedpercent))\n",
    "        toreturn = (intercept, parameters, score, predictedpercent)\n",
    "    else:\n",
    "        toreturn = (intercept, parameters, score)\n",
    "    return toreturn\n",
    "\n",
    "def getPredictionPercentage(inputX, inputy, predictionmethod, rounddecimals=\"none\", num_iterations=1, \n",
    "                                    classifier=False, transform=\"none\",**kwargs):\n",
    "    (X, y) = (inputX, inputy)\n",
    "    if transform!=\"none\":\n",
    "        (X, y) = (transformData(inputX, transform=transform), transformData(inputy, transform=transform))\n",
    "    if classifier==True:\n",
    "        predictedpercent = []\n",
    "    score = []\n",
    "    for iter in range(num_iterations):\n",
    "        kfoldindices = KFold(len(y),n_folds=5,shuffle=True)\n",
    "        for trainindex, testindex in kfoldindices:\n",
    "            Xtrain, Xtest = X[trainindex], X[testindex]\n",
    "            if transform==\"scale\":\n",
    "                (Xtrain, Xtest) = scaleData(Xtrain, Xtest)\n",
    "            ytrain, ytest = y[trainindex], y[testindex]\n",
    "            predictor = predictionmethod(**kwargs)\n",
    "            predictor.fit(Xtrain,ytrain)\n",
    "            predictedy = predictor.predict(Xtest)\n",
    "            if rounddecimals!=\"none\":\n",
    "                predictedy = np.round(predictedy, decimals=rounddecimals)\n",
    "            if classifier==True:\n",
    "                predictedpercent.append((predictedy==ytest).mean())\n",
    "            score.append(predictor.score(Xtest,ytest))\n",
    "    score = (np.mean(score),np.std(score))\n",
    "    if classifier==True:\n",
    "        predictedpercent = (np.mean(predictedpercent), np.std(predictedpercent))\n",
    "        toreturn = (score, predictedpercent)\n",
    "    else:\n",
    "        toreturn = (score)\n",
    "    return toreturn\n",
    "\n",
    "# Returns the prediction accuracy (+/- errorbars on the accuracy) when classifying \"at random\", i.e. \n",
    "# by always predicting the same thing for all the elements. We try by predicting the mean, or the \n",
    "# median, or the most frequently occurring element\n",
    "#---------------------------------------\n",
    "# SHOULD USE DummyClassifier INSTEAD!!!\n",
    "#---------------------------------------\n",
    "def randomPrediction(y, rounddecimals=\"none\", num_iterations=1):\n",
    "    meanscore = []\n",
    "    medianscore = []\n",
    "    mostfrequentscore = []\n",
    "    for iter in range(num_iterations):\n",
    "        kfoldindices = KFold(len(y),n_folds=5,shuffle=True)\n",
    "        for trainindex, testindex in kfoldindices:\n",
    "            ytrain, ytest = y[trainindex], y[testindex]\n",
    "            mean = np.mean(ytrain)\n",
    "            median = np.median(ytrain)\n",
    "            mostfrequent = max(set(list(y)), key=list(ytrain).count)\n",
    "            if rounddecimals!=\"none\":\n",
    "                mean = np.round(mean, decimals=rounddecimals)\n",
    "            meanscore.append((ytest==mean).mean())\n",
    "            medianscore.append((ytest==median).mean())\n",
    "            mostfrequentscore.append((ytest==mostfrequent).mean())\n",
    "    meanscore = (np.mean(meanscore), np.std(meanscore))\n",
    "    medianscore = (np.mean(medianscore), np.std(medianscore))\n",
    "    mostfrequentscore = (np.mean(mostfrequentscore), np.std(mostfrequentscore))\n",
    "    allscores = [meanscore[0], medianscore[0], mostfrequentscore[0]]\n",
    "    return [meanscore, medianscore, mostfrequentscore][allscores.index(max(allscores))]"
   ]
  },
  {
   "cell_type": "markdown",
   "metadata": {},
   "source": [
    "#### Helper functions"
   ]
  },
  {
   "cell_type": "code",
   "execution_count": 5,
   "metadata": {
    "collapsed": false
   },
   "outputs": [],
   "source": [
    "#======================================================================\n",
    "#======================================================================\n",
    "#========================PROBABLY OBSOLETE CELL========================\n",
    "#======================================================================\n",
    "#======================================================================\n",
    "\n",
    "def transformData(inputdata, transform=\"log\"):\n",
    "    outputdata = deepcopy(inputdata)\n",
    "    if transform==\"sqrt\":\n",
    "        outputdata[outputdata>0] = np.sqrt(outputdata[outputdata>0])\n",
    "        outputdata[outputdata<0] = -np.sqrt(-outputdata[outputdata<0])\n",
    "    if transform==\"log\":\n",
    "        #----------------------------\n",
    "        # USE np.log1p !!!!\n",
    "        #----------------------------\n",
    "        outputdata[outputdata>1] = np.log(outputdata[outputdata>1])+1\n",
    "        outputdata[outputdata<-1] = -np.log(-outputdata[outputdata<-1])-1\n",
    "    return outputdata\n",
    "\n",
    "def inverseTransformData(inputdata, transform=\"log\"):\n",
    "    outputdata = deepcopy(inputdata)\n",
    "    if transform==\"sqrt\":\n",
    "        outputdata[outputdata>0] = outputdata[outputdata>0]**2\n",
    "        outputdata[outputdata<0] = -((-outputdata[outputdata<0])**2)\n",
    "    if transform==\"log\":\n",
    "        outputdata[outputdata>1] = np.e**(outputdata[outputdata>1]-1)\n",
    "        outputdata[outputdata<-1] = -(np.e**(-outputdata[outputdata<-1] -1))\n",
    "    return outputdata\n",
    "\n",
    "\n",
    "\n",
    "#This function removes those rows in \"inputdataframe\" where data was generated automatially \n",
    "# in the column \"columnofinterest\". \"dictofunknown\" contains the information on what data was\n",
    "# generated automatically.\n",
    "def removeAutogeneratedData(inputdataframe, columnsofinterest, dictofunknown):\n",
    "    if type(columnsofinterest)==str:\n",
    "        allcolumnsofinterest = [columnsofinterest]\n",
    "    else:\n",
    "        allcolumnsofinterest = columnsofinterest\n",
    "    outputdataframe = deepcopy(inputdataframe)\n",
    "    for col in allcolumnsofinterest:\n",
    "        if col in dictofunknown:\n",
    "            outputdataframe = outputdataframe[outputdataframe[col]!= dictofunknown[col]]\n",
    "    return outputdataframe\n",
    "\n",
    "# Helper function that takes a model, e.g. linear_model.LinearRegression,\n",
    "# and returns the name of that model, e.g. \"LinearRegression\"\n",
    "def getModelName(currentmodel):\n",
    "    modelname = str(currentmodel)\n",
    "    modelname = modelname[modelname.rfind(\".\")+1:]\n",
    "    extracharacters = re.search(\"[^a-zA-z]\",modelname)\n",
    "    if type(extracharacters)!=type(None):\n",
    "        modelname = modelname[:extracharacters.start()]\n",
    "    return modelname"
   ]
  },
  {
   "cell_type": "markdown",
   "metadata": {},
   "source": [
    "### Implement all linear regressions"
   ]
  },
  {
   "cell_type": "code",
   "execution_count": 6,
   "metadata": {
    "collapsed": false
   },
   "outputs": [],
   "source": [
    "#======================================================================\n",
    "#======================================================================\n",
    "#========================PROBABLY OBSOLETE CELL========================\n",
    "#======================================================================\n",
    "#======================================================================\n",
    "\n",
    "def tryAllLinearRegressions(thedataframe, topredict, frompredict, dictofunknown={}, num_iterations=100, \n",
    "                            rounddecimals=\"none\", printout=False, classifier=False, transform=\"none\"):\n",
    "    # We begin by making the input data from thedataframe\n",
    "    (X,y) = makeDataFromModels(thedataframe, topredict, frompredict, dictofunknown)\n",
    "    \n",
    "    modelstotryout = [LinearRegression, RidgeCV, LassoCV, \n",
    "                      BayesianRidge, SGDRegressor]\n",
    "    \n",
    "    if classifier==True:\n",
    "        randomprediction = randomPrediction(y, rounddecimals=rounddecimals, num_iterations=num_iterations)\n",
    "    modelandresults = {}\n",
    "    for model in modelstotryout:\n",
    "        modelname = getModelName(model)\n",
    "        if printout==True:\n",
    "            print modelname\n",
    "        transformtouse = transform\n",
    "        if model==SGDRegressor:\n",
    "            transformtouse = \"scale\"\n",
    "        if \"n_alphas\" in model().get_params():\n",
    "            modeldata = getParametersAndPredictionScore(X, y, model, rounddecimals=rounddecimals, \n",
    "                                                        num_iterations=num_iterations, n_alphas=3,\n",
    "                                                        classifier=classifier, transform=transformtouse)\n",
    "        else:\n",
    "            modeldata = getParametersAndPredictionScore(X, y, model, rounddecimals=rounddecimals, \n",
    "                                                        num_iterations=num_iterations, classifier=classifier,\n",
    "                                                        transform=transformtouse)\n",
    "        modelandresults[modelname] = modeldata\n",
    "        if printout==True:\n",
    "            print u\"\\tThe score on the fit is %f \\u00B1 %f (1.0 is perfect)\" %modeldata[2]\n",
    "            if classifier==True:\n",
    "                print u\"\\tThe percentage of correct identifications is: %f \\u00B1 %f\" %modeldata[-1]\n",
    "                print u\"\\t         Benchmark from random prediction is: %f \\u00B1 %f\" %randomprediction\n",
    "    return modelandresults"
   ]
  },
  {
   "cell_type": "markdown",
   "metadata": {},
   "source": [
    "### Function for plotting heteroscedasticity\n",
    "zzzzzzzz Useful zzzzzzzz"
   ]
  },
  {
   "cell_type": "code",
   "execution_count": null,
   "metadata": {
    "collapsed": true
   },
   "outputs": [],
   "source": [
    "# Makes a scatterplot of the error in prediction, versus the predicted value, to see if there\n",
    "# is any heteroscedasticity, i.e. to see if the error bars of our prediction depend on the value\n",
    "# of the prediction. Returns the R^2 value of the prediction.\n",
    "def plotErrors(thedataframe, topredict, frompredict, chosenmodel, dictofregressions, \n",
    "               rounddecimals=\"none\", minvalue=\"none\", maxvalue=\"none\", ax=\"none\", dictofunknown={}, \n",
    "               alpha=0.3, transform=\"none\"):\n",
    "    (X,y) = makeDataFromModels(thedataframe, topredict, frompredict, dictofunknown)\n",
    "    if transform!=\"none\":\n",
    "        X = transformData(X, transform=transform)\n",
    "    coefficients = dictofregressions[chosenmodel][1]\n",
    "    intercept = dictofregressions[chosenmodel][0]\n",
    "    prediction = np.dot(X,coefficients) + intercept\n",
    "    if transform!=\"none\":\n",
    "        prediction = inverseTransformData(prediction, transform=transform)\n",
    "    if rounddecimals!=\"none\":\n",
    "        prediction = np.round(prediction, decimals=rounddecimals)\n",
    "    if minvalue!=\"none\":\n",
    "        prediction[prediction < minvalue] = minvalue\n",
    "    if maxvalue!=\"none\":\n",
    "        prediction[prediction > maxvalue] = maxvalue\n",
    "    if ax==\"none\":\n",
    "        plt.scatter(prediction, prediction - y, alpha=alpha)\n",
    "        plt.xlabel(\"Predicted \" + topredict)\n",
    "        plt.ylabel(\"Error in prediction\")\n",
    "        plt.show()\n",
    "    else:\n",
    "        ax.scatter(prediction, prediction - y, alpha=alpha)\n",
    "        ax.set_xlabel(\"Predicted \" + topredict)\n",
    "        ax.set_ylabel(\"Error in prediction\")\n",
    "    print \"Mean: %f\" %np.mean(prediction - y)\n",
    "    print \"Std: %f\" %np.std(prediction - y)\n",
    "    print \"R^2: %f\" %(np.var(prediction) / np.var(y))"
   ]
  },
  {
   "cell_type": "markdown",
   "metadata": {},
   "source": [
    "#### Helper functions"
   ]
  },
  {
   "cell_type": "code",
   "execution_count": 7,
   "metadata": {
    "collapsed": true
   },
   "outputs": [],
   "source": [
    "#======================================================================\n",
    "#======================================================================\n",
    "#========================PROBABLY OBSOLETE CELL========================\n",
    "#======================================================================\n",
    "#======================================================================\n",
    "\n",
    "def makeDataFromModels(thedataframe, topredict, frompredict, dictofunknown):\n",
    "    tousedataframe = removeAutogeneratedData(thedataframe, frompredict + [topredict], dictofunknown)\n",
    "    X = tousedataframe[frompredict].as_matrix()\n",
    "    y = tousedataframe[topredict].as_matrix()\n",
    "    return (X,y)"
   ]
  },
  {
   "cell_type": "markdown",
   "metadata": {},
   "source": [
    "### Functions for using regressions to fill in unknown data"
   ]
  },
  {
   "cell_type": "code",
   "execution_count": 8,
   "metadata": {
    "collapsed": false
   },
   "outputs": [],
   "source": [
    "#======================================================================\n",
    "#======================================================================\n",
    "#========================PROBABLY OBSOLETE CELL========================\n",
    "#======================================================================\n",
    "#======================================================================\n",
    "\n",
    "# Makes a dataframe where the values of topredict have been predicted using frompredict, with the regression \n",
    "# model called chosenmodel (a string). For this we need to have found all regressions, placed in the variable\n",
    "# dictofregressions.\n",
    "def incorporateRegressionPrediction(inputdataframe, topredict, frompredict, chosenmodel, dictofregressions,\n",
    "                                    rounddecimals=\"none\", minvalue=\"none\", maxvalue=\"none\", transform=\"none\"):\n",
    "    thedataframe = deepcopy(inputdataframe)\n",
    "    if topredict in dictofunknown:\n",
    "        topredictframe = thedataframe[thedataframe[topredict]==dictofunknown[topredict]]\n",
    "    else:\n",
    "        topredictframe = thedataframe[thedataframe[topredict].isnull()]\n",
    "    ind = topredictframe.index\n",
    "    dataX = topredictframe[frompredict].as_matrix()\n",
    "    if transform!=\"none\":\n",
    "        dataX = transformData(dataX, transform=transform)\n",
    "    if len(dataX) > 0:\n",
    "        coefficients = dictofregressions[chosenmodel][1]\n",
    "        intercept = dictofregressions[chosenmodel][0]\n",
    "        prediction = np.dot(dataX,coefficients) + intercept\n",
    "        if transform!=\"none\":\n",
    "            prediction = inverseTransformData(prediction, transform=transform)\n",
    "        if rounddecimals!=\"none\":\n",
    "            prediction = np.round(prediction, decimals=rounddecimals)\n",
    "        if minvalue!=\"none\":\n",
    "            prediction[prediction < minvalue] = minvalue\n",
    "        if maxvalue!=\"none\":\n",
    "            prediction[prediction > maxvalue] = maxvalue\n",
    "        thedataframe.loc[ind, topredict] = prediction\n",
    "    return thedataframe"
   ]
  },
  {
   "cell_type": "markdown",
   "metadata": {},
   "source": [
    "### Use linear regression for missing data\n",
    "\n",
    "After having tried various options, it seems like using transform=\"log\" we're able to avoid most of the heteroscedasticity we otherwise get with a straightforward linear regression."
   ]
  },
  {
   "cell_type": "code",
   "execution_count": 9,
   "metadata": {
    "collapsed": false
   },
   "outputs": [
    {
     "name": "stdout",
     "output_type": "stream",
     "text": [
      "LinearRegression\n",
      "\tThe score on the fit is 0.231831 ± 0.072196 (1.0 is perfect)\n",
      "RidgeCV\n",
      "\tThe score on the fit is 0.226336 ± 0.076700 (1.0 is perfect)\n",
      "LassoCV\n",
      "\tThe score on the fit is 0.235617 ± 0.067838 (1.0 is perfect)\n",
      "BayesianRidge\n",
      "\tThe score on the fit is 0.230975 ± 0.073355 (1.0 is perfect)\n",
      "SGDRegressor\n",
      "\tThe score on the fit is 0.210152 ± 0.062698 (1.0 is perfect)\n"
     ]
    }
   ],
   "source": [
    "#======================================================================\n",
    "#======================================================================\n",
    "#========================PROBABLY OBSOLETE CELL========================\n",
    "#======================================================================\n",
    "#======================================================================\n",
    "\n",
    "numericdataframe = makeAllColumnsNumeric(thedataframe, dictofordinals, datacateg)[0]\n",
    "topredict = \"Age\"\n",
    "frompredict = ['Pclass', 'Sex', 'SibSp', 'Parch', \"Fare\", \"Cabin\", 'Embarked']\n",
    "tousedataframe = deepcopy(numericdataframe)\n",
    "transform = \"log\"\n",
    "\n",
    "linearregressions = tryAllLinearRegressions(tousedataframe, topredict, frompredict,\n",
    "                                            dictofunknown={'Age': 29.6991176471}, printout=True, num_iterations=100, \n",
    "                                            rounddecimals=\"none\", classifier=False, transform=transform)"
   ]
  },
  {
   "cell_type": "markdown",
   "metadata": {},
   "source": [
    "### Check heteroscedasticity of fit"
   ]
  },
  {
   "cell_type": "code",
   "execution_count": 10,
   "metadata": {
    "collapsed": false
   },
   "outputs": [
    {
     "data": {
      "image/png": "[encoded data removed]",
      "text/plain": [
       "<matplotlib.figure.Figure at 0xc5757f0>"
      ]
     },
     "metadata": {},
     "output_type": "display_data"
    },
    {
     "name": "stdout",
     "output_type": "stream",
     "text": [
      "Mean: -3.667033\n",
      "Std: 12.409790\n",
      "R^2: 0.492753\n"
     ]
    }
   ],
   "source": [
    "#======================================================================\n",
    "#======================================================================\n",
    "#========================PROBABLY OBSOLETE CELL========================\n",
    "#======================================================================\n",
    "#======================================================================\n",
    "\n",
    "chosenmodel = \"LinearRegression\"\n",
    "dictofregressions = linearregressions\n",
    "rounddecimals=0\n",
    "minvalue=0\n",
    "maxvalue=100\n",
    "\n",
    "plotErrors(tousedataframe, topredict, frompredict, chosenmodel, dictofregressions,\n",
    "           rounddecimals=rounddecimals, minvalue=minvalue, maxvalue=maxvalue, ax=\"none\", transform=transform)"
   ]
  },
  {
   "cell_type": "markdown",
   "metadata": {},
   "source": [
    "### Make new datafram with predicted values"
   ]
  },
  {
   "cell_type": "code",
   "execution_count": 11,
   "metadata": {
    "collapsed": false
   },
   "outputs": [],
   "source": [
    "#======================================================================\n",
    "#======================================================================\n",
    "#========================PROBABLY OBSOLETE CELL========================\n",
    "#======================================================================\n",
    "#======================================================================\n",
    "\n",
    "newdataframe = incorporateRegressionPrediction(tousedataframe, topredict, frompredict, chosenmodel, dictofregressions,\n",
    "                                               rounddecimals=rounddecimals, minvalue=minvalue, maxvalue=maxvalue, \n",
    "                                               transform=transform)"
   ]
  },
  {
   "cell_type": "markdown",
   "metadata": {},
   "source": [
    "## Classification\n",
    "### Generic functions for making predictions and checking their accuracy"
   ]
  },
  {
   "cell_type": "code",
   "execution_count": 12,
   "metadata": {
    "collapsed": true
   },
   "outputs": [],
   "source": [
    "#======================================================================\n",
    "#======================================================================\n",
    "#========================PROBABLY OBSOLETE CELL========================\n",
    "#======================================================================\n",
    "#======================================================================\n",
    "\n",
    "\n",
    "def getPrediction(trainX, trainy, dataX, predictionmethod, transform=\"none\",**kwargs):\n",
    "    (Xtraining, ytraining) = (trainX, trainy)\n",
    "    X = dataX\n",
    "    if transform!=\"none\":\n",
    "        Xtraining = transformData(trainX, transform=transform)\n",
    "        X = transformData(dataX, transform=transform)\n",
    "    if transform==\"scale\":\n",
    "        (Xtraining, X) = scaleData(Xtraining, X)\n",
    "    predictor = predictionmethod(**kwargs)\n",
    "    predictor.fit(Xtraining,ytraining)\n",
    "    predictedy = predictor.predict(X)\n",
    "    return predictedy\n",
    "\n",
    "def getPredictionProba(trainX, trainy, dataX, predictionmethod, transform=\"none\",**kwargs):\n",
    "    (Xtraining, ytraining) = (trainX, trainy)\n",
    "    X = dataX\n",
    "    if transform!=\"none\":\n",
    "        Xtraining = transformData(trainX, transform=transform)\n",
    "        X = transformData(dataX, transform=transform)\n",
    "    if transform==\"scale\":\n",
    "        (Xtraining, X) = scaleData(Xtraining, X)\n",
    "    predictor = predictionmethod(**kwargs)\n",
    "    predictor.fit(Xtraining,ytraining)\n",
    "    predictedy = predictor.predict_proba(X)\n",
    "    return predictedy\n",
    "\n",
    "def getPredictionScore(inputX, inputy, predictionmethod, num_iterations=1, transform=\"none\",**kwargs):\n",
    "    (X, y) = (inputX, inputy)\n",
    "    if transform!=\"none\":\n",
    "        X = transformData(inputX, transform=transform)\n",
    "    score = []\n",
    "    for iter in range(num_iterations):\n",
    "        kfoldindices = KFold(len(y),n_folds=5,shuffle=True)\n",
    "        for trainindex, testindex in kfoldindices:\n",
    "            Xtrain, Xtest = X[trainindex], X[testindex]\n",
    "            if transform==\"scale\":\n",
    "                (Xtrain, Xtest) = scaleData(Xtrain, Xtest)\n",
    "            ytrain, ytest = y[trainindex], y[testindex]\n",
    "            predictor = predictionmethod(**kwargs)\n",
    "            predictor.fit(Xtrain,ytrain)\n",
    "            score.append(predictor.score(Xtest,ytest))\n",
    "    score = (np.mean(score),np.std(score))\n",
    "    return score"
   ]
  },
  {
   "cell_type": "markdown",
   "metadata": {},
   "source": [
    "### Functions for making classification through regression"
   ]
  },
  {
   "cell_type": "code",
   "execution_count": 13,
   "metadata": {
    "collapsed": false
   },
   "outputs": [],
   "source": [
    "#======================================================================\n",
    "#======================================================================\n",
    "#========================PROBABLY OBSOLETE CELL========================\n",
    "#======================================================================\n",
    "#======================================================================\n",
    "\n",
    "\n",
    "def tryAllLinRegClassifiers(thedataframe, topredict, frompredict, dictofunknown={}, num_iterations=30, \n",
    "                            rounddecimals=0, printout=True, transform=\"scale\", polynomialdegrees=[1]):\n",
    "    linregs = tryPolynomialRegressions(thedataframe, topredict, frompredict, polynomialdegrees,\n",
    "                                       dictofunknown=dictofunknown, num_iterations=num_iterations,\n",
    "                                       rounddecimals=rounddecimals, printout=printout, classifier=True, transform=transform)\n",
    "    otherregs = tryOtherRegressions(thedataframe, topredict, frompredict,\n",
    "                                    dictofunknown=dictofunknown, num_iterations=num_iterations,\n",
    "                                    rounddecimals=rounddecimals, printout=printout, classifier=True, transform=\"none\")\n",
    "    linregs.update(otherregs)\n",
    "    regclassifiers = tryAllRegressionClassifiers(thedataframe, topredict, frompredict, polynomialdegrees, \n",
    "                                                 dictofunknown=dictofunknown, num_iterations=num_iterations, \n",
    "                                                 printout=printout, transform=transform)\n",
    "    linregs.update(regclassifiers)\n",
    "    otherclass = tryOtherClassifiers(thedataframe, topredict, frompredict, dictofunknown=dictofunknown, \n",
    "                                     num_iterations=num_iterations, printout=printout, transform=transform)\n",
    "    linregs.update(otherclass)\n",
    "    return linregs"
   ]
  },
  {
   "cell_type": "markdown",
   "metadata": {},
   "source": [
    "#### Helper functions"
   ]
  },
  {
   "cell_type": "code",
   "execution_count": 14,
   "metadata": {
    "collapsed": false
   },
   "outputs": [],
   "source": [
    "#======================================================================\n",
    "#======================================================================\n",
    "#========================PROBABLY OBSOLETE CELL========================\n",
    "#======================================================================\n",
    "#======================================================================\n",
    "\n",
    "\n",
    "def tryAllRegressionClassifiers(thedataframe, topredict, frompredict, polynomialdegrees, dictofunknown={}, num_iterations=100, \n",
    "                            printout=False, transform=\"none\"):\n",
    "    # We begin by making the input data from thedataframe\n",
    "    (X,y) = makeDataFromModels(thedataframe, topredict, frompredict, dictofunknown)\n",
    "    \n",
    "    modelstotryout = [LogisticRegression, LogisticRegressionCV, SGDClassifier, Perceptron]\n",
    "    \n",
    "    if type(polynomialdegrees)==int:\n",
    "        alldegrees = [polynomialdegrees]\n",
    "    else:\n",
    "        alldegrees = polynomialdegrees\n",
    "    \n",
    "    randomprediction = randomPrediction(y, num_iterations=num_iterations)\n",
    "    \n",
    "    modelandresults = {}\n",
    "    for model in modelstotryout:\n",
    "        modelname = getModelName(model)\n",
    "        if printout==True:\n",
    "            print modelname\n",
    "        transformtouse = transform\n",
    "        if model==SGDClassifier or model==Perceptron:\n",
    "            transformtouse = \"scale\"\n",
    "        for polydegree in alldegrees:\n",
    "            poly = PolynomialFeatures(degree=polydegree)\n",
    "            polyX = poly.fit_transform(X)\n",
    "            if printout==True:\n",
    "                print \"\\tPolynomial of degree \" + str(polydegree)\n",
    "            if \"n_alphas\" in model().get_params(): \n",
    "                modelscore = getPredictionScore(polyX, y, model, num_iterations=num_iterations, n_alphas=3, \n",
    "                                                transform=transformtouse)\n",
    "            else:\n",
    "                modelscore = getPredictionScore(polyX, y, model, num_iterations=num_iterations, transform=transformtouse)\n",
    "            modelandresults[modelname] = modelscore\n",
    "            if printout==True:\n",
    "                print u\"\\t\\tThe percentage of correct identifications is: %f \\u00B1 %f\" %modelscore\n",
    "                print u\"\\t\\t         Benchmark from random prediction is: %f \\u00B1 %f\" %randomprediction\n",
    "            # Now we'll do the Bagging version of this same model\n",
    "            if printout==True:\n",
    "                print \"\\t    Bagging version\"\n",
    "            if \"n_alphas\" in model().get_params(): \n",
    "                modelscore = getPredictionScore(X, y, BaggingClassifier, num_iterations=2, transform=transformtouse,\n",
    "                                            base_estimator=model(n_alphas=3), n_estimators=30)\n",
    "            else:\n",
    "                modelscore = getPredictionScore(X, y, BaggingClassifier, num_iterations=2, transform=transformtouse,\n",
    "                                            base_estimator=model(), n_estimators=30)\n",
    "            modelandresults[(\"Bagging \" + modelname)] = modelscore\n",
    "            if printout==True:\n",
    "                print u\"\\t\\tThe percentage of correct identifications is: %f \\u00B1 %f\" %modelscore\n",
    "                print u\"\\t\\t         Benchmark from random prediction is: %f \\u00B1 %f\" %randomprediction\n",
    "    return modelandresults\n",
    "\n",
    "def tryPolynomialRegressions(thedataframe, topredict, frompredict, polynomialdegrees, dictofunknown={}, num_iterations=100, \n",
    "                             rounddecimals=\"none\", printout=False, classifier=False, transform=\"none\"):\n",
    "    # We begin by making the input data from thedataframe\n",
    "    (X,y) = makeDataFromModels(thedataframe, topredict, frompredict, dictofunknown)\n",
    "    \n",
    "    modelstotryout = [LinearRegression, RidgeCV, LassoCV, BayesianRidge, SGDRegressor]\n",
    "    \n",
    "    if type(polynomialdegrees)==int:\n",
    "        alldegrees = [polynomialdegrees]\n",
    "    else:\n",
    "        alldegrees = polynomialdegrees\n",
    "    \n",
    "    if classifier==True:\n",
    "        randomprediction = randomPrediction(y, rounddecimals=rounddecimals, num_iterations=num_iterations)\n",
    "    modelandresults = {}\n",
    "    for model in modelstotryout:\n",
    "        modelname = getModelName(model)\n",
    "        if printout==True:\n",
    "            print modelname\n",
    "        transformtouse = transform\n",
    "        if model==SGDRegressor or model==Perceptron:\n",
    "            transformtouse = \"scale\"\n",
    "        for polydegree in alldegrees:\n",
    "            poly = PolynomialFeatures(degree=polydegree)\n",
    "            polyX = poly.fit_transform(X)\n",
    "            if printout==True:\n",
    "                print \"\\tPolynomial of degree \" + str(polydegree)\n",
    "            if \"n_alphas\" in model().get_params():\n",
    "                modeldata = getPredictionPercentage(polyX, y, model, rounddecimals=rounddecimals, \n",
    "                                                            num_iterations=num_iterations, n_alphas=3,\n",
    "                                                            classifier=classifier, transform=transformtouse)\n",
    "            else:\n",
    "                modeldata = getPredictionPercentage(polyX, y, model, rounddecimals=rounddecimals, \n",
    "                                                            num_iterations=num_iterations, classifier=classifier,\n",
    "                                                            transform=transformtouse)\n",
    "            modelandresults[(modelname,polydegree)] = modeldata\n",
    "            if printout==True:\n",
    "                print u\"\\t\\tThe score on the fit is %f \\u00B1 %f (1.0 is perfect)\" %modeldata[-2]\n",
    "                if classifier==True:\n",
    "                    print u\"\\t\\tThe percentage of correct identifications is: %f \\u00B1 %f\" %modeldata[-1]\n",
    "                    print u\"\\t\\t         Benchmark from random prediction is: %f \\u00B1 %f\" %randomprediction\n",
    "            # Now we'll do the Bagging version of this same model\n",
    "            if printout==True:\n",
    "                print \"\\t    Bagging version\"\n",
    "            if \"n_alphas\" in model().get_params(): \n",
    "                modeldata = getPredictionPercentage(polyX, y, BaggingRegressor, rounddecimals=rounddecimals, \n",
    "                                                             num_iterations=2, classifier=classifier,\n",
    "                                                             transform=transformtouse, base_estimator=model(n_alphas=3),\n",
    "                                                             n_estimators=30)\n",
    "            else:\n",
    "                modeldata = getPredictionPercentage(polyX, y, BaggingRegressor, rounddecimals=rounddecimals, \n",
    "                                                             num_iterations=2, classifier=classifier,\n",
    "                                                             transform=transformtouse, base_estimator=model(),\n",
    "                                                             n_estimators=30)\n",
    "            modelandresults[(\"Bagging \" + modelname)] = modeldata\n",
    "            if printout==True:\n",
    "                print u\"\\t\\tThe score on the fit is %f \\u00B1 %f (1.0 is perfect)\" %modeldata[-2]\n",
    "                if classifier==True:\n",
    "                    print u\"\\t\\tThe percentage of correct identifications is: %f \\u00B1 %f\" %modeldata[-1]\n",
    "                    print u\"\\t\\t         Benchmark from random prediction is: %f \\u00B1 %f\" %randomprediction\n",
    "    return modelandresults\n",
    "\n",
    "def tryOtherRegressions(thedataframe, topredict, frompredict, dictofunknown={}, num_iterations=100, \n",
    "                        rounddecimals=\"none\", printout=False, classifier=False, transform=\"none\"):\n",
    "    # We begin by making the input data from thedataframe\n",
    "    (X,y) = makeDataFromModels(thedataframe, topredict, frompredict, dictofunknown)\n",
    "    \n",
    "    modelstotryout = [KernelRidge, GaussianProcessRegressor]\n",
    "       \n",
    "    if classifier==True:\n",
    "        randomprediction = randomPrediction(y, rounddecimals=rounddecimals, num_iterations=num_iterations)\n",
    "    modelandresults = {}\n",
    "    for model in modelstotryout:\n",
    "        modelname = getModelName(model)\n",
    "        if printout==True:\n",
    "            print modelname\n",
    "        transformtouse = transform\n",
    "        if model==SGDRegressor or model==Perceptron:\n",
    "            transformtouse = \"scale\"\n",
    "        if \"n_alphas\" in model().get_params():\n",
    "            modeldata = getPredictionPercentage(X, y, model, rounddecimals=rounddecimals, \n",
    "                                                num_iterations=num_iterations, n_alphas=3,\n",
    "                                                classifier=classifier, transform=transformtouse)\n",
    "        else:\n",
    "            modeldata = getPredictionPercentage(X, y, model, rounddecimals=rounddecimals, \n",
    "                                                num_iterations=num_iterations, classifier=classifier,\n",
    "                                                transform=transformtouse)\n",
    "        modelandresults[modelname] = modeldata\n",
    "        if printout==True:\n",
    "            print u\"\\tThe score on the fit is %f \\u00B1 %f (1.0 is perfect)\" %modeldata[-2]\n",
    "            if classifier==True:\n",
    "                print u\"\\tThe percentage of correct identifications is: %f \\u00B1 %f\" %modeldata[-1]\n",
    "                print u\"\\t         Benchmark from random prediction is: %f \\u00B1 %f\" %randomprediction\n",
    "        # Now we'll do the Bagging version of this same model\n",
    "        if printout==True:\n",
    "            print \"    Bagging version\"\n",
    "        if \"n_alphas\" in model().get_params(): \n",
    "            modeldata = getPredictionPercentage(X, y, BaggingRegressor, rounddecimals=rounddecimals, \n",
    "                                                num_iterations=2, classifier=classifier,\n",
    "                                                transform=transformtouse, base_estimator=model(n_alphas=3),\n",
    "                                                n_estimators=30)\n",
    "        else:\n",
    "            modeldata = getPredictionPercentage(X, y, BaggingRegressor, rounddecimals=rounddecimals, \n",
    "                                                num_iterations=2, classifier=classifier,\n",
    "                                                transform=transformtouse, base_estimator=model(),\n",
    "                                                n_estimators=30)\n",
    "        modelandresults[(\"Bagging \" + modelname)] = modeldata\n",
    "        if printout==True:\n",
    "            print u\"\\tThe score on the fit is %f \\u00B1 %f (1.0 is perfect)\" %modeldata[-2]\n",
    "            if classifier==True:\n",
    "                print u\"\\tThe percentage of correct identifications is: %f \\u00B1 %f\" %modeldata[-1]\n",
    "                print u\"\\t         Benchmark from random prediction is: %f \\u00B1 %f\" %randomprediction\n",
    "    return modelandresults\n",
    "\n",
    "def tryOtherClassifiers(thedataframe, topredict, frompredict, dictofunknown={}, num_iterations=100, \n",
    "                            printout=False, transform=\"none\"):\n",
    "    # We begin by making the input data from thedataframe\n",
    "    (X,y) = makeDataFromModels(thedataframe, topredict, frompredict, dictofunknown)\n",
    "    \n",
    "    modelstotryout = [SVC, KNeighborsClassifier, NearestCentroid, GaussianProcessClassifier, GaussianNB, \n",
    "                      DecisionTreeClassifier, RandomForestClassifier, ExtraTreesClassifier, AdaBoostClassifier,\n",
    "                      GradientBoostingClassifier]\n",
    "      \n",
    "    randomprediction = randomPrediction(y, num_iterations=num_iterations)\n",
    "    \n",
    "    modelandresults = {}\n",
    "    for model in modelstotryout:\n",
    "        modelname = getModelName(model)\n",
    "        if printout==True:\n",
    "            print modelname\n",
    "        transformtouse = transform\n",
    "        if model==SGDClassifier or model==Perceptron or model==SVC:\n",
    "            transformtouse = \"scale\"\n",
    "        if \"n_alphas\" in model().get_params():\n",
    "            modelscore = getPredictionScore(X, y, model, num_iterations=num_iterations, n_alphas=3, \n",
    "                                            transform=transformtouse)\n",
    "        else:\n",
    "            modelscore = getPredictionScore(X, y, model, num_iterations=num_iterations, transform=transformtouse)\n",
    "        modelandresults[modelname] = modelscore\n",
    "        if printout==True:\n",
    "            print u\"\\tThe percentage of correct identifications is: %f \\u00B1 %f\" %modelscore\n",
    "            print u\"\\t         Benchmark from random prediction is: %f \\u00B1 %f\" %randomprediction\n",
    "        # Now we'll do the Bagging version of this same model\n",
    "        if model!=RandomForestClassifier and model!=ExtraTreesClassifier:\n",
    "            if printout==True:\n",
    "                print \"    Bagging version\"\n",
    "            if \"n_alphas\" in model().get_params(): \n",
    "                modelscore = getPredictionScore(X, y, BaggingClassifier, num_iterations=2, transform=transformtouse,\n",
    "                                            base_estimator=model(n_alphas=3), n_estimators=30)\n",
    "            else:\n",
    "                modelscore = getPredictionScore(X, y, BaggingClassifier, num_iterations=2, transform=transformtouse,\n",
    "                                            base_estimator=model(), n_estimators=30)\n",
    "            modelandresults[(\"Bagging \" + modelname)] = modelscore\n",
    "            if printout==True:\n",
    "                print u\"\\tThe percentage of correct identifications is: %f \\u00B1 %f\" %modelscore\n",
    "                print u\"\\t         Benchmark from random prediction is: %f \\u00B1 %f\" %randomprediction\n",
    "    return modelandresults"
   ]
  },
  {
   "cell_type": "code",
   "execution_count": null,
   "metadata": {
    "collapsed": false,
    "scrolled": false
   },
   "outputs": [],
   "source": [
    "#======================================================================\n",
    "#======================================================================\n",
    "#========================PROBABLY OBSOLETE CELL========================\n",
    "#======================================================================\n",
    "#======================================================================\n",
    "\n",
    "topredict = \"Survived\"\n",
    "frompredict = ['Pclass', 'Sex', \"Age\", 'SibSp', 'Parch', \"Fare\", \"Cabin\", 'Embarked']\n",
    "\n",
    "allmodelsandresults = tryAllLinRegClassifiers(numericdataframe, topredict, frompredict, num_iterations=10, \n",
    "                        transform=\"scale\", polynomialdegrees=[1,2,3])"
   ]
  },
  {
   "cell_type": "code",
   "execution_count": 15,
   "metadata": {
    "collapsed": false
   },
   "outputs": [
    {
     "data": {
      "text/plain": [
       "(0.81461071428571419, 0.02293086431386691)"
      ]
     },
     "execution_count": 15,
     "metadata": {},
     "output_type": "execute_result"
    }
   ],
   "source": [
    "#======================================================================\n",
    "#======================================================================\n",
    "#========================PROBABLY OBSOLETE CELL========================\n",
    "#======================================================================\n",
    "#======================================================================\n",
    "\n",
    "numericdataframe = makeAllColumnsNumeric(thedataframe, dictofordinals, datacateg)[0]\n",
    "topredict = \"Survived\"\n",
    "frompredict = ['Pclass', 'Sex', \"Age\", 'SibSp', 'Parch', \"Fare\", \"Cabin\", 'Embarked']\n",
    "\n",
    "(X,y) = makeDataFromModels(numericdataframe, topredict, frompredict, {})\n",
    "getPredictionScore(X, y, SVC, num_iterations=20, transform=\"scale\")"
   ]
  },
  {
   "cell_type": "markdown",
   "metadata": {},
   "source": [
    "### Neural Networks"
   ]
  },
  {
   "cell_type": "code",
   "execution_count": 137,
   "metadata": {
    "collapsed": false
   },
   "outputs": [
    {
     "data": {
      "text/plain": [
       "[<matplotlib.lines.Line2D at 0xee984e0>]"
      ]
     },
     "execution_count": 137,
     "metadata": {},
     "output_type": "execute_result"
    },
    {
     "data": {
      "image/png": "[encoded data removed]",
      "text/plain": [
       "<matplotlib.figure.Figure at 0xf6a1710>"
      ]
     },
     "metadata": {},
     "output_type": "display_data"
    }
   ],
   "source": [
    "#======================================================================\n",
    "#======================================================================\n",
    "#========================PROBABLY OBSOLETE CELL========================\n",
    "#======================================================================\n",
    "#======================================================================\n",
    "\n",
    "def makeitofsize(dathirdsize):\n",
    "    allofthem = []\n",
    "    for ii in range(40):\n",
    "        neurnet = MLPClassifier(solver=\"lbfgs\", hidden_layer_sizes=(4,9,dathirdsize))\n",
    "        X_train, X_test, y_train, y_test = train_test_split(X, y, test_size=0.8)\n",
    "        X_train, X_test = scaleData(X_train, X_test)\n",
    "        neurnet.fit(X_train, y_train)\n",
    "        allofthem.append(np.mean(neurnet.predict(X_test)==y_test))\n",
    "    return np.mean(allofthem)\n",
    "\n",
    "allthescores = [makeitofsize(jj) for jj in range(1,20)]\n",
    "plt.plot(range(1,20),allthescores)"
   ]
  },
  {
   "cell_type": "code",
   "execution_count": 138,
   "metadata": {
    "collapsed": false
   },
   "outputs": [
    {
     "data": {
      "text/plain": [
       "0.75035663338088443"
      ]
     },
     "execution_count": 138,
     "metadata": {},
     "output_type": "execute_result"
    }
   ],
   "source": [
    "#======================================================================\n",
    "#======================================================================\n",
    "#========================PROBABLY OBSOLETE CELL========================\n",
    "#======================================================================\n",
    "#======================================================================\n",
    "\n",
    "neurnet = MLPClassifier(solver=\"lbfgs\", hidden_layer_sizes=(100,10))\n",
    "X_train, X_test, y_train, y_test = train_test_split(X, y, test_size=0.8)\n",
    "# It's important to scale the data!\n",
    "X_train, X_test = scaleData(X_train, X_test)\n",
    "neurnet.fit(X_train, y_train)\n",
    "np.mean(neurnet.predict(X_test)==y_test)"
   ]
  },
  {
   "cell_type": "markdown",
   "metadata": {},
   "source": [
    "#### Find ideal number of neighbors"
   ]
  },
  {
   "cell_type": "code",
   "execution_count": 16,
   "metadata": {
    "collapsed": false
   },
   "outputs": [],
   "source": [
    "#======================================================================\n",
    "#======================================================================\n",
    "#========================PROBABLY OBSOLETE CELL========================\n",
    "#======================================================================\n",
    "#======================================================================\n",
    "\n",
    "numericdataframe = makeAllColumnsNumeric(thedataframe, dictofordinals, datacateg)[0]\n",
    "frompredict = ['Pclass', 'Sex', \"Age\", 'SibSp', 'Parch', \"Fare\", \"Cabin\", 'Embarked']\n",
    "#frompredict = ['Pclass', 'Sex', 'SibSp']\n",
    "\n",
    "(X,y) = makeDataFromModels(numericdataframe, topredict, frompredict, {})\n",
    "allscores = []\n",
    "for jj in range(1,20):\n",
    "    allscores.append(getPredictionScore(X, y, KNeighborsClassifier, num_iterations=30, transform=\"scale\", n_neighbors=jj)[0])\n",
    "\n",
    "# if we decrease wrt a value twice in a row, we've reached the max\n",
    "bestnumneighbors = list(np.append(\n",
    "    (np.array(allscores[2:]) - np.array(allscores[:-2]) < 0).astype(int), \n",
    "    1) * (np.array(allscores[1:]) - np.array(allscores[:-1]) < 0).astype(int)).index(1) + 1"
   ]
  },
  {
   "cell_type": "code",
   "execution_count": 17,
   "metadata": {
    "collapsed": false
   },
   "outputs": [
    {
     "name": "stdout",
     "output_type": "stream",
     "text": [
      "Ideal number is 13\n"
     ]
    },
    {
     "data": {
      "image/png": "[encoded data removed]",
      "text/plain": [
       "<matplotlib.figure.Figure at 0xc344ef0>"
      ]
     },
     "metadata": {},
     "output_type": "display_data"
    }
   ],
   "source": [
    "#======================================================================\n",
    "#======================================================================\n",
    "#========================PROBABLY OBSOLETE CELL========================\n",
    "#======================================================================\n",
    "#======================================================================\n",
    "\n",
    "poly = PolynomialFeatures(degree=2)\n",
    "polyX = poly.fit_transform((np.arange(len(allscores))+1).reshape(-1, 1))\n",
    "linreg = LinearRegression()\n",
    "linreg.fit(polyX,np.array(allscores).reshape(-1, 1))\n",
    "xs = np.linspace(0,18)\n",
    "plt.plot(xs, linreg.intercept_ + linreg.coef_[0][0] + linreg.coef_[0][1]*xs + linreg.coef_[0][2]*(xs**2))\n",
    "plt.plot(allscores)\n",
    "print \"Ideal number is %d\" %np.round(-linreg.coef_[0][1]/(2*linreg.coef_[0][2]))"
   ]
  },
  {
   "cell_type": "markdown",
   "metadata": {},
   "source": [
    "### Ensemble\n",
    "zzzzzzzzzzz Will be useful when implementing voting methods zzzzzzzzzzz"
   ]
  },
  {
   "cell_type": "code",
   "execution_count": 19,
   "metadata": {
    "collapsed": false
   },
   "outputs": [
    {
     "data": {
      "text/plain": [
       "(0.82166623376623382, 0.027986421212895671)"
      ]
     },
     "execution_count": 19,
     "metadata": {},
     "output_type": "execute_result"
    }
   ],
   "source": [
    "def getPredictAccur(predictionmethod):\n",
    "    try:\n",
    "        predictionaccuracy = allmodelsandresults[(getModelName(predictionmethod),polydegree)][-1][0]\n",
    "    except KeyError:\n",
    "        predictionaccuracy = allmodelsandresults[getModelName(predictionmethod)][0]\n",
    "    return predictionaccuracy\n",
    "\n",
    "# ================================================\n",
    "# THESE FUNCTIONS ARE FOR ESTIMATING THE CORRECT VALUES BASED ON A BAYES-LIKE PROB OF THE RIGHT ANSWER\n",
    "def getprob(result, event, prob):\n",
    "    if result==event:\n",
    "        chance = prob \n",
    "    else:\n",
    "        chance = 1 - prob\n",
    "    return chance\n",
    "\n",
    "def getConsensusResult(resultlist, probs):\n",
    "    prob1 = [getprob(result, 1,prob) for prob,result in zip(probs,resultlist)]\n",
    "    prob0 = [getprob(result, 0,prob) for prob,result in zip(probs,resultlist)]\n",
    "    #ratio = (np.mean(y)/(1-np.mean(y)))* np.prod(prob1)/np.prod(prob0)\n",
    "    ratio = np.prod(prob1)/np.prod(prob0)\n",
    "    probshouldbe1 = ratio / (1+ratio)\n",
    "    consensusresult = np.round(probshouldbe1)\n",
    "    return consensusresult\n",
    "# ================================================\n",
    "\n",
    "num_iterations = 10\n",
    "polydegree = 2\n",
    "modelstotryout = [RidgeCV, SGDRegressor, LogisticRegression, \n",
    "                  SVC, KNeighborsClassifier, NearestCentroid, RandomForestClassifier, ExtraTreesClassifier,\n",
    "                  AdaBoostClassifier, GradientBoostingClassifier]\n",
    "\n",
    "poly = PolynomialFeatures(degree=polydegree)\n",
    "probs = [getPredictAccur(predictionmethod) for predictionmethod in modelstotryout]\n",
    "totalvotes = np.sum(probs)\n",
    "score = []\n",
    "for iter in range(num_iterations):\n",
    "    kfoldindices = KFold(len(y),n_folds=5,shuffle=True)\n",
    "    for trainindex, testindex in kfoldindices:\n",
    "        Xtrain, Xtest = X[trainindex], X[testindex]\n",
    "        ytrain, ytest = y[trainindex], y[testindex]\n",
    "        ensemblepredictions = []\n",
    "        for predictionmethod in modelstotryout:\n",
    "            if predictionmethod in [RidgeCV, SGDRegressor, LogisticRegressionCV]:\n",
    "                Xtraintouse = poly.fit_transform(Xtrain)\n",
    "                Xtesttouse = poly.fit_transform(Xtest)\n",
    "            else:\n",
    "                Xtraintouse, Xtesttouse = Xtrain, Xtest\n",
    "            (Xtraintouse, Xtesttouse) = scaleData(Xtraintouse, Xtesttouse)\n",
    "            #if predictionmethod==DecisionTreeClassifier:\n",
    "            #    predictor = predictionmethod(max_depth=6, min_samples_leaf=5)\n",
    "            #elif predictionmethod==KNeighborsClassifier:\n",
    "            #    predictor = predictionmethod(n_neighbors=14)\n",
    "            #else:\n",
    "            #    predictor = predictionmethod()\n",
    "            predictor = predictionmethod()\n",
    "            predictor.fit(Xtraintouse,ytrain)\n",
    "            predictionaccuracy = getPredictAccur(predictionmethod)\n",
    "            prediction = np.round(predictor.predict(Xtesttouse), decimals=0)*predictionaccuracy\n",
    "            ensemblepredictions.append(prediction)\n",
    "        masterprediction = np.round(np.dot(np.transpose(np.array(ensemblepredictions)), \n",
    "                                           np.full(len(modelstotryout), 1.0)) / totalvotes)\n",
    "        # ================================================\n",
    "        # ALTERNATIVE METHOD, USING A BAYES-LIKE PROBABILITY ESTIMATE FOR WHICH ANSWER IS RIGHT\n",
    "        #rounded = np.round(np.transpose(np.array(ensemblepredictions)))\n",
    "        #masterprediction = np.array([getConsensusResult(resultlist,probs) for resultlist in rounded])\n",
    "        # ================================================\n",
    "        score.append(np.mean(masterprediction==ytest))\n",
    "        \n",
    "(np.mean(score),np.std(score))"
   ]
  },
  {
   "cell_type": "markdown",
   "metadata": {},
   "source": [
    "zzzzzzzzzzz Will be useful when implementing voting methods zzzzzzzzzzz"
   ]
  },
  {
   "cell_type": "code",
   "execution_count": 296,
   "metadata": {
    "collapsed": false
   },
   "outputs": [
    {
     "ename": "NameError",
     "evalue": "name 'allmodelsandresults' is not defined",
     "output_type": "error",
     "traceback": [
      "\u001b[1;31m---------------------------------------------------------------------------\u001b[0m",
      "\u001b[1;31mNameError\u001b[0m                                 Traceback (most recent call last)",
      "\u001b[1;32m<ipython-input-296-4cad92308b0c>\u001b[0m in \u001b[0;36m<module>\u001b[1;34m()\u001b[0m\n\u001b[0;32m     13\u001b[0m \u001b[0mclf8\u001b[0m \u001b[1;33m=\u001b[0m \u001b[0mAdaBoostClassifier\u001b[0m\u001b[1;33m(\u001b[0m\u001b[1;33m)\u001b[0m\u001b[1;33m\u001b[0m\u001b[0m\n\u001b[0;32m     14\u001b[0m \u001b[0mclf9\u001b[0m \u001b[1;33m=\u001b[0m \u001b[0mGradientBoostingClassifier\u001b[0m\u001b[1;33m(\u001b[0m\u001b[1;33m)\u001b[0m\u001b[1;33m\u001b[0m\u001b[0m\n\u001b[1;32m---> 15\u001b[1;33m \u001b[0mtheweights\u001b[0m \u001b[1;33m=\u001b[0m \u001b[1;33m[\u001b[0m\u001b[0mallmodelsandresults\u001b[0m\u001b[1;33m[\u001b[0m\u001b[0mdaname\u001b[0m\u001b[1;33m(\u001b[0m\u001b[0mclf\u001b[0m\u001b[1;33m)\u001b[0m\u001b[1;33m]\u001b[0m\u001b[1;33m[\u001b[0m\u001b[1;36m0\u001b[0m\u001b[1;33m]\u001b[0m \u001b[1;32mfor\u001b[0m \u001b[0mclf\u001b[0m \u001b[1;32min\u001b[0m \u001b[1;33m[\u001b[0m\u001b[0mclf2\u001b[0m\u001b[1;33m,\u001b[0m \u001b[0mclf3\u001b[0m\u001b[1;33m,\u001b[0m \u001b[0mclf4\u001b[0m\u001b[1;33m,\u001b[0m \u001b[0mclf5\u001b[0m\u001b[1;33m,\u001b[0m \u001b[0mclf6\u001b[0m\u001b[1;33m,\u001b[0m \u001b[0mclf7\u001b[0m\u001b[1;33m,\u001b[0m \u001b[0mclf8\u001b[0m\u001b[1;33m,\u001b[0m \u001b[0mclf9\u001b[0m\u001b[1;33m]\u001b[0m\u001b[1;33m]\u001b[0m\u001b[1;33m\u001b[0m\u001b[0m\n\u001b[0m\u001b[0;32m     16\u001b[0m \u001b[0mallscores\u001b[0m \u001b[1;33m=\u001b[0m \u001b[0mnp\u001b[0m\u001b[1;33m.\u001b[0m\u001b[0marray\u001b[0m\u001b[1;33m(\u001b[0m\u001b[1;33m[\u001b[0m\u001b[1;33m]\u001b[0m\u001b[1;33m)\u001b[0m\u001b[1;33m\u001b[0m\u001b[0m\n\u001b[0;32m     17\u001b[0m \u001b[1;32mfor\u001b[0m \u001b[0mii\u001b[0m \u001b[1;32min\u001b[0m \u001b[0mrange\u001b[0m\u001b[1;33m(\u001b[0m\u001b[1;36m10\u001b[0m\u001b[1;33m)\u001b[0m\u001b[1;33m:\u001b[0m\u001b[1;33m\u001b[0m\u001b[0m\n",
      "\u001b[1;31mNameError\u001b[0m: name 'allmodelsandresults' is not defined"
     ]
    }
   ],
   "source": [
    "# HERE IS SOMETHING THAT DOES NEARLY EXACTLY THE SAME THING (EXCEPT A LESS PRECISE COMPUTATION OF SCORES)\n",
    "def daname(clf):\n",
    "    return str(clf)[:str(clf).index(\"(\")]\n",
    "\n",
    "Xscaled = scaleData(X,X)[0]\n",
    "\n",
    "clf2 = LogisticRegression()\n",
    "clf3 = SVC()\n",
    "clf4 = KNeighborsClassifier()\n",
    "clf5 = NearestCentroid()\n",
    "clf6 = RandomForestClassifier(n_estimators=30)\n",
    "clf7 = ExtraTreesClassifier()\n",
    "clf8 = AdaBoostClassifier()\n",
    "clf9 = GradientBoostingClassifier()\n",
    "theweights = [allmodelsandresults[daname(clf)][0] for clf in [clf2, clf3, clf4, clf5, clf6, clf7, clf8, clf9]]\n",
    "allscores = np.array([])\n",
    "for ii in range(10):\n",
    "    ensemble = VotingClassifier(estimators=[('2', clf2), ('3', clf3), ('4', clf4), ('5', clf5), \n",
    "                                        ('6', clf6), ('7', clf7), ('8', clf8), ('9', clf9)], voting='hard', weights=theweights)\n",
    "    scores = cross_val_score(ensemble, Xscaled, y, cv=5)\n",
    "    allscores = np.append(allscores,scores)\n",
    "(np.mean(allscores), np.std(allscores))"
   ]
  },
  {
   "cell_type": "markdown",
   "metadata": {},
   "source": [
    "zzzzzzzzzzz Will be useful when implementing voting methods zzzzzzzzzzz"
   ]
  },
  {
   "cell_type": "code",
   "execution_count": 21,
   "metadata": {
    "collapsed": false
   },
   "outputs": [
    {
     "data": {
      "text/plain": [
       "0.82535714285714301"
      ]
     },
     "execution_count": 21,
     "metadata": {},
     "output_type": "execute_result"
    }
   ],
   "source": [
    "# IT WORKS ALSO WITH GRIDCV!\n",
    "ensemble = VotingClassifier(estimators=[('2', clf2), ('3', clf3),  ('4', clf4),  ('5', clf5), \n",
    "                                        ('6', clf6), ('7', clf7), ('8', clf8), ('9', clf9)], voting='hard', weights=theweights)\n",
    "params = [{'2__C': [1.0, 100.0], '6__n_estimators': [20, 100]}]\n",
    "grid = GridSearchCV(estimator=ensemble, param_grid=params, cv=5)\n",
    "np.mean(cross_val_score(grid, Xscaled, y, cv=5))"
   ]
  },
  {
   "cell_type": "markdown",
   "metadata": {},
   "source": [
    "## Semi-supervised\n",
    "Semi-supervised methods are when we have a very small amount of labeled data. The way we label the rest of the data is by similarity, often using K-nearest-neighobrs. The unlabeled data should have the $y$-value set to -1"
   ]
  },
  {
   "cell_type": "code",
   "execution_count": 18,
   "metadata": {
    "collapsed": false
   },
   "outputs": [],
   "source": [
    "#======================================================================\n",
    "#======================================================================\n",
    "#========================PROBABLY OBSOLETE CELL========================\n",
    "#======================================================================\n",
    "#======================================================================\n",
    "\n",
    "y_unlabeled = deepcopy(y)\n",
    "# Now we hide 80% of the answers y, and see if we can predict them\n",
    "indextoremovelabel = np.random.choice(range(len(y_unlabeled)), size=int(0.8*len(y_unlabeled)), replace=False)\n",
    "y_unlabeled[indextoremovelabel] = -1"
   ]
  },
  {
   "cell_type": "code",
   "execution_count": 19,
   "metadata": {
    "collapsed": false
   },
   "outputs": [
    {
     "name": "stdout",
     "output_type": "stream",
     "text": [
      "0.697488584475\n",
      "0.728310502283\n",
      "0.684931506849\n",
      "0.681506849315\n"
     ]
    }
   ],
   "source": [
    "#======================================================================\n",
    "#======================================================================\n",
    "#========================PROBABLY OBSOLETE CELL========================\n",
    "#======================================================================\n",
    "#======================================================================\n",
    "\n",
    "spreading = label_propagation.LabelSpreading(kernel='rbf')\n",
    "spreading.fit(X, y_unlabeled)\n",
    "print np.mean(spreading.transduction_==y) # The transduction attribute tells you what the predicted labels are\n",
    "\n",
    "spreading = label_propagation.LabelSpreading(kernel='knn', n_neighbors=7)\n",
    "spreading.fit(X, y_unlabeled)\n",
    "print np.mean(spreading.transduction_==y)\n",
    "\n",
    "propagation = label_propagation.LabelPropagation(kernel='rbf')\n",
    "propagation.fit(X, y_unlabeled)\n",
    "print np.mean(propagation.transduction_==y)\n",
    "\n",
    "propagation = label_propagation.LabelPropagation(kernel='knn')\n",
    "propagation.fit(X, y_unlabeled)\n",
    "print np.mean(propagation.transduction_==y)"
   ]
  },
  {
   "cell_type": "markdown",
   "metadata": {},
   "source": [
    "### Evaluate and improve Probability estimates\n",
    "zzzzzzzzzzz Will be useful later zzzzzzzzzzz"
   ]
  },
  {
   "cell_type": "code",
   "execution_count": 21,
   "metadata": {
    "collapsed": false
   },
   "outputs": [
    {
     "data": {
      "text/plain": [
       "<matplotlib.legend.Legend at 0xc27c710>"
      ]
     },
     "execution_count": 21,
     "metadata": {},
     "output_type": "execute_result"
    },
    {
     "data": {
      "image/png": "[encoded data removed]",
      "text/plain": [
       "<matplotlib.figure.Figure at 0xc27c5c0>"
      ]
     },
     "metadata": {},
     "output_type": "display_data"
    }
   ],
   "source": [
    "X_train, X_test, y_train, y_test = train_test_split(X, y, test_size=0.8)\n",
    "\n",
    "# When CalibratedClassifierCV fits the data it first splits it into 3 (or the number cv=#). It\n",
    "# then leaves out one part, fits the estimator (e.g. Random Forests) to the rest, and evaluates\n",
    "# the probabilities of the part left out. It then checks how good those probability estimates were,\n",
    "# by checking whether those predicted with probability 0.1 really did happen 10% of the time etc.\n",
    "# Once it knows how its probability estimates did it learns how to compensate for its estimates.\n",
    "# This same procedure is cycled through all 3 folds. We have now created a set of 3 estimators, each\n",
    "# one that knows how to compensate its probability predictions. \n",
    "# When we then use CalibratedClassifierCV to predict probabilities of a test set. Then, each of the\n",
    "# 3 estimators independently estimates the probability, compensating in its own way, and the \n",
    "# average of these results is takes as the true estimate.\n",
    "# If we want to set cv=1, i.e. to only have a single calibrated estimator, we just feed it\n",
    "# an already-fitted base estimator and set cv=\"prefit\". Then when we fit this calibrated\n",
    "# estimator, we must use data that wasn't used to fit the base estimator. Finally, we \n",
    "# use yet-unseen data to set it, as normal.\n",
    "\n",
    "est = RandomForestClassifier(n_estimators=10)\n",
    "calibratediso = CalibratedClassifierCV(est, method='isotonic')\n",
    "calibratedsig = CalibratedClassifierCV(est, method='sigmoid')\n",
    "\n",
    "plt.plot([0,1],[0,1], \"k:\")\n",
    "for clf in [est, calibratediso, calibratedsig]:\n",
    "    clf.fit(X_train, y_train)\n",
    "    prob_pos = clf.predict_proba(X_test)[:, 1]\n",
    "    answers, probas = calibration_curve(y_test, prob_pos, n_bins=10)\n",
    "    #plt.plot(probas, answers, \"s-\", label = daname(str(clf)))\n",
    "\n",
    "averagecalibration = (calibratediso.predict_proba(X_test)+calibratedsig.predict_proba(X_test))/2.\n",
    "answers, probas = calibration_curve(y_test, averagecalibration[:, 1], n_bins=10)\n",
    "plt.plot(probas, answers, \"s-\", label = \"Average\")\n",
    "plt.legend(loc=\"upper left\")"
   ]
  },
  {
   "cell_type": "markdown",
   "metadata": {},
   "source": [
    "## Unsupervised - Clustering"
   ]
  },
  {
   "cell_type": "markdown",
   "metadata": {},
   "source": [
    "#### Evaluation of model - if cluster answer is known (i.e. we have a y)"
   ]
  },
  {
   "cell_type": "code",
   "execution_count": 20,
   "metadata": {
    "collapsed": true
   },
   "outputs": [],
   "source": [
    "# Check for each cluster what the average value of y is. Then check in the predicted test sample whether they have the\n",
    "# same average value of y. Compute the difference between these two in each cluster and output the average and std.\n",
    "def genericnumbererror(method, **kwargs):\n",
    "    everything = []\n",
    "    for ij in range(60):\n",
    "        clf = method(**kwargs)\n",
    "        X_train, X_test, y_train, y_test = train_test_split(X, y, test_size=0.8)\n",
    "        X_train, X_test = scaleData(X_train, X_test)\n",
    "        clf.fit(X_train)\n",
    "        trainingmeans = np.array([np.mean([y_train[ii] for ii,label in enumerate(clf.predict(X_train)) if label==kk]) \n",
    "                                  for kk in list(set(clf.labels_))])\n",
    "        testmeans = np.array([np.mean([y_test[ii] for ii,label in enumerate(clf.predict(X_test)) if label==kk])\n",
    "                              for kk in list(set(clf.labels_))])\n",
    "        mistake = trainingmeans - testmeans\n",
    "        mistake = mistake[np.logical_not(np.isnan(mistake))]\n",
    "        everything.append([np.mean(mistake), np.std(mistake)])\n",
    "    return np.mean(np.array(everything)[:,0]), np.mean(np.array(everything)[:,1])\n",
    "\n",
    "def genericnumbererrorFitPredict(method, **kwargs):\n",
    "    everything = []\n",
    "    for ij in range(20):\n",
    "        clf = method(**kwargs)\n",
    "        X_touse = scaleData(X,X)[0]\n",
    "        X_1, X_2, y_1, y_2 = train_test_split(clf.fit_predict(X_touse), y, test_size=0.5)\n",
    "        X1means = np.array([np.mean([y_1[ii] for ii,label in enumerate(X_1) if label==kk]) \n",
    "                                  for kk in list(set(np.append(X_1, X_2)))])\n",
    "        X2means = np.array([np.mean([y_2[ii] for ii,label in enumerate(X_2) if label==kk]) \n",
    "                            for kk in list(set(np.append(X_1, X_2)))])\n",
    "        mistake = X1means - X2means\n",
    "        mistake = mistake[np.logical_not(np.isnan(mistake))]\n",
    "        everything.append([np.mean(mistake), np.std(mistake)])\n",
    "    return np.mean(np.array(everything)[:,0]), np.mean(np.array(everything)[:,1])"
   ]
  },
  {
   "cell_type": "code",
   "execution_count": 21,
   "metadata": {
    "collapsed": false
   },
   "outputs": [
    {
     "name": "stdout",
     "output_type": "stream",
     "text": [
      "(-0.0088139948430197099, 0.038286649811250455)\n",
      "(-0.0063040219238520972, 0.19437928483556322)\n",
      "(-0.010962148029796235, 0.22019678139891946)\n",
      "(0.010560566640498321, 0.18641111774802366)\n",
      "(0.011917019469566227, 0.030222250652409337)\n",
      "(0.0043128022605910844, 0.2764772821286739)\n",
      "(0.0013113583670082746, 0.065528009303564089)\n"
     ]
    }
   ],
   "source": [
    "print genericnumbererror(KMeans, n_clusters=2) # Use MiniBatchKMeans is Kmeans is too slow\n",
    "print genericnumbererror(AffinityPropagation)\n",
    "print genericnumbererror(MeanShift)\n",
    "print genericnumbererrorFitPredict(SpectralClustering)\n",
    "print genericnumbererrorFitPredict(AgglomerativeClustering, n_clusters=2)\n",
    "print genericnumbererrorFitPredict(DBSCAN)\n",
    "print genericnumbererror(Birch)"
   ]
  },
  {
   "cell_type": "code",
   "execution_count": null,
   "metadata": {
    "collapsed": true
   },
   "outputs": [],
   "source": []
  },
  {
   "cell_type": "code",
   "execution_count": 22,
   "metadata": {
    "collapsed": false
   },
   "outputs": [
    {
     "data": {
      "text/plain": [
       "(-0.0017123287671232869, 0.033198380409168643)"
      ]
     },
     "execution_count": 22,
     "metadata": {},
     "output_type": "execute_result"
    }
   ],
   "source": [
    "# This is the benchmark we need to beat\n",
    "allrandomdifferences = []\n",
    "for ki in range(1000):\n",
    "    y_1, y_2 = train_test_split(y, test_size=0.5)\n",
    "    allrandomdifferences.append(np.mean(y_1)-np.mean(y_2))\n",
    "np.mean(allrandomdifferences), np.std(allrandomdifferences)"
   ]
  },
  {
   "cell_type": "code",
   "execution_count": 26,
   "metadata": {
    "collapsed": false
   },
   "outputs": [
    {
     "name": "stdout",
     "output_type": "stream",
     "text": [
      "(0.21896740080434574, 0.041872223168834086)\n",
      "(0.083399264955473465, 0.012267988058495253)\n",
      "(0.068619238199703531, 0.039482440468309114)\n",
      "(0.045246755223383818, 0.00075654961222016348)\n",
      "(0.11587725762719282, 0.0)\n",
      "(0.042879931767859043, 6.9388939039072284e-18)\n",
      "(0.10000698565833778, 0.027854063328773337)\n"
     ]
    }
   ],
   "source": [
    "def clusteringscore(method, **kwargs):\n",
    "    everything = []\n",
    "    for ij in range(60):\n",
    "        clf = method(**kwargs)\n",
    "        X_train, X_test, y_train, y_test = train_test_split(X, y, test_size=0.8)\n",
    "        X_train, X_test = scaleData(X_train, X_test)\n",
    "        clf.fit(X_train)\n",
    "        everything.append(metrics.adjusted_rand_score(clf.predict(X_test),y_test))\n",
    "    return np.mean(everything), np.std(everything)\n",
    "\n",
    "def clusteringscoreFitPredict(method, **kwargs):\n",
    "    everything = []\n",
    "    for ij in range(60):\n",
    "        clf = method(**kwargs)\n",
    "        X_touse = scaleData(X,X)[0]\n",
    "        everything.append(metrics.adjusted_rand_score(clf.fit_predict(X_touse),y))\n",
    "    return np.mean(everything), np.std(everything)\n",
    "\n",
    "print clusteringscore(KMeans, n_clusters=4) # Use MiniBatchKMeans is Kmeans is too slow\n",
    "print clusteringscore(AffinityPropagation)\n",
    "print clusteringscore(MeanShift)\n",
    "print clusteringscoreFitPredict(SpectralClustering)\n",
    "print clusteringscoreFitPredict(AgglomerativeClustering, n_clusters=2)\n",
    "print clusteringscoreFitPredict(DBSCAN)\n",
    "print clusteringscore(Birch)\n",
    "\n"
   ]
  },
  {
   "cell_type": "code",
   "execution_count": 29,
   "metadata": {
    "collapsed": false
   },
   "outputs": [
    {
     "data": {
      "text/plain": [
       "[<matplotlib.lines.Line2D at 0xc9fff28>]"
      ]
     },
     "execution_count": 29,
     "metadata": {},
     "output_type": "execute_result"
    },
    {
     "data": {
      "image/png": "[encoded data removed]",
      "text/plain": [
       "<matplotlib.figure.Figure at 0xc9aab70>"
      ]
     },
     "metadata": {},
     "output_type": "display_data"
    }
   ],
   "source": [
    "def clusteringscore(method, **kwargs):\n",
    "    everything = []\n",
    "    for ij in range(60):\n",
    "        clf = method(**kwargs)\n",
    "        X_train, X_test, y_train, y_test = train_test_split(X, y, test_size=0.8)\n",
    "        X_train, X_test = scaleData(X_train, X_test)\n",
    "        clf.fit(X_train)\n",
    "        everything.append(metrics.homogeneity_score(clf.predict(X_test),y_test))\n",
    "    return np.mean(everything), np.std(everything)\n",
    "\n",
    "def clusteringscoreFitPredict(method, **kwargs):\n",
    "    everything = []\n",
    "    for ij in range(60):\n",
    "        clf = method(**kwargs)\n",
    "        X_touse = scaleData(X,X)[0]\n",
    "        everything.append(metrics.homogeneity_score(clf.fit_predict(X_touse),y))\n",
    "    return np.mean(everything), np.std(everything)\n",
    "\n",
    "#print clusteringscore(KMeans, n_clusters=4) # Use MiniBatchKMeans is Kmeans is too slow\n",
    "#print clusteringscore(AffinityPropagation)\n",
    "#print clusteringscore(MeanShift)\n",
    "#print clusteringscoreFitPredict(SpectralClustering)\n",
    "#print clusteringscoreFitPredict(AgglomerativeClustering, n_clusters=2)\n",
    "#print clusteringscoreFitPredict(DBSCAN)\n",
    "#print clusteringscore(Birch)\n",
    "hoho = [clusteringscore(KMeans, n_clusters=kk)[0] for kk in range(2,20)]\n",
    "plt.plot(range(2,20), hoho)"
   ]
  },
  {
   "cell_type": "code",
   "execution_count": 30,
   "metadata": {
    "collapsed": false
   },
   "outputs": [
    {
     "data": {
      "text/plain": [
       "[<matplotlib.lines.Line2D at 0xca29438>]"
      ]
     },
     "execution_count": 30,
     "metadata": {},
     "output_type": "execute_result"
    },
    {
     "data": {
      "image/png": "[encoded data removed]",
      "text/plain": [
       "<matplotlib.figure.Figure at 0xc9e5e80>"
      ]
     },
     "metadata": {},
     "output_type": "display_data"
    }
   ],
   "source": [
    "def clusteringscore(method, **kwargs):\n",
    "    everything = []\n",
    "    for ij in range(60):\n",
    "        clf = method(**kwargs)\n",
    "        X_train, X_test, y_train, y_test = train_test_split(X, y, test_size=0.8)\n",
    "        X_train, X_test = scaleData(X_train, X_test)\n",
    "        clf.fit(X_train)\n",
    "        everything.append(metrics.completeness_score(clf.predict(X_test),y_test))\n",
    "    return np.mean(everything), np.std(everything)\n",
    "\n",
    "def clusteringscoreFitPredict(method, **kwargs):\n",
    "    everything = []\n",
    "    for ij in range(60):\n",
    "        clf = method(**kwargs)\n",
    "        X_touse = scaleData(X,X)[0]\n",
    "        everything.append(metrics.completeness_score(clf.fit_predict(X_touse),y))\n",
    "    return np.mean(everything), np.std(everything)\n",
    "\n",
    "#print clusteringscore(KMeans, n_clusters=4) # Use MiniBatchKMeans is Kmeans is too slow\n",
    "#print clusteringscore(AffinityPropagation)\n",
    "#print clusteringscore(MeanShift)\n",
    "#print clusteringscoreFitPredict(SpectralClustering)\n",
    "#print clusteringscoreFitPredict(AgglomerativeClustering, n_clusters=2)\n",
    "#print clusteringscoreFitPredict(DBSCAN)\n",
    "#print clusteringscore(Birch)\n",
    "hoho = [clusteringscore(KMeans, n_clusters=kk)[0] for kk in range(2,20)]\n",
    "plt.plot(range(2,20), hoho)"
   ]
  },
  {
   "cell_type": "code",
   "execution_count": 31,
   "metadata": {
    "collapsed": false
   },
   "outputs": [
    {
     "data": {
      "text/plain": [
       "[<matplotlib.lines.Line2D at 0xef2da20>]"
      ]
     },
     "execution_count": 31,
     "metadata": {},
     "output_type": "execute_result"
    },
    {
     "data": {
      "image/png": "[encoded data removed]",
      "text/plain": [
       "<matplotlib.figure.Figure at 0xcc730b8>"
      ]
     },
     "metadata": {},
     "output_type": "display_data"
    }
   ],
   "source": [
    "def clusteringscore(method, **kwargs):\n",
    "    everything = []\n",
    "    for ij in range(60):\n",
    "        clf = method(**kwargs)\n",
    "        X_train, X_test, y_train, y_test = train_test_split(X, y, test_size=0.8)\n",
    "        X_train, X_test = scaleData(X_train, X_test)\n",
    "        clf.fit(X_train)\n",
    "        everything.append(metrics.fowlkes_mallows_score(clf.predict(X_test),y_test))\n",
    "    return np.mean(everything), np.std(everything)\n",
    "\n",
    "def clusteringscoreFitPredict(method, **kwargs):\n",
    "    everything = []\n",
    "    for ij in range(60):\n",
    "        clf = method(**kwargs)\n",
    "        X_touse = scaleData(X,X)[0]\n",
    "        everything.append(metrics.fowlkes_mallows_score(clf.fit_predict(X_touse),y))\n",
    "    return np.mean(everything), np.std(everything)\n",
    "\n",
    "#print clusteringscore(KMeans, n_clusters=4) # Use MiniBatchKMeans is Kmeans is too slow\n",
    "#print clusteringscore(AffinityPropagation)\n",
    "#print clusteringscore(MeanShift)\n",
    "#print clusteringscoreFitPredict(SpectralClustering)\n",
    "#print clusteringscoreFitPredict(AgglomerativeClustering, n_clusters=2)\n",
    "#print clusteringscoreFitPredict(DBSCAN)\n",
    "#print clusteringscore(Birch)\n",
    "hoho = [clusteringscore(KMeans, n_clusters=kk)[0] for kk in range(2,20)]\n",
    "plt.plot(range(2,20), hoho)"
   ]
  },
  {
   "cell_type": "markdown",
   "metadata": {},
   "source": [
    "#### If cluster answer is not known (we do not have a y)\n",
    "These metrics tell you whether your clusters and dense and separated, i.e. are well-defined clusters, when viewed from the perspective of the given model"
   ]
  },
  {
   "cell_type": "code",
   "execution_count": 45,
   "metadata": {
    "collapsed": false
   },
   "outputs": [
    {
     "data": {
      "text/plain": [
       "[<matplotlib.lines.Line2D at 0xf174160>]"
      ]
     },
     "execution_count": 45,
     "metadata": {},
     "output_type": "execute_result"
    },
    {
     "data": {
      "image/png": "[encoded data removed]",
      "text/plain": [
       "<matplotlib.figure.Figure at 0xcb7a6d8>"
      ]
     },
     "metadata": {},
     "output_type": "display_data"
    }
   ],
   "source": [
    "def clusteringscore(method, **kwargs):\n",
    "    everything = []\n",
    "    for ij in range(60):\n",
    "        clf = method(**kwargs)\n",
    "        X_touse = scaleData(X, X)[0]\n",
    "        clf.fit(X_touse)\n",
    "        everything.append(metrics.silhouette_score(X_touse, clf.predict(X_touse)))\n",
    "    return np.mean(everything), np.std(everything)\n",
    "\n",
    "def clusteringscoreFitPredict(method, **kwargs):\n",
    "    everything = []\n",
    "    for ij in range(60):\n",
    "        clf = method(**kwargs)\n",
    "        X_touse = scaleData(X,X)[0]\n",
    "        everything.append(metrics.silhouette_score(X_touse, clf.fit_predict(X_touse)))\n",
    "    return np.mean(everything), np.std(everything)\n",
    "\n",
    "hoho = [clusteringscore(KMeans, n_clusters=kk)[0] for kk in range(2,20)]\n",
    "plt.plot(range(2,20), hoho)"
   ]
  },
  {
   "cell_type": "code",
   "execution_count": 46,
   "metadata": {
    "collapsed": false
   },
   "outputs": [
    {
     "data": {
      "text/plain": [
       "[<matplotlib.lines.Line2D at 0xf1c2c18>]"
      ]
     },
     "execution_count": 46,
     "metadata": {},
     "output_type": "execute_result"
    },
    {
     "data": {
      "image/png": "[encoded data removed]",
      "text/plain": [
       "<matplotlib.figure.Figure at 0xcad6630>"
      ]
     },
     "metadata": {},
     "output_type": "display_data"
    }
   ],
   "source": [
    "def clusteringscore(method, **kwargs):\n",
    "    everything = []\n",
    "    for ij in range(60):\n",
    "        clf = method(**kwargs)\n",
    "        X_touse = scaleData(X, X)[0]\n",
    "        clf.fit(X_touse)\n",
    "        everything.append(metrics.calinski_harabaz_score(X_touse, clf.predict(X_touse)))\n",
    "    return np.mean(everything), np.std(everything)\n",
    "\n",
    "def clusteringscoreFitPredict(method, **kwargs):\n",
    "    everything = []\n",
    "    for ij in range(60):\n",
    "        clf = method(**kwargs)\n",
    "        X_touse = scaleData(X,X)[0]\n",
    "        everything.append(metrics.calinski_harabaz_score(X_touse, clf.fit_predict(X_touse)))\n",
    "    return np.mean(everything), np.std(everything)\n",
    "\n",
    "hoho = [clusteringscore(KMeans, n_clusters=kk)[0] for kk in range(2,20)]\n",
    "plt.plot(range(2,20), hoho)"
   ]
  },
  {
   "cell_type": "code",
   "execution_count": null,
   "metadata": {
    "collapsed": true
   },
   "outputs": [],
   "source": []
  },
  {
   "cell_type": "code",
   "execution_count": null,
   "metadata": {
    "collapsed": true
   },
   "outputs": [],
   "source": []
  },
  {
   "cell_type": "markdown",
   "metadata": {},
   "source": [
    "# Feature Engineering"
   ]
  },
  {
   "cell_type": "code",
   "execution_count": 21,
   "metadata": {
    "collapsed": true
   },
   "outputs": [],
   "source": [
    "#======================================================================\n",
    "#======================================================================\n",
    "#========================PROBABLY OBSOLETE CELL========================\n",
    "#======================================================================\n",
    "#======================================================================\n",
    "\n",
    "numericdataframe = makeAllColumnsNumeric(thedataframe, dictofordinals, datacateg)[0]\n",
    "topredict = \"Survived\"\n",
    "frompredict = ['Sex', 'Fare', 'Pclass', 'Age', 'SibSp', 'Cabin', 'Embarked', 'Parch']\n",
    "(X,y) = makeDataFromModels(numericdataframe, topredict, frompredict, {})"
   ]
  },
  {
   "cell_type": "markdown",
   "metadata": {},
   "source": [
    "### Remove features uncorrelated with y\n",
    "SelectKBest choses the $k$ columns in $X$ that are most correlated with the answer $y$, using as method to determine correlation anything we want. mutual_info_classif is a good default one: it uses KnearestNeighbors to determine how correlated things are."
   ]
  },
  {
   "cell_type": "code",
   "execution_count": 17,
   "metadata": {
    "collapsed": false
   },
   "outputs": [
    {
     "data": {
      "text/plain": [
       "(0.80285454545454538, 0.029110362697740397)"
      ]
     },
     "execution_count": 17,
     "metadata": {},
     "output_type": "execute_result"
    }
   ],
   "source": [
    "#======================================================================\n",
    "#======================================================================\n",
    "#========================PROBABLY OBSOLETE CELL========================\n",
    "#======================================================================\n",
    "#======================================================================\n",
    "\n",
    "numfeaturestokeep = 4 # tune this to whatever you like\n",
    "\n",
    "# if predicting y is a regression rather than classification problem, we should use mutual_info_regression\n",
    "X_reduced = SelectKBest(mutual_info_classif, k=numfeaturestokeep).fit_transform(X, y)\n",
    "\n",
    "getPredictionScore(X_reduced, y, RandomForestClassifier, num_iterations=10, transform=\"none\", n_estimators=30)"
   ]
  },
  {
   "cell_type": "markdown",
   "metadata": {},
   "source": [
    "Instead of taking all columns at once, we iteratively check which column is the worst predictor and remove it, until we have the desired number of features (in the case of RFE) or we have the ideal number of features (in the case o RFECV). You can pass both a regressor, with attribute coef\\_, or a classifier that has the attribute feature\\_importances\\_  "
   ]
  },
  {
   "cell_type": "code",
   "execution_count": 48,
   "metadata": {
    "collapsed": false
   },
   "outputs": [
    {
     "name": "stdout",
     "output_type": "stream",
     "text": [
      "0.381556005259\n"
     ]
    },
    {
     "data": {
      "text/plain": [
       "array([ True, False,  True, False,  True,  True,  True, False], dtype=bool)"
      ]
     },
     "execution_count": 48,
     "metadata": {},
     "output_type": "execute_result"
    }
   ],
   "source": [
    "#======================================================================\n",
    "#======================================================================\n",
    "#========================PROBABLY OBSOLETE CELL========================\n",
    "#======================================================================\n",
    "#======================================================================\n",
    "\n",
    "estimator = LinearRegression()\n",
    "selector = RFE(estimator, 5)\n",
    "selector.fit(X, y)\n",
    "print selector.score(X, y)\n",
    "selector.support_ "
   ]
  },
  {
   "cell_type": "code",
   "execution_count": 61,
   "metadata": {
    "collapsed": false
   },
   "outputs": [
    {
     "name": "stdout",
     "output_type": "stream",
     "text": [
      "[ 0.77272727  0.81714286  0.82857143  0.76        0.87428571]\n"
     ]
    },
    {
     "data": {
      "text/plain": [
       "array([ True,  True,  True,  True, False,  True, False, False], dtype=bool)"
      ]
     },
     "execution_count": 61,
     "metadata": {},
     "output_type": "execute_result"
    }
   ],
   "source": [
    "#======================================================================\n",
    "#======================================================================\n",
    "#========================PROBABLY OBSOLETE CELL========================\n",
    "#======================================================================\n",
    "#======================================================================\n",
    "\n",
    "estimator = RandomForestClassifier(n_estimators=30)\n",
    "selector = RFECV(estimator, cv=5)\n",
    "selector.fit(X, y)\n",
    "print cross_val_score(selector, X, y, cv=5)\n",
    "selector.support_"
   ]
  },
  {
   "cell_type": "markdown",
   "metadata": {},
   "source": [
    "### Use trees to find feature importances\n",
    "zzzzzzzzz Will be useful to plot later zzzzzzzzzzzzzz"
   ]
  },
  {
   "cell_type": "code",
   "execution_count": 81,
   "metadata": {
    "collapsed": false
   },
   "outputs": [
    {
     "data": {
      "image/png": "[encoded data removed]",
      "text/plain": [
       "<matplotlib.figure.Figure at 0xe30bf28>"
      ]
     },
     "metadata": {},
     "output_type": "display_data"
    }
   ],
   "source": [
    "forest = RandomForestClassifier(n_estimators=200)\n",
    "forest.fit(X, y)\n",
    "importances = forest.feature_importances_\n",
    "std = np.std([tree.feature_importances_ for tree in forest.estimators_],\n",
    "             axis=0)\n",
    "\n",
    "plt.title(\"Feature importances\")\n",
    "plt.bar(range(X.shape[1]), importances,\n",
    "       color=brewerColors(1), yerr=std, align=\"center\")\n",
    "plt.xticks(range(X.shape[1]), )\n",
    "plt.xlim([-1, X.shape[1]])\n",
    "plt.show()"
   ]
  },
  {
   "cell_type": "markdown",
   "metadata": {},
   "source": [
    "### Feature selection functions"
   ]
  },
  {
   "cell_type": "code",
   "execution_count": 121,
   "metadata": {
    "collapsed": true
   },
   "outputs": [],
   "source": [
    "#======================================================================\n",
    "#======================================================================\n",
    "#========================PROBABLY OBSOLETE CELL========================\n",
    "#======================================================================\n",
    "#======================================================================\n",
    "\n",
    "# With a given list frompredict, it will return the subset of the entries in frompredict that yield\n",
    "# the best prediction with the model predictionmethod.\n",
    "def bestFeatureSet(numericdataframe, topredict, frompredict, predictionmethod,\n",
    "                   dictofunknown={}, num_iterations=100, transform=\"none\"):\n",
    "    bestscore = 0\n",
    "    bestsubset = []\n",
    "    for ii in range(1,len(frompredict)):\n",
    "        allsubsets = findsubsets(frompredict,ii)\n",
    "        allsubsets = [list(subset) for subset in allsubsets]\n",
    "        for subset in allsubsets:\n",
    "            (X,y) = makeDataFromModels(numericdataframe, topredict, subset, dictofunknown)\n",
    "            score = getPredictionScore(X, y, predictionmethod, num_iterations=num_iterations, transform=transform)\n",
    "            if score[0]>bestscore:\n",
    "                bestscore = score[0]\n",
    "                bestsubset = subset\n",
    "    return bestsubset"
   ]
  },
  {
   "cell_type": "markdown",
   "metadata": {},
   "source": [
    "### Dimensional reduction functions"
   ]
  },
  {
   "cell_type": "code",
   "execution_count": 92,
   "metadata": {
    "collapsed": false
   },
   "outputs": [
    {
     "data": {
      "image/png": "[encoded data removed]",
      "text/plain": [
       "<matplotlib.figure.Figure at 0x10f82c50>"
      ]
     },
     "metadata": {},
     "output_type": "display_data"
    }
   ],
   "source": [
    "#======================================================================\n",
    "#======================================================================\n",
    "#========================PROBABLY OBSOLETE CELL========================\n",
    "#======================================================================\n",
    "#======================================================================\n",
    "\n",
    "# LDA is supervised, PCA is not. LDA tries to separate the classes as much as possible from each other while doing dim red;\n",
    "# PCA tries to separate the data as much as possible from itself (no labels) when doing dim red.\n",
    "def dimensionalReductionLDA(X, y):\n",
    "    clf = LinearDiscriminantAnalysis(n_components=2)\n",
    "    clf.fit(X,y)\n",
    "    trans_X = clf.transform(X)\n",
    "    uniquevalues = list(set(y))\n",
    "    for ii in uniquevalues:\n",
    "        if trans_X.shape[1]==1:\n",
    "            xaxisnumbers = range(len(trans_X[y==ii]))\n",
    "            yaxisnumbers = trans_X[y==ii, 0]\n",
    "        else:\n",
    "            xaxisnumbers = trans_X[y==ii, 0]\n",
    "            yaxisnumbers = trans_X[y==ii, 1]\n",
    "        plt.scatter(xaxisnumbers, yaxisnumbers, alpha=0.3, color=brewerColors()[ii], label=ii)\n",
    "    plt.legend(loc='best', shadow=False, scatterpoints=1)\n",
    "    \n",
    "\n",
    "dimensionalReductionLDA(X,y)"
   ]
  },
  {
   "cell_type": "code",
   "execution_count": 17,
   "metadata": {
    "collapsed": true
   },
   "outputs": [],
   "source": []
  },
  {
   "cell_type": "code",
   "execution_count": 31,
   "metadata": {
    "collapsed": false,
    "scrolled": false
   },
   "outputs": [
    {
     "data": {
      "image/png": "[encoded data removed]",
      "text/plain": [
       "<matplotlib.figure.Figure at 0x111ffa90>"
      ]
     },
     "metadata": {},
     "output_type": "display_data"
    },
    {
     "data": {
      "image/png": "[encoded data removed]",
      "text/plain": [
       "<matplotlib.figure.Figure at 0x110b6828>"
      ]
     },
     "metadata": {},
     "output_type": "display_data"
    },
    {
     "data": {
      "image/png": "[encoded data removed]",
      "text/plain": [
       "<matplotlib.figure.Figure at 0xce736d8>"
      ]
     },
     "metadata": {},
     "output_type": "display_data"
    },
    {
     "data": {
      "image/png": "[encoded data removed]",
      "text/plain": [
       "<matplotlib.figure.Figure at 0xce73da0>"
      ]
     },
     "metadata": {},
     "output_type": "display_data"
    },
    {
     "data": {
      "image/png": "[encoded data removed]",
      "text/plain": [
       "<matplotlib.figure.Figure at 0xcbab0b8>"
      ]
     },
     "metadata": {},
     "output_type": "display_data"
    },
    {
     "data": {
      "image/png": "[encoded data removed]",
      "text/plain": [
       "<matplotlib.figure.Figure at 0xcdb5da0>"
      ]
     },
     "metadata": {},
     "output_type": "display_data"
    },
    {
     "data": {
      "image/png": "[encoded data removed]",
      "text/plain": [
       "<matplotlib.figure.Figure at 0xc9f2710>"
      ]
     },
     "metadata": {},
     "output_type": "display_data"
    },
    {
     "data": {
      "image/png": "[encoded data removed]",
      "text/plain": [
       "<matplotlib.figure.Figure at 0x110946d8>"
      ]
     },
     "metadata": {},
     "output_type": "display_data"
    },
    {
     "data": {
      "image/png": "[encoded data removed]",
      "text/plain": [
       "<matplotlib.figure.Figure at 0xddffd30>"
      ]
     },
     "metadata": {},
     "output_type": "display_data"
    },
    {
     "data": {
      "image/png": "[encoded data removed]",
      "text/plain": [
       "<matplotlib.figure.Figure at 0xe302a58>"
      ]
     },
     "metadata": {},
     "output_type": "display_data"
    },
    {
     "data": {
      "image/png": "[encoded data removed]",
      "text/plain": [
       "<matplotlib.figure.Figure at 0xe4c5f28>"
      ]
     },
     "metadata": {},
     "output_type": "display_data"
    },
    {
     "data": {
      "image/png": "[encoded data removed]",
      "text/plain": [
       "<matplotlib.figure.Figure at 0xe6d3e80>"
      ]
     },
     "metadata": {},
     "output_type": "display_data"
    }
   ],
   "source": [
    "#======================================================================\n",
    "#======================================================================\n",
    "#========================PROBABLY OBSOLETE CELL========================\n",
    "#======================================================================\n",
    "#======================================================================\n",
    "\n",
    "X_touse = scaleData(X,X)[0]\n",
    "def plot2d(chosenmodel, **kwargs):\n",
    "    clf = chosenmodel(**kwargs)\n",
    "    newX = clf.fit_transform(X_touse)\n",
    "    madeit = newX[np.where(y==1)[0]]\n",
    "    notmadeit = newX[np.where(y==0)[0]]\n",
    "    plt.scatter(madeit[:,0],madeit[:,1], color=\"b\", alpha=0.3)\n",
    "    plt.scatter(notmadeit[:,0],notmadeit[:,1], color=\"r\", alpha=0.3)\n",
    "    plt.title(getModelName(chosenmodel))\n",
    "    plt.show()\n",
    "    \n",
    "plot2d(Isomap, n_neighbors=3) #Maintains geodesic distances between nearby points, \"unravelling\" the whole manifold\n",
    "plot2d(LocallyLinearEmbedding, n_neighbors=5) #Locally maints distances, \"unravelling\" the manifold in \n",
    "                                               #a similar but different way to Isomap\n",
    "plot2d(SpectralEmbedding, affinity=\"nearest_neighbors\") #Takes the dominant eigenvectors of the Laplacian matrix\n",
    "plot2d(MDS, metric=False) #Is good at preserving the hierarchy of distances of the high-dim space\n",
    "plot2d(MDS) #Is good at preserving distances of the high-dim space\n",
    "plot2d(TSNE) #Is good at preserving local structure - it focuses on the  details of the high-dim space. It can deal\n",
    "             #with multiple, disjoint manifolds\n",
    "plot2d(PCA)\n",
    "plot2d(KernelPCA) \n",
    "plot2d(SparsePCA) \n",
    "plot2d(TruncatedSVD)\n",
    "plot2d(DictionaryLearning) \n",
    "plot2d(FactorAnalysis)"
   ]
  },
  {
   "cell_type": "markdown",
   "metadata": {},
   "source": [
    "## Novelty detection\n",
    "\n",
    "zzzzzzzzz This will be useful later zzzzzzzzzzzzzzzzzzzz"
   ]
  },
  {
   "cell_type": "code",
   "execution_count": 91,
   "metadata": {
    "collapsed": false
   },
   "outputs": [
    {
     "data": {
      "text/plain": [
       "array([-1., -1., -1., -1., -1.,  1.,  1.,  1.,  1.,  1., -1.,  1.,  1.,\n",
       "        1., -1., -1., -1.,  1.])"
      ]
     },
     "execution_count": 91,
     "metadata": {},
     "output_type": "execute_result"
    }
   ],
   "source": [
    "clf = OneClassSVM()\n",
    "clf.fit(X_touse[nonoutliers][:770])\n",
    "clf.predict(X_touse[nonoutliers][770:])"
   ]
  },
  {
   "cell_type": "markdown",
   "metadata": {},
   "source": [
    "# Good code setup examples (extra tidbits)"
   ]
  },
  {
   "cell_type": "code",
   "execution_count": 18,
   "metadata": {
    "collapsed": false
   },
   "outputs": [
    {
     "data": {
      "text/plain": [
       "array([0, 1, 1, 1, 0, 0, 0, 0, 0, 1, 1, 1, 0, 0, 1, 1, 0, 0, 1, 1, 0, 0, 1,\n",
       "       0, 0, 0, 0, 1, 1, 0, 0, 1, 1, 0, 0, 0, 0, 0, 0, 1, 1, 1, 0, 1, 1, 0,\n",
       "       0, 1, 0, 1, 0, 0, 1, 1, 0, 0, 1, 0, 1, 0, 0, 1, 0, 0, 0, 0, 1, 0, 0,\n",
       "       0, 0, 0, 0, 0, 0, 0, 0, 0, 1, 1, 0, 0, 1, 0, 1, 0, 0, 0, 1, 0, 0, 0,\n",
       "       0, 0, 0, 0, 0, 1, 1, 0, 1, 0, 1, 0, 0, 0, 1, 0, 0, 1, 0, 1, 0, 1, 1,\n",
       "       0, 0, 0, 0, 0, 0, 0, 0, 1, 0, 0, 0, 0, 1, 0, 0, 0, 1, 1, 0, 0, 1, 0,\n",
       "       0, 1, 1, 1, 1, 0, 0, 0, 0, 0, 0, 0, 0, 1, 0, 0, 0, 0, 1, 0, 0, 0, 0,\n",
       "       1, 0, 0, 0, 1, 1, 0, 0, 0, 0, 0, 1, 0, 0, 0, 0, 1, 0, 0, 0, 0, 1, 1,\n",
       "       0, 1, 0, 0, 0, 1, 0, 1, 1, 1, 1, 0, 0, 1, 1, 0, 0, 0, 0, 0, 1, 0, 0,\n",
       "       1, 1, 0, 1, 0, 0, 0, 1, 1, 0, 1, 0, 0, 0, 0, 0, 0, 0, 0, 0, 0, 0, 1,\n",
       "       0, 0, 0, 0, 1, 0, 1, 0, 0, 1, 1, 0, 0, 0, 0, 1, 1, 0, 0, 0, 1, 0, 0,\n",
       "       0, 1, 1, 1, 1, 1, 0, 0, 0, 1, 0, 0, 0, 1, 1, 0, 1, 1, 1, 1, 1, 0, 0,\n",
       "       0, 0, 0, 0, 0, 0, 0, 0, 0, 1, 1, 1, 1, 1, 0, 0, 0, 1, 0, 1, 1, 0, 1,\n",
       "       0, 1, 1, 1, 0, 1, 1, 1, 1, 0, 0, 1, 1, 0, 1, 1, 0, 0, 1, 1, 0, 1, 0,\n",
       "       1, 0, 1, 1, 0, 0, 0, 1, 0, 0, 1, 0, 0, 1, 1, 0, 0, 0, 1, 1, 0, 1, 0,\n",
       "       0, 0, 0, 0, 0, 0, 1, 1, 1, 1, 0, 0, 1, 0, 0, 0, 1, 1, 1, 1, 1, 0, 0,\n",
       "       0, 0, 1, 1, 0, 0, 0, 1, 1, 0, 1, 0, 0, 0, 1, 0, 1, 0, 0, 0, 1, 1, 0,\n",
       "       1, 0, 0, 1, 0, 0, 1, 0, 1, 0, 0, 1, 0, 0, 0, 0, 1, 0, 1, 1, 1, 0, 1,\n",
       "       0, 0, 0, 1, 0, 0, 1, 1, 0, 0, 0, 1, 1, 0, 0, 1, 0, 0, 0, 0, 1, 0, 0,\n",
       "       1, 0, 1, 1, 0, 1, 0, 0, 0, 1, 0, 0, 0, 0, 1, 1, 0, 0, 0, 0, 0, 0, 0,\n",
       "       0, 0, 1, 0, 0, 1, 1, 1, 0, 0, 0, 0, 1, 0, 0, 0, 1, 0, 1, 0, 0, 0, 0,\n",
       "       0, 0, 0, 0, 0, 1, 0, 1, 0, 0, 1, 1, 1, 1, 1, 1, 0, 0, 0, 0, 0, 0, 1,\n",
       "       0, 0, 1, 0, 1, 0, 1, 0, 0, 1, 0, 0, 1, 0, 0, 0, 1, 0, 0, 1, 1, 1, 0,\n",
       "       1, 0, 1, 1, 0, 0, 0, 0, 0, 1, 0, 0, 1, 1, 0, 0, 0, 1, 0, 1, 0, 1, 0,\n",
       "       0, 0, 0, 0, 1, 0, 0, 0, 0, 0, 0, 1, 0, 1, 0, 0, 1, 1, 1, 0, 1, 1, 0,\n",
       "       0, 0, 1, 0, 0, 0, 0, 0, 1, 0, 1, 0, 0, 1, 0, 0, 1, 0, 0, 0, 0, 0, 0,\n",
       "       0, 1, 1, 0, 0, 1, 0, 0, 1, 0, 0, 1, 0, 0, 0, 0, 0, 0, 0, 0, 1, 0, 0,\n",
       "       0, 0, 0, 0, 1, 0, 0, 0, 0, 0, 1, 0, 0, 1, 0, 0, 0, 0, 1, 0, 1, 0, 1,\n",
       "       1, 0, 0, 1, 0, 0, 0, 0, 0, 0, 0, 0, 0, 0, 0, 1, 1, 0, 0, 0, 0, 0, 1,\n",
       "       0, 1, 1, 0, 0, 0, 0, 0, 0, 0, 0, 1, 0, 1, 0, 0, 0, 0, 0, 1, 0, 0, 1,\n",
       "       0, 1, 0, 0, 0, 1, 0, 1, 0, 1, 0, 0, 0, 0, 0, 1, 1, 0, 0, 1, 0, 0, 0,\n",
       "       0, 0, 1, 1, 0, 1, 1, 0, 0, 0, 0, 0, 1, 0, 0, 0, 0, 1, 0, 0, 0, 0, 1,\n",
       "       0, 0, 1, 1, 0, 0, 1, 1, 0, 0, 0, 1, 0, 0, 0, 1, 0, 1, 0, 1, 0, 0, 0,\n",
       "       0, 1, 0, 0, 0, 0, 1, 0, 1, 1, 1, 0, 0, 0, 0, 1, 0, 1, 0, 0, 0, 0, 0,\n",
       "       0, 0, 1, 1, 0, 1, 0, 1, 1, 0, 0, 0, 1, 0, 1, 0, 0, 0, 0, 0, 1, 0, 0,\n",
       "       0, 1, 0, 1, 0, 0, 0, 1, 0, 1, 1, 1, 0, 0, 0, 1, 0, 0, 0, 0, 0, 0, 1,\n",
       "       0, 0, 0, 0, 0, 0, 1, 0, 0, 1, 1, 1, 1, 1, 0, 1, 0, 0, 0, 1, 0, 0, 1,\n",
       "       1, 0, 0, 0, 0, 1, 0, 0, 1, 1, 0, 0, 0, 1, 1, 0, 1, 0, 0, 0, 0, 1, 0,\n",
       "       0, 0], dtype=int64)"
      ]
     },
     "execution_count": 18,
     "metadata": {},
     "output_type": "execute_result"
    }
   ],
   "source": [
    "#======================================================================\n",
    "#======================================================================\n",
    "#========================PROBABLY OBSOLETE CELL========================\n",
    "#======================================================================\n",
    "#======================================================================\n",
    "\n",
    "from sklearn.pipeline import make_pipeline\n",
    "from sklearn.model_selection import cross_val_predict\n",
    "clf = make_pipeline(preprocessing.StandardScaler(), svm.SVC(C=1))\n",
    "cross_val_score(clf, X, y, cv=5)\n",
    "cross_val_predict(clf, X, y, cv=5)"
   ]
  },
  {
   "cell_type": "markdown",
   "metadata": {},
   "source": [
    "zzzzzzzzzzz this will be useful when evaluating models zzzzzzzzzzzzzzzzzz"
   ]
  },
  {
   "cell_type": "code",
   "execution_count": 40,
   "metadata": {
    "collapsed": true
   },
   "outputs": [],
   "source": [
    "from sklearn.metrics import confusion_matrix, precision_recall_curve, roc_curve, roc_auc_score"
   ]
  },
  {
   "cell_type": "code",
   "execution_count": 164,
   "metadata": {
    "collapsed": false,
    "scrolled": false
   },
   "outputs": [
    {
     "data": {
      "image/png": "[encoded data removed]",
      "text/plain": [
       "<matplotlib.figure.Figure at 0x10d1b278>"
      ]
     },
     "metadata": {},
     "output_type": "display_data"
    },
    {
     "name": "stdout",
     "output_type": "stream",
     "text": [
      "0.902787967718\n"
     ]
    },
    {
     "data": {
      "image/png": "[encoded data removed]",
      "text/plain": [
       "<matplotlib.figure.Figure at 0x10d8ff60>"
      ]
     },
     "metadata": {},
     "output_type": "display_data"
    }
   ],
   "source": [
    "clf = RandomForestClassifier(bootstrap=True, class_weight=None, criterion='gini',\n",
    "            max_depth=None, max_features='auto', max_leaf_nodes=None,\n",
    "            min_impurity_split=1e-07, min_samples_leaf=1,\n",
    "            min_samples_split=2, min_weight_fraction_leaf=0.0,\n",
    "            n_estimators=30, n_jobs=1, oob_score=False, random_state=None,\n",
    "            verbose=0, warm_start=False)\n",
    "clf.fit(X[:800], y[:800])\n",
    "y_pred = clf.predict(X[800:])\n",
    "y_pred_prob = clf.predict_proba(X[800:])[:,1]\n",
    "confusion_matrix(y[800:], y_pred)\n",
    "def plotROC(y_true, y_pred_prob):\n",
    "    roc = roc_curve(y_true, y_pred_prob)\n",
    "    plt.plot(roc[0], roc[1])\n",
    "    plt.plot([0,1],[0,1], linestyle=\"dashed\")\n",
    "    plt.show()\n",
    "    \n",
    "def plotPrecisionRecall(y_true, y_pred_prob):\n",
    "    prec_rec = precision_recall_curve(y_true, y_pred_prob)\n",
    "    plt.plot(prec_rec[0], prec_rec[1])\n",
    "    plt.plot([0,1],[1,0], linestyle=\"dashed\")\n",
    "    plt.show()\n",
    "    \n",
    "plotROC(y[800:], y_pred_prob)\n",
    "print roc_auc_score(y[800:], y_pred_prob)\n",
    "\n",
    "plotPrecisionRecall(y[800:], y_pred_prob)"
   ]
  },
  {
   "cell_type": "code",
   "execution_count": 179,
   "metadata": {
    "collapsed": false,
    "scrolled": true
   },
   "outputs": [
    {
     "data": {
      "text/plain": [
       "[<matplotlib.lines.Line2D at 0x11087978>]"
      ]
     },
     "execution_count": 179,
     "metadata": {},
     "output_type": "execute_result"
    },
    {
     "data": {
      "image/png": "[encoded data removed]",
      "text/plain": [
       "<matplotlib.figure.Figure at 0x11020908>"
      ]
     },
     "metadata": {},
     "output_type": "display_data"
    }
   ],
   "source": [
    "from sklearn.model_selection import validation_curve\n",
    "\n",
    "# TELLS YOU WHERE TO CAP THE COMPLEXITY OF YOUR MODEL, FOR THE GIVEN AMOUNT OF DATA\n",
    "\n",
    "valuestotake = range(1,7)\n",
    "train_scores, valid_scores = validation_curve(KNeighborsClassifier(), X, y, \"n_neighbors\", range(1,7), cv=5)\n",
    "plt.plot(valuestotake, [np.mean(el) for el in train_scores])\n",
    "plt.plot(valuestotake, [np.mean(el) for el in valid_scores])"
   ]
  },
  {
   "cell_type": "code",
   "execution_count": 43,
   "metadata": {
    "collapsed": false,
    "scrolled": true
   },
   "outputs": [
    {
     "data": {
      "text/plain": [
       "[<matplotlib.lines.Line2D at 0xf497400>]"
      ]
     },
     "execution_count": 43,
     "metadata": {},
     "output_type": "execute_result"
    },
    {
     "data": {
      "image/png": "[encoded data removed]",
      "text/plain": [
       "<matplotlib.figure.Figure at 0xf903c88>"
      ]
     },
     "metadata": {},
     "output_type": "display_data"
    }
   ],
   "source": [
    "# TELLS YOU WHETHER, FOR A GIVEN MODEL COMPLEXITY, YOU BENEFIT FROM ADDING SAMPLES. IF THE ANSWER\n",
    "# IS NO, YOU MIGHT WANT TO INCREASE THE COMPLEXITY OF THE MODEL\n",
    "\n",
    "train_sizes, train_scores, valid_scores = learning_curve(RandomForestClassifier(), X, y, \n",
    "                                                         train_sizes=np.arange(50,700, 50).astype(int), cv=5)\n",
    "plt.plot(train_sizes, [np.mean(el) for el in train_scores])\n",
    "plt.plot(train_sizes, [np.mean(el) for el in valid_scores])"
   ]
  },
  {
   "cell_type": "markdown",
   "metadata": {},
   "source": [
    "## Making new features and unions of various features\n",
    "zzzzzzzz This might be useful zzzzzzzzzzzzzzz"
   ]
  },
  {
   "cell_type": "code",
   "execution_count": 52,
   "metadata": {
    "collapsed": false
   },
   "outputs": [
    {
     "data": {
      "text/plain": [
       "array([[-25.73157975,  -7.00490097,   3.        ,   1.        ],\n",
       "       [ 38.86276366,   7.46413053,   1.        ,   0.        ],\n",
       "       [-24.95258973,  -3.01210462,   3.        ,   0.        ],\n",
       "       ..., \n",
       "       [ -9.33090363,   0.2063422 ,   3.        ,   0.        ],\n",
       "       [ -2.71292814,  -3.35321257,   1.        ,   1.        ],\n",
       "       [-24.9663326 ,   2.98714632,   3.        ,   1.        ]])"
      ]
     },
     "execution_count": 52,
     "metadata": {},
     "output_type": "execute_result"
    }
   ],
   "source": [
    "from sklearn.pipeline import Pipeline, FeatureUnion\n",
    "\n",
    "# This dataset is way too high-dimensional. Better do PCA:\n",
    "pca = PCA(n_components=2)\n",
    "\n",
    "# Maybe some original features where good, too?\n",
    "selection = SelectKBest(k=2)\n",
    "\n",
    "# Build estimator from PCA and Univariate selection:\n",
    "\n",
    "combined_features = FeatureUnion([(\"pca\", pca), (\"univ_select\", selection)])\n",
    "\n",
    "# Use combined features to transform dataset:\n",
    "X_features = combined_features.fit(X, y).transform(X)\n",
    "X_features"
   ]
  },
  {
   "cell_type": "code",
   "execution_count": null,
   "metadata": {
    "collapsed": true
   },
   "outputs": [],
   "source": []
  },
  {
   "cell_type": "code",
   "execution_count": null,
   "metadata": {
    "collapsed": true
   },
   "outputs": [],
   "source": []
  },
  {
   "cell_type": "code",
   "execution_count": null,
   "metadata": {
    "collapsed": true
   },
   "outputs": [],
   "source": []
  },
  {
   "cell_type": "code",
   "execution_count": null,
   "metadata": {
    "collapsed": true
   },
   "outputs": [],
   "source": []
  },
  {
   "cell_type": "markdown",
   "metadata": {},
   "source": [
    "# Saving prediction classifiers to disk"
   ]
  },
  {
   "cell_type": "code",
   "execution_count": 166,
   "metadata": {
    "collapsed": false
   },
   "outputs": [
    {
     "data": {
      "text/plain": [
       "['filename.pkl']"
      ]
     },
     "execution_count": 166,
     "metadata": {},
     "output_type": "execute_result"
    }
   ],
   "source": [
    "#======================================================================\n",
    "#======================================================================\n",
    "#========================PROBABLY OBSOLETE CELL========================\n",
    "#======================================================================\n",
    "#======================================================================\n",
    "\n",
    "import pickle\n",
    "from sklearn.externals import joblib\n",
    "joblib.dump(clf, 'filename.pkl')\n",
    "#clf = joblib.load('filename.pkl')  #FOR LOADING"
   ]
  },
  {
   "cell_type": "code",
   "execution_count": null,
   "metadata": {
    "collapsed": true
   },
   "outputs": [],
   "source": []
  },
  {
   "cell_type": "code",
   "execution_count": 20,
   "metadata": {
    "collapsed": false
   },
   "outputs": [
    {
     "data": {
      "text/plain": [
       "-inf"
      ]
     },
     "execution_count": 20,
     "metadata": {},
     "output_type": "execute_result"
    }
   ],
   "source": [
    "#======================================================================\n",
    "#======================================================================\n",
    "#========================PROBABLY OBSOLETE CELL========================\n",
    "#======================================================================\n",
    "#======================================================================\n",
    "\n",
    "np.log1p(-1)"
   ]
  },
  {
   "cell_type": "code",
   "execution_count": null,
   "metadata": {
    "collapsed": true
   },
   "outputs": [],
   "source": []
  },
  {
   "cell_type": "code",
   "execution_count": null,
   "metadata": {
    "collapsed": true
   },
   "outputs": [],
   "source": []
  },
  {
   "cell_type": "markdown",
   "metadata": {},
   "source": [
    "##### Still to do:\n",
    "\n",
    "zzzzzzzzzzzzzzzzzzzzz Check this list zzzzzzzzzzzzzzzzzzzzzzzzzzzzzzzzz\n",
    "\n",
    " - Make a generic evaluaion of how each model did. It should include confusion matrices, ROC curves, time it takes to .fit (or possibly it's better to do \"speed\"= # of examples/time), time it takes to .predict (or perhaps \"speed\" again), accuracy (.score for supervised, various metrics.\"scoringmethod\" for unsupervied), plot of heteroscedasticity, plot of calibrated probability esimates\n",
    " - Compare with histograms etc. the various models against each other, and draw a horizontal line in the histograms where the benchmark value is, i.e. the score of a \"random prediction\"\n",
    " - Check what else we did during S2DS"
   ]
  },
  {
   "cell_type": "code",
   "execution_count": null,
   "metadata": {
    "collapsed": true
   },
   "outputs": [],
   "source": []
  }
 ],
 "metadata": {
  "anaconda-cloud": {},
  "kernelspec": {
   "display_name": "Python [Root]",
   "language": "python",
   "name": "Python [Root]"
  },
  "language_info": {
   "codemirror_mode": {
    "name": "ipython",
    "version": 2
   },
   "file_extension": ".py",
   "mimetype": "text/x-python",
   "name": "python",
   "nbconvert_exporter": "python",
   "pygments_lexer": "ipython2",
   "version": "2.7.12"
  }
 },
 "nbformat": 4,
 "nbformat_minor": 1
}
