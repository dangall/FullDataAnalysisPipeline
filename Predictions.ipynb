{
 "cells": [
  {
   "cell_type": "markdown",
   "metadata": {},
   "source": [
    "## Load relevant packages"
   ]
  },
  {
   "cell_type": "code",
   "execution_count": 1,
   "metadata": {
    "collapsed": true
   },
   "outputs": [],
   "source": [
    "# Import all the required packages\n",
    "import pandas as pd\n",
    "import numpy as np\n",
    "import matplotlib.pyplot as plt\n",
    "import matplotlib.patches as patches\n",
    "import time\n",
    "from copy import deepcopy\n",
    "%matplotlib inline"
   ]
  },
  {
   "cell_type": "markdown",
   "metadata": {},
   "source": [
    "## Load relevant data files"
   ]
  },
  {
   "cell_type": "code",
   "execution_count": 2,
   "metadata": {
    "collapsed": true
   },
   "outputs": [],
   "source": [
    "#================================================================================================\n",
    "# USER INPUT!\n",
    "# Here I specify which data files need reading in\n",
    "datafilenames = [\"natinalitycleantrain.csv\"]\n",
    "# For each data file, we write which column contains the information we want to predict\n",
    "topredictcolumn= [\"Survived\"]\n",
    "#================================================================================================\n",
    "\n",
    "# FROM HERE ON IT'S AUTOMATIC\n",
    "\n",
    "# Sometiems the index column gets saved automatically as a new column when writingto csv. \n",
    "# We'll remove these as they serve no purpose.\n",
    "alldataframes = [pd.read_csv(filename) for filename in datafilenames]\n",
    "\n",
    "for (pos,frame) in enumerate(alldataframes):\n",
    "    toadd = frame\n",
    "    if \"Unnamed: 0\" in frame:\n",
    "        toadd = toadd.drop(\"Unnamed: 0\",axis=1)\n",
    "    if \"Unnamed: 0.1\" in frame:\n",
    "        toadd = toadd.drop(\"Unnamed: 0.1\",axis=1)\n",
    "    alldataframes[pos] = toadd"
   ]
  },
  {
   "cell_type": "code",
   "execution_count": null,
   "metadata": {
    "collapsed": true
   },
   "outputs": [],
   "source": []
  },
  {
   "cell_type": "markdown",
   "metadata": {},
   "source": [
    "##### Still to do:\n",
    " - Make a function where you can input the xaxiscolumn and the yaxiscolumn and the type of regression (e.g. linear, logistic, etc.), and the function outputs the values of the regression parameters and the quality of the regression\n",
    " - Make a function that takes the data, a model name, what to predict and outputs predictions for the data and how well it did\n",
    " - Make a function that does clustering\n",
    " - Make a function that does feature engineering\n",
    " - Make plots to evaluate how well a certain prediction did (e.g. confusion matrices and ROC curves)\n",
    " - As helper-functions, might need to do bootstrapping functions etc., unless they're already in-built\n",
    " - Race models agains each other\n",
    " - Check what else we did during S2DS"
   ]
  },
  {
   "cell_type": "code",
   "execution_count": null,
   "metadata": {
    "collapsed": true
   },
   "outputs": [],
   "source": []
  }
 ],
 "metadata": {
  "kernelspec": {
   "display_name": "Python [Root]",
   "language": "python",
   "name": "Python [Root]"
  },
  "language_info": {
   "codemirror_mode": {
    "name": "ipython",
    "version": 2
   },
   "file_extension": ".py",
   "mimetype": "text/x-python",
   "name": "python",
   "nbconvert_exporter": "python",
   "pygments_lexer": "ipython2",
   "version": "2.7.12"
  }
 },
 "nbformat": 4,
 "nbformat_minor": 1
}
