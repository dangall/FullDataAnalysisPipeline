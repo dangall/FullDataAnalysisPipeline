{
 "cells": [
  {
   "cell_type": "markdown",
   "metadata": {},
   "source": [
    "## Load relevant packages"
   ]
  },
  {
   "cell_type": "code",
   "execution_count": 28,
   "metadata": {
    "collapsed": false
   },
   "outputs": [],
   "source": [
    "# Import all the required packages\n",
    "import pandas as pd\n",
    "import numpy as np\n",
    "from sklearn import linear_model\n",
    "from sklearn.cross_validation import KFold\n",
    "from sklearn.model_selection import cross_val_score, GridSearchCV\n",
    "from sklearn.preprocessing import StandardScaler, PolynomialFeatures\n",
    "from sklearn.discriminant_analysis import LinearDiscriminantAnalysis, QuadraticDiscriminantAnalysis\n",
    "from sklearn.kernel_ridge import KernelRidge\n",
    "from sklearn.svm import SVC, SVR\n",
    "from sklearn.neighbors import NearestNeighbors, KNeighborsClassifier, RadiusNeighborsClassifier\n",
    "from sklearn.neighbors.nearest_centroid import NearestCentroid\n",
    "from sklearn.gaussian_process import GaussianProcessRegressor, GaussianProcessClassifier\n",
    "from sklearn.naive_bayes import GaussianNB, BernoulliNB\n",
    "from sklearn.tree import DecisionTreeClassifier\n",
    "from sklearn.ensemble import BaggingClassifier, BaggingRegressor\n",
    "from sklearn.ensemble import RandomForestClassifier, ExtraTreesClassifier, RandomTreesEmbedding\n",
    "from sklearn.ensemble import AdaBoostClassifier, GradientBoostingClassifier, VotingClassifier\n",
    "from sklearn.feature_selection import SelectKBest\n",
    "from sklearn.feature_selection import chi2\n",
    "from sklearn.feature_selection import mutual_info_classif, f_classif, RFE, RFECV\n",
    "from sklearn.semi_supervised import label_propagation\n",
    "from sklearn.calibration import CalibratedClassifierCV\n",
    "from sklearn.model_selection import train_test_split\n",
    "from sklearn.metrics import (brier_score_loss, precision_score, recall_score,\n",
    "                             f1_score)\n",
    "from sklearn.calibration import CalibratedClassifierCV, calibration_curve\n",
    "import matplotlib.pyplot as plt\n",
    "import matplotlib.patches as patches\n",
    "import time\n",
    "import itertools\n",
    "from copy import deepcopy\n",
    "import re\n",
    "%matplotlib inline"
   ]
  },
  {
   "cell_type": "markdown",
   "metadata": {},
   "source": [
    "## Load relevant data files"
   ]
  },
  {
   "cell_type": "code",
   "execution_count": 2,
   "metadata": {
    "collapsed": true
   },
   "outputs": [],
   "source": [
    "#================================================================================================\n",
    "# USER INPUT!\n",
    "# Here I specify which data files need reading in\n",
    "datafilenames = [\"natinalitycleantrain.csv\"]\n",
    "# For each data file, we write which column contains the information we want to predict\n",
    "topredictcolumn= [\"Survived\"]\n",
    "#================================================================================================\n",
    "\n",
    "# FROM HERE ON IT'S AUTOMATIC\n",
    "\n",
    "# Sometiems the index column gets saved automatically as a new column when writingto csv. \n",
    "# We'll remove these as they serve no purpose.\n",
    "alldataframes = [pd.read_csv(filename) for filename in datafilenames]\n",
    "\n",
    "for (pos,frame) in enumerate(alldataframes):\n",
    "    toadd = frame\n",
    "    if \"Unnamed: 0\" in frame:\n",
    "        toadd = toadd.drop(\"Unnamed: 0\",axis=1)\n",
    "    if \"Unnamed: 0.1\" in frame:\n",
    "        toadd = toadd.drop(\"Unnamed: 0.1\",axis=1)\n",
    "    alldataframes[pos] = toadd"
   ]
  },
  {
   "cell_type": "code",
   "execution_count": null,
   "metadata": {
    "collapsed": true
   },
   "outputs": [],
   "source": []
  },
  {
   "cell_type": "code",
   "execution_count": null,
   "metadata": {
    "collapsed": true
   },
   "outputs": [],
   "source": []
  },
  {
   "cell_type": "markdown",
   "metadata": {},
   "source": [
    "# Temporary work"
   ]
  },
  {
   "cell_type": "markdown",
   "metadata": {},
   "source": [
    "This particular problem is a classification problem; we are not trying to obtain the value of some parameter, e.g. how much a customer will spend in the future.\n",
    "\n",
    "However, it might still be useful to try and predict such parameters, e.g. the age of passengers. This might improve survival predictions, but regarless it is a good exercise to do."
   ]
  },
  {
   "cell_type": "code",
   "execution_count": 3,
   "metadata": {
    "collapsed": true
   },
   "outputs": [],
   "source": [
    "thedataframe = deepcopy(alldataframes[0])\n",
    "datacateg = {'Survived': \"QA\", 'Pclass': \"O\", 'Name': \"C\", 'Sex': \"C\",\n",
    "             'Age': \"QA\", 'SibSp': \"QA\", 'Parch': \"QA\", 'Ticket': \"C\", \n",
    "             'Fare': \"QA\", 'Cabin': \"C\", 'Embarked': \"C\", 'Nationality': \"C\"}\n",
    "uselesscols = [\"Name\", \"Ticket\"]\n",
    "dictofunknown = {\"Survived\": -1, \"Pclass\": -1,\"Name\": \"Unknown name\", \"Sex\": \"Unspecified\", \n",
    "                 \"Ticket\": \"XXXXXX\", \"Cabin\": \"X\", \"Embarked\": \"X\", \n",
    "                 \"Age\": alldataframes[0][\"Age\"][abs(alldataframes[0][\"Age\"] - alldataframes[0][\"Age\"].mean()) < 0.2].unique()[0], \n",
    "                 \"Nationality\": \"Unknown\"}\n",
    "orderings = [\n",
    "    {\"Pclass\": [1,2,3]} #NB only need to include columns that are not numeric!\n",
    "]\n",
    "dictofordinals = {\"Pclass\": [1,2,3]}"
   ]
  },
  {
   "cell_type": "markdown",
   "metadata": {},
   "source": [
    "## Regression\n",
    "### Functions for making predictions based on given model"
   ]
  },
  {
   "cell_type": "code",
   "execution_count": 4,
   "metadata": {
    "collapsed": false
   },
   "outputs": [],
   "source": [
    "# Returns the intercept, parameters, Rscore (where 1.0 is perfect prediction, and percentage of cases\n",
    "# correctly predicted. The final two are given as tuple (score, errorbarsonscore). X is the data we use \n",
    "# to predict y; predictionmethod is the name of our model, e.g. linear_model.LinearRegression; rounddecimals\n",
    "# equals the number of decimals allowed for our prediction, e.g. when predicting integers rounddecimals=0; \n",
    "# num_iterations is the number of times we run the function to obtain the parameters, and kwargs are any \n",
    "# additional optional parameters we want to pass on to predictionmethod.\n",
    "def getParametersAndPredictionScore(inputX, inputy, predictionmethod, rounddecimals=\"none\", num_iterations=1, \n",
    "                                    classifier=False, transform=\"none\",**kwargs):\n",
    "    (X, y) = (inputX, inputy)\n",
    "    if transform!=\"none\":\n",
    "        (X, y) = (transformData(inputX, transform=transform), transformData(inputy, transform=transform))\n",
    "    if classifier==True:\n",
    "        predictedpercent = []\n",
    "    parameters = []\n",
    "    intercept = []\n",
    "    score = []\n",
    "    for iter in range(num_iterations):\n",
    "        kfoldindices = KFold(len(y),n_folds=5,shuffle=True)\n",
    "        for trainindex, testindex in kfoldindices:\n",
    "            Xtrain, Xtest = X[trainindex], X[testindex]\n",
    "            if transform==\"scale\":\n",
    "                (Xtrain, Xtest) = scaleData(Xtrain, Xtest)\n",
    "            ytrain, ytest = y[trainindex], y[testindex]\n",
    "            predictor = predictionmethod(**kwargs)\n",
    "            predictor.fit(Xtrain,ytrain)\n",
    "            predictedy = predictor.predict(Xtest)\n",
    "            if rounddecimals!=\"none\":\n",
    "                predictedy = np.round(predictedy, decimals=rounddecimals)\n",
    "            if classifier==True:\n",
    "                predictedpercent.append((predictedy==ytest).mean())\n",
    "            parameters.append(predictor.coef_)\n",
    "            intercept.append(predictor.intercept_)\n",
    "            score.append(predictor.score(Xtest,ytest))\n",
    "    score = (np.mean(score),np.std(score))\n",
    "    parameters = np.mean(parameters, axis=0)\n",
    "    intercept = np.mean(intercept)\n",
    "    if classifier==True:\n",
    "        predictedpercent = (np.mean(predictedpercent), np.std(predictedpercent))\n",
    "        toreturn = (intercept, parameters, score, predictedpercent)\n",
    "    else:\n",
    "        toreturn = (intercept, parameters, score)\n",
    "    return toreturn\n",
    "\n",
    "def getPredictionPercentage(inputX, inputy, predictionmethod, rounddecimals=\"none\", num_iterations=1, \n",
    "                                    classifier=False, transform=\"none\",**kwargs):\n",
    "    (X, y) = (inputX, inputy)\n",
    "    if transform!=\"none\":\n",
    "        (X, y) = (transformData(inputX, transform=transform), transformData(inputy, transform=transform))\n",
    "    if classifier==True:\n",
    "        predictedpercent = []\n",
    "    score = []\n",
    "    for iter in range(num_iterations):\n",
    "        kfoldindices = KFold(len(y),n_folds=5,shuffle=True)\n",
    "        for trainindex, testindex in kfoldindices:\n",
    "            Xtrain, Xtest = X[trainindex], X[testindex]\n",
    "            if transform==\"scale\":\n",
    "                (Xtrain, Xtest) = scaleData(Xtrain, Xtest)\n",
    "            ytrain, ytest = y[trainindex], y[testindex]\n",
    "            predictor = predictionmethod(**kwargs)\n",
    "            predictor.fit(Xtrain,ytrain)\n",
    "            predictedy = predictor.predict(Xtest)\n",
    "            if rounddecimals!=\"none\":\n",
    "                predictedy = np.round(predictedy, decimals=rounddecimals)\n",
    "            if classifier==True:\n",
    "                predictedpercent.append((predictedy==ytest).mean())\n",
    "            score.append(predictor.score(Xtest,ytest))\n",
    "    score = (np.mean(score),np.std(score))\n",
    "    if classifier==True:\n",
    "        predictedpercent = (np.mean(predictedpercent), np.std(predictedpercent))\n",
    "        toreturn = (score, predictedpercent)\n",
    "    else:\n",
    "        toreturn = (score)\n",
    "    return toreturn\n",
    "\n",
    "# Returns the prediction accuracy (+/- errorbars on the accuracy) when classifying \"at random\", i.e. \n",
    "# by always predicting the same thing for all the elements. We try by predicting the mean, or the \n",
    "# median, or the most frequently occurring element\n",
    "def randomPrediction(y, rounddecimals=\"none\", num_iterations=1):\n",
    "    meanscore = []\n",
    "    medianscore = []\n",
    "    mostfrequentscore = []\n",
    "    for iter in range(num_iterations):\n",
    "        kfoldindices = KFold(len(y),n_folds=5,shuffle=True)\n",
    "        for trainindex, testindex in kfoldindices:\n",
    "            ytrain, ytest = y[trainindex], y[testindex]\n",
    "            mean = np.mean(ytrain)\n",
    "            median = np.median(ytrain)\n",
    "            mostfrequent = max(set(list(y)), key=list(ytrain).count)\n",
    "            if rounddecimals!=\"none\":\n",
    "                mean = np.round(mean, decimals=rounddecimals)\n",
    "            meanscore.append((ytest==mean).mean())\n",
    "            medianscore.append((ytest==median).mean())\n",
    "            mostfrequentscore.append((ytest==mostfrequent).mean())\n",
    "    meanscore = (np.mean(meanscore), np.std(meanscore))\n",
    "    medianscore = (np.mean(medianscore), np.std(medianscore))\n",
    "    mostfrequentscore = (np.mean(mostfrequentscore), np.std(mostfrequentscore))\n",
    "    allscores = [meanscore[0], medianscore[0], mostfrequentscore[0]]\n",
    "    return [meanscore, medianscore, mostfrequentscore][allscores.index(max(allscores))]"
   ]
  },
  {
   "cell_type": "markdown",
   "metadata": {},
   "source": [
    "#### Helper functions"
   ]
  },
  {
   "cell_type": "code",
   "execution_count": 5,
   "metadata": {
    "collapsed": false
   },
   "outputs": [],
   "source": [
    "def transformData(inputdata, transform=\"log\"):\n",
    "    outputdata = deepcopy(inputdata)\n",
    "    if transform==\"sqrt\":\n",
    "        outputdata[outputdata>0] = np.sqrt(outputdata[outputdata>0])\n",
    "        outputdata[outputdata<0] = -np.sqrt(-outputdata[outputdata<0])\n",
    "    if transform==\"log\":\n",
    "        outputdata[outputdata>1] = np.log(outputdata[outputdata>1])+1\n",
    "        outputdata[outputdata<-1] = -np.log(-outputdata[outputdata<-1])-1\n",
    "    return outputdata\n",
    "\n",
    "def inverseTransformData(inputdata, transform=\"log\"):\n",
    "    outputdata = deepcopy(inputdata)\n",
    "    if transform==\"sqrt\":\n",
    "        outputdata[outputdata>0] = outputdata[outputdata>0]**2\n",
    "        outputdata[outputdata<0] = -((-outputdata[outputdata<0])**2)\n",
    "    if transform==\"log\":\n",
    "        outputdata[outputdata>1] = np.e**(outputdata[outputdata>1]-1)\n",
    "        outputdata[outputdata<-1] = -(np.e**(-outputdata[outputdata<-1] -1))\n",
    "    return outputdata\n",
    "\n",
    "def scaleData(X_train, X_test):\n",
    "    scaler = StandardScaler()\n",
    "    scaler.fit(X_train)  # Need to fit only on training data, not evaluation data!\n",
    "    scaledX_train = scaler.transform(X_train)\n",
    "    scaledX_test = scaler.transform(X_test)  # we apply same transformation to test data\n",
    "    return (scaledX_train, scaledX_test)\n",
    "\n",
    "#This function removes those rows in \"inputdataframe\" where data was generated automatially \n",
    "# in the column \"columnofinterest\". \"dictofunknown\" contains the information on what data was\n",
    "# generated automatically.\n",
    "def removeAutogeneratedData(inputdataframe, columnsofinterest, dictofunknown):\n",
    "    if type(columnsofinterest)==str:\n",
    "        allcolumnsofinterest = [columnsofinterest]\n",
    "    else:\n",
    "        allcolumnsofinterest = columnsofinterest\n",
    "    outputdataframe = deepcopy(inputdataframe)\n",
    "    for col in allcolumnsofinterest:\n",
    "        if col in dictofunknown:\n",
    "            outputdataframe = outputdataframe[outputdataframe[col]!= dictofunknown[col]]\n",
    "    return outputdataframe\n",
    "\n",
    "# Helper function that takes a model, e.g. linear_model.LinearRegression,\n",
    "# and returns the name of that model, e.g. \"LinearRegression\"\n",
    "def getModelName(currentmodel):\n",
    "    modelname = str(currentmodel)\n",
    "    modelname = modelname[modelname.rfind(\".\")+1:]\n",
    "    extracharacters = re.search(\"[^a-zA-z]\",modelname)\n",
    "    if type(extracharacters)!=type(None):\n",
    "        modelname = modelname[:extracharacters.start()]\n",
    "    return modelname\n",
    "\n",
    "# Returns the same dataframe but where the ordinal data has been replaced with numbers, and hence can\n",
    "# be ordered correctly. When plotting it will be necessary to replace the numbers back to their\n",
    "# original categorical labels.\n",
    "def orderOrdinalData(thedataframe, dictofordinals):\n",
    "    orderedordinalsframe = deepcopy(thedataframe)\n",
    "    # We need to turn the dictionary dictofordinals into a form good for using pandas .replace(dict)\n",
    "    neworderings = deepcopy(dictofordinals)\n",
    "    for key in neworderings:\n",
    "        # Pandas complains if we have intersections between the keys and the values\n",
    "        intersectionlength = len(set(neworderings[key]).intersection(set(range(1,len(neworderings[key])+1))))\n",
    "        if intersectionlength==0:\n",
    "            # We can just replace the entries with 0,1,2,...,num_categories-1\n",
    "            neworderings[key] = dict([(el,ii+1) for ii,el in enumerate(neworderings[key])])\n",
    "        else:\n",
    "            # We replace with '0',1','2',.... instead. We will later turn the strings into ints.\n",
    "            neworderings[key] = dict([(el,str(ii+1)) for ii,el in enumerate(neworderings[key])])\n",
    "    # Now we'll replace the ordinal columns in the dataframes with numeric labels\n",
    "    if dictofordinals!={}:\n",
    "        orderedordinalsframe.replace(neworderings, inplace=True)\n",
    "        for key in neworderings.keys():\n",
    "            orderedordinalsframe.loc[:,key] = pd.to_numeric(orderedordinalsframe[key])\n",
    "    return (orderedordinalsframe, neworderings)\n",
    "\n",
    "def makeAllColumnsNumeric(thedataframe, dictofordinals, datacateg):\n",
    "    ordereddataframe = orderOrdinalData(thedataframe, dictofordinals)[0]\n",
    "    replacementdict = {}\n",
    "    for col in ordereddataframe:\n",
    "        if datacateg[col]==\"C\":\n",
    "            allcategories = sorted(ordereddataframe[col].unique())\n",
    "            replacementdict[col] = dict([(cat,ii) for ii, cat in enumerate(allcategories)])\n",
    "    ordereddataframe.replace(replacementdict, inplace=True)\n",
    "    return (ordereddataframe, replacementdict)"
   ]
  },
  {
   "cell_type": "markdown",
   "metadata": {},
   "source": [
    "### Implement all linear regressions"
   ]
  },
  {
   "cell_type": "code",
   "execution_count": 6,
   "metadata": {
    "collapsed": false
   },
   "outputs": [],
   "source": [
    "def tryAllLinearRegressions(thedataframe, topredict, frompredict, dictofunknown={}, num_iterations=100, \n",
    "                            rounddecimals=\"none\", printout=False, classifier=False, transform=\"none\"):\n",
    "    # We begin by making the input data from thedataframe\n",
    "    (X,y) = makeDataFromModels(thedataframe, topredict, frompredict, dictofunknown)\n",
    "    \n",
    "    modelstotryout = [linear_model.LinearRegression, linear_model.RidgeCV, linear_model.LassoCV, \n",
    "                      linear_model.BayesianRidge, linear_model.SGDRegressor]\n",
    "    \n",
    "    if classifier==True:\n",
    "        randomprediction = randomPrediction(y, rounddecimals=rounddecimals, num_iterations=num_iterations)\n",
    "    modelandresults = {}\n",
    "    for model in modelstotryout:\n",
    "        modelname = getModelName(model)\n",
    "        if printout==True:\n",
    "            print modelname\n",
    "        transformtouse = transform\n",
    "        if model==linear_model.SGDRegressor:\n",
    "            transformtouse = \"scale\"\n",
    "        if \"n_alphas\" in model().get_params():\n",
    "            modeldata = getParametersAndPredictionScore(X, y, model, rounddecimals=rounddecimals, \n",
    "                                                        num_iterations=num_iterations, n_alphas=3,\n",
    "                                                        classifier=classifier, transform=transformtouse)\n",
    "        else:\n",
    "            modeldata = getParametersAndPredictionScore(X, y, model, rounddecimals=rounddecimals, \n",
    "                                                        num_iterations=num_iterations, classifier=classifier,\n",
    "                                                        transform=transformtouse)\n",
    "        modelandresults[modelname] = modeldata\n",
    "        if printout==True:\n",
    "            print u\"\\tThe score on the fit is %f \\u00B1 %f (1.0 is perfect)\" %modeldata[2]\n",
    "            if classifier==True:\n",
    "                print u\"\\tThe percentage of correct identifications is: %f \\u00B1 %f\" %modeldata[-1]\n",
    "                print u\"\\t         Benchmark from random prediction is: %f \\u00B1 %f\" %randomprediction\n",
    "    return modelandresults\n",
    "\n",
    "# Makes a scatterplot of the error in prediction, versus the predicted value, to see if there\n",
    "# is any heteroscedasticity, i.e. to see if the error bars of our prediction depend on the value\n",
    "# of the prediction. Returns the R^2 value of the prediction.\n",
    "def plotErrors(thedataframe, topredict, frompredict, chosenmodel, dictofregressions, \n",
    "               rounddecimals=\"none\", minvalue=\"none\", maxvalue=\"none\", ax=\"none\", dictofunknown={}, \n",
    "               alpha=0.3, transform=\"none\"):\n",
    "    (X,y) = makeDataFromModels(thedataframe, topredict, frompredict, dictofunknown)\n",
    "    if transform!=\"none\":\n",
    "        X = transformData(X, transform=transform)\n",
    "    coefficients = dictofregressions[chosenmodel][1]\n",
    "    intercept = dictofregressions[chosenmodel][0]\n",
    "    prediction = np.dot(X,coefficients) + intercept\n",
    "    if transform!=\"none\":\n",
    "        prediction = inverseTransformData(prediction, transform=transform)\n",
    "    if rounddecimals!=\"none\":\n",
    "        prediction = np.round(prediction, decimals=rounddecimals)\n",
    "    if minvalue!=\"none\":\n",
    "        prediction[prediction < minvalue] = minvalue\n",
    "    if maxvalue!=\"none\":\n",
    "        prediction[prediction > maxvalue] = maxvalue\n",
    "    if ax==\"none\":\n",
    "        plt.scatter(prediction, prediction - y, alpha=alpha)\n",
    "        plt.xlabel(\"Predicted \" + topredict)\n",
    "        plt.ylabel(\"Error in prediction\")\n",
    "        plt.show()\n",
    "    else:\n",
    "        ax.scatter(prediction, prediction - y, alpha=alpha)\n",
    "        ax.set_xlabel(\"Predicted \" + topredict)\n",
    "        ax.set_ylabel(\"Error in prediction\")\n",
    "    print \"Mean: %f\" %np.mean(prediction - y)\n",
    "    print \"Std: %f\" %np.std(prediction - y)\n",
    "    print \"R^2: %f\" %(np.var(prediction) / np.var(y))"
   ]
  },
  {
   "cell_type": "markdown",
   "metadata": {},
   "source": [
    "#### Helper functions"
   ]
  },
  {
   "cell_type": "code",
   "execution_count": 7,
   "metadata": {
    "collapsed": true
   },
   "outputs": [],
   "source": [
    "def makeDataFromModels(thedataframe, topredict, frompredict, dictofunknown):\n",
    "    tousedataframe = removeAutogeneratedData(thedataframe, frompredict + [topredict], dictofunknown)\n",
    "    X = tousedataframe[frompredict].as_matrix()\n",
    "    y = tousedataframe[topredict].as_matrix()\n",
    "    return (X,y)"
   ]
  },
  {
   "cell_type": "markdown",
   "metadata": {},
   "source": [
    "### Functions for using regressions to fill in unknown data"
   ]
  },
  {
   "cell_type": "code",
   "execution_count": 8,
   "metadata": {
    "collapsed": false
   },
   "outputs": [],
   "source": [
    "# Makes a dataframe where the values of topredict have been predicted using frompredict, with the regression \n",
    "# model called chosenmodel (a string). For this we need to have found all regressions, placed in the variable\n",
    "# dictofregressions.\n",
    "def incorporateRegressionPrediction(inputdataframe, topredict, frompredict, chosenmodel, dictofregressions,\n",
    "                                    rounddecimals=\"none\", minvalue=\"none\", maxvalue=\"none\", transform=\"none\"):\n",
    "    thedataframe = deepcopy(inputdataframe)\n",
    "    if topredict in dictofunknown:\n",
    "        topredictframe = thedataframe[thedataframe[topredict]==dictofunknown[topredict]]\n",
    "    else:\n",
    "        topredictframe = thedataframe[thedataframe[topredict].isnull()]\n",
    "    ind = topredictframe.index\n",
    "    dataX = topredictframe[frompredict].as_matrix()\n",
    "    if transform!=\"none\":\n",
    "        dataX = transformData(dataX, transform=transform)\n",
    "    if len(dataX) > 0:\n",
    "        coefficients = dictofregressions[chosenmodel][1]\n",
    "        intercept = dictofregressions[chosenmodel][0]\n",
    "        prediction = np.dot(dataX,coefficients) + intercept\n",
    "        if transform!=\"none\":\n",
    "            prediction = inverseTransformData(prediction, transform=transform)\n",
    "        if rounddecimals!=\"none\":\n",
    "            prediction = np.round(prediction, decimals=rounddecimals)\n",
    "        if minvalue!=\"none\":\n",
    "            prediction[prediction < minvalue] = minvalue\n",
    "        if maxvalue!=\"none\":\n",
    "            prediction[prediction > maxvalue] = maxvalue\n",
    "        thedataframe.loc[ind, topredict] = prediction\n",
    "    return thedataframe"
   ]
  },
  {
   "cell_type": "markdown",
   "metadata": {},
   "source": [
    "### Use linear regression for missing data\n",
    "\n",
    "After having tried various options, it seems like using transform=\"log\" we're able to avoid most of the heteroscedasticity we otherwise get with a straightforward linear regression."
   ]
  },
  {
   "cell_type": "code",
   "execution_count": 9,
   "metadata": {
    "collapsed": false
   },
   "outputs": [
    {
     "name": "stdout",
     "output_type": "stream",
     "text": [
      "LinearRegression\n",
      "\tThe score on the fit is 0.230394 ± 0.074647 (1.0 is perfect)\n",
      "RidgeCV\n",
      "\tThe score on the fit is 0.227922 ± 0.073471 (1.0 is perfect)\n",
      "LassoCV\n",
      "\tThe score on the fit is 0.230399 ± 0.076292 (1.0 is perfect)\n",
      "BayesianRidge\n",
      "\tThe score on the fit is 0.228975 ± 0.073594 (1.0 is perfect)\n",
      "SGDRegressor\n",
      "\tThe score on the fit is 0.210007 ± 0.061570 (1.0 is perfect)\n"
     ]
    }
   ],
   "source": [
    "numericdataframe = makeAllColumnsNumeric(thedataframe, dictofordinals, datacateg)[0]\n",
    "topredict = \"Age\"\n",
    "frompredict = ['Pclass', 'Sex', 'SibSp', 'Parch', \"Fare\", \"Cabin\", 'Embarked']\n",
    "tousedataframe = deepcopy(numericdataframe)\n",
    "transform = \"log\"\n",
    "\n",
    "linearregressions = tryAllLinearRegressions(tousedataframe, topredict, frompredict,\n",
    "                                            dictofunknown={'Age': 29.6991176471}, printout=True, num_iterations=100, \n",
    "                                            rounddecimals=\"none\", classifier=False, transform=transform)"
   ]
  },
  {
   "cell_type": "markdown",
   "metadata": {},
   "source": [
    "### Check heteroscedasticity of fit"
   ]
  },
  {
   "cell_type": "code",
   "execution_count": 10,
   "metadata": {
    "collapsed": false
   },
   "outputs": [
    {
     "data": {
      "image/png": "[encoded data removed]",
      "text/plain": [
       "<matplotlib.figure.Figure at 0xbdb69b0>"
      ]
     },
     "metadata": {},
     "output_type": "display_data"
    },
    {
     "name": "stdout",
     "output_type": "stream",
     "text": [
      "Mean: -3.668175\n",
      "Std: 12.411154\n",
      "R^2: 0.492599\n"
     ]
    }
   ],
   "source": [
    "chosenmodel = \"LinearRegression\"\n",
    "dictofregressions = linearregressions\n",
    "rounddecimals=0\n",
    "minvalue=0\n",
    "maxvalue=100\n",
    "\n",
    "plotErrors(tousedataframe, topredict, frompredict, chosenmodel, dictofregressions,\n",
    "           rounddecimals=rounddecimals, minvalue=minvalue, maxvalue=maxvalue, ax=\"none\", transform=transform)"
   ]
  },
  {
   "cell_type": "markdown",
   "metadata": {},
   "source": [
    "### Make new datafram with predicted values"
   ]
  },
  {
   "cell_type": "code",
   "execution_count": 11,
   "metadata": {
    "collapsed": false
   },
   "outputs": [],
   "source": [
    "newdataframe = incorporateRegressionPrediction(tousedataframe, topredict, frompredict, chosenmodel, dictofregressions,\n",
    "                                               rounddecimals=rounddecimals, minvalue=minvalue, maxvalue=maxvalue, \n",
    "                                               transform=transform)"
   ]
  },
  {
   "cell_type": "markdown",
   "metadata": {},
   "source": [
    "## Classification\n",
    "### Generic functions for making predictions and checking their accuracy"
   ]
  },
  {
   "cell_type": "code",
   "execution_count": 12,
   "metadata": {
    "collapsed": true
   },
   "outputs": [],
   "source": [
    "def getPrediction(trainX, trainy, dataX, predictionmethod, transform=\"none\",**kwargs):\n",
    "    (Xtraining, ytraining) = (trainX, trainy)\n",
    "    X = dataX\n",
    "    if transform!=\"none\":\n",
    "        Xtraining = transformData(trainX, transform=transform)\n",
    "        X = transformData(dataX, transform=transform)\n",
    "    if transform==\"scale\":\n",
    "        (Xtraining, X) = scaleData(Xtraining, X)\n",
    "    predictor = predictionmethod(**kwargs)\n",
    "    predictor.fit(Xtraining,ytraining)\n",
    "    predictedy = predictor.predict(X)\n",
    "    return predictedy\n",
    "\n",
    "def getPredictionProba(trainX, trainy, dataX, predictionmethod, transform=\"none\",**kwargs):\n",
    "    (Xtraining, ytraining) = (trainX, trainy)\n",
    "    X = dataX\n",
    "    if transform!=\"none\":\n",
    "        Xtraining = transformData(trainX, transform=transform)\n",
    "        X = transformData(dataX, transform=transform)\n",
    "    if transform==\"scale\":\n",
    "        (Xtraining, X) = scaleData(Xtraining, X)\n",
    "    predictor = predictionmethod(**kwargs)\n",
    "    predictor.fit(Xtraining,ytraining)\n",
    "    predictedy = predictor.predict_proba(X)\n",
    "    return predictedy\n",
    "\n",
    "def getPredictionScore(inputX, inputy, predictionmethod, num_iterations=1, transform=\"none\",**kwargs):\n",
    "    (X, y) = (inputX, inputy)\n",
    "    if transform!=\"none\":\n",
    "        X = transformData(inputX, transform=transform)\n",
    "    score = []\n",
    "    for iter in range(num_iterations):\n",
    "        kfoldindices = KFold(len(y),n_folds=5,shuffle=True)\n",
    "        for trainindex, testindex in kfoldindices:\n",
    "            Xtrain, Xtest = X[trainindex], X[testindex]\n",
    "            if transform==\"scale\":\n",
    "                (Xtrain, Xtest) = scaleData(Xtrain, Xtest)\n",
    "            ytrain, ytest = y[trainindex], y[testindex]\n",
    "            predictor = predictionmethod(**kwargs)\n",
    "            predictor.fit(Xtrain,ytrain)\n",
    "            score.append(predictor.score(Xtest,ytest))\n",
    "    score = (np.mean(score),np.std(score))\n",
    "    return score"
   ]
  },
  {
   "cell_type": "markdown",
   "metadata": {},
   "source": [
    "### Functions for making classification through regression"
   ]
  },
  {
   "cell_type": "code",
   "execution_count": 13,
   "metadata": {
    "collapsed": false
   },
   "outputs": [],
   "source": [
    "def tryAllLinRegClassifiers(thedataframe, topredict, frompredict, dictofunknown={}, num_iterations=30, \n",
    "                            rounddecimals=0, printout=True, transform=\"scale\", polynomialdegrees=[1]):\n",
    "    linregs = tryPolynomialRegressions(thedataframe, topredict, frompredict, polynomialdegrees,\n",
    "                                       dictofunknown=dictofunknown, num_iterations=num_iterations,\n",
    "                                       rounddecimals=rounddecimals, printout=printout, classifier=True, transform=transform)\n",
    "    otherregs = tryOtherRegressions(thedataframe, topredict, frompredict,\n",
    "                                    dictofunknown=dictofunknown, num_iterations=num_iterations,\n",
    "                                    rounddecimals=rounddecimals, printout=printout, classifier=True, transform=\"none\")\n",
    "    linregs.update(otherregs)\n",
    "    regclassifiers = tryAllRegressionClassifiers(thedataframe, topredict, frompredict, polynomialdegrees, \n",
    "                                                 dictofunknown=dictofunknown, num_iterations=num_iterations, \n",
    "                                                 printout=printout, transform=transform)\n",
    "    linregs.update(regclassifiers)\n",
    "    otherclass = tryOtherClassifiers(thedataframe, topredict, frompredict, dictofunknown=dictofunknown, \n",
    "                                     num_iterations=num_iterations, printout=printout, transform=transform)\n",
    "    linregs.update(otherclass)\n",
    "    return linregs"
   ]
  },
  {
   "cell_type": "markdown",
   "metadata": {},
   "source": [
    "#### Helper functions"
   ]
  },
  {
   "cell_type": "code",
   "execution_count": 14,
   "metadata": {
    "collapsed": false
   },
   "outputs": [],
   "source": [
    "def tryAllRegressionClassifiers(thedataframe, topredict, frompredict, polynomialdegrees, dictofunknown={}, num_iterations=100, \n",
    "                            printout=False, transform=\"none\"):\n",
    "    # We begin by making the input data from thedataframe\n",
    "    (X,y) = makeDataFromModels(thedataframe, topredict, frompredict, dictofunknown)\n",
    "    \n",
    "    modelstotryout = [linear_model.LogisticRegression, linear_model.LogisticRegressionCV, linear_model.SGDClassifier,\n",
    "                      linear_model.Perceptron]\n",
    "    \n",
    "    if type(polynomialdegrees)==int:\n",
    "        alldegrees = [polynomialdegrees]\n",
    "    else:\n",
    "        alldegrees = polynomialdegrees\n",
    "    \n",
    "    randomprediction = randomPrediction(y, num_iterations=num_iterations)\n",
    "    \n",
    "    modelandresults = {}\n",
    "    for model in modelstotryout:\n",
    "        modelname = getModelName(model)\n",
    "        if printout==True:\n",
    "            print modelname\n",
    "        transformtouse = transform\n",
    "        if model==linear_model.SGDClassifier or model==linear_model.Perceptron:\n",
    "            transformtouse = \"scale\"\n",
    "        for polydegree in alldegrees:\n",
    "            poly = PolynomialFeatures(degree=polydegree)\n",
    "            polyX = poly.fit_transform(X)\n",
    "            if printout==True:\n",
    "                print \"\\tPolynomial of degree \" + str(polydegree)\n",
    "            if \"n_alphas\" in model().get_params(): \n",
    "                modelscore = getPredictionScore(polyX, y, model, num_iterations=num_iterations, n_alphas=3, \n",
    "                                                transform=transformtouse)\n",
    "            else:\n",
    "                modelscore = getPredictionScore(polyX, y, model, num_iterations=num_iterations, transform=transformtouse)\n",
    "            modelandresults[modelname] = modelscore\n",
    "            if printout==True:\n",
    "                print u\"\\t\\tThe percentage of correct identifications is: %f \\u00B1 %f\" %modelscore\n",
    "                print u\"\\t\\t         Benchmark from random prediction is: %f \\u00B1 %f\" %randomprediction\n",
    "            # Now we'll do the Bagging version of this same model\n",
    "            if printout==True:\n",
    "                print \"\\t    Bagging version\"\n",
    "            if \"n_alphas\" in model().get_params(): \n",
    "                modelscore = getPredictionScore(X, y, BaggingClassifier, num_iterations=2, transform=transformtouse,\n",
    "                                            base_estimator=model(n_alphas=3), n_estimators=30)\n",
    "            else:\n",
    "                modelscore = getPredictionScore(X, y, BaggingClassifier, num_iterations=2, transform=transformtouse,\n",
    "                                            base_estimator=model(), n_estimators=30)\n",
    "            modelandresults[(\"Bagging \" + modelname)] = modelscore\n",
    "            if printout==True:\n",
    "                print u\"\\t\\tThe percentage of correct identifications is: %f \\u00B1 %f\" %modelscore\n",
    "                print u\"\\t\\t         Benchmark from random prediction is: %f \\u00B1 %f\" %randomprediction\n",
    "    return modelandresults\n",
    "\n",
    "def tryPolynomialRegressions(thedataframe, topredict, frompredict, polynomialdegrees, dictofunknown={}, num_iterations=100, \n",
    "                             rounddecimals=\"none\", printout=False, classifier=False, transform=\"none\"):\n",
    "    # We begin by making the input data from thedataframe\n",
    "    (X,y) = makeDataFromModels(thedataframe, topredict, frompredict, dictofunknown)\n",
    "    \n",
    "    modelstotryout = [linear_model.LinearRegression, linear_model.RidgeCV, linear_model.LassoCV, \n",
    "                      linear_model.BayesianRidge, linear_model.SGDRegressor]\n",
    "    \n",
    "    if type(polynomialdegrees)==int:\n",
    "        alldegrees = [polynomialdegrees]\n",
    "    else:\n",
    "        alldegrees = polynomialdegrees\n",
    "    \n",
    "    if classifier==True:\n",
    "        randomprediction = randomPrediction(y, rounddecimals=rounddecimals, num_iterations=num_iterations)\n",
    "    modelandresults = {}\n",
    "    for model in modelstotryout:\n",
    "        modelname = getModelName(model)\n",
    "        if printout==True:\n",
    "            print modelname\n",
    "        transformtouse = transform\n",
    "        if model==linear_model.SGDRegressor or model==linear_model.Perceptron:\n",
    "            transformtouse = \"scale\"\n",
    "        for polydegree in alldegrees:\n",
    "            poly = PolynomialFeatures(degree=polydegree)\n",
    "            polyX = poly.fit_transform(X)\n",
    "            if printout==True:\n",
    "                print \"\\tPolynomial of degree \" + str(polydegree)\n",
    "            if \"n_alphas\" in model().get_params():\n",
    "                modeldata = getPredictionPercentage(polyX, y, model, rounddecimals=rounddecimals, \n",
    "                                                            num_iterations=num_iterations, n_alphas=3,\n",
    "                                                            classifier=classifier, transform=transformtouse)\n",
    "            else:\n",
    "                modeldata = getPredictionPercentage(polyX, y, model, rounddecimals=rounddecimals, \n",
    "                                                            num_iterations=num_iterations, classifier=classifier,\n",
    "                                                            transform=transformtouse)\n",
    "            modelandresults[(modelname,polydegree)] = modeldata\n",
    "            if printout==True:\n",
    "                print u\"\\t\\tThe score on the fit is %f \\u00B1 %f (1.0 is perfect)\" %modeldata[-2]\n",
    "                if classifier==True:\n",
    "                    print u\"\\t\\tThe percentage of correct identifications is: %f \\u00B1 %f\" %modeldata[-1]\n",
    "                    print u\"\\t\\t         Benchmark from random prediction is: %f \\u00B1 %f\" %randomprediction\n",
    "            # Now we'll do the Bagging version of this same model\n",
    "            if printout==True:\n",
    "                print \"\\t    Bagging version\"\n",
    "            if \"n_alphas\" in model().get_params(): \n",
    "                modeldata = getPredictionPercentage(polyX, y, BaggingRegressor, rounddecimals=rounddecimals, \n",
    "                                                             num_iterations=2, classifier=classifier,\n",
    "                                                             transform=transformtouse, base_estimator=model(n_alphas=3),\n",
    "                                                             n_estimators=30)\n",
    "            else:\n",
    "                modeldata = getPredictionPercentage(polyX, y, BaggingRegressor, rounddecimals=rounddecimals, \n",
    "                                                             num_iterations=2, classifier=classifier,\n",
    "                                                             transform=transformtouse, base_estimator=model(),\n",
    "                                                             n_estimators=30)\n",
    "            modelandresults[(\"Bagging \" + modelname)] = modeldata\n",
    "            if printout==True:\n",
    "                print u\"\\t\\tThe score on the fit is %f \\u00B1 %f (1.0 is perfect)\" %modeldata[-2]\n",
    "                if classifier==True:\n",
    "                    print u\"\\t\\tThe percentage of correct identifications is: %f \\u00B1 %f\" %modeldata[-1]\n",
    "                    print u\"\\t\\t         Benchmark from random prediction is: %f \\u00B1 %f\" %randomprediction\n",
    "    return modelandresults\n",
    "\n",
    "def tryOtherRegressions(thedataframe, topredict, frompredict, dictofunknown={}, num_iterations=100, \n",
    "                        rounddecimals=\"none\", printout=False, classifier=False, transform=\"none\"):\n",
    "    # We begin by making the input data from thedataframe\n",
    "    (X,y) = makeDataFromModels(thedataframe, topredict, frompredict, dictofunknown)\n",
    "    \n",
    "    modelstotryout = [KernelRidge, GaussianProcessRegressor]\n",
    "       \n",
    "    if classifier==True:\n",
    "        randomprediction = randomPrediction(y, rounddecimals=rounddecimals, num_iterations=num_iterations)\n",
    "    modelandresults = {}\n",
    "    for model in modelstotryout:\n",
    "        modelname = getModelName(model)\n",
    "        if printout==True:\n",
    "            print modelname\n",
    "        transformtouse = transform\n",
    "        if model==linear_model.SGDRegressor or model==linear_model.Perceptron:\n",
    "            transformtouse = \"scale\"\n",
    "        if \"n_alphas\" in model().get_params():\n",
    "            modeldata = getPredictionPercentage(X, y, model, rounddecimals=rounddecimals, \n",
    "                                                num_iterations=num_iterations, n_alphas=3,\n",
    "                                                classifier=classifier, transform=transformtouse)\n",
    "        else:\n",
    "            modeldata = getPredictionPercentage(X, y, model, rounddecimals=rounddecimals, \n",
    "                                                num_iterations=num_iterations, classifier=classifier,\n",
    "                                                transform=transformtouse)\n",
    "        modelandresults[modelname] = modeldata\n",
    "        if printout==True:\n",
    "            print u\"\\tThe score on the fit is %f \\u00B1 %f (1.0 is perfect)\" %modeldata[-2]\n",
    "            if classifier==True:\n",
    "                print u\"\\tThe percentage of correct identifications is: %f \\u00B1 %f\" %modeldata[-1]\n",
    "                print u\"\\t         Benchmark from random prediction is: %f \\u00B1 %f\" %randomprediction\n",
    "        # Now we'll do the Bagging version of this same model\n",
    "        if printout==True:\n",
    "            print \"    Bagging version\"\n",
    "        if \"n_alphas\" in model().get_params(): \n",
    "            modeldata = getPredictionPercentage(X, y, BaggingRegressor, rounddecimals=rounddecimals, \n",
    "                                                num_iterations=2, classifier=classifier,\n",
    "                                                transform=transformtouse, base_estimator=model(n_alphas=3),\n",
    "                                                n_estimators=30)\n",
    "        else:\n",
    "            modeldata = getPredictionPercentage(X, y, BaggingRegressor, rounddecimals=rounddecimals, \n",
    "                                                num_iterations=2, classifier=classifier,\n",
    "                                                transform=transformtouse, base_estimator=model(),\n",
    "                                                n_estimators=30)\n",
    "        modelandresults[(\"Bagging \" + modelname)] = modeldata\n",
    "        if printout==True:\n",
    "            print u\"\\tThe score on the fit is %f \\u00B1 %f (1.0 is perfect)\" %modeldata[-2]\n",
    "            if classifier==True:\n",
    "                print u\"\\tThe percentage of correct identifications is: %f \\u00B1 %f\" %modeldata[-1]\n",
    "                print u\"\\t         Benchmark from random prediction is: %f \\u00B1 %f\" %randomprediction\n",
    "    return modelandresults\n",
    "\n",
    "def tryOtherClassifiers(thedataframe, topredict, frompredict, dictofunknown={}, num_iterations=100, \n",
    "                            printout=False, transform=\"none\"):\n",
    "    # We begin by making the input data from thedataframe\n",
    "    (X,y) = makeDataFromModels(thedataframe, topredict, frompredict, dictofunknown)\n",
    "    \n",
    "    modelstotryout = [SVC, KNeighborsClassifier, NearestCentroid, GaussianProcessClassifier, GaussianNB, \n",
    "                      DecisionTreeClassifier, RandomForestClassifier, ExtraTreesClassifier, AdaBoostClassifier,\n",
    "                      GradientBoostingClassifier]\n",
    "      \n",
    "    randomprediction = randomPrediction(y, num_iterations=num_iterations)\n",
    "    \n",
    "    modelandresults = {}\n",
    "    for model in modelstotryout:\n",
    "        modelname = getModelName(model)\n",
    "        if printout==True:\n",
    "            print modelname\n",
    "        transformtouse = transform\n",
    "        if model==linear_model.SGDClassifier or model==linear_model.Perceptron or model==SVC:\n",
    "            transformtouse = \"scale\"\n",
    "        if \"n_alphas\" in model().get_params():\n",
    "            modelscore = getPredictionScore(X, y, model, num_iterations=num_iterations, n_alphas=3, \n",
    "                                            transform=transformtouse)\n",
    "        else:\n",
    "            modelscore = getPredictionScore(X, y, model, num_iterations=num_iterations, transform=transformtouse)\n",
    "        modelandresults[modelname] = modelscore\n",
    "        if printout==True:\n",
    "            print u\"\\tThe percentage of correct identifications is: %f \\u00B1 %f\" %modelscore\n",
    "            print u\"\\t         Benchmark from random prediction is: %f \\u00B1 %f\" %randomprediction\n",
    "        # Now we'll do the Bagging version of this same model\n",
    "        if model!=RandomForestClassifier and model!=ExtraTreesClassifier:\n",
    "            if printout==True:\n",
    "                print \"    Bagging version\"\n",
    "            if \"n_alphas\" in model().get_params(): \n",
    "                modelscore = getPredictionScore(X, y, BaggingClassifier, num_iterations=2, transform=transformtouse,\n",
    "                                            base_estimator=model(n_alphas=3), n_estimators=30)\n",
    "            else:\n",
    "                modelscore = getPredictionScore(X, y, BaggingClassifier, num_iterations=2, transform=transformtouse,\n",
    "                                            base_estimator=model(), n_estimators=30)\n",
    "            modelandresults[(\"Bagging \" + modelname)] = modelscore\n",
    "            if printout==True:\n",
    "                print u\"\\tThe percentage of correct identifications is: %f \\u00B1 %f\" %modelscore\n",
    "                print u\"\\t         Benchmark from random prediction is: %f \\u00B1 %f\" %randomprediction\n",
    "    return modelandresults"
   ]
  },
  {
   "cell_type": "code",
   "execution_count": 15,
   "metadata": {
    "collapsed": false,
    "scrolled": false
   },
   "outputs": [
    {
     "name": "stdout",
     "output_type": "stream",
     "text": [
      "LinearRegression\n",
      "\tPolynomial of degree 1\n",
      "\t\tThe score on the fit is 0.383243 ± 0.065048 (1.0 is perfect)\n",
      "\t\tThe percentage of correct identifications is: 0.791469 ± 0.030144\n",
      "\t\t         Benchmark from random prediction is: 0.610743 ± 0.034591\n",
      "\t    Bagging version\n",
      "\t\tThe score on the fit is 0.387069 ± 0.069074 (1.0 is perfect)\n",
      "\t\tThe percentage of correct identifications is: 0.792799 ± 0.025757\n",
      "\t\t         Benchmark from random prediction is: 0.610743 ± 0.034591\n",
      "\tPolynomial of degree 2\n",
      "\t\tThe score on the fit is 0.400357 ± 0.064851 (1.0 is perfect)\n",
      "\t\tThe percentage of correct identifications is: 0.808009 ± 0.032541\n",
      "\t\t         Benchmark from random prediction is: 0.610743 ± 0.034591\n",
      "\t    Bagging version\n",
      "\t\tThe score on the fit is 0.391988 ± 0.076078 (1.0 is perfect)\n",
      "\t\tThe percentage of correct identifications is: 0.811630 ± 0.038480\n",
      "\t\t         Benchmark from random prediction is: 0.610743 ± 0.034591\n",
      "\tPolynomial of degree 3\n",
      "\t\tThe score on the fit is -2324871405332914503680.000000 ± 16269709327984224108544.000000 (1.0 is perfect)\n",
      "\t\tThe percentage of correct identifications is: 0.765306 ± 0.028434\n",
      "\t\t         Benchmark from random prediction is: 0.610743 ± 0.034591\n",
      "\t    Bagging version\n",
      "\t\tThe score on the fit is -17293302607804196864.000000 ± 34571313953055354880.000000 (1.0 is perfect)\n",
      "\t\tThe percentage of correct identifications is: 0.743744 ± 0.034618\n",
      "\t\t         Benchmark from random prediction is: 0.610743 ± 0.034591\n",
      "RidgeCV\n",
      "\tPolynomial of degree 1\n",
      "\t\tThe score on the fit is 0.387475 ± 0.051760 (1.0 is perfect)\n",
      "\t\tThe percentage of correct identifications is: 0.789612 ± 0.025970\n",
      "\t\t         Benchmark from random prediction is: 0.610743 ± 0.034591\n",
      "\t    Bagging version\n",
      "\t\tThe score on the fit is 0.388561 ± 0.055300 (1.0 is perfect)\n",
      "\t\tThe percentage of correct identifications is: 0.795643 ± 0.023258\n",
      "\t\t         Benchmark from random prediction is: 0.610743 ± 0.034591\n",
      "\tPolynomial of degree 2\n",
      "\t\tThe score on the fit is 0.409852 ± 0.065705 (1.0 is perfect)\n",
      "\t\tThe percentage of correct identifications is: 0.816544 ± 0.028127\n",
      "\t\t         Benchmark from random prediction is: 0.610743 ± 0.034591\n",
      "\t    Bagging version\n",
      "\t\tThe score on the fit is 0.418706 ± 0.061428 (1.0 is perfect)\n",
      "\t\tThe percentage of correct identifications is: 0.815656 ± 0.026925\n",
      "\t\t         Benchmark from random prediction is: 0.610743 ± 0.034591\n",
      "\tPolynomial of degree 3\n",
      "\t\tThe score on the fit is 0.404953 ± 0.077357 (1.0 is perfect)\n",
      "\t\tThe percentage of correct identifications is: 0.808653 ± 0.026134\n",
      "\t\t         Benchmark from random prediction is: 0.610743 ± 0.034591\n",
      "\t    Bagging version\n",
      "\t\tThe score on the fit is 0.396204 ± 0.095690 (1.0 is perfect)\n",
      "\t\tThe percentage of correct identifications is: 0.805341 ± 0.034826\n",
      "\t\t         Benchmark from random prediction is: 0.610743 ± 0.034591\n",
      "LassoCV\n",
      "\tPolynomial of degree 1\n",
      "\t\tThe score on the fit is 0.385569 ± 0.067785 (1.0 is perfect)\n",
      "\t\tThe percentage of correct identifications is: 0.794291 ± 0.028700\n",
      "\t\t         Benchmark from random prediction is: 0.610743 ± 0.034591\n",
      "\t    Bagging version\n",
      "\t\tThe score on the fit is 0.385933 ± 0.052689 (1.0 is perfect)\n",
      "\t\tThe percentage of correct identifications is: 0.792237 ± 0.024519\n",
      "\t\t         Benchmark from random prediction is: 0.610743 ± 0.034591\n",
      "\tPolynomial of degree 2\n"
     ]
    },
    {
     "name": "stderr",
     "output_type": "stream",
     "text": [
      "C:\\Users\\Daniele\\Anaconda2\\lib\\site-packages\\sklearn\\linear_model\\coordinate_descent.py:484: ConvergenceWarning: Objective did not converge. You might want to increase the number of iterations. Fitting data with very small alpha may cause precision problems.\n",
      "  ConvergenceWarning)\n"
     ]
    },
    {
     "name": "stdout",
     "output_type": "stream",
     "text": [
      "\t\tThe score on the fit is 0.407768 ± 0.056624 (1.0 is perfect)\n",
      "\t\tThe percentage of correct identifications is: 0.812329 ± 0.027881\n",
      "\t\t         Benchmark from random prediction is: 0.610743 ± 0.034591\n",
      "\t    Bagging version\n",
      "\t\tThe score on the fit is 0.415655 ± 0.036060 (1.0 is perfect)\n",
      "\t\tThe percentage of correct identifications is: 0.817899 ± 0.020535\n",
      "\t\t         Benchmark from random prediction is: 0.610743 ± 0.034591\n",
      "\tPolynomial of degree 3\n",
      "\t\tThe score on the fit is 0.405937 ± 0.074618 (1.0 is perfect)\n",
      "\t\tThe percentage of correct identifications is: 0.812338 ± 0.029311\n",
      "\t\t         Benchmark from random prediction is: 0.610743 ± 0.034591\n",
      "\t    Bagging version\n",
      "\t\tThe score on the fit is 0.399471 ± 0.096720 (1.0 is perfect)\n",
      "\t\tThe percentage of correct identifications is: 0.813364 ± 0.024162\n",
      "\t\t         Benchmark from random prediction is: 0.610743 ± 0.034591\n",
      "BayesianRidge\n",
      "\tPolynomial of degree 1\n",
      "\t\tThe score on the fit is 0.385770 ± 0.044067 (1.0 is perfect)\n",
      "\t\tThe percentage of correct identifications is: 0.793729 ± 0.022178\n",
      "\t\t         Benchmark from random prediction is: 0.610743 ± 0.034591\n",
      "\t    Bagging version\n",
      "\t\tThe score on the fit is 0.381469 ± 0.051410 (1.0 is perfect)\n",
      "\t\tThe percentage of correct identifications is: 0.793935 ± 0.028600\n",
      "\t\t         Benchmark from random prediction is: 0.610743 ± 0.034591\n",
      "\tPolynomial of degree 2\n",
      "\t\tThe score on the fit is 0.399447 ± 0.087370 (1.0 is perfect)\n",
      "\t\tThe percentage of correct identifications is: 0.809913 ± 0.030706\n",
      "\t\t         Benchmark from random prediction is: 0.610743 ± 0.034591\n",
      "\t    Bagging version\n",
      "\t\tThe score on the fit is 0.407833 ± 0.052062 (1.0 is perfect)\n",
      "\t\tThe percentage of correct identifications is: 0.816747 ± 0.024515\n",
      "\t\t         Benchmark from random prediction is: 0.610743 ± 0.034591\n",
      "\tPolynomial of degree 3\n",
      "\t\tThe score on the fit is 0.407932 ± 0.068364 (1.0 is perfect)\n",
      "\t\tThe percentage of correct identifications is: 0.814498 ± 0.028410\n",
      "\t\t         Benchmark from random prediction is: 0.610743 ± 0.034591\n",
      "\t    Bagging version\n",
      "\t\tThe score on the fit is 0.415445 ± 0.038815 (1.0 is perfect)\n",
      "\t\tThe percentage of correct identifications is: 0.813925 ± 0.014288\n",
      "\t\t         Benchmark from random prediction is: 0.610743 ± 0.034591\n",
      "SGDRegressor\n",
      "\tPolynomial of degree 1\n",
      "\t\tThe score on the fit is 0.384234 ± 0.055288 (1.0 is perfect)\n",
      "\t\tThe percentage of correct identifications is: 0.792805 ± 0.028072\n",
      "\t\t         Benchmark from random prediction is: 0.610743 ± 0.034591\n",
      "\t    Bagging version\n",
      "\t\tThe score on the fit is 0.389846 ± 0.053579 (1.0 is perfect)\n",
      "\t\tThe percentage of correct identifications is: 0.795630 ± 0.026497\n",
      "\t\t         Benchmark from random prediction is: 0.610743 ± 0.034591\n",
      "\tPolynomial of degree 2\n",
      "\t\tThe score on the fit is 0.398462 ± 0.060611 (1.0 is perfect)\n",
      "\t\tThe percentage of correct identifications is: 0.807312 ± 0.020509\n",
      "\t\t         Benchmark from random prediction is: 0.610743 ± 0.034591\n",
      "\t    Bagging version\n",
      "\t\tThe score on the fit is 0.307015 ± 0.203987 (1.0 is perfect)\n",
      "\t\tThe percentage of correct identifications is: 0.797370 ± 0.033752\n",
      "\t\t         Benchmark from random prediction is: 0.610743 ± 0.034591\n",
      "\tPolynomial of degree 3\n",
      "\t\tThe score on the fit is -43014067.356809 ± 214163119.759019 (1.0 is perfect)\n",
      "\t\tThe percentage of correct identifications is: 0.070500 ± 0.151048\n",
      "\t\t         Benchmark from random prediction is: 0.610743 ± 0.034591\n",
      "\t    Bagging version\n",
      "\t\tThe score on the fit is -157188668683108057088.000000 ± 260469242817899790336.000000 (1.0 is perfect)\n",
      "\t\tThe percentage of correct identifications is: 0.000000 ± 0.000000\n",
      "\t\t         Benchmark from random prediction is: 0.610743 ± 0.034591\n",
      "KernelRidge\n",
      "\tThe score on the fit is 0.146486 ± 0.059079 (1.0 is perfect)\n",
      "\tThe percentage of correct identifications is: 0.744042 ± 0.023215\n",
      "\t         Benchmark from random prediction is: 0.610718 ± 0.034285\n",
      "    Bagging version\n",
      "\tThe score on the fit is 0.140759 ± 0.081078 (1.0 is perfect)\n",
      "\tThe percentage of correct identifications is: 0.743172 ± 0.027274\n",
      "\t         Benchmark from random prediction is: 0.610718 ± 0.034285\n",
      "GaussianProcessRegressor\n",
      "\tThe score on the fit is -52123.447501 ± 133300.343970 (1.0 is perfect)\n",
      "\tThe percentage of correct identifications is: 0.495200 ± 0.032457\n",
      "\t         Benchmark from random prediction is: 0.610718 ± 0.034285\n",
      "    Bagging version\n",
      "\tThe score on the fit is -4011.273507 ± 4853.836880 (1.0 is perfect)\n",
      "\tThe percentage of correct identifications is: 0.448640 ± 0.046772\n",
      "\t         Benchmark from random prediction is: 0.610718 ± 0.034285\n",
      "LogisticRegression\n",
      "\tPolynomial of degree 1\n",
      "\t\tThe percentage of correct identifications is: 0.790304 ± 0.027324\n",
      "\t\t         Benchmark from random prediction is: 0.610756 ± 0.035652\n",
      "\t    Bagging version\n",
      "\t\tThe percentage of correct identifications is: 0.788812 ± 0.034001\n",
      "\t\t         Benchmark from random prediction is: 0.610756 ± 0.035652\n",
      "\tPolynomial of degree 2\n",
      "\t\tThe percentage of correct identifications is: 0.813010 ± 0.027862\n",
      "\t\t         Benchmark from random prediction is: 0.610756 ± 0.035652\n",
      "\t    Bagging version\n",
      "\t\tThe percentage of correct identifications is: 0.792841 ± 0.031156\n",
      "\t\t         Benchmark from random prediction is: 0.610756 ± 0.035652\n",
      "\tPolynomial of degree 3\n",
      "\t\tThe percentage of correct identifications is: 0.809812 ± 0.029146\n",
      "\t\t         Benchmark from random prediction is: 0.610756 ± 0.035652\n",
      "\t    Bagging version\n",
      "\t\tThe percentage of correct identifications is: 0.787120 ± 0.021165\n",
      "\t\t         Benchmark from random prediction is: 0.610756 ± 0.035652\n",
      "LogisticRegressionCV\n",
      "\tPolynomial of degree 1\n",
      "\t\tThe percentage of correct identifications is: 0.792574 ± 0.027793\n",
      "\t\t         Benchmark from random prediction is: 0.610756 ± 0.035652\n",
      "\t    Bagging version\n",
      "\t\tThe percentage of correct identifications is: 0.796815 ± 0.030214\n",
      "\t\t         Benchmark from random prediction is: 0.610756 ± 0.035652\n",
      "\tPolynomial of degree 2\n",
      "\t\tThe percentage of correct identifications is: 0.810492 ± 0.026608\n",
      "\t\t         Benchmark from random prediction is: 0.610756 ± 0.035652\n",
      "\t    Bagging version\n",
      "\t\tThe percentage of correct identifications is: 0.789961 ± 0.026461\n",
      "\t\t         Benchmark from random prediction is: 0.610756 ± 0.035652\n",
      "\tPolynomial of degree 3\n",
      "\t\tThe percentage of correct identifications is: 0.811649 ± 0.022990\n",
      "\t\t         Benchmark from random prediction is: 0.610756 ± 0.035652\n",
      "\t    Bagging version\n",
      "\t\tThe percentage of correct identifications is: 0.791711 ± 0.033006\n",
      "\t\t         Benchmark from random prediction is: 0.610756 ± 0.035652\n",
      "SGDClassifier\n",
      "\tPolynomial of degree 1\n",
      "\t\tThe percentage of correct identifications is: 0.732056 ± 0.057315\n",
      "\t\t         Benchmark from random prediction is: 0.610756 ± 0.035652\n",
      "\t    Bagging version\n",
      "\t\tThe percentage of correct identifications is: 0.783143 ± 0.037388\n",
      "\t\t         Benchmark from random prediction is: 0.610756 ± 0.035652\n",
      "\tPolynomial of degree 2\n",
      "\t\tThe percentage of correct identifications is: 0.733457 ± 0.075551\n",
      "\t\t         Benchmark from random prediction is: 0.610756 ± 0.035652\n",
      "\t    Bagging version\n",
      "\t\tThe percentage of correct identifications is: 0.784818 ± 0.027750\n",
      "\t\t         Benchmark from random prediction is: 0.610756 ± 0.035652\n",
      "\tPolynomial of degree 3\n",
      "\t\tThe percentage of correct identifications is: 0.747810 ± 0.077430\n",
      "\t\t         Benchmark from random prediction is: 0.610756 ± 0.035652\n",
      "\t    Bagging version\n",
      "\t\tThe percentage of correct identifications is: 0.792224 ± 0.036045\n",
      "\t\t         Benchmark from random prediction is: 0.610756 ± 0.035652\n",
      "Perceptron\n",
      "\tPolynomial of degree 1\n",
      "\t\tThe percentage of correct identifications is: 0.713930 ± 0.071745\n",
      "\t\t         Benchmark from random prediction is: 0.610756 ± 0.035652\n",
      "\t    Bagging version\n",
      "\t\tThe percentage of correct identifications is: 0.782552 ± 0.025174\n",
      "\t\t         Benchmark from random prediction is: 0.610756 ± 0.035652\n",
      "\tPolynomial of degree 2\n",
      "\t\tThe percentage of correct identifications is: 0.752058 ± 0.064724\n",
      "\t\t         Benchmark from random prediction is: 0.610756 ± 0.035652\n",
      "\t    Bagging version\n",
      "\t\tThe percentage of correct identifications is: 0.781373 ± 0.019325\n",
      "\t\t         Benchmark from random prediction is: 0.610756 ± 0.035652\n",
      "\tPolynomial of degree 3\n",
      "\t\tThe percentage of correct identifications is: 0.761293 ± 0.063390\n",
      "\t\t         Benchmark from random prediction is: 0.610756 ± 0.035652\n",
      "\t    Bagging version\n",
      "\t\tThe percentage of correct identifications is: 0.784812 ± 0.019509\n",
      "\t\t         Benchmark from random prediction is: 0.610756 ± 0.035652\n",
      "SVC\n",
      "\tThe percentage of correct identifications is: 0.817136 ± 0.025780\n",
      "\t         Benchmark from random prediction is: 0.610725 ± 0.033359\n",
      "    Bagging version\n",
      "\tThe percentage of correct identifications is: 0.816802 ± 0.020425\n",
      "\t         Benchmark from random prediction is: 0.610725 ± 0.033359\n",
      "KNeighborsClassifier\n",
      "\tThe percentage of correct identifications is: 0.801722 ± 0.029063\n",
      "\t         Benchmark from random prediction is: 0.610725 ± 0.033359\n",
      "    Bagging version\n",
      "\tThe percentage of correct identifications is: 0.803026 ± 0.031350\n",
      "\t         Benchmark from random prediction is: 0.610725 ± 0.033359\n",
      "NearestCentroid\n",
      "\tThe percentage of correct identifications is: 0.766882 ± 0.024388\n",
      "\t         Benchmark from random prediction is: 0.610725 ± 0.033359\n",
      "    Bagging version\n",
      "\tThe percentage of correct identifications is: 0.768825 ± 0.019757\n",
      "\t         Benchmark from random prediction is: 0.610725 ± 0.033359\n",
      "GaussianProcessClassifier\n",
      "\tThe percentage of correct identifications is: 0.811663 ± 0.030188\n",
      "\t         Benchmark from random prediction is: 0.610725 ± 0.033359\n",
      "    Bagging version\n",
      "\tThe percentage of correct identifications is: 0.811081 ± 0.022118\n",
      "\t         Benchmark from random prediction is: 0.610725 ± 0.033359\n",
      "GaussianNB\n",
      "\tThe percentage of correct identifications is: 0.775565 ± 0.026337\n",
      "\t         Benchmark from random prediction is: 0.610725 ± 0.033359\n",
      "    Bagging version\n",
      "\tThe percentage of correct identifications is: 0.774545 ± 0.034508\n",
      "\t         Benchmark from random prediction is: 0.610725 ± 0.033359\n",
      "DecisionTreeClassifier\n",
      "\tThe percentage of correct identifications is: 0.776590 ± 0.035716\n",
      "\t         Benchmark from random prediction is: 0.610725 ± 0.033359\n",
      "    Bagging version\n",
      "\tThe percentage of correct identifications is: 0.808221 ± 0.020454\n",
      "\t         Benchmark from random prediction is: 0.610725 ± 0.033359\n",
      "RandomForestClassifier\n",
      "\tThe percentage of correct identifications is: 0.800908 ± 0.026686\n",
      "\t         Benchmark from random prediction is: 0.610725 ± 0.033359\n",
      "ExtraTreesClassifier\n",
      "\tThe percentage of correct identifications is: 0.787206 ± 0.030310\n",
      "\t         Benchmark from random prediction is: 0.610725 ± 0.033359\n",
      "AdaBoostClassifier\n",
      "\tThe percentage of correct identifications is: 0.799094 ± 0.029781\n",
      "\t         Benchmark from random prediction is: 0.610725 ± 0.033359\n",
      "    Bagging version\n",
      "\tThe percentage of correct identifications is: 0.797964 ± 0.022979\n",
      "\t         Benchmark from random prediction is: 0.610725 ± 0.033359\n",
      "GradientBoostingClassifier\n",
      "\tThe percentage of correct identifications is: 0.815987 ± 0.020717\n",
      "\t         Benchmark from random prediction is: 0.610725 ± 0.033359\n",
      "    Bagging version\n",
      "\tThe percentage of correct identifications is: 0.823643 ± 0.020684\n",
      "\t         Benchmark from random prediction is: 0.610725 ± 0.033359\n"
     ]
    }
   ],
   "source": [
    "topredict = \"Survived\"\n",
    "frompredict = ['Pclass', 'Sex', \"Age\", 'SibSp', 'Parch', \"Fare\", \"Cabin\", 'Embarked']\n",
    "\n",
    "allmodelsandresults = tryAllLinRegClassifiers(numericdataframe, topredict, frompredict, num_iterations=10, \n",
    "                        transform=\"scale\", polynomialdegrees=[1,2,3])"
   ]
  },
  {
   "cell_type": "code",
   "execution_count": 22,
   "metadata": {
    "collapsed": false
   },
   "outputs": [
    {
     "data": {
      "text/plain": [
       "(0.81666623376623382, 0.026734252761267192)"
      ]
     },
     "execution_count": 22,
     "metadata": {},
     "output_type": "execute_result"
    }
   ],
   "source": [
    "numericdataframe = makeAllColumnsNumeric(thedataframe, dictofordinals, datacateg)[0]\n",
    "topredict = \"Survived\"\n",
    "frompredict = ['Pclass', 'Sex', \"Age\", 'SibSp', 'Parch', \"Fare\", \"Cabin\", 'Embarked']\n",
    "\n",
    "(X,y) = makeDataFromModels(numericdataframe, topredict, frompredict, {})\n",
    "getPredictionScore(X, y, SVC, num_iterations=20, transform=\"scale\")"
   ]
  },
  {
   "cell_type": "code",
   "execution_count": 24,
   "metadata": {
    "collapsed": false
   },
   "outputs": [
    {
     "data": {
      "text/plain": [
       "(876L, 8L)"
      ]
     },
     "execution_count": 24,
     "metadata": {},
     "output_type": "execute_result"
    }
   ],
   "source": [
    "X.shape"
   ]
  },
  {
   "cell_type": "code",
   "execution_count": 23,
   "metadata": {
    "collapsed": true
   },
   "outputs": [],
   "source": [
    "from sklearn.neural_network import MLPClassifier"
   ]
  },
  {
   "cell_type": "code",
   "execution_count": 110,
   "metadata": {
    "collapsed": false
   },
   "outputs": [],
   "source": [
    "def makeitofsize(dathirdsize):\n",
    "    allofthem = []\n",
    "    for ii in range(40):\n",
    "        neurnet = MLPClassifier(solver=\"lbfgs\", hidden_layer_sizes=(4,9,dathirdsize))\n",
    "        X_train, X_test, y_train, y_test = train_test_split(X, y, test_size=0.8, random_state=42)\n",
    "        neurnet.fit(X_train, y_train)\n",
    "        allofthem.append(np.mean(neurnet.predict(X_test)==y_test))\n",
    "    return np.mean(allofthem)\n",
    "\n",
    "haha = [makeitofsize(jj) for jj in range(1,20)]\n",
    "\n",
    "#allguys = []\n",
    "#for kk in range(10,110,10):\n",
    "#    print kk\n",
    "#    allguys.append([makeitofsize(kk,jj) for jj in range(1,20)])"
   ]
  },
  {
   "cell_type": "code",
   "execution_count": 111,
   "metadata": {
    "collapsed": false
   },
   "outputs": [
    {
     "data": {
      "text/plain": [
       "[<matplotlib.lines.Line2D at 0xf8006a0>]"
      ]
     },
     "execution_count": 111,
     "metadata": {},
     "output_type": "execute_result"
    },
    {
     "data": {
      "image/png": "[encoded data removed]",
      "text/plain": [
       "<matplotlib.figure.Figure at 0xf5e2a90>"
      ]
     },
     "metadata": {},
     "output_type": "display_data"
    }
   ],
   "source": [
    "plt.plot(range(1,20),haha)"
   ]
  },
  {
   "cell_type": "code",
   "execution_count": 95,
   "metadata": {
    "collapsed": false
   },
   "outputs": [
    {
     "data": {
      "image/png": "[encoded data removed]",
      "text/plain": [
       "<matplotlib.figure.Figure at 0xf5d6198>"
      ]
     },
     "metadata": {},
     "output_type": "display_data"
    }
   ],
   "source": [
    "for kk in range(3,10):\n",
    "    plt.plot(range(1,20),allguys[kk], color=\"b\")"
   ]
  },
  {
   "cell_type": "code",
   "execution_count": 98,
   "metadata": {
    "collapsed": false
   },
   "outputs": [
    {
     "data": {
      "text/plain": [
       "0.76447931526390867"
      ]
     },
     "execution_count": 98,
     "metadata": {},
     "output_type": "execute_result"
    }
   ],
   "source": [
    "allguys[4][9]"
   ]
  },
  {
   "cell_type": "code",
   "execution_count": 129,
   "metadata": {
    "collapsed": false
   },
   "outputs": [
    {
     "data": {
      "text/plain": [
       "0.75320970042796009"
      ]
     },
     "execution_count": 129,
     "metadata": {},
     "output_type": "execute_result"
    }
   ],
   "source": [
    "neurnet = MLPClassifier(solver=\"lbfgs\", hidden_layer_sizes=(100,10,100,10,100,10,100))\n",
    "X_train, X_test, y_train, y_test = train_test_split(X, y, test_size=0.8, random_state=42)\n",
    "neurnet.fit(X_train, y_train)\n",
    "np.mean(neurnet.predict(X_test)==y_test)"
   ]
  },
  {
   "cell_type": "code",
   "execution_count": null,
   "metadata": {
    "collapsed": true
   },
   "outputs": [],
   "source": []
  },
  {
   "cell_type": "code",
   "execution_count": null,
   "metadata": {
    "collapsed": true
   },
   "outputs": [],
   "source": []
  },
  {
   "cell_type": "code",
   "execution_count": null,
   "metadata": {
    "collapsed": true
   },
   "outputs": [],
   "source": []
  },
  {
   "cell_type": "markdown",
   "metadata": {},
   "source": [
    "#### Find ideal number of neighbors"
   ]
  },
  {
   "cell_type": "code",
   "execution_count": 16,
   "metadata": {
    "collapsed": false
   },
   "outputs": [],
   "source": [
    "numericdataframe = makeAllColumnsNumeric(thedataframe, dictofordinals, datacateg)[0]\n",
    "frompredict = ['Pclass', 'Sex', \"Age\", 'SibSp', 'Parch', \"Fare\", \"Cabin\", 'Embarked']\n",
    "#frompredict = ['Pclass', 'Sex', 'SibSp']\n",
    "\n",
    "(X,y) = makeDataFromModels(numericdataframe, topredict, frompredict, {})\n",
    "allscores = []\n",
    "for jj in range(1,20):\n",
    "    allscores.append(getPredictionScore(X, y, KNeighborsClassifier, num_iterations=30, transform=\"scale\", n_neighbors=jj)[0])\n",
    "\n",
    "# if we decrease wrt a value twice in a row, we've reached the max\n",
    "bestnumneighbors = list(np.append(\n",
    "    (np.array(allscores[2:]) - np.array(allscores[:-2]) < 0).astype(int), \n",
    "    1) * (np.array(allscores[1:]) - np.array(allscores[:-1]) < 0).astype(int)).index(1) + 1"
   ]
  },
  {
   "cell_type": "code",
   "execution_count": 17,
   "metadata": {
    "collapsed": false
   },
   "outputs": [
    {
     "name": "stdout",
     "output_type": "stream",
     "text": [
      "Ideal number is 13\n"
     ]
    },
    {
     "data": {
      "image/png": "[encoded data removed]",
      "text/plain": [
       "<matplotlib.figure.Figure at 0xc344ef0>"
      ]
     },
     "metadata": {},
     "output_type": "display_data"
    }
   ],
   "source": [
    "poly = PolynomialFeatures(degree=2)\n",
    "polyX = poly.fit_transform((np.arange(len(allscores))+1).reshape(-1, 1))\n",
    "linreg = linear_model.LinearRegression()\n",
    "linreg.fit(polyX,np.array(allscores).reshape(-1, 1))\n",
    "xs = np.linspace(0,18)\n",
    "plt.plot(xs, linreg.intercept_ + linreg.coef_[0][0] + linreg.coef_[0][1]*xs + linreg.coef_[0][2]*(xs**2))\n",
    "plt.plot(allscores)\n",
    "print \"Ideal number is %d\" %np.round(-linreg.coef_[0][1]/(2*linreg.coef_[0][2]))"
   ]
  },
  {
   "cell_type": "markdown",
   "metadata": {},
   "source": [
    "### Ensemble"
   ]
  },
  {
   "cell_type": "code",
   "execution_count": 19,
   "metadata": {
    "collapsed": false
   },
   "outputs": [
    {
     "data": {
      "text/plain": [
       "(0.82166623376623382, 0.027986421212895671)"
      ]
     },
     "execution_count": 19,
     "metadata": {},
     "output_type": "execute_result"
    }
   ],
   "source": [
    "def getPredictAccur(predictionmethod):\n",
    "    try:\n",
    "        predictionaccuracy = allmodelsandresults[(getModelName(predictionmethod),polydegree)][-1][0]\n",
    "    except KeyError:\n",
    "        predictionaccuracy = allmodelsandresults[getModelName(predictionmethod)][0]\n",
    "    return predictionaccuracy\n",
    "\n",
    "# ================================================\n",
    "# THESE FUNCTIONS ARE FOR ESTIMATING THE CORRECT VALUES BASED ON A BAYES-LIKE PROB OF THE RIGHT ANSWER\n",
    "def getprob(result, event, prob):\n",
    "    if result==event:\n",
    "        chance = prob \n",
    "    else:\n",
    "        chance = 1 - prob\n",
    "    return chance\n",
    "\n",
    "def getConsensusResult(resultlist, probs):\n",
    "    prob1 = [getprob(result, 1,prob) for prob,result in zip(probs,resultlist)]\n",
    "    prob0 = [getprob(result, 0,prob) for prob,result in zip(probs,resultlist)]\n",
    "    #ratio = (np.mean(y)/(1-np.mean(y)))* np.prod(prob1)/np.prod(prob0)\n",
    "    ratio = np.prod(prob1)/np.prod(prob0)\n",
    "    probshouldbe1 = ratio / (1+ratio)\n",
    "    consensusresult = np.round(probshouldbe1)\n",
    "    return consensusresult\n",
    "# ================================================\n",
    "\n",
    "num_iterations = 10\n",
    "polydegree = 2\n",
    "modelstotryout = [linear_model.RidgeCV, linear_model.SGDRegressor, linear_model.LogisticRegression, \n",
    "                  SVC, KNeighborsClassifier, NearestCentroid, RandomForestClassifier, ExtraTreesClassifier,\n",
    "                  AdaBoostClassifier, GradientBoostingClassifier]\n",
    "\n",
    "poly = PolynomialFeatures(degree=polydegree)\n",
    "probs = [getPredictAccur(predictionmethod) for predictionmethod in modelstotryout]\n",
    "totalvotes = np.sum(probs)\n",
    "score = []\n",
    "for iter in range(num_iterations):\n",
    "    kfoldindices = KFold(len(y),n_folds=5,shuffle=True)\n",
    "    for trainindex, testindex in kfoldindices:\n",
    "        Xtrain, Xtest = X[trainindex], X[testindex]\n",
    "        ytrain, ytest = y[trainindex], y[testindex]\n",
    "        ensemblepredictions = []\n",
    "        for predictionmethod in modelstotryout:\n",
    "            if predictionmethod in [linear_model.RidgeCV, linear_model.SGDRegressor, linear_model.LogisticRegressionCV]:\n",
    "                Xtraintouse = poly.fit_transform(Xtrain)\n",
    "                Xtesttouse = poly.fit_transform(Xtest)\n",
    "            else:\n",
    "                Xtraintouse, Xtesttouse = Xtrain, Xtest\n",
    "            (Xtraintouse, Xtesttouse) = scaleData(Xtraintouse, Xtesttouse)\n",
    "            #if predictionmethod==DecisionTreeClassifier:\n",
    "            #    predictor = predictionmethod(max_depth=6, min_samples_leaf=5)\n",
    "            #elif predictionmethod==KNeighborsClassifier:\n",
    "            #    predictor = predictionmethod(n_neighbors=14)\n",
    "            #else:\n",
    "            #    predictor = predictionmethod()\n",
    "            predictor = predictionmethod()\n",
    "            predictor.fit(Xtraintouse,ytrain)\n",
    "            predictionaccuracy = getPredictAccur(predictionmethod)\n",
    "            prediction = np.round(predictor.predict(Xtesttouse), decimals=0)*predictionaccuracy\n",
    "            ensemblepredictions.append(prediction)\n",
    "        masterprediction = np.round(np.dot(np.transpose(np.array(ensemblepredictions)), \n",
    "                                           np.full(len(modelstotryout), 1.0)) / totalvotes)\n",
    "        # ================================================\n",
    "        # ALTERNATIVE METHOD, USING A BAYES-LIKE PROBABILITY ESTIMATE FOR WHICH ANSWER IS RIGHT\n",
    "        #rounded = np.round(np.transpose(np.array(ensemblepredictions)))\n",
    "        #masterprediction = np.array([getConsensusResult(resultlist,probs) for resultlist in rounded])\n",
    "        # ================================================\n",
    "        score.append(np.mean(masterprediction==ytest))\n",
    "        \n",
    "(np.mean(score),np.std(score))"
   ]
  },
  {
   "cell_type": "code",
   "execution_count": 296,
   "metadata": {
    "collapsed": false
   },
   "outputs": [
    {
     "ename": "NameError",
     "evalue": "name 'allmodelsandresults' is not defined",
     "output_type": "error",
     "traceback": [
      "\u001b[1;31m---------------------------------------------------------------------------\u001b[0m",
      "\u001b[1;31mNameError\u001b[0m                                 Traceback (most recent call last)",
      "\u001b[1;32m<ipython-input-296-4cad92308b0c>\u001b[0m in \u001b[0;36m<module>\u001b[1;34m()\u001b[0m\n\u001b[0;32m     13\u001b[0m \u001b[0mclf8\u001b[0m \u001b[1;33m=\u001b[0m \u001b[0mAdaBoostClassifier\u001b[0m\u001b[1;33m(\u001b[0m\u001b[1;33m)\u001b[0m\u001b[1;33m\u001b[0m\u001b[0m\n\u001b[0;32m     14\u001b[0m \u001b[0mclf9\u001b[0m \u001b[1;33m=\u001b[0m \u001b[0mGradientBoostingClassifier\u001b[0m\u001b[1;33m(\u001b[0m\u001b[1;33m)\u001b[0m\u001b[1;33m\u001b[0m\u001b[0m\n\u001b[1;32m---> 15\u001b[1;33m \u001b[0mtheweights\u001b[0m \u001b[1;33m=\u001b[0m \u001b[1;33m[\u001b[0m\u001b[0mallmodelsandresults\u001b[0m\u001b[1;33m[\u001b[0m\u001b[0mdaname\u001b[0m\u001b[1;33m(\u001b[0m\u001b[0mclf\u001b[0m\u001b[1;33m)\u001b[0m\u001b[1;33m]\u001b[0m\u001b[1;33m[\u001b[0m\u001b[1;36m0\u001b[0m\u001b[1;33m]\u001b[0m \u001b[1;32mfor\u001b[0m \u001b[0mclf\u001b[0m \u001b[1;32min\u001b[0m \u001b[1;33m[\u001b[0m\u001b[0mclf2\u001b[0m\u001b[1;33m,\u001b[0m \u001b[0mclf3\u001b[0m\u001b[1;33m,\u001b[0m \u001b[0mclf4\u001b[0m\u001b[1;33m,\u001b[0m \u001b[0mclf5\u001b[0m\u001b[1;33m,\u001b[0m \u001b[0mclf6\u001b[0m\u001b[1;33m,\u001b[0m \u001b[0mclf7\u001b[0m\u001b[1;33m,\u001b[0m \u001b[0mclf8\u001b[0m\u001b[1;33m,\u001b[0m \u001b[0mclf9\u001b[0m\u001b[1;33m]\u001b[0m\u001b[1;33m]\u001b[0m\u001b[1;33m\u001b[0m\u001b[0m\n\u001b[0m\u001b[0;32m     16\u001b[0m \u001b[0mallscores\u001b[0m \u001b[1;33m=\u001b[0m \u001b[0mnp\u001b[0m\u001b[1;33m.\u001b[0m\u001b[0marray\u001b[0m\u001b[1;33m(\u001b[0m\u001b[1;33m[\u001b[0m\u001b[1;33m]\u001b[0m\u001b[1;33m)\u001b[0m\u001b[1;33m\u001b[0m\u001b[0m\n\u001b[0;32m     17\u001b[0m \u001b[1;32mfor\u001b[0m \u001b[0mii\u001b[0m \u001b[1;32min\u001b[0m \u001b[0mrange\u001b[0m\u001b[1;33m(\u001b[0m\u001b[1;36m10\u001b[0m\u001b[1;33m)\u001b[0m\u001b[1;33m:\u001b[0m\u001b[1;33m\u001b[0m\u001b[0m\n",
      "\u001b[1;31mNameError\u001b[0m: name 'allmodelsandresults' is not defined"
     ]
    }
   ],
   "source": [
    "# HERE IS SOMETHING THAT DOES NEARLY EXACTLY THE SAME THING (EXCEPT A LESS PRECISE COMPUTATION OF SCORES)\n",
    "def daname(clf):\n",
    "    return str(clf)[:str(clf).index(\"(\")]\n",
    "\n",
    "Xscaled = scaleData(X,X)[0]\n",
    "\n",
    "clf2 = linear_model.LogisticRegression()\n",
    "clf3 = SVC()\n",
    "clf4 = KNeighborsClassifier()\n",
    "clf5 = NearestCentroid()\n",
    "clf6 = RandomForestClassifier(n_estimators=30)\n",
    "clf7 = ExtraTreesClassifier()\n",
    "clf8 = AdaBoostClassifier()\n",
    "clf9 = GradientBoostingClassifier()\n",
    "theweights = [allmodelsandresults[daname(clf)][0] for clf in [clf2, clf3, clf4, clf5, clf6, clf7, clf8, clf9]]\n",
    "allscores = np.array([])\n",
    "for ii in range(10):\n",
    "    ensemble = VotingClassifier(estimators=[('2', clf2), ('3', clf3), ('4', clf4), ('5', clf5), \n",
    "                                        ('6', clf6), ('7', clf7), ('8', clf8), ('9', clf9)], voting='hard', weights=theweights)\n",
    "    scores = cross_val_score(ensemble, Xscaled, y, cv=5)\n",
    "    allscores = np.append(allscores,scores)\n",
    "(np.mean(allscores), np.std(allscores))"
   ]
  },
  {
   "cell_type": "code",
   "execution_count": 21,
   "metadata": {
    "collapsed": false
   },
   "outputs": [
    {
     "data": {
      "text/plain": [
       "0.82535714285714301"
      ]
     },
     "execution_count": 21,
     "metadata": {},
     "output_type": "execute_result"
    }
   ],
   "source": [
    "# IT WORKS ALSO WITH GRIDCV!\n",
    "ensemble = VotingClassifier(estimators=[('2', clf2), ('3', clf3),  ('4', clf4),  ('5', clf5), \n",
    "                                        ('6', clf6), ('7', clf7), ('8', clf8), ('9', clf9)], voting='hard', weights=theweights)\n",
    "params = {'2__C': [1.0, 100.0], '6__n_estimators': [20, 100]}\n",
    "grid = GridSearchCV(estimator=ensemble, param_grid=params, cv=5)\n",
    "np.mean(cross_val_score(grid, Xscaled, y, cv=5))"
   ]
  },
  {
   "cell_type": "markdown",
   "metadata": {},
   "source": [
    "## Semi-supervised\n",
    "Semi-supervised methods are when we have a very small amount of labeled data. The way we label the rest of the data is by similarity, often using K-nearest-neighobrs. The unlabeled data should have the $y$-value set to -1"
   ]
  },
  {
   "cell_type": "code",
   "execution_count": 18,
   "metadata": {
    "collapsed": false
   },
   "outputs": [],
   "source": [
    "y_unlabeled = deepcopy(y)\n",
    "# Now we hide 80% of the answers y, and see if we can predict them\n",
    "indextoremovelabel = np.random.choice(range(len(y_unlabeled)), size=int(0.8*len(y_unlabeled)), replace=False)\n",
    "y_unlabeled[indextoremovelabel] = -1"
   ]
  },
  {
   "cell_type": "code",
   "execution_count": 19,
   "metadata": {
    "collapsed": false
   },
   "outputs": [
    {
     "name": "stdout",
     "output_type": "stream",
     "text": [
      "0.697488584475\n",
      "0.728310502283\n",
      "0.684931506849\n",
      "0.681506849315\n"
     ]
    }
   ],
   "source": [
    "spreading = label_propagation.LabelSpreading(kernel='rbf')\n",
    "spreading.fit(X, y_unlabeled)\n",
    "print np.mean(spreading.transduction_==y) # The transduction attribute tells you what the predicted labels are\n",
    "\n",
    "spreading = label_propagation.LabelSpreading(kernel='knn', n_neighbors=7)\n",
    "spreading.fit(X, y_unlabeled)\n",
    "print np.mean(spreading.transduction_==y)\n",
    "\n",
    "propagation = label_propagation.LabelPropagation(kernel='rbf')\n",
    "propagation.fit(X, y_unlabeled)\n",
    "print np.mean(propagation.transduction_==y)\n",
    "\n",
    "propagation = label_propagation.LabelPropagation(kernel='knn')\n",
    "propagation.fit(X, y_unlabeled)\n",
    "print np.mean(propagation.transduction_==y)"
   ]
  },
  {
   "cell_type": "markdown",
   "metadata": {},
   "source": [
    "### Evaluate and improve Probability estimates"
   ]
  },
  {
   "cell_type": "code",
   "execution_count": 21,
   "metadata": {
    "collapsed": false
   },
   "outputs": [
    {
     "data": {
      "text/plain": [
       "<matplotlib.legend.Legend at 0xc27c710>"
      ]
     },
     "execution_count": 21,
     "metadata": {},
     "output_type": "execute_result"
    },
    {
     "data": {
      "image/png": "[encoded data removed]",
      "text/plain": [
       "<matplotlib.figure.Figure at 0xc27c5c0>"
      ]
     },
     "metadata": {},
     "output_type": "display_data"
    }
   ],
   "source": [
    "X_train, X_test, y_train, y_test = train_test_split(X, y, test_size=0.8,\n",
    "                                                    random_state=42)\n",
    "\n",
    "# When CalibratedClassifierCV fits the data it first splits it into 3 (or the number cv=#). It\n",
    "# then leaves out one part, fits the estimator (e.g. Random Forests) to the rest, and evaluates\n",
    "# the probabilities of the part left out. It then checks how good those probability estimates were,\n",
    "# by checking whether those predicted with probability 0.1 really did happen 10% of the time etc.\n",
    "# Once it knows how its probability estimates did it learns how to compensate for its estimates.\n",
    "# This same procedure is cycled through all 3 folds. We have now created a set of 3 estimators, each\n",
    "# one that knows how to compensate its probability predictions. \n",
    "# When we then use CalibratedClassifierCV to predict probabilities of a test set. Then, each of the\n",
    "# 3 estimators independently estimates the probability, compensating in its own way, and the \n",
    "# average of these results is takes as the true estimate.\n",
    "# If we want to set cv=1, i.e. to only have a single calibrated estimator, we just feed it\n",
    "# an already-fitted base estimator and set cv=\"prefit\". Then when we fit this calibrated\n",
    "# estimator, we must use data that wasn't used to fit the base estimator. Finally, we \n",
    "# use yet-unseen data to set it, as normal.\n",
    "\n",
    "est = RandomForestClassifier(n_estimators=10)\n",
    "calibratediso = CalibratedClassifierCV(est, method='isotonic')\n",
    "calibratedsig = CalibratedClassifierCV(est, method='sigmoid')\n",
    "\n",
    "plt.plot([0,1],[0,1], \"k:\")\n",
    "for clf in [est, calibratediso, calibratedsig]:\n",
    "    clf.fit(X_train, y_train)\n",
    "    prob_pos = clf.predict_proba(X_test)[:, 1]\n",
    "    answers, probas = calibration_curve(y_test, prob_pos, n_bins=10)\n",
    "    #plt.plot(probas, answers, \"s-\", label = daname(str(clf)))\n",
    "\n",
    "averagecalibration = (calibratediso.predict_proba(X_test)+calibratedsig.predict_proba(X_test))/2.\n",
    "answers, probas = calibration_curve(y_test, averagecalibration[:, 1], n_bins=10)\n",
    "plt.plot(probas, answers, \"s-\", label = \"Average\")\n",
    "plt.legend(loc=\"upper left\")"
   ]
  },
  {
   "cell_type": "code",
   "execution_count": null,
   "metadata": {
    "collapsed": true
   },
   "outputs": [],
   "source": []
  },
  {
   "cell_type": "code",
   "execution_count": null,
   "metadata": {
    "collapsed": true
   },
   "outputs": [],
   "source": []
  },
  {
   "cell_type": "code",
   "execution_count": null,
   "metadata": {
    "collapsed": true
   },
   "outputs": [],
   "source": []
  },
  {
   "cell_type": "markdown",
   "metadata": {},
   "source": [
    "# Feature Engineering"
   ]
  },
  {
   "cell_type": "code",
   "execution_count": 21,
   "metadata": {
    "collapsed": true
   },
   "outputs": [],
   "source": [
    "numericdataframe = makeAllColumnsNumeric(thedataframe, dictofordinals, datacateg)[0]\n",
    "topredict = \"Survived\"\n",
    "frompredict = ['Sex', 'Fare', 'Pclass', 'Age', 'SibSp', 'Cabin', 'Embarked', 'Parch']\n",
    "(X,y) = makeDataFromModels(numericdataframe, topredict, frompredict, {})"
   ]
  },
  {
   "cell_type": "markdown",
   "metadata": {},
   "source": [
    "### Remove features uncorrelated with y\n",
    "SelectKBest choses the $k$ columns in $X$ that are most correlated with the answer $y$, using as method to determine correlation anything we want. mutual_info_classif is a good default one: it uses KnearestNeighbors to determine how correlated things are."
   ]
  },
  {
   "cell_type": "code",
   "execution_count": 17,
   "metadata": {
    "collapsed": false
   },
   "outputs": [
    {
     "data": {
      "text/plain": [
       "(0.80285454545454538, 0.029110362697740397)"
      ]
     },
     "execution_count": 17,
     "metadata": {},
     "output_type": "execute_result"
    }
   ],
   "source": [
    "numfeaturestokeep = 4 # tune this to whatever you like\n",
    "\n",
    "# if predicting y is a regression rather than classification problem, we should use mutual_info_regression\n",
    "X_reduced = SelectKBest(mutual_info_classif, k=numfeaturestokeep).fit_transform(X, y)\n",
    "\n",
    "getPredictionScore(X_reduced, y, RandomForestClassifier, num_iterations=10, transform=\"none\", n_estimators=30)"
   ]
  },
  {
   "cell_type": "markdown",
   "metadata": {},
   "source": [
    "Instead of taking all columns at once, we iteratively check which column is the worst predictor and remove it, until we have the desired number of features (in the case of RFE) or we have the ideal number of features (in the case o RFECV). You can pass both a regressor, with attribute coef\\_, or a classifier that has the attribute feature\\_importances\\_  "
   ]
  },
  {
   "cell_type": "code",
   "execution_count": 48,
   "metadata": {
    "collapsed": false
   },
   "outputs": [
    {
     "name": "stdout",
     "output_type": "stream",
     "text": [
      "0.381556005259\n"
     ]
    },
    {
     "data": {
      "text/plain": [
       "array([ True, False,  True, False,  True,  True,  True, False], dtype=bool)"
      ]
     },
     "execution_count": 48,
     "metadata": {},
     "output_type": "execute_result"
    }
   ],
   "source": [
    "estimator = linear_model.LinearRegression()\n",
    "selector = RFE(estimator, 5, step=1)\n",
    "selector.fit(X, y)\n",
    "print selector.score(X, y)\n",
    "selector.support_ "
   ]
  },
  {
   "cell_type": "code",
   "execution_count": 61,
   "metadata": {
    "collapsed": false
   },
   "outputs": [
    {
     "name": "stdout",
     "output_type": "stream",
     "text": [
      "[ 0.77272727  0.81714286  0.82857143  0.76        0.87428571]\n"
     ]
    },
    {
     "data": {
      "text/plain": [
       "array([ True,  True,  True,  True, False,  True, False, False], dtype=bool)"
      ]
     },
     "execution_count": 61,
     "metadata": {},
     "output_type": "execute_result"
    }
   ],
   "source": [
    "estimator = RandomForestClassifier(n_estimators=30)\n",
    "selector = RFECV(estimator, cv=5)\n",
    "selector.fit(X, y)\n",
    "print cross_val_score(selector, X, y, cv=5)\n",
    "selector.support_"
   ]
  },
  {
   "cell_type": "markdown",
   "metadata": {},
   "source": [
    "### Use trees to find feature importances"
   ]
  },
  {
   "cell_type": "code",
   "execution_count": 81,
   "metadata": {
    "collapsed": false
   },
   "outputs": [
    {
     "data": {
      "image/png": "[encoded data removed]",
      "text/plain": [
       "<matplotlib.figure.Figure at 0xe30bf28>"
      ]
     },
     "metadata": {},
     "output_type": "display_data"
    }
   ],
   "source": [
    "def brewerColors(listlength=6):\n",
    "    return [\"#1f78b4\",\"#33a02c\", \"#e31a1c\", \"#ff7f00\", \"#6a3d9a\", \"#b15928\"][:min(12,listlength)]\n",
    "\n",
    "forest = RandomForestClassifier(n_estimators=200)\n",
    "forest.fit(X, y)\n",
    "importances = forest.feature_importances_\n",
    "std = np.std([tree.feature_importances_ for tree in forest.estimators_],\n",
    "             axis=0)\n",
    "\n",
    "plt.title(\"Feature importances\")\n",
    "plt.bar(range(X.shape[1]), importances,\n",
    "       color=brewerColors(1), yerr=std, align=\"center\")\n",
    "plt.xticks(range(X.shape[1]), )\n",
    "plt.xlim([-1, X.shape[1]])\n",
    "plt.show()"
   ]
  },
  {
   "cell_type": "markdown",
   "metadata": {},
   "source": [
    "### Feature selection functions"
   ]
  },
  {
   "cell_type": "code",
   "execution_count": 121,
   "metadata": {
    "collapsed": true
   },
   "outputs": [],
   "source": [
    "# With a given list frompredict, it will return the subset of the entries in frompredict that yield\n",
    "# the best prediction with the model predictionmethod.\n",
    "def bestFeatureSet(numericdataframe, topredict, frompredict, predictionmethod,\n",
    "                   dictofunknown={}, num_iterations=100, transform=\"none\"):\n",
    "    bestscore = 0\n",
    "    bestsubset = []\n",
    "    for ii in range(1,len(frompredict)):\n",
    "        allsubsets = findsubsets(frompredict,ii)\n",
    "        allsubsets = [list(subset) for subset in allsubsets]\n",
    "        for subset in allsubsets:\n",
    "            (X,y) = makeDataFromModels(numericdataframe, topredict, subset, dictofunknown)\n",
    "            score = getPredictionScore(X, y, predictionmethod, num_iterations=num_iterations, transform=transform)\n",
    "            if score[0]>bestscore:\n",
    "                bestscore = score[0]\n",
    "                bestsubset = subset\n",
    "    return bestsubset"
   ]
  },
  {
   "cell_type": "markdown",
   "metadata": {},
   "source": [
    "#### Helper functions"
   ]
  },
  {
   "cell_type": "code",
   "execution_count": null,
   "metadata": {
    "collapsed": true
   },
   "outputs": [],
   "source": [
    "def findsubsets(set,sizeofsubset):\n",
    "    return set(itertools.combinations(set, sizeofsubset))"
   ]
  },
  {
   "cell_type": "markdown",
   "metadata": {},
   "source": [
    "### Dimensional reduction functions"
   ]
  },
  {
   "cell_type": "code",
   "execution_count": 71,
   "metadata": {
    "collapsed": true
   },
   "outputs": [],
   "source": [
    "# LDA is supervised, PCA is not. LDA tries to separate the classes as much as possible from each other while doing dim red;\n",
    "# PCA tries to separate the data as much as possible from itself (no labels) when doing dim red.\n",
    "def dimensionalReductionLDA(X, y):\n",
    "    clf = LinearDiscriminantAnalysis(n_components=2)\n",
    "    clf.fit(X,y)\n",
    "    trans_X = clf.transform(X)\n",
    "    uniquevalues = list(set(y))\n",
    "    for ii in uniquevalues:\n",
    "        if trans_X.shape[1]==1:\n",
    "            xaxisnumbers = range(len(trans_X[y==ii]))\n",
    "            yaxisnumbers = trans_X[y==ii, 0]\n",
    "        else:\n",
    "            xaxisnumbers = trans_X[y==ii, 0]\n",
    "            yaxisnumbers = trans_X[y==ii, 1]\n",
    "        plt.scatter(xaxisnumbers, yaxisnumbers, alpha=0.3, color=brewerColors()[ii], label=ii)\n",
    "    plt.legend(loc='best', shadow=False, scatterpoints=1)"
   ]
  },
  {
   "cell_type": "code",
   "execution_count": null,
   "metadata": {
    "collapsed": true
   },
   "outputs": [],
   "source": []
  },
  {
   "cell_type": "code",
   "execution_count": null,
   "metadata": {
    "collapsed": true
   },
   "outputs": [],
   "source": []
  },
  {
   "cell_type": "code",
   "execution_count": null,
   "metadata": {
    "collapsed": true
   },
   "outputs": [],
   "source": []
  },
  {
   "cell_type": "markdown",
   "metadata": {},
   "source": [
    "REGRESSION MODELS:\n",
    " - when going from quant to quant\n",
    " - if descrete, just round the numbers\n",
    " - don't treat it like a classification: when evaluating errors I should not count number of cases I hit exactly right\n",
    " - I should try all versions of linear regressions, then nonlinear ones\n",
    " - think about resizing data? Maybe that's more useful for feature selection, where the normalized data forces parameters to all be \"worth\" equal and we can assess which parameters are more important.\n",
    "\n",
    "GETTING QUANT FROM QUANT: regression may be best. I sohuld also try the more advanced methods of SVM and random forests\n",
    "GETTING QUANT FROM CATEG/ORD: the more categories the better. Need to look into the classification algorithms, but it may be that I can guess the quantitiative value from the combination of categorical values. Maybe Random Forests can take in a combination of quant and categ\n",
    "GETTING CATEG FROM QUANT: logistic regression could work OK. Otherwise try the other classification algorithms\n",
    "GETTING CATEG FROM CATEG: again, random forests etc. could be a good tactics.\n"
   ]
  },
  {
   "cell_type": "markdown",
   "metadata": {},
   "source": [
    "##### Still to do:\n",
    " - Make a function that does clustering\n",
    " - Make a function that does feature engineering\n",
    " - Make plots to evaluate how well a certain prediction did (e.g. confusion matrices and ROC curves)\n",
    " - As helper-functions, might need to do bootstrapping functions etc., unless they're already in-built\n",
    " - Race models agains each other\n",
    " - Check what else we did during S2DS\n",
    " - FOR EACH MODEL, DO A GRIDSEARCH TO FIND ITS BEST VALUES, INCLUDING VARIOUS SOLVER FUNCTIONS ETC. ALSO, TRY THE SAME PROCEDURE FOR THE CASE WHERE CATEGORICAL DATA IS NUMBERED 1,2,3,.. AND FOR THE CASE WHERE CATEGORICAL DATA IS SPLIT INTO SEVERAL COLUMNS, EACH ONLY TAKING THE VALUE 0,1 (E.G. Pclass being three columns, all taking the value zero except for the actually correct class, which takes the value 1)"
   ]
  },
  {
   "cell_type": "code",
   "execution_count": null,
   "metadata": {
    "collapsed": true
   },
   "outputs": [],
   "source": []
  }
 ],
 "metadata": {
  "anaconda-cloud": {},
  "kernelspec": {
   "display_name": "Python [Root]",
   "language": "python",
   "name": "Python [Root]"
  },
  "language_info": {
   "codemirror_mode": {
    "name": "ipython",
    "version": 2
   },
   "file_extension": ".py",
   "mimetype": "text/x-python",
   "name": "python",
   "nbconvert_exporter": "python",
   "pygments_lexer": "ipython2",
   "version": "2.7.12"
  }
 },
 "nbformat": 4,
 "nbformat_minor": 1
}
